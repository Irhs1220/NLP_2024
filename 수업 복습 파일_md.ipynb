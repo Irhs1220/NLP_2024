{
  "nbformat": 4,
  "nbformat_minor": 0,
  "metadata": {
    "colab": {
      "provenance": [],
      "include_colab_link": true
    },
    "kernelspec": {
      "name": "python3",
      "display_name": "Python 3"
    },
    "language_info": {
      "name": "python"
    }
  },
  "cells": [
    {
      "cell_type": "markdown",
      "metadata": {
        "id": "view-in-github",
        "colab_type": "text"
      },
      "source": [
        "<a href=\"https://colab.research.google.com/github/Irhs1220/NLP_2024/blob/main/%EC%88%98%EC%97%85%20%EB%B3%B5%EC%8A%B5%20%ED%8C%8C%EC%9D%BC_md.ipynb\" target=\"_parent\"><img src=\"https://colab.research.google.com/assets/colab-badge.svg\" alt=\"Open In Colab\"/></a>"
      ]
    },
    {
      "cell_type": "markdown",
      "source": [
        "# 수업 복습 파일"
      ],
      "metadata": {
        "id": "VjUEonLioWVx"
      }
    },
    {
      "cell_type": "markdown",
      "source": [
        "### 0. 마크다운 랭귀지 사용법"
      ],
      "metadata": {
        "id": "BdSTiKTY2k7t"
      }
    },
    {
      "cell_type": "markdown",
      "source": [
        "# 😊😃☺️ **<font color = 'red'> 마크다운 랭귀지 </font>사용법**\n",
        "\n",
        "* ## 마크다운 랭귀지의 <font color = 'orange'> 더 많은 구문</font>을 보려면, [이곳을 클릭해주세요!](https://www.markdownguide.org/basic-syntax/)"
      ],
      "metadata": {
        "id": "xLp-dgfwrkqo"
      }
    },
    {
      "cell_type": "code",
      "source": [],
      "metadata": {
        "id": "X9HKbp8e2oOb"
      },
      "execution_count": null,
      "outputs": []
    },
    {
      "cell_type": "markdown",
      "source": [
        "# NLP_2024\n",
        "\n",
        "# 🐹😻 **파이썬 언어**\n",
        "\n",
        "## **콜랩**([콜랩 사이트 방문](https://colab.research.google.com/?utm_source=scs-index))과 **깃허브**([깃허브 사이트 방문](https://github.com/))를 이용한 **파이썬 배우기**\n",
        "\n",
        "### **1. 깃허브 가입하기** ([유튜브 강좌 방문하기](https://www.youtube.com/watch?v=c-NikCpec7U))\n",
        "### **2. 구글 콜라보레이터리 가입하기** (aka. Colab) ([유튜브 강좌 방문하기](https://www.youtube.com/watch?v=2X_EU18OeYM))\n",
        "\n",
        "### **3. 참고하기 좋은 레퍼런스**\n",
        "- Exercises 200 파이썬200제 by 장삼용. 정보문화사 2017\n",
        "- [Jump to Python](https://wikidocs.net/book/1)\n",
        "- [wikidocs for nltk](https://wikidocs.net/21667)\n",
        "\n",
        "### **4. 마크다운 랭귀지**\n",
        "* [Emoji](https://gist.github.com/rxaviers/7360908)\n",
        "* [Markdown syntax](https://www.markdownguide.org/basic-syntax/)\n",
        "\n",
        "### **5. 수업 자료**\n",
        "| # | 주제 | 중요 단어 |\n",
        "|:--:|:--:|:--:|\n",
        "| 1 | 마크다운 랭귀지💬 | 글자 크기, 글자 색, 점 표시, [구문](https://github.com/ms624atyale/NLP_2024/blob/main/0_MarkDown4README_md.ipynb)|\n",
        "| 2 | 코드 셀 생성하기⚡ | 코드 라인, 프로그램 실행법 |\n"
      ],
      "metadata": {
        "id": "NWBMJiQlxh8r"
      }
    },
    {
      "cell_type": "markdown",
      "source": [
        "### 1. 코드 셀 생성하기"
      ],
      "metadata": {
        "id": "hJDhdHXA2jEF"
      }
    },
    {
      "cell_type": "code",
      "source": [
        "a = 1 #a를 1에 할당한다. 파운드 사인을 표시한 부분부터 그 줄 끝까지는 설명글이 되어 코드라인이 되지 않는다."
      ],
      "metadata": {
        "id": "wy8gmKmL2iiB"
      },
      "execution_count": null,
      "outputs": []
    },
    {
      "cell_type": "code",
      "source": [
        "#@markdown 변수 a를 정의한다.\n",
        "\n",
        "a = 1"
      ],
      "metadata": {
        "id": "9yOjX83r20x_"
      },
      "execution_count": null,
      "outputs": []
    },
    {
      "cell_type": "code",
      "source": [
        "#@markdown 변수 b를 정의한다.\n",
        "\n",
        "b = 2"
      ],
      "metadata": {
        "id": "exRbvQ5H22Nt"
      },
      "execution_count": null,
      "outputs": []
    },
    {
      "cell_type": "code",
      "source": [
        "#@markdown print()는 함수를 가져다 쓸 때 사용. ()안에 함수 넣기, 변수 값은 가장 최근 업데이트 된 값으로 됨.\n",
        "\n",
        "a = 1\n",
        "a = 2\n",
        "a = 100\n",
        "print(a)"
      ],
      "metadata": {
        "id": "TOKpHsgm235D",
        "outputId": "05da9f57-aed0-4fe5-caa7-8665a100d331",
        "colab": {
          "base_uri": "https://localhost:8080/"
        }
      },
      "execution_count": null,
      "outputs": [
        {
          "output_type": "stream",
          "name": "stdout",
          "text": [
            "100\n"
          ]
        }
      ]
    },
    {
      "cell_type": "code",
      "source": [
        "#@markdown print()안에서 변수의 합이 결과로 도출됨\n",
        "\n",
        "a = 1\n",
        "b = 2\n",
        "print(a + b)"
      ],
      "metadata": {
        "id": "_Cse4BG726rv",
        "outputId": "5874f53b-942f-45db-e551-524ff6ae8a69",
        "colab": {
          "base_uri": "https://localhost:8080/"
        }
      },
      "execution_count": null,
      "outputs": [
        {
          "output_type": "stream",
          "name": "stdout",
          "text": [
            "3\n"
          ]
        }
      ]
    },
    {
      "cell_type": "code",
      "source": [
        "#@markdown print는 코딩에서 확인하다라는 뜻이 있음.\n",
        "\n",
        "c = 3\n",
        "print(c)"
      ],
      "metadata": {
        "id": "TWTXB9zf2-zR",
        "outputId": "b6038e3e-3b62-4e0e-cab7-fbae18effa11",
        "colab": {
          "base_uri": "https://localhost:8080/"
        }
      },
      "execution_count": null,
      "outputs": [
        {
          "output_type": "stream",
          "name": "stdout",
          "text": [
            "3\n"
          ]
        }
      ]
    },
    {
      "cell_type": "code",
      "source": [
        "#@markdown 먼저 있던거 적용되었으면 아래에 있는 것들에도 자동 적용\n",
        "\n",
        "print(c - b)"
      ],
      "metadata": {
        "id": "M4uSHPid3A6V",
        "outputId": "92c5cf8f-15ca-443f-c9fc-6c9f57d6e07e",
        "colab": {
          "base_uri": "https://localhost:8080/"
        }
      },
      "execution_count": null,
      "outputs": [
        {
          "output_type": "stream",
          "name": "stdout",
          "text": [
            "1\n"
          ]
        }
      ]
    },
    {
      "cell_type": "code",
      "source": [
        "#@markdown 변수값은 가장 최근 것\n",
        "\n",
        "a = 1000\n",
        "print(a + b)"
      ],
      "metadata": {
        "id": "WFCCQoK53Cwp",
        "outputId": "6d47a026-fa75-4f58-c45f-6be0a7e9d283",
        "colab": {
          "base_uri": "https://localhost:8080/"
        }
      },
      "execution_count": null,
      "outputs": [
        {
          "output_type": "stream",
          "name": "stdout",
          "text": [
            "1002\n"
          ]
        }
      ]
    },
    {
      "cell_type": "code",
      "source": [
        "#@markdown 언더바 쓰면 더 많은 변수 지정가능\n",
        "\n",
        "a_1 = 100\n",
        "a_2 = 1000000\n",
        "print(a_1 + a_2)"
      ],
      "metadata": {
        "id": "DpVP9yBL3ExC",
        "outputId": "159c115d-34d3-4b28-8fd5-5828605ff723",
        "colab": {
          "base_uri": "https://localhost:8080/"
        }
      },
      "execution_count": null,
      "outputs": [
        {
          "output_type": "stream",
          "name": "stdout",
          "text": [
            "1000100\n"
          ]
        }
      ]
    },
    {
      "cell_type": "code",
      "source": [
        "import keyword\n",
        "keyword.kwlist"
      ],
      "metadata": {
        "id": "12iWszGS3I2N",
        "outputId": "1351246e-b63f-48ee-f211-ae6662e61247",
        "colab": {
          "base_uri": "https://localhost:8080/"
        }
      },
      "execution_count": null,
      "outputs": [
        {
          "output_type": "execute_result",
          "data": {
            "text/plain": [
              "['False',\n",
              " 'None',\n",
              " 'True',\n",
              " 'and',\n",
              " 'as',\n",
              " 'assert',\n",
              " 'async',\n",
              " 'await',\n",
              " 'break',\n",
              " 'class',\n",
              " 'continue',\n",
              " 'def',\n",
              " 'del',\n",
              " 'elif',\n",
              " 'else',\n",
              " 'except',\n",
              " 'finally',\n",
              " 'for',\n",
              " 'from',\n",
              " 'global',\n",
              " 'if',\n",
              " 'import',\n",
              " 'in',\n",
              " 'is',\n",
              " 'lambda',\n",
              " 'nonlocal',\n",
              " 'not',\n",
              " 'or',\n",
              " 'pass',\n",
              " 'raise',\n",
              " 'return',\n",
              " 'try',\n",
              " 'while',\n",
              " 'with',\n",
              " 'yield']"
            ]
          },
          "metadata": {},
          "execution_count": 10
        }
      ]
    },
    {
      "cell_type": "markdown",
      "source": [
        "### 2. 데이터의 다섯 종류"
      ],
      "metadata": {
        "id": "aEhKaKVC3KIm"
      }
    },
    {
      "cell_type": "code",
      "source": [
        "#@markdown a값 할당\n",
        "\n",
        "a = 1\n",
        "print (a)"
      ],
      "metadata": {
        "id": "QpK1gW1e4nwX",
        "outputId": "5d4f8aeb-fd1c-4472-cf53-1af66c8902ce",
        "colab": {
          "base_uri": "https://localhost:8080/"
        }
      },
      "execution_count": null,
      "outputs": [
        {
          "output_type": "stream",
          "name": "stdout",
          "text": [
            "1\n"
          ]
        }
      ]
    },
    {
      "cell_type": "code",
      "source": [
        "#@markdown b값 할당\n",
        "\n",
        "b = 2\n",
        "print (b)"
      ],
      "metadata": {
        "id": "ByDAMZzr4pvv",
        "outputId": "1467e7cf-1365-4baf-a93c-fdfec41b8ce7",
        "colab": {
          "base_uri": "https://localhost:8080/"
        }
      },
      "execution_count": null,
      "outputs": [
        {
          "output_type": "stream",
          "name": "stdout",
          "text": [
            "2\n"
          ]
        }
      ]
    },
    {
      "cell_type": "code",
      "source": [
        "#@markdown a b 합값\n",
        "\n",
        "print (a + b)"
      ],
      "metadata": {
        "id": "BLwbzm-s4rdx",
        "outputId": "c5ce12f4-9cbc-474d-884c-27ff90abcc42",
        "colab": {
          "base_uri": "https://localhost:8080/"
        }
      },
      "execution_count": null,
      "outputs": [
        {
          "output_type": "stream",
          "name": "stdout",
          "text": [
            "3\n"
          ]
        }
      ]
    },
    {
      "cell_type": "code",
      "source": [
        "#@markdown a값 변경\n",
        "\n",
        "a = 100\n",
        "print (a + b)"
      ],
      "metadata": {
        "id": "IV2RNSzZ42A_",
        "outputId": "37f6edd0-44c1-4ed2-9b46-fb47b29e7c2e",
        "colab": {
          "base_uri": "https://localhost:8080/"
        }
      },
      "execution_count": null,
      "outputs": [
        {
          "output_type": "stream",
          "name": "stdout",
          "text": [
            "102\n"
          ]
        }
      ]
    },
    {
      "cell_type": "code",
      "source": [
        "#@markdown c값 할당\n",
        "\n",
        "c = \"I love Python\"\n",
        "print (c)"
      ],
      "metadata": {
        "id": "UGZvXFUg4-mj",
        "outputId": "1875272c-9868-4352-9bc6-4ba61b1ddac7",
        "colab": {
          "base_uri": "https://localhost:8080/"
        }
      },
      "execution_count": null,
      "outputs": [
        {
          "output_type": "stream",
          "name": "stdout",
          "text": [
            "I love Python\n"
          ]
        }
      ]
    },
    {
      "cell_type": "code",
      "source": [
        "#@markdown 이름 할당해보기, 언더스코어 할때는 숫자먼저 쓰면 안 됨.\n",
        "\n",
        "a = 'Lori'\n",
        "_b = 'Sam'\n",
        "a_b = 'Ken'\n",
        "c_d = 'Jen'\n",
        "\n",
        "print (a)\n",
        "print (_b)\n",
        "print (a_b)\n",
        "print (c_d)"
      ],
      "metadata": {
        "id": "haVAAr1L5ATV",
        "outputId": "97de9eba-e815-43e8-8dbe-a1a263aba1d6",
        "colab": {
          "base_uri": "https://localhost:8080/"
        }
      },
      "execution_count": null,
      "outputs": [
        {
          "output_type": "stream",
          "name": "stdout",
          "text": [
            "Lori\n",
            "Sam\n",
            "Ken\n",
            "Jen\n"
          ]
        }
      ]
    },
    {
      "cell_type": "code",
      "source": [
        "#@markdown 아래거랑 연계해서 컴퓨터는 직전 것 밖에 기억 못함. 줄만 바꿔도 출력값이 다름.\n",
        "\n",
        "a = 'Lori'\n",
        "print (a)\n",
        "a = 'Emma'\n",
        "print (a)"
      ],
      "metadata": {
        "id": "nFbFToKy5CA_",
        "outputId": "3b781bd6-008c-4292-b7c7-25f19c8f9fa2",
        "colab": {
          "base_uri": "https://localhost:8080/"
        }
      },
      "execution_count": null,
      "outputs": [
        {
          "output_type": "stream",
          "name": "stdout",
          "text": [
            "Lori\n",
            "Emma\n"
          ]
        }
      ]
    },
    {
      "cell_type": "code",
      "source": [
        "a = 'Lori'\n",
        "a = 'Emma'\n",
        "print (a)\n",
        "print (a)"
      ],
      "metadata": {
        "id": "AY7cX4iO5D-h",
        "outputId": "285a23cf-9019-4f26-a539-2048b4caeae7",
        "colab": {
          "base_uri": "https://localhost:8080/"
        }
      },
      "execution_count": null,
      "outputs": [
        {
          "output_type": "stream",
          "name": "stdout",
          "text": [
            "Emma\n",
            "Emma\n"
          ]
        }
      ]
    },
    {
      "cell_type": "code",
      "source": [
        "#@markdown d,e,f 리스트 할당\n",
        "\n",
        "d = [\"Mercury\", \"Venus\", \"Earth\", \"Mars\", \"Jupiter\", \"Saturn\", \"Uranus\", \"Neptune\"] #Names of planets\n",
        "e = [\"수성\", \"금성\", \"지구\", \"화성\", \"목성\", \"토성\", \"천황성\", \"혜왕성\"] #행성 이름\n",
        "f = [1,2,3,4,5,6,7,8,]\n",
        "\n",
        "print (d)\n",
        "print (e)\n",
        "print (f)"
      ],
      "metadata": {
        "id": "CZh7z9pn5H7J",
        "outputId": "1f7d3e8f-61b0-47f1-ff85-f086e1c21112",
        "colab": {
          "base_uri": "https://localhost:8080/"
        }
      },
      "execution_count": null,
      "outputs": [
        {
          "output_type": "stream",
          "name": "stdout",
          "text": [
            "['Mercury', 'Venus', 'Earth', 'Mars', 'Jupiter', 'Saturn', 'Uranus', 'Neptune']\n",
            "['수성', '금성', '지구', '화성', '목성', '토성', '천황성', '혜왕성']\n",
            "[1, 2, 3, 4, 5, 6, 7, 8]\n"
          ]
        }
      ]
    },
    {
      "cell_type": "code",
      "source": [
        "#@markdown g,h,i 리스트 할당\n",
        "\n",
        "g = (\"Mercury\", \"Venus\", \"Earth\", \"Mars\", \"Jupiter\", \"Saturn\", \"Uranus\", \"Neptune\") #Names of planets\n",
        "h = (\"수성\", \"금성\", \"지구\", \"화성\", \"목성\", \"토성\", \"천황성\", \"혜왕성\") #행성 이름\n",
        "i = (1,2,3,4,5,6,7,8,)\n",
        "\n",
        "print (g)\n",
        "print (h)\n",
        "print (i)"
      ],
      "metadata": {
        "id": "K9-735Dm5Kr9",
        "outputId": "48f38cc1-4d86-4953-f587-d51b84b140a4",
        "colab": {
          "base_uri": "https://localhost:8080/"
        }
      },
      "execution_count": null,
      "outputs": [
        {
          "output_type": "stream",
          "name": "stdout",
          "text": [
            "('Mercury', 'Venus', 'Earth', 'Mars', 'Jupiter', 'Saturn', 'Uranus', 'Neptune')\n",
            "('수성', '금성', '지구', '화성', '목성', '토성', '천황성', '혜왕성')\n",
            "(1, 2, 3, 4, 5, 6, 7, 8)\n"
          ]
        }
      ]
    },
    {
      "cell_type": "code",
      "source": [
        "#@markdown k랑 m 할당\n",
        "k = {'Mercury':'수성', 'Venus':'금성', 'Earth':'지구', 'Mars':'화성', 'Jupiter':'목성', 'Saturn':'토성', 'Uranus':'명왕성', 'Neptune':'해왕성'}\n",
        "m = {'Mercury 수성':1, 'Venus 금성':2, 'Earth 지구':3, 'Mars 화성':4, 'Jupiter 목성':5, 'Saturn 토성':6, 'Uranus 명왕성':7, 'Neptune 해왕성':8}\n",
        "\n",
        "print (k)\n",
        "print (m)"
      ],
      "metadata": {
        "id": "oXQctCqn5NPB",
        "outputId": "5f670675-cf17-4c25-81ae-fd9ea1062764",
        "colab": {
          "base_uri": "https://localhost:8080/"
        }
      },
      "execution_count": null,
      "outputs": [
        {
          "output_type": "stream",
          "name": "stdout",
          "text": [
            "{'Mercury': '수성', 'Venus': '금성', 'Earth': '지구', 'Mars': '화성', 'Jupiter': '목성', 'Saturn': '토성', 'Uranus': '명왕성', 'Neptune': '해왕성'}\n",
            "{'Mercury 수성': 1, 'Venus 금성': 2, 'Earth 지구': 3, 'Mars 화성': 4, 'Jupiter 목성': 5, 'Saturn 토성': 6, 'Uranus 명왕성': 7, 'Neptune 해왕성': 8}\n"
          ]
        }
      ]
    },
    {
      "cell_type": "code",
      "source": [
        "#@markdown 대괄호는 변수 중에서 지정해서 불러오기 가능\n",
        "dict = {'a':1, 'b':2, 'c':3}\n",
        "print (dict)\n",
        "print (dict['a'])\n",
        "print (dict['b'])\n",
        "print (dict['c'])"
      ],
      "metadata": {
        "id": "Opomhjve5PFM",
        "outputId": "a20ade1b-2d5c-4deb-d34b-661c84cf91ef",
        "colab": {
          "base_uri": "https://localhost:8080/"
        }
      },
      "execution_count": null,
      "outputs": [
        {
          "output_type": "stream",
          "name": "stdout",
          "text": [
            "{'a': 1, 'b': 2, 'c': 3}\n",
            "1\n",
            "2\n",
            "3\n"
          ]
        }
      ]
    },
    {
      "cell_type": "code",
      "source": [
        "#@markdown 변수값 재할당\n",
        "dict = {'a':1, 'b':2, 'c':3}\n",
        "print (dict)\n",
        "\n",
        "dict['a'] = 7\n",
        "print (dict)\n",
        "\n",
        "dict_data = {'c':10, 'b':20, 'a':30}\n",
        "print (dict_data)\n",
        "dict_data['a'] = 300\n",
        "print (dict_data)"
      ],
      "metadata": {
        "id": "ztS1BmGF5Q6Z",
        "outputId": "0d8d994a-9768-4c90-f046-55213839708a",
        "colab": {
          "base_uri": "https://localhost:8080/"
        }
      },
      "execution_count": null,
      "outputs": [
        {
          "output_type": "stream",
          "name": "stdout",
          "text": [
            "{'a': 1, 'b': 2, 'c': 3}\n",
            "{'a': 7, 'b': 2, 'c': 3}\n",
            "{'c': 10, 'b': 20, 'a': 30}\n",
            "{'c': 10, 'b': 20, 'a': 300}\n"
          ]
        }
      ]
    },
    {
      "cell_type": "markdown",
      "source": [
        "### 3. 인덱싱과 슬라이싱"
      ],
      "metadata": {
        "id": "orr0axaj5W3D"
      }
    },
    {
      "cell_type": "markdown",
      "source": [
        "- [:] 처음부터 전부다.\n",
        "- (5 미만) [1:5] 1에서부터 5미만까지 (5 미포함)\n",
        "- (5 미만) [:5] 처음부터 5미만까지 (5 미포함)\n",
        "- [5:] 5에서부터 끝까지 (5 포함)\n",
        "- (-3 미만) [:-3] 처음부터 -3까지\n",
        "- [-3:] -3부터 끝까지\n",
        "- [::2] 처음에서 하나씩 건너뛰면서 2부터 끝까지"
      ],
      "metadata": {
        "id": "gpHXYkeK5fhC"
      }
    },
    {
      "cell_type": "code",
      "source": [
        "#@markdown ['\\n']은 프린트할때 라인 한줄 띄우는 것, 아래 프린트는 슬라이스 기법중 하나\n",
        "str_data = 'I love python'\n",
        "list_data = ['apple', 'banana', 'grapes', 'mango']\n",
        "tuple_data = ('apple', 'banana', 'grapes', 'mango')\n",
        "\n",
        "print (str_data)\n",
        "print ('\\n')\n",
        "print (list_data)\n",
        "print ('\\n')\n",
        "print (tuple_data)\n",
        "\n",
        "print (str_data[0])\n",
        "print (str_data[1])\n",
        "print (str_data[2])\n",
        "print (str_data[3])\n",
        "print (str_data[4])\n",
        "print (str_data[5])\n",
        "print (str_data[6])\n",
        "print (str_data[7])\n",
        "print (str_data[8])\n",
        "print (str_data[9])\n",
        "print (str_data[10])\n",
        "print (str_data[11])\n",
        "print (str_data[12])"
      ],
      "metadata": {
        "id": "EykpV53M5ZNb",
        "outputId": "79fc261b-22af-4425-fde9-81ad5a527724",
        "colab": {
          "base_uri": "https://localhost:8080/"
        }
      },
      "execution_count": null,
      "outputs": [
        {
          "output_type": "stream",
          "name": "stdout",
          "text": [
            "I love python\n",
            "\n",
            "\n",
            "['apple', 'banana', 'grapes', 'mango']\n",
            "\n",
            "\n",
            "('apple', 'banana', 'grapes', 'mango')\n",
            "I\n",
            " \n",
            "l\n",
            "o\n",
            "v\n",
            "e\n",
            " \n",
            "p\n",
            "y\n",
            "t\n",
            "h\n",
            "o\n",
            "n\n"
          ]
        }
      ]
    },
    {
      "cell_type": "code",
      "source": [
        "str = 'temperature'\n",
        "print (str)\n",
        "\n",
        "print (str[4])\n",
        "print (str[1])\n",
        "print (str[6])\n",
        "print (str[9])"
      ],
      "metadata": {
        "id": "-z53k2r656YY",
        "outputId": "c026dad6-f6be-4df9-d86c-fa04b68be705",
        "colab": {
          "base_uri": "https://localhost:8080/"
        }
      },
      "execution_count": null,
      "outputs": [
        {
          "output_type": "stream",
          "name": "stdout",
          "text": [
            "temperature\n",
            "e\n",
            "e\n",
            "a\n",
            "r\n"
          ]
        }
      ]
    },
    {
      "cell_type": "code",
      "source": [
        "str = 'I love Python?'\n",
        "print (str)\n",
        "\n",
        "print (str[-1])\n",
        "print (str[-2])\n",
        "print (str[-3])\n",
        "print (str[-4])\n",
        "print (str[-5])\n",
        "print (str[-6])\n",
        "print (str[-7])\n",
        "print (str[-8])\n",
        "print (str[-9])\n",
        "print (str[-10])\n",
        "print (str[-11])\n",
        "print (str[-12])\n",
        "print (str[-13])\n",
        "print (str[-14])"
      ],
      "metadata": {
        "id": "3yATxbSB58ra",
        "outputId": "84edc8b7-4dd4-4f5d-9c9b-3a934aa6f5ee",
        "colab": {
          "base_uri": "https://localhost:8080/"
        }
      },
      "execution_count": null,
      "outputs": [
        {
          "output_type": "stream",
          "name": "stdout",
          "text": [
            "I love Python?\n",
            "?\n",
            "n\n",
            "o\n",
            "h\n",
            "t\n",
            "y\n",
            "P\n",
            " \n",
            "e\n",
            "v\n",
            "o\n",
            "l\n",
            " \n",
            "I\n"
          ]
        }
      ]
    },
    {
      "cell_type": "code",
      "source": [
        "str = 'Time is money!!'\n",
        "\n",
        "print (str[1])\n",
        "print (str[2])\n",
        "print (str[5])\n",
        "print (str[6])\n",
        "print (str[8])"
      ],
      "metadata": {
        "id": "nwgUIIXJ5_Up",
        "outputId": "ae824a06-6beb-4b06-f0c5-204cb9d3237d",
        "colab": {
          "base_uri": "https://localhost:8080/"
        }
      },
      "execution_count": null,
      "outputs": [
        {
          "output_type": "stream",
          "name": "stdout",
          "text": [
            "i\n",
            "m\n",
            "i\n",
            "s\n",
            "m\n"
          ]
        }
      ]
    },
    {
      "cell_type": "code",
      "source": [
        "#@markdown \"\"\" \"(큰 따옴표 1쌍과 앞에 붙는 2개는 인용구)\n",
        "str = \"\"\"She said, \"Time is money!!\"\n",
        "\"\"\"\n",
        "\n",
        "print (str)\n",
        "print (str[0])"
      ],
      "metadata": {
        "id": "KjcTGBXN6BNp",
        "outputId": "2156619f-bba2-4f6f-def8-9f6183cbe940",
        "colab": {
          "base_uri": "https://localhost:8080/"
        }
      },
      "execution_count": null,
      "outputs": [
        {
          "output_type": "stream",
          "name": "stdout",
          "text": [
            "She said, \"Time is money!!\"\n",
            "\n",
            "S\n"
          ]
        }
      ]
    },
    {
      "cell_type": "code",
      "source": [
        "#@markdown \"(큰따옴표 1쌍은 소유격, 단어축약)\n",
        "str = \"I've had two bananas. I think taht it is Sarah's.\"\n",
        "\n",
        "print (str)"
      ],
      "metadata": {
        "id": "014O7fyP6C-k",
        "outputId": "54cf85b3-c470-4485-f74c-f34bab7763cd",
        "colab": {
          "base_uri": "https://localhost:8080/"
        }
      },
      "execution_count": null,
      "outputs": [
        {
          "output_type": "stream",
          "name": "stdout",
          "text": [
            "I've had two bananas. I think taht it is Sarah's.\n"
          ]
        }
      ]
    },
    {
      "cell_type": "code",
      "source": [
        "#@markdown '(작은 따옴표 1쌍은 축약 등을 할때 입력 오류나옴)\n",
        "str = 'I've had two bananas. I think it is Sarah's.'\n",
        "\n",
        "print (str)"
      ],
      "metadata": {
        "id": "WlCrNkoX6F3i",
        "outputId": "6ed51ebb-970c-4a6e-ff40-35845e6b42ff",
        "colab": {
          "base_uri": "https://localhost:8080/",
          "height": 106
        }
      },
      "execution_count": null,
      "outputs": [
        {
          "output_type": "error",
          "ename": "SyntaxError",
          "evalue": "invalid syntax (<ipython-input-32-cd783afc536f>, line 2)",
          "traceback": [
            "\u001b[0;36m  File \u001b[0;32m\"<ipython-input-32-cd783afc536f>\"\u001b[0;36m, line \u001b[0;32m2\u001b[0m\n\u001b[0;31m    str = 'I've had two bananas. I think it is Sarah's.'\u001b[0m\n\u001b[0m             ^\u001b[0m\n\u001b[0;31mSyntaxError\u001b[0m\u001b[0;31m:\u001b[0m invalid syntax\n"
          ]
        }
      ]
    },
    {
      "cell_type": "code",
      "source": [
        "#@markdown '[]' (대괄호로 묶으면 하나로 취급, 그 묶음 중 하나를 뽑아내고 싶으면 대괄호 한 번 더 쓰고 번호 입력)\n",
        "list = [1,2, [3,4,5]]\n",
        "\n",
        "print (list[0])\n",
        "print (list[1])\n",
        "print (list[-1])\n",
        "print ('\\n')\n",
        "\n",
        "print (list[2][1])\n",
        "print (list[-1][-2])"
      ],
      "metadata": {
        "id": "FHjwq7ri6IZE",
        "outputId": "e56b6b6f-7a03-4a3d-fbc7-90bf2b54aeee",
        "colab": {
          "base_uri": "https://localhost:8080/"
        }
      },
      "execution_count": null,
      "outputs": [
        {
          "output_type": "stream",
          "name": "stdout",
          "text": [
            "1\n",
            "2\n",
            "[3, 4, 5]\n",
            "\n",
            "\n",
            "4\n",
            "4\n"
          ]
        }
      ]
    },
    {
      "cell_type": "code",
      "source": [
        "#@markdown 재수정 하는 법\n",
        "\n",
        "list = ['apple', 'banana', 'grapes', 'mango']\n",
        "print (list)\n",
        "\n",
        "list[0] ='shine musket'\n",
        "print (list)"
      ],
      "metadata": {
        "id": "cGOKjHGB6L8J",
        "outputId": "3a55f98c-3409-4557-a447-e7568fdff3c5",
        "colab": {
          "base_uri": "https://localhost:8080/"
        }
      },
      "execution_count": null,
      "outputs": [
        {
          "output_type": "stream",
          "name": "stdout",
          "text": [
            "['apple', 'banana', 'grapes', 'mango']\n",
            "['shine musket', 'banana', 'grapes', 'mango']\n"
          ]
        }
      ]
    },
    {
      "cell_type": "code",
      "source": [
        "#@markdown 튜플데이터는 수정 안 됨\n",
        "\n",
        "tuple = ('apple', 'banana', 'grapes', 'mango')\n",
        "tuple[0] = 'shine musket'\n",
        "print (tuple)"
      ],
      "metadata": {
        "id": "iBIZy9Zx6NuX",
        "outputId": "bb1d21b5-7e80-44e4-b916-23f4576aa3c9",
        "colab": {
          "base_uri": "https://localhost:8080/",
          "height": 193
        }
      },
      "execution_count": null,
      "outputs": [
        {
          "output_type": "error",
          "ename": "TypeError",
          "evalue": "'tuple' object does not support item assignment",
          "traceback": [
            "\u001b[0;31m---------------------------------------------------------------------------\u001b[0m",
            "\u001b[0;31mTypeError\u001b[0m                                 Traceback (most recent call last)",
            "\u001b[0;32m<ipython-input-35-d9aae7e46ccd>\u001b[0m in \u001b[0;36m<cell line: 4>\u001b[0;34m()\u001b[0m\n\u001b[1;32m      2\u001b[0m \u001b[0;34m\u001b[0m\u001b[0m\n\u001b[1;32m      3\u001b[0m \u001b[0mtuple\u001b[0m \u001b[0;34m=\u001b[0m \u001b[0;34m(\u001b[0m\u001b[0;34m'apple'\u001b[0m\u001b[0;34m,\u001b[0m \u001b[0;34m'banana'\u001b[0m\u001b[0;34m,\u001b[0m \u001b[0;34m'grapes'\u001b[0m\u001b[0;34m,\u001b[0m \u001b[0;34m'mango'\u001b[0m\u001b[0;34m)\u001b[0m\u001b[0;34m\u001b[0m\u001b[0;34m\u001b[0m\u001b[0m\n\u001b[0;32m----> 4\u001b[0;31m \u001b[0mtuple\u001b[0m\u001b[0;34m[\u001b[0m\u001b[0;36m0\u001b[0m\u001b[0;34m]\u001b[0m \u001b[0;34m=\u001b[0m \u001b[0;34m'shine musket'\u001b[0m\u001b[0;34m\u001b[0m\u001b[0;34m\u001b[0m\u001b[0m\n\u001b[0m\u001b[1;32m      5\u001b[0m \u001b[0mprint\u001b[0m \u001b[0;34m(\u001b[0m\u001b[0mtuple\u001b[0m\u001b[0;34m)\u001b[0m\u001b[0;34m\u001b[0m\u001b[0;34m\u001b[0m\u001b[0m\n",
            "\u001b[0;31mTypeError\u001b[0m: 'tuple' object does not support item assignment"
          ]
        }
      ]
    },
    {
      "cell_type": "code",
      "source": [
        "#@markdown 슬라이스 기법 (범위 설정하는 법은 위에 있음)\n",
        "\n",
        "str = 'Time is money!!'\n",
        "print (str[1:5])\n",
        "print (str[:7])\n",
        "print (str[9:])\n",
        "print (str[-3:])\n",
        "print (str[:])\n",
        "print (str[::2])"
      ],
      "metadata": {
        "id": "wYsQLU8B6PjH",
        "outputId": "5ff9ea65-914f-4a2f-f77b-cb0600541c97",
        "colab": {
          "base_uri": "https://localhost:8080/"
        }
      },
      "execution_count": null,
      "outputs": [
        {
          "output_type": "stream",
          "name": "stdout",
          "text": [
            "ime \n",
            "Time is\n",
            "oney!!\n",
            "y!!\n",
            "Time is money!!\n",
            "Tm smny!\n"
          ]
        }
      ]
    },
    {
      "cell_type": "code",
      "source": [
        "#@markdown ;(는 한 줄에 나열할 수 있게 해줌) / 붙여 쓸 때 띄어쓰기 하는 법은 앞에 묶음 뒤에 공란을 만들거나 뒤에도 공란을 만들거나 한다. 또는 공란 묶음을 만들면 된다.\n",
        "\n",
        "str1 = 'I love' ; str2 = 'Python'\n",
        "print (str1 + str2)\n",
        "str1 = 'I love ' ; str2 = 'Python'\n",
        "print (str1 + str2)\n",
        "str1 = 'I love' ; str2 = ' Python'\n",
        "print (str1 + str2)\n",
        "str1 = 'I love' ; str0 = ' ' ;str2 = 'Python'\n",
        "print (str1 + str0 + str2)\n"
      ],
      "metadata": {
        "id": "3po9L3BK6Qjh"
      },
      "execution_count": null,
      "outputs": []
    },
    {
      "cell_type": "code",
      "source": [
        "#@markdown * 에스터리스크는 반복(곱하기 효과)\n",
        "\n",
        "subjet = 'BTS' ; verb = 'sings' ; object = 'butter'\n",
        "sentence = subjet + verb + object * 5\n",
        "print (sentence)\n",
        "\n"
      ],
      "metadata": {
        "id": "fg8E35r-6UGz",
        "outputId": "b2f8a3cc-0f5d-4c08-f34d-5caa85669e3e",
        "colab": {
          "base_uri": "https://localhost:8080/"
        }
      },
      "execution_count": null,
      "outputs": [
        {
          "output_type": "stream",
          "name": "stdout",
          "text": [
            "BTSsingsbutterbutterbutterbutterbutter\n"
          ]
        }
      ]
    },
    {
      "cell_type": "code",
      "source": [
        "#@markdown len은 길이 함수(글자 개수 확인)\n",
        "\n",
        "str = 'I love Python!'\n",
        "print (len(str))"
      ],
      "metadata": {
        "id": "wcNE2cIP6Wsh",
        "outputId": "62fd7d4e-ed3c-46ad-9cbf-244ddf1b161a",
        "colab": {
          "base_uri": "https://localhost:8080/"
        }
      },
      "execution_count": null,
      "outputs": [
        {
          "output_type": "stream",
          "name": "stdout",
          "text": [
            "14\n"
          ]
        }
      ]
    },
    {
      "cell_type": "code",
      "source": [
        "#@markdown 시퀀스 자료 크기 이해하기 (len)\n",
        "\n",
        "str_data = 'I love Python'\n",
        "print(len(str_data))"
      ],
      "metadata": {
        "id": "HUqQ_KjR6bnG",
        "outputId": "09cf41ca-f84c-44f3-df9d-c19e2c6d5a39",
        "colab": {
          "base_uri": "https://localhost:8080/"
        }
      },
      "execution_count": null,
      "outputs": [
        {
          "output_type": "stream",
          "name": "stdout",
          "text": [
            "13\n"
          ]
        }
      ]
    },
    {
      "cell_type": "markdown",
      "source": [
        "### 5. 레귤러 익스프레션"
      ],
      "metadata": {
        "id": "U6bVpFWF6f51"
      }
    },
    {
      "cell_type": "markdown",
      "source": [
        "##### 라인이나 줄바꿈 같은 거 할 때 사용 역 슬래쉬는 한글자판에 없어서 \\씀"
      ],
      "metadata": {
        "id": "1fumZAar6qua"
      }
    },
    {
      "cell_type": "markdown",
      "source": [
        "|Symbol | Meaning|\n",
        "|--|--|\n",
        "|. | 한 개의 임의의 문자 (줄바꿈 문자인 \\n는 제외)|\n",
        "|? | 앞의 문자가 존재할 수도 있고, 존재하지 않을 수도 있음 (문자가 0개 또는 1개)|\n",
        "|* | 앞의 문자가 무한개로 존재할 수도 있고, 존재하지 않을 수도 있음 (문자가 0개 이상)|\n",
        "|+ | 앞의 문자가 최소 한 개 이상 존재 (문자가 1개 이상)|\n",
        "|^ | 뒤의 문자열로 문자열이 시작|\n",
        "|$ | 앞의 문자열로 문자열이 끝남|\n"
      ],
      "metadata": {
        "id": "An5Nck8w6646"
      }
    },
    {
      "cell_type": "code",
      "source": [
        "#@markdown \\n은 한 줄 띄우기\n",
        "\n",
        "a = ('bananas', 'cars', 'notebooks', 'umbrellas')\n",
        "print (a)\n",
        "print ('\\n')\n",
        "b = ('banana', 'car', 'notebook', 'umbrella')\n",
        "print (b)"
      ],
      "metadata": {
        "id": "RhYEMBAK6kL0",
        "outputId": "4e2d3c0d-ab4b-4d4d-e8cc-4a5607cd3bbc",
        "colab": {
          "base_uri": "https://localhost:8080/"
        }
      },
      "execution_count": null,
      "outputs": [
        {
          "output_type": "stream",
          "name": "stdout",
          "text": [
            "('bananas', 'cars', 'notebooks', 'umbrellas')\n",
            "\n",
            "\n",
            "('banana', 'car', 'notebook', 'umbrella')\n"
          ]
        }
      ]
    },
    {
      "cell_type": "code",
      "source": [
        "#1. 메타 캐릭터 (.)점 import re는 레귤러 익스프레션을 시작할 때 필수\n",
        "\n",
        "import re\n",
        "\n",
        "text = \"cat, har, bat, sat, mat, combat, unbated\"\n",
        "patten = r\".at\"\n",
        "\n",
        "matches = re.findall(patten, text) # 패턴에 해당하는 것을 텍스트에서 찾아 매치해라 라는 명령어\n",
        "\n",
        "for match in matches:\n",
        "  print (\"Match:\", match)\n",
        "  # 한개한개 찾은거 다 매치해달라는 명령어, 스테이츠먼트가 끝날 때 :은 필수"
      ],
      "metadata": {
        "id": "J9Cq_ft96m7-",
        "outputId": "53a827b1-03d2-40cd-e074-c1a54a596798",
        "colab": {
          "base_uri": "https://localhost:8080/"
        }
      },
      "execution_count": null,
      "outputs": [
        {
          "output_type": "stream",
          "name": "stdout",
          "text": [
            "Match: cat\n",
            "Match: bat\n",
            "Match: sat\n",
            "Match: mat\n",
            "Match: bat\n",
            "Match: bat\n"
          ]
        }
      ]
    },
    {
      "cell_type": "code",
      "source": [
        "import re\n",
        "\n",
        "text = \"cat, har, bat, sat, mat, combat, unbated\"\n",
        "patten = r\".at\"\n",
        "\n",
        "matches = re.findall(patten, text)\n",
        "\n",
        "for match in matches:\n",
        "  print (\"Match:\", match)\n",
        "\n",
        "  # 위 :의 아래의 것들은 들여쓰기가 됨. = 위에 속하는 형태 들여쓰기를 지워서 오류가 났을때는 탭으로 다시 들여써주면 됨."
      ],
      "metadata": {
        "id": "_b3D3haA6_a-",
        "outputId": "82a7449b-337f-4ba0-f3a2-aa11c67d5c71",
        "colab": {
          "base_uri": "https://localhost:8080/"
        }
      },
      "execution_count": null,
      "outputs": [
        {
          "output_type": "stream",
          "name": "stdout",
          "text": [
            "Match: cat\n",
            "Match: bat\n",
            "Match: sat\n",
            "Match: mat\n",
            "Match: bat\n",
            "Match: bat\n"
          ]
        }
      ]
    },
    {
      "cell_type": "markdown",
      "source": [
        "### 4-1. if문장"
      ],
      "metadata": {
        "id": "fI76qQ_M7iQm"
      }
    },
    {
      "cell_type": "code",
      "source": [
        "x = 100\n",
        "y = 95\n",
        "\n",
        "if x > y:\n",
        "  print ('x is greater than y.')\n",
        "\n",
        "else:\n",
        "  print ('x is smaller than or equal to y.')"
      ],
      "metadata": {
        "id": "-7WqiWHr77hI",
        "outputId": "c5086416-baf9-47c5-c409-a0d7dd7ac4e8",
        "colab": {
          "base_uri": "https://localhost:8080/"
        }
      },
      "execution_count": null,
      "outputs": [
        {
          "output_type": "stream",
          "name": "stdout",
          "text": [
            "x is greater than y.\n"
          ]
        }
      ]
    },
    {
      "cell_type": "code",
      "source": [
        "x = 2\n",
        "y = 300\n",
        "\n",
        "if x > y:\n",
        "  print ('x is greater than y.')\n",
        "\n",
        "else:\n",
        "  print ('x is smaller than or equal to y.')"
      ],
      "metadata": {
        "id": "_a_Qt9xw7-B2",
        "outputId": "9a9b3c4a-f0b1-4ce6-c172-3bb91ef3c9b7",
        "colab": {
          "base_uri": "https://localhost:8080/"
        }
      },
      "execution_count": null,
      "outputs": [
        {
          "output_type": "stream",
          "name": "stdout",
          "text": [
            "x is smaller than or equal to y.\n"
          ]
        }
      ]
    },
    {
      "cell_type": "code",
      "source": [
        "x = 0\n",
        "y = 0\n",
        "\n",
        "if x > y:\n",
        "  print ('x is greater than y.')\n",
        "\n",
        "else:\n",
        "  print ('x is smaller than or equal to y.')"
      ],
      "metadata": {
        "id": "_aXgWjXN8AGi",
        "outputId": "7738805e-532e-40a9-d326-1793bb42597e",
        "colab": {
          "base_uri": "https://localhost:8080/"
        }
      },
      "execution_count": null,
      "outputs": [
        {
          "output_type": "stream",
          "name": "stdout",
          "text": [
            "x is smaller than or equal to y.\n"
          ]
        }
      ]
    },
    {
      "cell_type": "code",
      "source": [
        "#@markdown 엘리먼트(객체) 구분은 ',' if스크립트 등을 제대로 작동하려면 :(콜른), 필수 숨기는 것은 # 이거붙이면 됨.\n",
        "listdata = ['a', 'b', 'c']\n",
        "if 'a' in listdata:\n",
        "  print ('a가 listdata 안에 있습니다.')\n",
        "else:\n",
        " print ('해당 문자는 listdata 안에 없습니다.')\n"
      ],
      "metadata": {
        "id": "U98ELNVv8BnN",
        "outputId": "96b635ef-3df6-49cb-c799-5331be9c7fb6",
        "colab": {
          "base_uri": "https://localhost:8080/"
        }
      },
      "execution_count": null,
      "outputs": [
        {
          "output_type": "stream",
          "name": "stdout",
          "text": [
            "a가 listdata 안에 있습니다.\n"
          ]
        }
      ]
    },
    {
      "cell_type": "code",
      "source": [
        "if x>y:\n",
        "\n",
        "if 'a' in dict:"
      ],
      "metadata": {
        "id": "wdFdDUFW8EL9"
      },
      "execution_count": null,
      "outputs": []
    },
    {
      "cell_type": "markdown",
      "source": [
        "### 4-2. for문장\n",
        "\n",
        "###### int는 정수. 타입 확인은 type"
      ],
      "metadata": {
        "id": "WecaYjfb8Nh4"
      }
    },
    {
      "cell_type": "code",
      "source": [
        "#@markdown 구성요소는 아무거나 가능 (아래 n은 i가 될 수도 있음. 단 프린트 시 구성요소와 함수는 일치해야 함.)\n",
        "\n",
        "numbers = (1,2,3,4,5,6,7,8,9)\n",
        "print (numbers)\n",
        "print ('\\n')\n",
        "\n",
        "for n in numbers:\n",
        "  print (n)"
      ],
      "metadata": {
        "id": "uQFC9pIM8IjT",
        "outputId": "324a59b5-6a83-4d61-af97-7252934842a4",
        "colab": {
          "base_uri": "https://localhost:8080/"
        }
      },
      "execution_count": null,
      "outputs": [
        {
          "output_type": "stream",
          "name": "stdout",
          "text": [
            "(1, 2, 3, 4, 5, 6, 7, 8, 9)\n",
            "\n",
            "\n",
            "1\n",
            "2\n",
            "3\n",
            "4\n",
            "5\n",
            "6\n",
            "7\n",
            "8\n",
            "9\n"
          ]
        }
      ]
    },
    {
      "cell_type": "code",
      "source": [
        "scope = [1,2,3,4,5,]\n",
        "\n",
        "for i in scope:\n",
        "  print (i)"
      ],
      "metadata": {
        "id": "4kK0boFf8Zfy",
        "outputId": "b32e6717-af7a-4669-a7de-c0b75715390d",
        "colab": {
          "base_uri": "https://localhost:8080/"
        }
      },
      "execution_count": null,
      "outputs": [
        {
          "output_type": "stream",
          "name": "stdout",
          "text": [
            "1\n",
            "2\n",
            "3\n",
            "4\n",
            "5\n"
          ]
        }
      ]
    },
    {
      "cell_type": "code",
      "source": [
        "import keyword\n",
        "keyword.kwlist"
      ],
      "metadata": {
        "id": "OafKp7Kw8d_m",
        "outputId": "22e6663c-3d20-4525-ea3e-7c05062a49f9",
        "colab": {
          "base_uri": "https://localhost:8080/"
        }
      },
      "execution_count": null,
      "outputs": [
        {
          "output_type": "execute_result",
          "data": {
            "text/plain": [
              "['False',\n",
              " 'None',\n",
              " 'True',\n",
              " 'and',\n",
              " 'as',\n",
              " 'assert',\n",
              " 'async',\n",
              " 'await',\n",
              " 'break',\n",
              " 'class',\n",
              " 'continue',\n",
              " 'def',\n",
              " 'del',\n",
              " 'elif',\n",
              " 'else',\n",
              " 'except',\n",
              " 'finally',\n",
              " 'for',\n",
              " 'from',\n",
              " 'global',\n",
              " 'if',\n",
              " 'import',\n",
              " 'in',\n",
              " 'is',\n",
              " 'lambda',\n",
              " 'nonlocal',\n",
              " 'not',\n",
              " 'or',\n",
              " 'pass',\n",
              " 'raise',\n",
              " 'return',\n",
              " 'try',\n",
              " 'while',\n",
              " 'with',\n",
              " 'yield']"
            ]
          },
          "metadata": {},
          "execution_count": 52
        }
      ]
    },
    {
      "cell_type": "code",
      "source": [
        "#@markdown 클래스는 키워드라서 변수로 사용할 수 없음. for이 아닌 if도 오류남.\n",
        "\n",
        "class = ['나', '너', '우리']\n",
        "\n",
        "for i in class:\n",
        "  print (i)\n"
      ],
      "metadata": {
        "id": "x3Envc888gbU",
        "outputId": "d37f8536-82de-49b4-84ec-b73803b243fb",
        "colab": {
          "base_uri": "https://localhost:8080/",
          "height": 106
        }
      },
      "execution_count": null,
      "outputs": [
        {
          "output_type": "error",
          "ename": "SyntaxError",
          "evalue": "invalid syntax (<ipython-input-53-dba2bfb030cd>, line 3)",
          "traceback": [
            "\u001b[0;36m  File \u001b[0;32m\"<ipython-input-53-dba2bfb030cd>\"\u001b[0;36m, line \u001b[0;32m3\u001b[0m\n\u001b[0;31m    class = ['나', '너', '우리']\u001b[0m\n\u001b[0m          ^\u001b[0m\n\u001b[0;31mSyntaxError\u001b[0m\u001b[0;31m:\u001b[0m invalid syntax\n"
          ]
        }
      ]
    },
    {
      "cell_type": "code",
      "source": [
        "#@markdown 이런식으로 키워드 외의 변수로 지정해야 오류가 안남.\n",
        "\n",
        "name = ['나', '너', '우리']\n",
        "\n",
        "for i in name:\n",
        "  print (i)"
      ],
      "metadata": {
        "id": "ulMEdHCt8i3a",
        "outputId": "29fb6b8e-6c58-4356-f1bd-885b82a5a77f",
        "colab": {
          "base_uri": "https://localhost:8080/"
        }
      },
      "execution_count": null,
      "outputs": [
        {
          "output_type": "stream",
          "name": "stdout",
          "text": [
            "나\n",
            "너\n",
            "우리\n"
          ]
        }
      ]
    },
    {
      "cell_type": "code",
      "source": [
        "for i in range(1):\n",
        "  print (i)\n",
        "type (i)"
      ],
      "metadata": {
        "id": "MT5Xu0Lw8k-i",
        "outputId": "a5c68eb4-8631-4c34-d502-aa76e1634c23",
        "colab": {
          "base_uri": "https://localhost:8080/"
        }
      },
      "execution_count": null,
      "outputs": [
        {
          "output_type": "stream",
          "name": "stdout",
          "text": [
            "0\n"
          ]
        },
        {
          "output_type": "execute_result",
          "data": {
            "text/plain": [
              "int"
            ]
          },
          "metadata": {},
          "execution_count": 55
        }
      ]
    },
    {
      "cell_type": "code",
      "source": [
        "for x in range (3):\n",
        "  print(x)\n",
        "\n",
        "type (x)"
      ],
      "metadata": {
        "id": "ynKng0R-8p8r",
        "outputId": "f6644ab0-1059-41df-ff8e-22e0d31d9cc0",
        "colab": {
          "base_uri": "https://localhost:8080/"
        }
      },
      "execution_count": null,
      "outputs": [
        {
          "output_type": "stream",
          "name": "stdout",
          "text": [
            "0\n",
            "1\n",
            "2\n"
          ]
        },
        {
          "output_type": "execute_result",
          "data": {
            "text/plain": [
              "int"
            ]
          },
          "metadata": {},
          "execution_count": 56
        }
      ]
    },
    {
      "cell_type": "code",
      "source": [
        "for i in range (100000):\n",
        "  print (i)"
      ],
      "metadata": {
        "id": "YVxyYC-u8rlw"
      },
      "execution_count": null,
      "outputs": []
    },
    {
      "cell_type": "code",
      "source": [
        "for y in range (10):\n",
        "  print (y)\n",
        "\n",
        "type (y)"
      ],
      "metadata": {
        "id": "lCIsZBW38uSQ",
        "outputId": "cfdd903b-b1b8-44c6-9891-adbc80479a35",
        "colab": {
          "base_uri": "https://localhost:8080/"
        }
      },
      "execution_count": null,
      "outputs": [
        {
          "output_type": "stream",
          "name": "stdout",
          "text": [
            "0\n",
            "1\n",
            "2\n",
            "3\n",
            "4\n",
            "5\n",
            "6\n",
            "7\n",
            "8\n",
            "9\n"
          ]
        },
        {
          "output_type": "execute_result",
          "data": {
            "text/plain": [
              "int"
            ]
          },
          "metadata": {},
          "execution_count": 58
        }
      ]
    },
    {
      "cell_type": "code",
      "source": [
        "r = range (10)\n",
        "for i in r:\n",
        "  print (i)\n",
        "\n",
        "type (i)"
      ],
      "metadata": {
        "id": "Mn8YKE_38xuY",
        "outputId": "db0d4776-1631-403c-aa30-465559ed250d",
        "colab": {
          "base_uri": "https://localhost:8080/"
        }
      },
      "execution_count": null,
      "outputs": [
        {
          "output_type": "stream",
          "name": "stdout",
          "text": [
            "0\n",
            "1\n",
            "2\n",
            "3\n",
            "4\n",
            "5\n",
            "6\n",
            "7\n",
            "8\n",
            "9\n"
          ]
        },
        {
          "output_type": "execute_result",
          "data": {
            "text/plain": [
              "int"
            ]
          },
          "metadata": {},
          "execution_count": 59
        }
      ]
    },
    {
      "cell_type": "code",
      "source": [
        "for i in range (0):\n",
        "  print (i)"
      ],
      "metadata": {
        "id": "amKPm25_8zom"
      },
      "execution_count": null,
      "outputs": []
    },
    {
      "cell_type": "code",
      "source": [
        "list_fruit = ['사과', '바나나', '오렌지', '딸기', '배', '포도', '망고']\n",
        "\n",
        "for i in list_fruit:\n",
        "  print (i)"
      ],
      "metadata": {
        "id": "giAAZJSs810T",
        "outputId": "4e2e7f66-3780-4ae5-89a0-5609c06c8e1c",
        "colab": {
          "base_uri": "https://localhost:8080/"
        }
      },
      "execution_count": null,
      "outputs": [
        {
          "output_type": "stream",
          "name": "stdout",
          "text": [
            "사과\n",
            "바나나\n",
            "오렌지\n",
            "딸기\n",
            "배\n",
            "포도\n",
            "망고\n"
          ]
        }
      ]
    },
    {
      "cell_type": "code",
      "source": [
        "string = 'abcde'\n",
        "\n",
        "for i in string:\n",
        "  print (i)"
      ],
      "metadata": {
        "id": "vAQKRtHj87Vq",
        "outputId": "9e488d2a-8b8d-496f-f91b-d1306656fa12",
        "colab": {
          "base_uri": "https://localhost:8080/"
        }
      },
      "execution_count": null,
      "outputs": [
        {
          "output_type": "stream",
          "name": "stdout",
          "text": [
            "a\n",
            "b\n",
            "c\n",
            "d\n",
            "e\n"
          ]
        }
      ]
    },
    {
      "cell_type": "code",
      "source": [
        "list_int = [1,2,3,4,5]\n",
        "\n",
        "for i in list_int:\n",
        "  print (i)\n",
        "\n",
        "print ('\\n')\n",
        "print (list_int[0])\n",
        "print ([0])"
      ],
      "metadata": {
        "id": "Oy1vBHL288Ms",
        "outputId": "ba37c361-6448-4bb7-c9bb-5f4260d55d33",
        "colab": {
          "base_uri": "https://localhost:8080/"
        }
      },
      "execution_count": null,
      "outputs": [
        {
          "output_type": "stream",
          "name": "stdout",
          "text": [
            "1\n",
            "2\n",
            "3\n",
            "4\n",
            "5\n",
            "\n",
            "\n",
            "1\n",
            "[0]\n"
          ]
        }
      ]
    },
    {
      "cell_type": "code",
      "source": [
        "dict1 = {'a':97, 'b':98, 'c':99}\n",
        "print (dict1['c'])\n",
        "print ('\\n')\n",
        "\n",
        "for i in dict1:\n",
        "  print (i)"
      ],
      "metadata": {
        "id": "GI4SY9Ck8-Ky",
        "outputId": "33576175-88e4-427b-af14-e9890f1da453",
        "colab": {
          "base_uri": "https://localhost:8080/"
        }
      },
      "execution_count": null,
      "outputs": [
        {
          "output_type": "stream",
          "name": "stdout",
          "text": [
            "99\n",
            "\n",
            "\n",
            "a\n",
            "b\n",
            "c\n"
          ]
        }
      ]
    }
  ]
}
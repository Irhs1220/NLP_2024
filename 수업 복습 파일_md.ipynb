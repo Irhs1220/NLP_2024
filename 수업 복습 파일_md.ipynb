{
  "nbformat": 4,
  "nbformat_minor": 0,
  "metadata": {
    "colab": {
      "provenance": [],
      "include_colab_link": true
    },
    "kernelspec": {
      "name": "python3",
      "display_name": "Python 3"
    },
    "language_info": {
      "name": "python"
    },
    "widgets": {
      "application/vnd.jupyter.widget-state+json": {
        "f1c09e4f6e7844e8b084f85917109616": {
          "model_module": "@jupyter-widgets/controls",
          "model_name": "HBoxModel",
          "model_module_version": "1.5.0",
          "state": {
            "_dom_classes": [],
            "_model_module": "@jupyter-widgets/controls",
            "_model_module_version": "1.5.0",
            "_model_name": "HBoxModel",
            "_view_count": null,
            "_view_module": "@jupyter-widgets/controls",
            "_view_module_version": "1.5.0",
            "_view_name": "HBoxView",
            "box_style": "",
            "children": [
              "IPY_MODEL_41bb1706b7f244a5b2bacf36fba6b6c0",
              "IPY_MODEL_d636220416ed46bf841e1fcec933c075"
            ],
            "layout": "IPY_MODEL_5d0cd7b3164d4de9becb231417eccbb2"
          }
        },
        "41bb1706b7f244a5b2bacf36fba6b6c0": {
          "model_module": "@jupyter-widgets/controls",
          "model_name": "ImageModel",
          "model_module_version": "1.5.0",
          "state": {
            "_dom_classes": [],
            "_model_module": "@jupyter-widgets/controls",
            "_model_module_version": "1.5.0",
            "_model_name": "ImageModel",
            "_view_count": null,
            "_view_module": "@jupyter-widgets/controls",
            "_view_module_version": "1.5.0",
            "_view_name": "ImageView",
            "format": "png",
            "height": "600",
            "layout": "IPY_MODEL_b71ba359d37a4336adcbff46f5fdeda5",
            "width": "700"
          }
        },
        "d636220416ed46bf841e1fcec933c075": {
          "model_module": "@jupyter-widgets/controls",
          "model_name": "VBoxModel",
          "model_module_version": "1.5.0",
          "state": {
            "_dom_classes": [],
            "_model_module": "@jupyter-widgets/controls",
            "_model_module_version": "1.5.0",
            "_model_name": "VBoxModel",
            "_view_count": null,
            "_view_module": "@jupyter-widgets/controls",
            "_view_module_version": "1.5.0",
            "_view_name": "VBoxView",
            "box_style": "",
            "children": [
              "IPY_MODEL_13378923da3b440b8806c1cda12c12f7",
              "IPY_MODEL_7b9b2bc52db244a993182bcf270663f9",
              "IPY_MODEL_e710093832254095832e36d218006f12"
            ],
            "layout": "IPY_MODEL_49edd364c1924a8b8057ee0513efdb10"
          }
        },
        "5d0cd7b3164d4de9becb231417eccbb2": {
          "model_module": "@jupyter-widgets/base",
          "model_name": "LayoutModel",
          "model_module_version": "1.2.0",
          "state": {
            "_model_module": "@jupyter-widgets/base",
            "_model_module_version": "1.2.0",
            "_model_name": "LayoutModel",
            "_view_count": null,
            "_view_module": "@jupyter-widgets/base",
            "_view_module_version": "1.2.0",
            "_view_name": "LayoutView",
            "align_content": null,
            "align_items": null,
            "align_self": null,
            "border": null,
            "bottom": null,
            "display": null,
            "flex": null,
            "flex_flow": null,
            "grid_area": null,
            "grid_auto_columns": null,
            "grid_auto_flow": null,
            "grid_auto_rows": null,
            "grid_column": null,
            "grid_gap": null,
            "grid_row": null,
            "grid_template_areas": null,
            "grid_template_columns": null,
            "grid_template_rows": null,
            "height": null,
            "justify_content": null,
            "justify_items": null,
            "left": null,
            "margin": null,
            "max_height": null,
            "max_width": null,
            "min_height": null,
            "min_width": null,
            "object_fit": null,
            "object_position": null,
            "order": null,
            "overflow": null,
            "overflow_x": null,
            "overflow_y": null,
            "padding": null,
            "right": null,
            "top": null,
            "visibility": null,
            "width": null
          }
        },
        "b71ba359d37a4336adcbff46f5fdeda5": {
          "model_module": "@jupyter-widgets/base",
          "model_name": "LayoutModel",
          "model_module_version": "1.2.0",
          "state": {
            "_model_module": "@jupyter-widgets/base",
            "_model_module_version": "1.2.0",
            "_model_name": "LayoutModel",
            "_view_count": null,
            "_view_module": "@jupyter-widgets/base",
            "_view_module_version": "1.2.0",
            "_view_name": "LayoutView",
            "align_content": null,
            "align_items": null,
            "align_self": null,
            "border": null,
            "bottom": null,
            "display": null,
            "flex": null,
            "flex_flow": null,
            "grid_area": null,
            "grid_auto_columns": null,
            "grid_auto_flow": null,
            "grid_auto_rows": null,
            "grid_column": null,
            "grid_gap": null,
            "grid_row": null,
            "grid_template_areas": null,
            "grid_template_columns": null,
            "grid_template_rows": null,
            "height": null,
            "justify_content": null,
            "justify_items": null,
            "left": null,
            "margin": null,
            "max_height": null,
            "max_width": null,
            "min_height": null,
            "min_width": null,
            "object_fit": null,
            "object_position": null,
            "order": null,
            "overflow": null,
            "overflow_x": null,
            "overflow_y": null,
            "padding": null,
            "right": null,
            "top": null,
            "visibility": null,
            "width": null
          }
        },
        "13378923da3b440b8806c1cda12c12f7": {
          "model_module": "@jupyter-widgets/controls",
          "model_name": "ButtonModel",
          "model_module_version": "1.5.0",
          "state": {
            "_dom_classes": [],
            "_model_module": "@jupyter-widgets/controls",
            "_model_module_version": "1.5.0",
            "_model_name": "ButtonModel",
            "_view_count": null,
            "_view_module": "@jupyter-widgets/controls",
            "_view_module_version": "1.5.0",
            "_view_name": "ButtonView",
            "button_style": "",
            "description": "",
            "disabled": false,
            "icon": "",
            "layout": "IPY_MODEL_a973a7c753294c2995dc01541339055a",
            "style": "IPY_MODEL_372635930fec41d38d046b66c1bf5b9a",
            "tooltip": ""
          }
        },
        "7b9b2bc52db244a993182bcf270663f9": {
          "model_module": "@jupyter-widgets/controls",
          "model_name": "ButtonModel",
          "model_module_version": "1.5.0",
          "state": {
            "_dom_classes": [],
            "_model_module": "@jupyter-widgets/controls",
            "_model_module_version": "1.5.0",
            "_model_name": "ButtonModel",
            "_view_count": null,
            "_view_module": "@jupyter-widgets/controls",
            "_view_module_version": "1.5.0",
            "_view_name": "ButtonView",
            "button_style": "",
            "description": "",
            "disabled": false,
            "icon": "",
            "layout": "IPY_MODEL_a973a7c753294c2995dc01541339055a",
            "style": "IPY_MODEL_4211d675c96c470dbf2d7b9be74bac07",
            "tooltip": ""
          }
        },
        "e710093832254095832e36d218006f12": {
          "model_module": "@jupyter-widgets/controls",
          "model_name": "ButtonModel",
          "model_module_version": "1.5.0",
          "state": {
            "_dom_classes": [],
            "_model_module": "@jupyter-widgets/controls",
            "_model_module_version": "1.5.0",
            "_model_name": "ButtonModel",
            "_view_count": null,
            "_view_module": "@jupyter-widgets/controls",
            "_view_module_version": "1.5.0",
            "_view_name": "ButtonView",
            "button_style": "",
            "description": "",
            "disabled": false,
            "icon": "",
            "layout": "IPY_MODEL_a973a7c753294c2995dc01541339055a",
            "style": "IPY_MODEL_ca34ec0efdcf4c80acce1c5b22fa042e",
            "tooltip": ""
          }
        },
        "49edd364c1924a8b8057ee0513efdb10": {
          "model_module": "@jupyter-widgets/base",
          "model_name": "LayoutModel",
          "model_module_version": "1.2.0",
          "state": {
            "_model_module": "@jupyter-widgets/base",
            "_model_module_version": "1.2.0",
            "_model_name": "LayoutModel",
            "_view_count": null,
            "_view_module": "@jupyter-widgets/base",
            "_view_module_version": "1.2.0",
            "_view_name": "LayoutView",
            "align_content": null,
            "align_items": null,
            "align_self": null,
            "border": null,
            "bottom": null,
            "display": null,
            "flex": null,
            "flex_flow": null,
            "grid_area": null,
            "grid_auto_columns": null,
            "grid_auto_flow": null,
            "grid_auto_rows": null,
            "grid_column": null,
            "grid_gap": null,
            "grid_row": null,
            "grid_template_areas": null,
            "grid_template_columns": null,
            "grid_template_rows": null,
            "height": null,
            "justify_content": null,
            "justify_items": null,
            "left": null,
            "margin": null,
            "max_height": null,
            "max_width": null,
            "min_height": null,
            "min_width": null,
            "object_fit": null,
            "object_position": null,
            "order": null,
            "overflow": null,
            "overflow_x": null,
            "overflow_y": null,
            "padding": null,
            "right": null,
            "top": null,
            "visibility": null,
            "width": null
          }
        },
        "a973a7c753294c2995dc01541339055a": {
          "model_module": "@jupyter-widgets/base",
          "model_name": "LayoutModel",
          "model_module_version": "1.2.0",
          "state": {
            "_model_module": "@jupyter-widgets/base",
            "_model_module_version": "1.2.0",
            "_model_name": "LayoutModel",
            "_view_count": null,
            "_view_module": "@jupyter-widgets/base",
            "_view_module_version": "1.2.0",
            "_view_name": "LayoutView",
            "align_content": null,
            "align_items": null,
            "align_self": null,
            "border": null,
            "bottom": null,
            "display": null,
            "flex": null,
            "flex_flow": null,
            "grid_area": null,
            "grid_auto_columns": null,
            "grid_auto_flow": null,
            "grid_auto_rows": null,
            "grid_column": null,
            "grid_gap": null,
            "grid_row": null,
            "grid_template_areas": null,
            "grid_template_columns": null,
            "grid_template_rows": null,
            "height": "30px",
            "justify_content": null,
            "justify_items": null,
            "left": null,
            "margin": null,
            "max_height": null,
            "max_width": null,
            "min_height": null,
            "min_width": null,
            "object_fit": null,
            "object_position": null,
            "order": null,
            "overflow": null,
            "overflow_x": null,
            "overflow_y": null,
            "padding": null,
            "right": null,
            "top": null,
            "visibility": null,
            "width": "50px"
          }
        },
        "372635930fec41d38d046b66c1bf5b9a": {
          "model_module": "@jupyter-widgets/controls",
          "model_name": "ButtonStyleModel",
          "model_module_version": "1.5.0",
          "state": {
            "_model_module": "@jupyter-widgets/controls",
            "_model_module_version": "1.5.0",
            "_model_name": "ButtonStyleModel",
            "_view_count": null,
            "_view_module": "@jupyter-widgets/base",
            "_view_module_version": "1.2.0",
            "_view_name": "StyleView",
            "button_color": null,
            "font_weight": ""
          }
        },
        "4211d675c96c470dbf2d7b9be74bac07": {
          "model_module": "@jupyter-widgets/controls",
          "model_name": "ButtonStyleModel",
          "model_module_version": "1.5.0",
          "state": {
            "_model_module": "@jupyter-widgets/controls",
            "_model_module_version": "1.5.0",
            "_model_name": "ButtonStyleModel",
            "_view_count": null,
            "_view_module": "@jupyter-widgets/base",
            "_view_module_version": "1.2.0",
            "_view_name": "StyleView",
            "button_color": null,
            "font_weight": ""
          }
        },
        "ca34ec0efdcf4c80acce1c5b22fa042e": {
          "model_module": "@jupyter-widgets/controls",
          "model_name": "ButtonStyleModel",
          "model_module_version": "1.5.0",
          "state": {
            "_model_module": "@jupyter-widgets/controls",
            "_model_module_version": "1.5.0",
            "_model_name": "ButtonStyleModel",
            "_view_count": null,
            "_view_module": "@jupyter-widgets/base",
            "_view_module_version": "1.2.0",
            "_view_name": "StyleView",
            "button_color": null,
            "font_weight": ""
          }
        },
        "e502bb7a682f4e2da2451fa99cb32e17": {
          "model_module": "@jupyter-widgets/controls",
          "model_name": "HBoxModel",
          "model_module_version": "1.5.0",
          "state": {
            "_dom_classes": [],
            "_model_module": "@jupyter-widgets/controls",
            "_model_module_version": "1.5.0",
            "_model_name": "HBoxModel",
            "_view_count": null,
            "_view_module": "@jupyter-widgets/controls",
            "_view_module_version": "1.5.0",
            "_view_name": "HBoxView",
            "box_style": "",
            "children": [
              "IPY_MODEL_05b56cd805a444a28c26d5fe8977b16b",
              "IPY_MODEL_beccda87e0664955bf86a23ea57c5927"
            ],
            "layout": "IPY_MODEL_f6edea33209c4d96a5f6828d8f4677c6"
          }
        },
        "05b56cd805a444a28c26d5fe8977b16b": {
          "model_module": "@jupyter-widgets/controls",
          "model_name": "ImageModel",
          "model_module_version": "1.5.0",
          "state": {
            "_dom_classes": [],
            "_model_module": "@jupyter-widgets/controls",
            "_model_module_version": "1.5.0",
            "_model_name": "ImageModel",
            "_view_count": null,
            "_view_module": "@jupyter-widgets/controls",
            "_view_module_version": "1.5.0",
            "_view_name": "ImageView",
            "format": "png",
            "height": "600",
            "layout": "IPY_MODEL_64e24573bf0d41bf8290247e6f879835",
            "width": "700"
          }
        },
        "beccda87e0664955bf86a23ea57c5927": {
          "model_module": "@jupyter-widgets/controls",
          "model_name": "VBoxModel",
          "model_module_version": "1.5.0",
          "state": {
            "_dom_classes": [],
            "_model_module": "@jupyter-widgets/controls",
            "_model_module_version": "1.5.0",
            "_model_name": "VBoxModel",
            "_view_count": null,
            "_view_module": "@jupyter-widgets/controls",
            "_view_module_version": "1.5.0",
            "_view_name": "VBoxView",
            "box_style": "",
            "children": [
              "IPY_MODEL_8060e9bda7324c2eb623a195c849ed3a",
              "IPY_MODEL_42df68578b2c47b7892aa7599eb7abcf",
              "IPY_MODEL_1125abc057cf4a68b959b8f74b2ee2f2"
            ],
            "layout": "IPY_MODEL_ea6912c203a746ffbc7ac6c7c7c29ec9"
          }
        },
        "f6edea33209c4d96a5f6828d8f4677c6": {
          "model_module": "@jupyter-widgets/base",
          "model_name": "LayoutModel",
          "model_module_version": "1.2.0",
          "state": {
            "_model_module": "@jupyter-widgets/base",
            "_model_module_version": "1.2.0",
            "_model_name": "LayoutModel",
            "_view_count": null,
            "_view_module": "@jupyter-widgets/base",
            "_view_module_version": "1.2.0",
            "_view_name": "LayoutView",
            "align_content": null,
            "align_items": null,
            "align_self": null,
            "border": null,
            "bottom": null,
            "display": null,
            "flex": null,
            "flex_flow": null,
            "grid_area": null,
            "grid_auto_columns": null,
            "grid_auto_flow": null,
            "grid_auto_rows": null,
            "grid_column": null,
            "grid_gap": null,
            "grid_row": null,
            "grid_template_areas": null,
            "grid_template_columns": null,
            "grid_template_rows": null,
            "height": null,
            "justify_content": null,
            "justify_items": null,
            "left": null,
            "margin": null,
            "max_height": null,
            "max_width": null,
            "min_height": null,
            "min_width": null,
            "object_fit": null,
            "object_position": null,
            "order": null,
            "overflow": null,
            "overflow_x": null,
            "overflow_y": null,
            "padding": null,
            "right": null,
            "top": null,
            "visibility": null,
            "width": null
          }
        },
        "64e24573bf0d41bf8290247e6f879835": {
          "model_module": "@jupyter-widgets/base",
          "model_name": "LayoutModel",
          "model_module_version": "1.2.0",
          "state": {
            "_model_module": "@jupyter-widgets/base",
            "_model_module_version": "1.2.0",
            "_model_name": "LayoutModel",
            "_view_count": null,
            "_view_module": "@jupyter-widgets/base",
            "_view_module_version": "1.2.0",
            "_view_name": "LayoutView",
            "align_content": null,
            "align_items": null,
            "align_self": null,
            "border": null,
            "bottom": null,
            "display": null,
            "flex": null,
            "flex_flow": null,
            "grid_area": null,
            "grid_auto_columns": null,
            "grid_auto_flow": null,
            "grid_auto_rows": null,
            "grid_column": null,
            "grid_gap": null,
            "grid_row": null,
            "grid_template_areas": null,
            "grid_template_columns": null,
            "grid_template_rows": null,
            "height": null,
            "justify_content": null,
            "justify_items": null,
            "left": null,
            "margin": null,
            "max_height": null,
            "max_width": null,
            "min_height": null,
            "min_width": null,
            "object_fit": null,
            "object_position": null,
            "order": null,
            "overflow": null,
            "overflow_x": null,
            "overflow_y": null,
            "padding": null,
            "right": null,
            "top": null,
            "visibility": null,
            "width": null
          }
        },
        "8060e9bda7324c2eb623a195c849ed3a": {
          "model_module": "@jupyter-widgets/controls",
          "model_name": "ButtonModel",
          "model_module_version": "1.5.0",
          "state": {
            "_dom_classes": [],
            "_model_module": "@jupyter-widgets/controls",
            "_model_module_version": "1.5.0",
            "_model_name": "ButtonModel",
            "_view_count": null,
            "_view_module": "@jupyter-widgets/controls",
            "_view_module_version": "1.5.0",
            "_view_name": "ButtonView",
            "button_style": "",
            "description": "1",
            "disabled": false,
            "icon": "",
            "layout": "IPY_MODEL_9228a808cf304320aa16e9935777cb4b",
            "style": "IPY_MODEL_b3db6a70f4d046c496e053a4462a894c",
            "tooltip": ""
          }
        },
        "42df68578b2c47b7892aa7599eb7abcf": {
          "model_module": "@jupyter-widgets/controls",
          "model_name": "ButtonModel",
          "model_module_version": "1.5.0",
          "state": {
            "_dom_classes": [],
            "_model_module": "@jupyter-widgets/controls",
            "_model_module_version": "1.5.0",
            "_model_name": "ButtonModel",
            "_view_count": null,
            "_view_module": "@jupyter-widgets/controls",
            "_view_module_version": "1.5.0",
            "_view_name": "ButtonView",
            "button_style": "",
            "description": "2",
            "disabled": false,
            "icon": "",
            "layout": "IPY_MODEL_9228a808cf304320aa16e9935777cb4b",
            "style": "IPY_MODEL_6358f4d7149b4ab4b8b7f573e1dbb656",
            "tooltip": ""
          }
        },
        "1125abc057cf4a68b959b8f74b2ee2f2": {
          "model_module": "@jupyter-widgets/controls",
          "model_name": "ButtonModel",
          "model_module_version": "1.5.0",
          "state": {
            "_dom_classes": [],
            "_model_module": "@jupyter-widgets/controls",
            "_model_module_version": "1.5.0",
            "_model_name": "ButtonModel",
            "_view_count": null,
            "_view_module": "@jupyter-widgets/controls",
            "_view_module_version": "1.5.0",
            "_view_name": "ButtonView",
            "button_style": "",
            "description": "3",
            "disabled": false,
            "icon": "",
            "layout": "IPY_MODEL_9228a808cf304320aa16e9935777cb4b",
            "style": "IPY_MODEL_e0ddc82f6afd4d94922735c8b33ce702",
            "tooltip": ""
          }
        },
        "ea6912c203a746ffbc7ac6c7c7c29ec9": {
          "model_module": "@jupyter-widgets/base",
          "model_name": "LayoutModel",
          "model_module_version": "1.2.0",
          "state": {
            "_model_module": "@jupyter-widgets/base",
            "_model_module_version": "1.2.0",
            "_model_name": "LayoutModel",
            "_view_count": null,
            "_view_module": "@jupyter-widgets/base",
            "_view_module_version": "1.2.0",
            "_view_name": "LayoutView",
            "align_content": null,
            "align_items": null,
            "align_self": null,
            "border": null,
            "bottom": null,
            "display": null,
            "flex": null,
            "flex_flow": null,
            "grid_area": null,
            "grid_auto_columns": null,
            "grid_auto_flow": null,
            "grid_auto_rows": null,
            "grid_column": null,
            "grid_gap": null,
            "grid_row": null,
            "grid_template_areas": null,
            "grid_template_columns": null,
            "grid_template_rows": null,
            "height": null,
            "justify_content": null,
            "justify_items": null,
            "left": null,
            "margin": null,
            "max_height": null,
            "max_width": null,
            "min_height": null,
            "min_width": null,
            "object_fit": null,
            "object_position": null,
            "order": null,
            "overflow": null,
            "overflow_x": null,
            "overflow_y": null,
            "padding": null,
            "right": null,
            "top": null,
            "visibility": null,
            "width": null
          }
        },
        "9228a808cf304320aa16e9935777cb4b": {
          "model_module": "@jupyter-widgets/base",
          "model_name": "LayoutModel",
          "model_module_version": "1.2.0",
          "state": {
            "_model_module": "@jupyter-widgets/base",
            "_model_module_version": "1.2.0",
            "_model_name": "LayoutModel",
            "_view_count": null,
            "_view_module": "@jupyter-widgets/base",
            "_view_module_version": "1.2.0",
            "_view_name": "LayoutView",
            "align_content": null,
            "align_items": null,
            "align_self": null,
            "border": null,
            "bottom": null,
            "display": null,
            "flex": null,
            "flex_flow": null,
            "grid_area": null,
            "grid_auto_columns": null,
            "grid_auto_flow": null,
            "grid_auto_rows": null,
            "grid_column": null,
            "grid_gap": null,
            "grid_row": null,
            "grid_template_areas": null,
            "grid_template_columns": null,
            "grid_template_rows": null,
            "height": "30px",
            "justify_content": null,
            "justify_items": null,
            "left": null,
            "margin": null,
            "max_height": null,
            "max_width": null,
            "min_height": null,
            "min_width": null,
            "object_fit": null,
            "object_position": null,
            "order": null,
            "overflow": null,
            "overflow_x": null,
            "overflow_y": null,
            "padding": null,
            "right": null,
            "top": null,
            "visibility": null,
            "width": "50px"
          }
        },
        "b3db6a70f4d046c496e053a4462a894c": {
          "model_module": "@jupyter-widgets/controls",
          "model_name": "ButtonStyleModel",
          "model_module_version": "1.5.0",
          "state": {
            "_model_module": "@jupyter-widgets/controls",
            "_model_module_version": "1.5.0",
            "_model_name": "ButtonStyleModel",
            "_view_count": null,
            "_view_module": "@jupyter-widgets/base",
            "_view_module_version": "1.2.0",
            "_view_name": "StyleView",
            "button_color": null,
            "font_weight": ""
          }
        },
        "6358f4d7149b4ab4b8b7f573e1dbb656": {
          "model_module": "@jupyter-widgets/controls",
          "model_name": "ButtonStyleModel",
          "model_module_version": "1.5.0",
          "state": {
            "_model_module": "@jupyter-widgets/controls",
            "_model_module_version": "1.5.0",
            "_model_name": "ButtonStyleModel",
            "_view_count": null,
            "_view_module": "@jupyter-widgets/base",
            "_view_module_version": "1.2.0",
            "_view_name": "StyleView",
            "button_color": null,
            "font_weight": ""
          }
        },
        "e0ddc82f6afd4d94922735c8b33ce702": {
          "model_module": "@jupyter-widgets/controls",
          "model_name": "ButtonStyleModel",
          "model_module_version": "1.5.0",
          "state": {
            "_model_module": "@jupyter-widgets/controls",
            "_model_module_version": "1.5.0",
            "_model_name": "ButtonStyleModel",
            "_view_count": null,
            "_view_module": "@jupyter-widgets/base",
            "_view_module_version": "1.2.0",
            "_view_name": "StyleView",
            "button_color": null,
            "font_weight": ""
          }
        }
      }
    }
  },
  "cells": [
    {
      "cell_type": "markdown",
      "metadata": {
        "id": "view-in-github",
        "colab_type": "text"
      },
      "source": [
        "<a href=\"https://colab.research.google.com/github/Irhs1220/NLP_2024/blob/main/%EC%88%98%EC%97%85%20%EB%B3%B5%EC%8A%B5%20%ED%8C%8C%EC%9D%BC_md.ipynb\" target=\"_parent\"><img src=\"https://colab.research.google.com/assets/colab-badge.svg\" alt=\"Open In Colab\"/></a>"
      ]
    },
    {
      "cell_type": "markdown",
      "source": [
        "# 수업 복습 파일"
      ],
      "metadata": {
        "id": "VjUEonLioWVx"
      }
    },
    {
      "cell_type": "markdown",
      "source": [
        "### 0. 마크다운 랭귀지 사용법"
      ],
      "metadata": {
        "id": "BdSTiKTY2k7t"
      }
    },
    {
      "cell_type": "markdown",
      "source": [
        "# 😊😃☺️ **<font color = 'red'> 마크다운 랭귀지 </font>사용법**\n",
        "\n",
        "* ## 마크다운 랭귀지의 <font color = 'orange'> 더 많은 구문</font>을 보려면, [이곳을 클릭해주세요!](https://www.markdownguide.org/basic-syntax/)"
      ],
      "metadata": {
        "id": "xLp-dgfwrkqo"
      }
    },
    {
      "cell_type": "code",
      "source": [],
      "metadata": {
        "id": "X9HKbp8e2oOb"
      },
      "execution_count": null,
      "outputs": []
    },
    {
      "cell_type": "markdown",
      "source": [
        "# NLP_2024\n",
        "\n",
        "# 🐹😻 **파이썬 언어**\n",
        "\n",
        "## **콜랩**([콜랩 사이트 방문](https://colab.research.google.com/?utm_source=scs-index))과 **깃허브**([깃허브 사이트 방문](https://github.com/))를 이용한 **파이썬 배우기**\n",
        "\n",
        "### **1. 깃허브 가입하기** ([유튜브 강좌 방문하기](https://www.youtube.com/watch?v=c-NikCpec7U))\n",
        "### **2. 구글 콜라보레이터리 가입하기** (aka. Colab) ([유튜브 강좌 방문하기](https://www.youtube.com/watch?v=2X_EU18OeYM))\n",
        "\n",
        "### **3. 참고하기 좋은 레퍼런스**\n",
        "- Exercises 200 파이썬200제 by 장삼용. 정보문화사 2017\n",
        "- [Jump to Python](https://wikidocs.net/book/1)\n",
        "- [wikidocs for nltk](https://wikidocs.net/21667)\n",
        "\n",
        "### **4. 마크다운 랭귀지**\n",
        "* [Emoji](https://gist.github.com/rxaviers/7360908)\n",
        "* [Markdown syntax](https://www.markdownguide.org/basic-syntax/)\n",
        "\n",
        "### **5. 수업 자료**\n",
        "| # | 주제 | 중요 단어 |\n",
        "|:--:|:--:|:--:|\n",
        "| 1 | 마크다운 랭귀지💬 | 글자 크기, 글자 색, 점 표시, [구문](https://github.com/ms624atyale/NLP_2024/blob/main/0_MarkDown4README_md.ipynb)|\n",
        "| 2 | 코드 셀 생성하기⚡ | 코드 라인, 프로그램 실행법 |\n"
      ],
      "metadata": {
        "id": "NWBMJiQlxh8r"
      }
    },
    {
      "cell_type": "markdown",
      "source": [
        "### 1. 코드 셀 생성하기"
      ],
      "metadata": {
        "id": "hJDhdHXA2jEF"
      }
    },
    {
      "cell_type": "code",
      "source": [
        "a = 1 #a를 1에 할당한다. 파운드 사인을 표시한 부분부터 그 줄 끝까지는 설명글이 되어 코드라인이 되지 않는다."
      ],
      "metadata": {
        "id": "wy8gmKmL2iiB"
      },
      "execution_count": null,
      "outputs": []
    },
    {
      "cell_type": "code",
      "source": [
        "#@markdown 변수 a를 정의한다.\n",
        "\n",
        "a = 1"
      ],
      "metadata": {
        "id": "9yOjX83r20x_"
      },
      "execution_count": null,
      "outputs": []
    },
    {
      "cell_type": "code",
      "source": [
        "#@markdown 변수 b를 정의한다.\n",
        "\n",
        "b = 2"
      ],
      "metadata": {
        "id": "exRbvQ5H22Nt"
      },
      "execution_count": null,
      "outputs": []
    },
    {
      "cell_type": "code",
      "source": [
        "#@markdown print()는 함수를 가져다 쓸 때 사용. ()안에 함수 넣기, 변수 값은 가장 최근 업데이트 된 값으로 됨.\n",
        "\n",
        "a = 1\n",
        "a = 2\n",
        "a = 100\n",
        "print(a)"
      ],
      "metadata": {
        "id": "TOKpHsgm235D",
        "outputId": "05da9f57-aed0-4fe5-caa7-8665a100d331",
        "colab": {
          "base_uri": "https://localhost:8080/"
        }
      },
      "execution_count": null,
      "outputs": [
        {
          "output_type": "stream",
          "name": "stdout",
          "text": [
            "100\n"
          ]
        }
      ]
    },
    {
      "cell_type": "code",
      "source": [
        "#@markdown print()안에서 변수의 합이 결과로 도출됨\n",
        "\n",
        "a = 1\n",
        "b = 2\n",
        "print(a + b)"
      ],
      "metadata": {
        "id": "_Cse4BG726rv",
        "outputId": "5874f53b-942f-45db-e551-524ff6ae8a69",
        "colab": {
          "base_uri": "https://localhost:8080/"
        }
      },
      "execution_count": null,
      "outputs": [
        {
          "output_type": "stream",
          "name": "stdout",
          "text": [
            "3\n"
          ]
        }
      ]
    },
    {
      "cell_type": "code",
      "source": [
        "#@markdown print는 코딩에서 확인하다라는 뜻이 있음.\n",
        "\n",
        "c = 3\n",
        "print(c)"
      ],
      "metadata": {
        "id": "TWTXB9zf2-zR",
        "outputId": "b6038e3e-3b62-4e0e-cab7-fbae18effa11",
        "colab": {
          "base_uri": "https://localhost:8080/"
        }
      },
      "execution_count": null,
      "outputs": [
        {
          "output_type": "stream",
          "name": "stdout",
          "text": [
            "3\n"
          ]
        }
      ]
    },
    {
      "cell_type": "code",
      "source": [
        "#@markdown 먼저 있던거 적용되었으면 아래에 있는 것들에도 자동 적용\n",
        "\n",
        "print(c - b)"
      ],
      "metadata": {
        "id": "M4uSHPid3A6V",
        "outputId": "92c5cf8f-15ca-443f-c9fc-6c9f57d6e07e",
        "colab": {
          "base_uri": "https://localhost:8080/"
        }
      },
      "execution_count": null,
      "outputs": [
        {
          "output_type": "stream",
          "name": "stdout",
          "text": [
            "1\n"
          ]
        }
      ]
    },
    {
      "cell_type": "code",
      "source": [
        "#@markdown 변수값은 가장 최근 것\n",
        "\n",
        "a = 1000\n",
        "print(a + b)"
      ],
      "metadata": {
        "id": "WFCCQoK53Cwp",
        "outputId": "6d47a026-fa75-4f58-c45f-6be0a7e9d283",
        "colab": {
          "base_uri": "https://localhost:8080/"
        }
      },
      "execution_count": null,
      "outputs": [
        {
          "output_type": "stream",
          "name": "stdout",
          "text": [
            "1002\n"
          ]
        }
      ]
    },
    {
      "cell_type": "code",
      "source": [
        "#@markdown 언더바 쓰면 더 많은 변수 지정가능\n",
        "\n",
        "a_1 = 100\n",
        "a_2 = 1000000\n",
        "print(a_1 + a_2)"
      ],
      "metadata": {
        "id": "DpVP9yBL3ExC",
        "outputId": "159c115d-34d3-4b28-8fd5-5828605ff723",
        "colab": {
          "base_uri": "https://localhost:8080/"
        }
      },
      "execution_count": null,
      "outputs": [
        {
          "output_type": "stream",
          "name": "stdout",
          "text": [
            "1000100\n"
          ]
        }
      ]
    },
    {
      "cell_type": "code",
      "source": [
        "import keyword\n",
        "keyword.kwlist"
      ],
      "metadata": {
        "id": "12iWszGS3I2N",
        "outputId": "1351246e-b63f-48ee-f211-ae6662e61247",
        "colab": {
          "base_uri": "https://localhost:8080/"
        }
      },
      "execution_count": null,
      "outputs": [
        {
          "output_type": "execute_result",
          "data": {
            "text/plain": [
              "['False',\n",
              " 'None',\n",
              " 'True',\n",
              " 'and',\n",
              " 'as',\n",
              " 'assert',\n",
              " 'async',\n",
              " 'await',\n",
              " 'break',\n",
              " 'class',\n",
              " 'continue',\n",
              " 'def',\n",
              " 'del',\n",
              " 'elif',\n",
              " 'else',\n",
              " 'except',\n",
              " 'finally',\n",
              " 'for',\n",
              " 'from',\n",
              " 'global',\n",
              " 'if',\n",
              " 'import',\n",
              " 'in',\n",
              " 'is',\n",
              " 'lambda',\n",
              " 'nonlocal',\n",
              " 'not',\n",
              " 'or',\n",
              " 'pass',\n",
              " 'raise',\n",
              " 'return',\n",
              " 'try',\n",
              " 'while',\n",
              " 'with',\n",
              " 'yield']"
            ]
          },
          "metadata": {},
          "execution_count": 10
        }
      ]
    },
    {
      "cell_type": "markdown",
      "source": [
        "### 2. 데이터의 다섯 종류"
      ],
      "metadata": {
        "id": "aEhKaKVC3KIm"
      }
    },
    {
      "cell_type": "code",
      "source": [
        "#@markdown a값 할당\n",
        "\n",
        "a = 1\n",
        "print (a)"
      ],
      "metadata": {
        "id": "QpK1gW1e4nwX",
        "outputId": "5d4f8aeb-fd1c-4472-cf53-1af66c8902ce",
        "colab": {
          "base_uri": "https://localhost:8080/"
        }
      },
      "execution_count": null,
      "outputs": [
        {
          "output_type": "stream",
          "name": "stdout",
          "text": [
            "1\n"
          ]
        }
      ]
    },
    {
      "cell_type": "code",
      "source": [
        "#@markdown b값 할당\n",
        "\n",
        "b = 2\n",
        "print (b)"
      ],
      "metadata": {
        "id": "ByDAMZzr4pvv",
        "outputId": "1467e7cf-1365-4baf-a93c-fdfec41b8ce7",
        "colab": {
          "base_uri": "https://localhost:8080/"
        }
      },
      "execution_count": null,
      "outputs": [
        {
          "output_type": "stream",
          "name": "stdout",
          "text": [
            "2\n"
          ]
        }
      ]
    },
    {
      "cell_type": "code",
      "source": [
        "#@markdown a b 합값\n",
        "\n",
        "print (a + b)"
      ],
      "metadata": {
        "id": "BLwbzm-s4rdx",
        "outputId": "c5ce12f4-9cbc-474d-884c-27ff90abcc42",
        "colab": {
          "base_uri": "https://localhost:8080/"
        }
      },
      "execution_count": null,
      "outputs": [
        {
          "output_type": "stream",
          "name": "stdout",
          "text": [
            "3\n"
          ]
        }
      ]
    },
    {
      "cell_type": "code",
      "source": [
        "#@markdown a값 변경\n",
        "\n",
        "a = 100\n",
        "print (a + b)"
      ],
      "metadata": {
        "id": "IV2RNSzZ42A_",
        "outputId": "37f6edd0-44c1-4ed2-9b46-fb47b29e7c2e",
        "colab": {
          "base_uri": "https://localhost:8080/"
        }
      },
      "execution_count": null,
      "outputs": [
        {
          "output_type": "stream",
          "name": "stdout",
          "text": [
            "102\n"
          ]
        }
      ]
    },
    {
      "cell_type": "code",
      "source": [
        "#@markdown c값 할당\n",
        "\n",
        "c = \"I love Python\"\n",
        "print (c)"
      ],
      "metadata": {
        "id": "UGZvXFUg4-mj",
        "outputId": "1875272c-9868-4352-9bc6-4ba61b1ddac7",
        "colab": {
          "base_uri": "https://localhost:8080/"
        }
      },
      "execution_count": null,
      "outputs": [
        {
          "output_type": "stream",
          "name": "stdout",
          "text": [
            "I love Python\n"
          ]
        }
      ]
    },
    {
      "cell_type": "code",
      "source": [
        "#@markdown 이름 할당해보기, 언더스코어 할때는 숫자먼저 쓰면 안 됨.\n",
        "\n",
        "a = 'Lori'\n",
        "_b = 'Sam'\n",
        "a_b = 'Ken'\n",
        "c_d = 'Jen'\n",
        "\n",
        "print (a)\n",
        "print (_b)\n",
        "print (a_b)\n",
        "print (c_d)"
      ],
      "metadata": {
        "id": "haVAAr1L5ATV",
        "outputId": "97de9eba-e815-43e8-8dbe-a1a263aba1d6",
        "colab": {
          "base_uri": "https://localhost:8080/"
        }
      },
      "execution_count": null,
      "outputs": [
        {
          "output_type": "stream",
          "name": "stdout",
          "text": [
            "Lori\n",
            "Sam\n",
            "Ken\n",
            "Jen\n"
          ]
        }
      ]
    },
    {
      "cell_type": "code",
      "source": [
        "#@markdown 아래거랑 연계해서 컴퓨터는 직전 것 밖에 기억 못함. 줄만 바꿔도 출력값이 다름.\n",
        "\n",
        "a = 'Lori'\n",
        "print (a)\n",
        "a = 'Emma'\n",
        "print (a)"
      ],
      "metadata": {
        "id": "nFbFToKy5CA_",
        "outputId": "3b781bd6-008c-4292-b7c7-25f19c8f9fa2",
        "colab": {
          "base_uri": "https://localhost:8080/"
        }
      },
      "execution_count": null,
      "outputs": [
        {
          "output_type": "stream",
          "name": "stdout",
          "text": [
            "Lori\n",
            "Emma\n"
          ]
        }
      ]
    },
    {
      "cell_type": "code",
      "source": [
        "a = 'Lori'\n",
        "a = 'Emma'\n",
        "print (a)\n",
        "print (a)"
      ],
      "metadata": {
        "id": "AY7cX4iO5D-h",
        "outputId": "285a23cf-9019-4f26-a539-2048b4caeae7",
        "colab": {
          "base_uri": "https://localhost:8080/"
        }
      },
      "execution_count": null,
      "outputs": [
        {
          "output_type": "stream",
          "name": "stdout",
          "text": [
            "Emma\n",
            "Emma\n"
          ]
        }
      ]
    },
    {
      "cell_type": "code",
      "source": [
        "#@markdown d,e,f 리스트 할당\n",
        "\n",
        "d = [\"Mercury\", \"Venus\", \"Earth\", \"Mars\", \"Jupiter\", \"Saturn\", \"Uranus\", \"Neptune\"] #Names of planets\n",
        "e = [\"수성\", \"금성\", \"지구\", \"화성\", \"목성\", \"토성\", \"천황성\", \"혜왕성\"] #행성 이름\n",
        "f = [1,2,3,4,5,6,7,8,]\n",
        "\n",
        "print (d)\n",
        "print (e)\n",
        "print (f)"
      ],
      "metadata": {
        "id": "CZh7z9pn5H7J",
        "outputId": "1f7d3e8f-61b0-47f1-ff85-f086e1c21112",
        "colab": {
          "base_uri": "https://localhost:8080/"
        }
      },
      "execution_count": null,
      "outputs": [
        {
          "output_type": "stream",
          "name": "stdout",
          "text": [
            "['Mercury', 'Venus', 'Earth', 'Mars', 'Jupiter', 'Saturn', 'Uranus', 'Neptune']\n",
            "['수성', '금성', '지구', '화성', '목성', '토성', '천황성', '혜왕성']\n",
            "[1, 2, 3, 4, 5, 6, 7, 8]\n"
          ]
        }
      ]
    },
    {
      "cell_type": "code",
      "source": [
        "#@markdown g,h,i 리스트 할당\n",
        "\n",
        "g = (\"Mercury\", \"Venus\", \"Earth\", \"Mars\", \"Jupiter\", \"Saturn\", \"Uranus\", \"Neptune\") #Names of planets\n",
        "h = (\"수성\", \"금성\", \"지구\", \"화성\", \"목성\", \"토성\", \"천황성\", \"혜왕성\") #행성 이름\n",
        "i = (1,2,3,4,5,6,7,8,)\n",
        "\n",
        "print (g)\n",
        "print (h)\n",
        "print (i)"
      ],
      "metadata": {
        "id": "K9-735Dm5Kr9",
        "outputId": "48f38cc1-4d86-4953-f587-d51b84b140a4",
        "colab": {
          "base_uri": "https://localhost:8080/"
        }
      },
      "execution_count": null,
      "outputs": [
        {
          "output_type": "stream",
          "name": "stdout",
          "text": [
            "('Mercury', 'Venus', 'Earth', 'Mars', 'Jupiter', 'Saturn', 'Uranus', 'Neptune')\n",
            "('수성', '금성', '지구', '화성', '목성', '토성', '천황성', '혜왕성')\n",
            "(1, 2, 3, 4, 5, 6, 7, 8)\n"
          ]
        }
      ]
    },
    {
      "cell_type": "code",
      "source": [
        "#@markdown k랑 m 할당\n",
        "k = {'Mercury':'수성', 'Venus':'금성', 'Earth':'지구', 'Mars':'화성', 'Jupiter':'목성', 'Saturn':'토성', 'Uranus':'명왕성', 'Neptune':'해왕성'}\n",
        "m = {'Mercury 수성':1, 'Venus 금성':2, 'Earth 지구':3, 'Mars 화성':4, 'Jupiter 목성':5, 'Saturn 토성':6, 'Uranus 명왕성':7, 'Neptune 해왕성':8}\n",
        "\n",
        "print (k)\n",
        "print (m)"
      ],
      "metadata": {
        "id": "oXQctCqn5NPB",
        "outputId": "5f670675-cf17-4c25-81ae-fd9ea1062764",
        "colab": {
          "base_uri": "https://localhost:8080/"
        }
      },
      "execution_count": null,
      "outputs": [
        {
          "output_type": "stream",
          "name": "stdout",
          "text": [
            "{'Mercury': '수성', 'Venus': '금성', 'Earth': '지구', 'Mars': '화성', 'Jupiter': '목성', 'Saturn': '토성', 'Uranus': '명왕성', 'Neptune': '해왕성'}\n",
            "{'Mercury 수성': 1, 'Venus 금성': 2, 'Earth 지구': 3, 'Mars 화성': 4, 'Jupiter 목성': 5, 'Saturn 토성': 6, 'Uranus 명왕성': 7, 'Neptune 해왕성': 8}\n"
          ]
        }
      ]
    },
    {
      "cell_type": "code",
      "source": [
        "#@markdown 대괄호는 변수 중에서 지정해서 불러오기 가능\n",
        "dict = {'a':1, 'b':2, 'c':3}\n",
        "print (dict)\n",
        "print (dict['a'])\n",
        "print (dict['b'])\n",
        "print (dict['c'])"
      ],
      "metadata": {
        "id": "Opomhjve5PFM",
        "outputId": "a20ade1b-2d5c-4deb-d34b-661c84cf91ef",
        "colab": {
          "base_uri": "https://localhost:8080/"
        }
      },
      "execution_count": null,
      "outputs": [
        {
          "output_type": "stream",
          "name": "stdout",
          "text": [
            "{'a': 1, 'b': 2, 'c': 3}\n",
            "1\n",
            "2\n",
            "3\n"
          ]
        }
      ]
    },
    {
      "cell_type": "code",
      "source": [
        "#@markdown 변수값 재할당\n",
        "dict = {'a':1, 'b':2, 'c':3}\n",
        "print (dict)\n",
        "\n",
        "dict['a'] = 7\n",
        "print (dict)\n",
        "\n",
        "dict_data = {'c':10, 'b':20, 'a':30}\n",
        "print (dict_data)\n",
        "dict_data['a'] = 300\n",
        "print (dict_data)"
      ],
      "metadata": {
        "id": "ztS1BmGF5Q6Z",
        "outputId": "0d8d994a-9768-4c90-f046-55213839708a",
        "colab": {
          "base_uri": "https://localhost:8080/"
        }
      },
      "execution_count": null,
      "outputs": [
        {
          "output_type": "stream",
          "name": "stdout",
          "text": [
            "{'a': 1, 'b': 2, 'c': 3}\n",
            "{'a': 7, 'b': 2, 'c': 3}\n",
            "{'c': 10, 'b': 20, 'a': 30}\n",
            "{'c': 10, 'b': 20, 'a': 300}\n"
          ]
        }
      ]
    },
    {
      "cell_type": "markdown",
      "source": [
        "### 3. 인덱싱과 슬라이싱"
      ],
      "metadata": {
        "id": "orr0axaj5W3D"
      }
    },
    {
      "cell_type": "markdown",
      "source": [
        "- [:] 처음부터 전부다.\n",
        "- (5 미만) [1:5] 1에서부터 5미만까지 (5 미포함)\n",
        "- (5 미만) [:5] 처음부터 5미만까지 (5 미포함)\n",
        "- [5:] 5에서부터 끝까지 (5 포함)\n",
        "- (-3 미만) [:-3] 처음부터 -3까지\n",
        "- [-3:] -3부터 끝까지\n",
        "- [::2] 처음에서 하나씩 건너뛰면서 2부터 끝까지"
      ],
      "metadata": {
        "id": "gpHXYkeK5fhC"
      }
    },
    {
      "cell_type": "code",
      "source": [
        "#@markdown ['\\n']은 프린트할때 라인 한줄 띄우는 것, 아래 프린트는 슬라이스 기법중 하나\n",
        "str_data = 'I love python'\n",
        "list_data = ['apple', 'banana', 'grapes', 'mango']\n",
        "tuple_data = ('apple', 'banana', 'grapes', 'mango')\n",
        "\n",
        "print (str_data)\n",
        "print ('\\n')\n",
        "print (list_data)\n",
        "print ('\\n')\n",
        "print (tuple_data)\n",
        "\n",
        "print (str_data[0])\n",
        "print (str_data[1])\n",
        "print (str_data[2])\n",
        "print (str_data[3])\n",
        "print (str_data[4])\n",
        "print (str_data[5])\n",
        "print (str_data[6])\n",
        "print (str_data[7])\n",
        "print (str_data[8])\n",
        "print (str_data[9])\n",
        "print (str_data[10])\n",
        "print (str_data[11])\n",
        "print (str_data[12])"
      ],
      "metadata": {
        "id": "EykpV53M5ZNb",
        "outputId": "79fc261b-22af-4425-fde9-81ad5a527724",
        "colab": {
          "base_uri": "https://localhost:8080/"
        }
      },
      "execution_count": null,
      "outputs": [
        {
          "output_type": "stream",
          "name": "stdout",
          "text": [
            "I love python\n",
            "\n",
            "\n",
            "['apple', 'banana', 'grapes', 'mango']\n",
            "\n",
            "\n",
            "('apple', 'banana', 'grapes', 'mango')\n",
            "I\n",
            " \n",
            "l\n",
            "o\n",
            "v\n",
            "e\n",
            " \n",
            "p\n",
            "y\n",
            "t\n",
            "h\n",
            "o\n",
            "n\n"
          ]
        }
      ]
    },
    {
      "cell_type": "code",
      "source": [
        "str = 'temperature'\n",
        "print (str)\n",
        "\n",
        "print (str[4])\n",
        "print (str[1])\n",
        "print (str[6])\n",
        "print (str[9])"
      ],
      "metadata": {
        "id": "-z53k2r656YY",
        "outputId": "c026dad6-f6be-4df9-d86c-fa04b68be705",
        "colab": {
          "base_uri": "https://localhost:8080/"
        }
      },
      "execution_count": null,
      "outputs": [
        {
          "output_type": "stream",
          "name": "stdout",
          "text": [
            "temperature\n",
            "e\n",
            "e\n",
            "a\n",
            "r\n"
          ]
        }
      ]
    },
    {
      "cell_type": "code",
      "source": [
        "str = 'I love Python?'\n",
        "print (str)\n",
        "\n",
        "print (str[-1])\n",
        "print (str[-2])\n",
        "print (str[-3])\n",
        "print (str[-4])\n",
        "print (str[-5])\n",
        "print (str[-6])\n",
        "print (str[-7])\n",
        "print (str[-8])\n",
        "print (str[-9])\n",
        "print (str[-10])\n",
        "print (str[-11])\n",
        "print (str[-12])\n",
        "print (str[-13])\n",
        "print (str[-14])"
      ],
      "metadata": {
        "id": "3yATxbSB58ra",
        "outputId": "84edc8b7-4dd4-4f5d-9c9b-3a934aa6f5ee",
        "colab": {
          "base_uri": "https://localhost:8080/"
        }
      },
      "execution_count": null,
      "outputs": [
        {
          "output_type": "stream",
          "name": "stdout",
          "text": [
            "I love Python?\n",
            "?\n",
            "n\n",
            "o\n",
            "h\n",
            "t\n",
            "y\n",
            "P\n",
            " \n",
            "e\n",
            "v\n",
            "o\n",
            "l\n",
            " \n",
            "I\n"
          ]
        }
      ]
    },
    {
      "cell_type": "code",
      "source": [
        "str = 'Time is money!!'\n",
        "\n",
        "print (str[1])\n",
        "print (str[2])\n",
        "print (str[5])\n",
        "print (str[6])\n",
        "print (str[8])"
      ],
      "metadata": {
        "id": "nwgUIIXJ5_Up",
        "outputId": "ae824a06-6beb-4b06-f0c5-204cb9d3237d",
        "colab": {
          "base_uri": "https://localhost:8080/"
        }
      },
      "execution_count": null,
      "outputs": [
        {
          "output_type": "stream",
          "name": "stdout",
          "text": [
            "i\n",
            "m\n",
            "i\n",
            "s\n",
            "m\n"
          ]
        }
      ]
    },
    {
      "cell_type": "code",
      "source": [
        "#@markdown \"\"\" \"(큰 따옴표 1쌍과 앞에 붙는 2개는 인용구)\n",
        "str = \"\"\"She said, \"Time is money!!\"\n",
        "\"\"\"\n",
        "\n",
        "print (str)\n",
        "print (str[0])"
      ],
      "metadata": {
        "id": "KjcTGBXN6BNp",
        "outputId": "2156619f-bba2-4f6f-def8-9f6183cbe940",
        "colab": {
          "base_uri": "https://localhost:8080/"
        }
      },
      "execution_count": null,
      "outputs": [
        {
          "output_type": "stream",
          "name": "stdout",
          "text": [
            "She said, \"Time is money!!\"\n",
            "\n",
            "S\n"
          ]
        }
      ]
    },
    {
      "cell_type": "code",
      "source": [
        "#@markdown \"(큰따옴표 1쌍은 소유격, 단어축약)\n",
        "str = \"I've had two bananas. I think taht it is Sarah's.\"\n",
        "\n",
        "print (str)"
      ],
      "metadata": {
        "id": "014O7fyP6C-k",
        "outputId": "54cf85b3-c470-4485-f74c-f34bab7763cd",
        "colab": {
          "base_uri": "https://localhost:8080/"
        }
      },
      "execution_count": null,
      "outputs": [
        {
          "output_type": "stream",
          "name": "stdout",
          "text": [
            "I've had two bananas. I think taht it is Sarah's.\n"
          ]
        }
      ]
    },
    {
      "cell_type": "code",
      "source": [
        "#@markdown '(작은 따옴표 1쌍은 축약 등을 할때 입력 오류나옴)\n",
        "str = 'I've had two bananas. I think it is Sarah's.'\n",
        "\n",
        "print (str)"
      ],
      "metadata": {
        "id": "WlCrNkoX6F3i",
        "outputId": "6ed51ebb-970c-4a6e-ff40-35845e6b42ff",
        "colab": {
          "base_uri": "https://localhost:8080/",
          "height": 106
        }
      },
      "execution_count": null,
      "outputs": [
        {
          "output_type": "error",
          "ename": "SyntaxError",
          "evalue": "invalid syntax (<ipython-input-32-cd783afc536f>, line 2)",
          "traceback": [
            "\u001b[0;36m  File \u001b[0;32m\"<ipython-input-32-cd783afc536f>\"\u001b[0;36m, line \u001b[0;32m2\u001b[0m\n\u001b[0;31m    str = 'I've had two bananas. I think it is Sarah's.'\u001b[0m\n\u001b[0m             ^\u001b[0m\n\u001b[0;31mSyntaxError\u001b[0m\u001b[0;31m:\u001b[0m invalid syntax\n"
          ]
        }
      ]
    },
    {
      "cell_type": "code",
      "source": [
        "#@markdown '[]' (대괄호로 묶으면 하나로 취급, 그 묶음 중 하나를 뽑아내고 싶으면 대괄호 한 번 더 쓰고 번호 입력)\n",
        "list = [1,2, [3,4,5]]\n",
        "\n",
        "print (list[0])\n",
        "print (list[1])\n",
        "print (list[-1])\n",
        "print ('\\n')\n",
        "\n",
        "print (list[2][1])\n",
        "print (list[-1][-2])"
      ],
      "metadata": {
        "id": "FHjwq7ri6IZE",
        "outputId": "e56b6b6f-7a03-4a3d-fbc7-90bf2b54aeee",
        "colab": {
          "base_uri": "https://localhost:8080/"
        }
      },
      "execution_count": null,
      "outputs": [
        {
          "output_type": "stream",
          "name": "stdout",
          "text": [
            "1\n",
            "2\n",
            "[3, 4, 5]\n",
            "\n",
            "\n",
            "4\n",
            "4\n"
          ]
        }
      ]
    },
    {
      "cell_type": "code",
      "source": [
        "#@markdown 재수정 하는 법\n",
        "\n",
        "list = ['apple', 'banana', 'grapes', 'mango']\n",
        "print (list)\n",
        "\n",
        "list[0] ='shine musket'\n",
        "print (list)"
      ],
      "metadata": {
        "id": "cGOKjHGB6L8J",
        "outputId": "3a55f98c-3409-4557-a447-e7568fdff3c5",
        "colab": {
          "base_uri": "https://localhost:8080/"
        }
      },
      "execution_count": null,
      "outputs": [
        {
          "output_type": "stream",
          "name": "stdout",
          "text": [
            "['apple', 'banana', 'grapes', 'mango']\n",
            "['shine musket', 'banana', 'grapes', 'mango']\n"
          ]
        }
      ]
    },
    {
      "cell_type": "code",
      "source": [
        "#@markdown 튜플데이터는 수정 안 됨\n",
        "\n",
        "tuple = ('apple', 'banana', 'grapes', 'mango')\n",
        "tuple[0] = 'shine musket'\n",
        "print (tuple)"
      ],
      "metadata": {
        "id": "iBIZy9Zx6NuX",
        "outputId": "bb1d21b5-7e80-44e4-b916-23f4576aa3c9",
        "colab": {
          "base_uri": "https://localhost:8080/",
          "height": 193
        }
      },
      "execution_count": null,
      "outputs": [
        {
          "output_type": "error",
          "ename": "TypeError",
          "evalue": "'tuple' object does not support item assignment",
          "traceback": [
            "\u001b[0;31m---------------------------------------------------------------------------\u001b[0m",
            "\u001b[0;31mTypeError\u001b[0m                                 Traceback (most recent call last)",
            "\u001b[0;32m<ipython-input-35-d9aae7e46ccd>\u001b[0m in \u001b[0;36m<cell line: 4>\u001b[0;34m()\u001b[0m\n\u001b[1;32m      2\u001b[0m \u001b[0;34m\u001b[0m\u001b[0m\n\u001b[1;32m      3\u001b[0m \u001b[0mtuple\u001b[0m \u001b[0;34m=\u001b[0m \u001b[0;34m(\u001b[0m\u001b[0;34m'apple'\u001b[0m\u001b[0;34m,\u001b[0m \u001b[0;34m'banana'\u001b[0m\u001b[0;34m,\u001b[0m \u001b[0;34m'grapes'\u001b[0m\u001b[0;34m,\u001b[0m \u001b[0;34m'mango'\u001b[0m\u001b[0;34m)\u001b[0m\u001b[0;34m\u001b[0m\u001b[0;34m\u001b[0m\u001b[0m\n\u001b[0;32m----> 4\u001b[0;31m \u001b[0mtuple\u001b[0m\u001b[0;34m[\u001b[0m\u001b[0;36m0\u001b[0m\u001b[0;34m]\u001b[0m \u001b[0;34m=\u001b[0m \u001b[0;34m'shine musket'\u001b[0m\u001b[0;34m\u001b[0m\u001b[0;34m\u001b[0m\u001b[0m\n\u001b[0m\u001b[1;32m      5\u001b[0m \u001b[0mprint\u001b[0m \u001b[0;34m(\u001b[0m\u001b[0mtuple\u001b[0m\u001b[0;34m)\u001b[0m\u001b[0;34m\u001b[0m\u001b[0;34m\u001b[0m\u001b[0m\n",
            "\u001b[0;31mTypeError\u001b[0m: 'tuple' object does not support item assignment"
          ]
        }
      ]
    },
    {
      "cell_type": "code",
      "source": [
        "#@markdown 슬라이스 기법 (범위 설정하는 법은 위에 있음)\n",
        "\n",
        "str = 'Time is money!!'\n",
        "print (str[1:5])\n",
        "print (str[:7])\n",
        "print (str[9:])\n",
        "print (str[-3:])\n",
        "print (str[:])\n",
        "print (str[::2])"
      ],
      "metadata": {
        "id": "wYsQLU8B6PjH",
        "outputId": "5ff9ea65-914f-4a2f-f77b-cb0600541c97",
        "colab": {
          "base_uri": "https://localhost:8080/"
        }
      },
      "execution_count": null,
      "outputs": [
        {
          "output_type": "stream",
          "name": "stdout",
          "text": [
            "ime \n",
            "Time is\n",
            "oney!!\n",
            "y!!\n",
            "Time is money!!\n",
            "Tm smny!\n"
          ]
        }
      ]
    },
    {
      "cell_type": "code",
      "source": [
        "#@markdown ;(는 한 줄에 나열할 수 있게 해줌) / 붙여 쓸 때 띄어쓰기 하는 법은 앞에 묶음 뒤에 공란을 만들거나 뒤에도 공란을 만들거나 한다. 또는 공란 묶음을 만들면 된다.\n",
        "\n",
        "str1 = 'I love' ; str2 = 'Python'\n",
        "print (str1 + str2)\n",
        "str1 = 'I love ' ; str2 = 'Python'\n",
        "print (str1 + str2)\n",
        "str1 = 'I love' ; str2 = ' Python'\n",
        "print (str1 + str2)\n",
        "str1 = 'I love' ; str0 = ' ' ;str2 = 'Python'\n",
        "print (str1 + str0 + str2)\n"
      ],
      "metadata": {
        "id": "3po9L3BK6Qjh"
      },
      "execution_count": null,
      "outputs": []
    },
    {
      "cell_type": "code",
      "source": [
        "#@markdown * 에스터리스크는 반복(곱하기 효과)\n",
        "\n",
        "subjet = 'BTS' ; verb = 'sings' ; object = 'butter'\n",
        "sentence = subjet + verb + object * 5\n",
        "print (sentence)\n",
        "\n"
      ],
      "metadata": {
        "id": "fg8E35r-6UGz",
        "outputId": "b2f8a3cc-0f5d-4c08-f34d-5caa85669e3e",
        "colab": {
          "base_uri": "https://localhost:8080/"
        }
      },
      "execution_count": null,
      "outputs": [
        {
          "output_type": "stream",
          "name": "stdout",
          "text": [
            "BTSsingsbutterbutterbutterbutterbutter\n"
          ]
        }
      ]
    },
    {
      "cell_type": "code",
      "source": [
        "#@markdown len은 길이 함수(글자 개수 확인)\n",
        "\n",
        "str = 'I love Python!'\n",
        "print (len(str))"
      ],
      "metadata": {
        "id": "wcNE2cIP6Wsh",
        "outputId": "62fd7d4e-ed3c-46ad-9cbf-244ddf1b161a",
        "colab": {
          "base_uri": "https://localhost:8080/"
        }
      },
      "execution_count": null,
      "outputs": [
        {
          "output_type": "stream",
          "name": "stdout",
          "text": [
            "14\n"
          ]
        }
      ]
    },
    {
      "cell_type": "code",
      "source": [
        "#@markdown 시퀀스 자료 크기 이해하기 (len)\n",
        "\n",
        "str_data = 'I love Python'\n",
        "print(len(str_data))"
      ],
      "metadata": {
        "id": "HUqQ_KjR6bnG",
        "outputId": "09cf41ca-f84c-44f3-df9d-c19e2c6d5a39",
        "colab": {
          "base_uri": "https://localhost:8080/"
        }
      },
      "execution_count": null,
      "outputs": [
        {
          "output_type": "stream",
          "name": "stdout",
          "text": [
            "13\n"
          ]
        }
      ]
    },
    {
      "cell_type": "markdown",
      "source": [
        "### 5. 레귤러 익스프레션"
      ],
      "metadata": {
        "id": "U6bVpFWF6f51"
      }
    },
    {
      "cell_type": "markdown",
      "source": [
        "##### 라인이나 줄바꿈 같은 거 할 때 사용 역 슬래쉬는 한글자판에 없어서 \\씀"
      ],
      "metadata": {
        "id": "1fumZAar6qua"
      }
    },
    {
      "cell_type": "markdown",
      "source": [
        "|Symbol | Meaning|\n",
        "|--|--|\n",
        "|. | 한 개의 임의의 문자 (줄바꿈 문자인 \\n는 제외)|\n",
        "|? | 앞의 문자가 존재할 수도 있고, 존재하지 않을 수도 있음 (문자가 0개 또는 1개)|\n",
        "|* | 앞의 문자가 무한개로 존재할 수도 있고, 존재하지 않을 수도 있음 (문자가 0개 이상)|\n",
        "|+ | 앞의 문자가 최소 한 개 이상 존재 (문자가 1개 이상)|\n",
        "|^ | 뒤의 문자열로 문자열이 시작|\n",
        "|$ | 앞의 문자열로 문자열이 끝남|\n"
      ],
      "metadata": {
        "id": "An5Nck8w6646"
      }
    },
    {
      "cell_type": "code",
      "source": [
        "#@markdown \\n은 한 줄 띄우기\n",
        "\n",
        "a = ('bananas', 'cars', 'notebooks', 'umbrellas')\n",
        "print (a)\n",
        "print ('\\n')\n",
        "b = ('banana', 'car', 'notebook', 'umbrella')\n",
        "print (b)"
      ],
      "metadata": {
        "id": "RhYEMBAK6kL0",
        "outputId": "4e2d3c0d-ab4b-4d4d-e8cc-4a5607cd3bbc",
        "colab": {
          "base_uri": "https://localhost:8080/"
        }
      },
      "execution_count": null,
      "outputs": [
        {
          "output_type": "stream",
          "name": "stdout",
          "text": [
            "('bananas', 'cars', 'notebooks', 'umbrellas')\n",
            "\n",
            "\n",
            "('banana', 'car', 'notebook', 'umbrella')\n"
          ]
        }
      ]
    },
    {
      "cell_type": "code",
      "source": [
        "#1. 메타 캐릭터 (.)점 import re는 레귤러 익스프레션을 시작할 때 필수\n",
        "\n",
        "import re\n",
        "\n",
        "text = \"cat, har, bat, sat, mat, combat, unbated\"\n",
        "patten = r\".at\"\n",
        "\n",
        "matches = re.findall(patten, text) # 패턴에 해당하는 것을 텍스트에서 찾아 매치해라 라는 명령어\n",
        "\n",
        "for match in matches:\n",
        "  print (\"Match:\", match)\n",
        "  # 한개한개 찾은거 다 매치해달라는 명령어, 스테이츠먼트가 끝날 때 :은 필수"
      ],
      "metadata": {
        "id": "J9Cq_ft96m7-",
        "outputId": "53a827b1-03d2-40cd-e074-c1a54a596798",
        "colab": {
          "base_uri": "https://localhost:8080/"
        }
      },
      "execution_count": null,
      "outputs": [
        {
          "output_type": "stream",
          "name": "stdout",
          "text": [
            "Match: cat\n",
            "Match: bat\n",
            "Match: sat\n",
            "Match: mat\n",
            "Match: bat\n",
            "Match: bat\n"
          ]
        }
      ]
    },
    {
      "cell_type": "code",
      "source": [
        "import re\n",
        "\n",
        "text = \"cat, har, bat, sat, mat, combat, unbated\"\n",
        "patten = r\".at\"\n",
        "\n",
        "matches = re.findall(patten, text)\n",
        "\n",
        "for match in matches:\n",
        "  print (\"Match:\", match)\n",
        "\n",
        "  # 위 :의 아래의 것들은 들여쓰기가 됨. = 위에 속하는 형태 들여쓰기를 지워서 오류가 났을때는 탭으로 다시 들여써주면 됨."
      ],
      "metadata": {
        "id": "_b3D3haA6_a-",
        "outputId": "82a7449b-337f-4ba0-f3a2-aa11c67d5c71",
        "colab": {
          "base_uri": "https://localhost:8080/"
        }
      },
      "execution_count": null,
      "outputs": [
        {
          "output_type": "stream",
          "name": "stdout",
          "text": [
            "Match: cat\n",
            "Match: bat\n",
            "Match: sat\n",
            "Match: mat\n",
            "Match: bat\n",
            "Match: bat\n"
          ]
        }
      ]
    },
    {
      "cell_type": "code",
      "source": [
        "import re\n",
        "\n",
        "text = \"cat, hat, bat, sat, mat, combat, unbated\" # 문자열\n",
        "p = r\".at\" # at앞의 점은 어떤 문자든 하나 표시해줌\n",
        "\n",
        "matches = re.findall(p, text)\n",
        "\n",
        "for i in matches:\n",
        "  print (i)\n"
      ],
      "metadata": {
        "colab": {
          "base_uri": "https://localhost:8080/"
        },
        "id": "75cn6uteBFW7",
        "outputId": "e445e6fb-91c4-42eb-bc7b-c8e3fec20b46"
      },
      "execution_count": null,
      "outputs": [
        {
          "output_type": "stream",
          "name": "stdout",
          "text": [
            "cat\n",
            "hat\n",
            "bat\n",
            "sat\n",
            "mat\n",
            "bat\n",
            "bat\n"
          ]
        }
      ]
    },
    {
      "cell_type": "code",
      "source": [
        "text2 = [\"cat\", \"hat\", \"bat\", \"sat\", \"mat\", \"combat\", \"unbated\"] # 리스트열은 오류남\n",
        "p = r\".at\"\n",
        "matches = re.findall(p, text2)\n",
        "\n",
        "for i in matches:\n",
        "  print (i)"
      ],
      "metadata": {
        "id": "FS4v4Hq5BKNg"
      },
      "execution_count": null,
      "outputs": []
    },
    {
      "cell_type": "code",
      "source": [
        "text2 = \"cat, hat, bat, sat, mat, combat, unbated\" # 문자열로 바꾸면 실행됨.\n",
        "p = r\".at\"\n",
        "matches = re.findall(p, text2)\n",
        "\n",
        "for i in matches:\n",
        "  print (i)"
      ],
      "metadata": {
        "colab": {
          "base_uri": "https://localhost:8080/"
        },
        "id": "WOisDFqaBPWw",
        "outputId": "8bc2da36-6d9a-45fb-c34d-261108569b31"
      },
      "execution_count": null,
      "outputs": [
        {
          "output_type": "stream",
          "name": "stdout",
          "text": [
            "cat\n",
            "hat\n",
            "bat\n",
            "sat\n",
            "mat\n",
            "bat\n",
            "bat\n"
          ]
        }
      ]
    },
    {
      "cell_type": "code",
      "source": [
        "text3 = \"at, cat, at,at, hat, bat, sat, mat, combat, unbated\" # 공란이나 심볼들도 결과값으로 나옴\n",
        "p = r\".at\"\n",
        "\n",
        "matches = re.findall(p, text3)\n",
        "\n",
        "print (matches) # 포 스테이츠먼트를 쓰지 않으면 리스트 형식으로 결과값이 나옴.\n",
        "\n",
        "for i in matches:\n",
        "  print (i) # 포 스테이츠먼트를 쓰면 세로로 결과값이 나옴.\n",
        "\n",
        "for i in matches:\n",
        "  print (\"Matches:\", i) # Matches는 표시용"
      ],
      "metadata": {
        "colab": {
          "base_uri": "https://localhost:8080/"
        },
        "id": "YeSekhYIBRgF",
        "outputId": "a946de40-5309-494c-f7c0-19beae6f1554"
      },
      "execution_count": null,
      "outputs": [
        {
          "output_type": "stream",
          "name": "stdout",
          "text": [
            "['cat', ' at', ',at', 'hat', 'bat', 'sat', 'mat', 'bat', 'bat']\n",
            "cat\n",
            " at\n",
            ",at\n",
            "hat\n",
            "bat\n",
            "sat\n",
            "mat\n",
            "bat\n",
            "bat\n",
            "Matches: cat\n",
            "Matches:  at\n",
            "Matches: ,at\n",
            "Matches: hat\n",
            "Matches: bat\n",
            "Matches: sat\n",
            "Matches: mat\n",
            "Matches: bat\n",
            "Matches: bat\n"
          ]
        }
      ]
    },
    {
      "cell_type": "code",
      "source": [
        "#2. 물음표 ? (뜻: ?는 ?의 앞에 나오는 문자 / 요소 0번 혹은 1번 나타날 수 있음) 예시\n",
        "\n",
        "import re\n",
        "text = \"color, colour, or coloer?\"\n",
        "p = r\"colou?r\"\n",
        "\n",
        "matches = re.findall(p, text)\n",
        "for i in matches:\n",
        "  print (\"Match:\", i)"
      ],
      "metadata": {
        "colab": {
          "base_uri": "https://localhost:8080/"
        },
        "id": "d2QDkEu7BS5Z",
        "outputId": "804d1f22-6b55-4e93-85bb-386b010105cc"
      },
      "execution_count": null,
      "outputs": [
        {
          "output_type": "stream",
          "name": "stdout",
          "text": [
            "Match: color\n",
            "Match: colour\n"
          ]
        }
      ]
    },
    {
      "cell_type": "code",
      "source": [
        "# * 에스터리스크 (*는 *의 앞의 문자/요소가 0회 이상 나타날 수 있음)\n",
        "\n",
        "import re\n",
        "text = \"ab, ac, abc, abbc, aabbc, abbbbbbbbbbbbbbbbbbbc, abkc\"\n",
        "pattens = r\"ab*c\" # a와 c사이의 b가 무한대(0회 이상)로 나오는 함수열을 찾아라는 뜻\n",
        "\n",
        "matched = re.findall(pattens, text)\n",
        "\n",
        "for i in matches:\n",
        "  print (\"Match:\", i)"
      ],
      "metadata": {
        "id": "E_LZQxuiBV4t"
      },
      "execution_count": null,
      "outputs": []
    },
    {
      "cell_type": "code",
      "source": [
        "import re\n",
        "text = \"cat, caat, caaat, caot, sat, set\"\n",
        "p = r\"ca*t\"\n",
        "\n",
        "matched = re.findall(p, text)\n",
        "\n",
        "for i in matches:\n",
        "  print (\"Match:\", i)"
      ],
      "metadata": {
        "id": "R-5rRME4BYIV"
      },
      "execution_count": null,
      "outputs": []
    },
    {
      "cell_type": "code",
      "source": [
        "import re\n",
        "\n",
        "text = \"cat, caat, caaat, sat, set\"\n",
        "pattern = r\"a+t\"  # a가 1회 이상 반복되어야 함\n",
        "\n",
        "matches = re.findall(pattern, text)\n",
        "\n",
        "for i in matches:\n",
        "    print(\"Match:\", i)"
      ],
      "metadata": {
        "colab": {
          "base_uri": "https://localhost:8080/"
        },
        "id": "Z0t7LTgnBePS",
        "outputId": "7dae7041-d54a-49f6-86ef-fdf9a5b69c2d"
      },
      "execution_count": null,
      "outputs": [
        {
          "output_type": "stream",
          "name": "stdout",
          "text": [
            "Match: at\n",
            "Match: aat\n",
            "Match: aaat\n",
            "Match: at\n"
          ]
        }
      ]
    },
    {
      "cell_type": "code",
      "source": [
        "import re\n",
        "text = \"Python is a popular programming language. Python is versatile.\"\n",
        "pattens = r\"a*t\"\n",
        "\n",
        "matches = re.findall(pattens, text)\n",
        "\n",
        "for i in matches:\n",
        "  print(\"Match:\", i)"
      ],
      "metadata": {
        "colab": {
          "base_uri": "https://localhost:8080/"
        },
        "id": "clWCC7kMBhEp",
        "outputId": "5dbd0100-4aed-406a-a39e-be5416052ff0"
      },
      "execution_count": null,
      "outputs": [
        {
          "output_type": "stream",
          "name": "stdout",
          "text": [
            "Match: t\n",
            "Match: t\n",
            "Match: at\n"
          ]
        }
      ]
    },
    {
      "cell_type": "code",
      "source": [
        "# $ 달러심볼 ($는 문자열의 끝을 나타내는 매타 문자, 즉, 해당 패턴이 문자열의 끝 부분과 일치해야 함.)\n",
        "\n",
        "import re\n",
        "text = \"Python is a popular and versatile programming language. Python is versatile. Python is versatile.\"\n",
        "pattens = r\"versatile.$\"\n",
        "\n",
        "matches = re.findall(pattens, text)\n",
        "\n",
        "for i in matches:\n",
        "  print(\"Match:\", i)"
      ],
      "metadata": {
        "colab": {
          "base_uri": "https://localhost:8080/"
        },
        "id": "ZTpaLb_wBjr0",
        "outputId": "cf045bcc-6fc3-4abc-e62c-f131b0e050be"
      },
      "execution_count": null,
      "outputs": [
        {
          "output_type": "stream",
          "name": "stdout",
          "text": [
            "Match: versatile.\n"
          ]
        }
      ]
    },
    {
      "cell_type": "code",
      "source": [
        "text = \"Python is a popular and versatile programming language. Python is versatile.\"\n",
        "pattens = r\"e.$\" # 온점 빼면 끝 문자열과 일치하지 않아서 결과가 뜨지 않음\n",
        "\n",
        "matches = re.findall(pattens, text)\n",
        "\n",
        "for i in matches:\n",
        "  print(\"Match:\", i)"
      ],
      "metadata": {
        "colab": {
          "base_uri": "https://localhost:8080/"
        },
        "id": "-21VIlkxBnh3",
        "outputId": "b4239b4d-92bb-454f-c808-4e02bc7ccccc"
      },
      "execution_count": null,
      "outputs": [
        {
          "output_type": "stream",
          "name": "stdout",
          "text": [
            "Match: e.\n"
          ]
        }
      ]
    },
    {
      "cell_type": "code",
      "source": [
        "import re\n",
        "text = \"Python is a popular and versatile programming language. Python is versatile.\"\n",
        "pattens = r\"language.$\" # 텍스트 중간의 온점도 결과값으로 나오지 않음. 문장 끝이 아니기 때문\n",
        "\n",
        "matches = re.findall(pattens, text)\n",
        "\n",
        "for i in matches:\n",
        "  print(\"Match:\", i)"
      ],
      "metadata": {
        "id": "zlHnK8CZBp5h"
      },
      "execution_count": null,
      "outputs": []
    },
    {
      "cell_type": "code",
      "source": [
        "# ^ 삿갓 (^ 삿갓은 패턴의 시작 부분을 나타냄)\n",
        "\n",
        "import re\n",
        "text = \"Python is a programming language. Python is versatile. We all love Python.\"\n",
        "pattens = r\"^Python\"\n",
        "\n",
        "matches = re.findall(pattens, text)\n",
        "\n",
        "for i in matches:\n",
        "  print(\"Match:\", i)"
      ],
      "metadata": {
        "colab": {
          "base_uri": "https://localhost:8080/"
        },
        "id": "xkZySPRQBq3F",
        "outputId": "d49a8bfb-5e0c-44fa-b669-211c837f0f5a"
      },
      "execution_count": null,
      "outputs": [
        {
          "output_type": "stream",
          "name": "stdout",
          "text": [
            "Match: Python\n"
          ]
        }
      ]
    },
    {
      "cell_type": "code",
      "source": [
        "import re\n",
        "text = \"Python is a programming language. Python is versatile. We all love Python.\"\n",
        "patten = r\"^is\"\n",
        "\n",
        "matches = re.findall(patten, text)\n",
        "\n",
        "for i in matches:\n",
        "  print (\"Match:\", i)"
      ],
      "metadata": {
        "id": "3LF3jfNBBtdH"
      },
      "execution_count": null,
      "outputs": []
    },
    {
      "cell_type": "code",
      "source": [
        "# 10. [ ]  (뜻: [ ]는 [ ]대괄호 안의 요소들 중 한 개의 요소와 일치)\n",
        "\n",
        "text = \"the price is $109514.\"\n",
        "patten = r\"[1234567890]\"\n",
        "# 숫자 하나를 나타내는 문자 클래스 [ ]: 위 문자열을 대상으로 [ ] 패턴을 사용하면 문자열 내에서 \"1\", \"0\", \"0\"이 각각 한 번씩 매치된다.\n",
        "#[ ] 패턴은 숫자를 한 개 씩 찾아내는 데 사용될 수 있다.\n",
        "\n",
        "matches = re.findall(patten, text)\n",
        "\n",
        "for i in matches:\n",
        "  print (\"Match:\", i)"
      ],
      "metadata": {
        "colab": {
          "base_uri": "https://localhost:8080/"
        },
        "id": "cayU1YplBuat",
        "outputId": "3d572b7f-1d15-4c4b-8ed8-3746777803cc"
      },
      "execution_count": null,
      "outputs": [
        {
          "output_type": "stream",
          "name": "stdout",
          "text": [
            "Match: 1\n",
            "Match: 0\n",
            "Match: 9\n",
            "Match: 5\n",
            "Match: 1\n",
            "Match: 4\n"
          ]
        }
      ]
    },
    {
      "cell_type": "code",
      "source": [
        "#16. [^a-zA-Z0-9] (소문자, 대문자 및 숫자를 제외한 모든 문자와 일치)\n",
        "\n",
        "import re\n",
        "\n",
        "text = \"24 Hours a Day,\\n7 Days a Week,\\n & \\t 365 Days a Year!\"\n",
        "patten = r'[^0123456789]' # 여기서 삿갓^이랑 작은 따옴표는? 아닌 것을 찾으라는 뜻\n",
        "\n",
        "matches = re.findall(pattern, text)\n",
        "\n",
        "for i in matches:\n",
        "    print(\"Match:\", i)"
      ],
      "metadata": {
        "id": "GwVYVxE5BwvB"
      },
      "execution_count": null,
      "outputs": []
    },
    {
      "cell_type": "markdown",
      "source": [
        "### 4-1. if문장"
      ],
      "metadata": {
        "id": "fI76qQ_M7iQm"
      }
    },
    {
      "cell_type": "code",
      "source": [
        "x = 100\n",
        "y = 95\n",
        "\n",
        "if x > y:\n",
        "  print ('x is greater than y.')\n",
        "\n",
        "else:\n",
        "  print ('x is smaller than or equal to y.')"
      ],
      "metadata": {
        "id": "-7WqiWHr77hI",
        "outputId": "c5086416-baf9-47c5-c409-a0d7dd7ac4e8",
        "colab": {
          "base_uri": "https://localhost:8080/"
        }
      },
      "execution_count": null,
      "outputs": [
        {
          "output_type": "stream",
          "name": "stdout",
          "text": [
            "x is greater than y.\n"
          ]
        }
      ]
    },
    {
      "cell_type": "code",
      "source": [
        "x = 2\n",
        "y = 300\n",
        "\n",
        "if x > y:\n",
        "  print ('x is greater than y.')\n",
        "\n",
        "else:\n",
        "  print ('x is smaller than or equal to y.')"
      ],
      "metadata": {
        "id": "_a_Qt9xw7-B2",
        "outputId": "9a9b3c4a-f0b1-4ce6-c172-3bb91ef3c9b7",
        "colab": {
          "base_uri": "https://localhost:8080/"
        }
      },
      "execution_count": null,
      "outputs": [
        {
          "output_type": "stream",
          "name": "stdout",
          "text": [
            "x is smaller than or equal to y.\n"
          ]
        }
      ]
    },
    {
      "cell_type": "code",
      "source": [
        "x = 0\n",
        "y = 0\n",
        "\n",
        "if x > y:\n",
        "  print ('x is greater than y.')\n",
        "\n",
        "else:\n",
        "  print ('x is smaller than or equal to y.')"
      ],
      "metadata": {
        "id": "_aXgWjXN8AGi",
        "outputId": "7738805e-532e-40a9-d326-1793bb42597e",
        "colab": {
          "base_uri": "https://localhost:8080/"
        }
      },
      "execution_count": null,
      "outputs": [
        {
          "output_type": "stream",
          "name": "stdout",
          "text": [
            "x is smaller than or equal to y.\n"
          ]
        }
      ]
    },
    {
      "cell_type": "code",
      "source": [
        "#@markdown 엘리먼트(객체) 구분은 ',' if스크립트 등을 제대로 작동하려면 :(콜른), 필수 숨기는 것은 # 이거붙이면 됨.\n",
        "listdata = ['a', 'b', 'c']\n",
        "if 'a' in listdata:\n",
        "  print ('a가 listdata 안에 있습니다.')\n",
        "else:\n",
        " print ('해당 문자는 listdata 안에 없습니다.')\n"
      ],
      "metadata": {
        "id": "U98ELNVv8BnN",
        "outputId": "96b635ef-3df6-49cb-c799-5331be9c7fb6",
        "colab": {
          "base_uri": "https://localhost:8080/"
        }
      },
      "execution_count": null,
      "outputs": [
        {
          "output_type": "stream",
          "name": "stdout",
          "text": [
            "a가 listdata 안에 있습니다.\n"
          ]
        }
      ]
    },
    {
      "cell_type": "code",
      "source": [
        "if x>y:\n",
        "\n",
        "if 'a' in dict:"
      ],
      "metadata": {
        "id": "wdFdDUFW8EL9"
      },
      "execution_count": null,
      "outputs": []
    },
    {
      "cell_type": "markdown",
      "source": [
        "### 4-2. for문장\n",
        "\n",
        "###### int는 정수. 타입 확인은 type"
      ],
      "metadata": {
        "id": "WecaYjfb8Nh4"
      }
    },
    {
      "cell_type": "code",
      "source": [
        "#@markdown 구성요소는 아무거나 가능 (아래 n은 i가 될 수도 있음. 단 프린트 시 구성요소와 함수는 일치해야 함.)\n",
        "\n",
        "numbers = (1,2,3,4,5,6,7,8,9)\n",
        "print (numbers)\n",
        "print ('\\n')\n",
        "\n",
        "for n in numbers:\n",
        "  print (n)"
      ],
      "metadata": {
        "id": "uQFC9pIM8IjT",
        "outputId": "324a59b5-6a83-4d61-af97-7252934842a4",
        "colab": {
          "base_uri": "https://localhost:8080/"
        }
      },
      "execution_count": null,
      "outputs": [
        {
          "output_type": "stream",
          "name": "stdout",
          "text": [
            "(1, 2, 3, 4, 5, 6, 7, 8, 9)\n",
            "\n",
            "\n",
            "1\n",
            "2\n",
            "3\n",
            "4\n",
            "5\n",
            "6\n",
            "7\n",
            "8\n",
            "9\n"
          ]
        }
      ]
    },
    {
      "cell_type": "code",
      "source": [
        "scope = [1,2,3,4,5,]\n",
        "\n",
        "for i in scope:\n",
        "  print (i)"
      ],
      "metadata": {
        "id": "4kK0boFf8Zfy",
        "outputId": "b32e6717-af7a-4669-a7de-c0b75715390d",
        "colab": {
          "base_uri": "https://localhost:8080/"
        }
      },
      "execution_count": null,
      "outputs": [
        {
          "output_type": "stream",
          "name": "stdout",
          "text": [
            "1\n",
            "2\n",
            "3\n",
            "4\n",
            "5\n"
          ]
        }
      ]
    },
    {
      "cell_type": "code",
      "source": [
        "import keyword\n",
        "keyword.kwlist"
      ],
      "metadata": {
        "id": "OafKp7Kw8d_m",
        "outputId": "22e6663c-3d20-4525-ea3e-7c05062a49f9",
        "colab": {
          "base_uri": "https://localhost:8080/"
        }
      },
      "execution_count": null,
      "outputs": [
        {
          "output_type": "execute_result",
          "data": {
            "text/plain": [
              "['False',\n",
              " 'None',\n",
              " 'True',\n",
              " 'and',\n",
              " 'as',\n",
              " 'assert',\n",
              " 'async',\n",
              " 'await',\n",
              " 'break',\n",
              " 'class',\n",
              " 'continue',\n",
              " 'def',\n",
              " 'del',\n",
              " 'elif',\n",
              " 'else',\n",
              " 'except',\n",
              " 'finally',\n",
              " 'for',\n",
              " 'from',\n",
              " 'global',\n",
              " 'if',\n",
              " 'import',\n",
              " 'in',\n",
              " 'is',\n",
              " 'lambda',\n",
              " 'nonlocal',\n",
              " 'not',\n",
              " 'or',\n",
              " 'pass',\n",
              " 'raise',\n",
              " 'return',\n",
              " 'try',\n",
              " 'while',\n",
              " 'with',\n",
              " 'yield']"
            ]
          },
          "metadata": {},
          "execution_count": 52
        }
      ]
    },
    {
      "cell_type": "code",
      "source": [
        "#@markdown 클래스는 키워드라서 변수로 사용할 수 없음. for이 아닌 if도 오류남.\n",
        "\n",
        "class = ['나', '너', '우리']\n",
        "\n",
        "for i in class:\n",
        "  print (i)\n"
      ],
      "metadata": {
        "id": "x3Envc888gbU",
        "outputId": "d37f8536-82de-49b4-84ec-b73803b243fb",
        "colab": {
          "base_uri": "https://localhost:8080/",
          "height": 106
        }
      },
      "execution_count": null,
      "outputs": [
        {
          "output_type": "error",
          "ename": "SyntaxError",
          "evalue": "invalid syntax (<ipython-input-53-dba2bfb030cd>, line 3)",
          "traceback": [
            "\u001b[0;36m  File \u001b[0;32m\"<ipython-input-53-dba2bfb030cd>\"\u001b[0;36m, line \u001b[0;32m3\u001b[0m\n\u001b[0;31m    class = ['나', '너', '우리']\u001b[0m\n\u001b[0m          ^\u001b[0m\n\u001b[0;31mSyntaxError\u001b[0m\u001b[0;31m:\u001b[0m invalid syntax\n"
          ]
        }
      ]
    },
    {
      "cell_type": "code",
      "source": [
        "#@markdown 이런식으로 키워드 외의 변수로 지정해야 오류가 안남.\n",
        "\n",
        "name = ['나', '너', '우리']\n",
        "\n",
        "for i in name:\n",
        "  print (i)"
      ],
      "metadata": {
        "id": "ulMEdHCt8i3a",
        "outputId": "29fb6b8e-6c58-4356-f1bd-885b82a5a77f",
        "colab": {
          "base_uri": "https://localhost:8080/"
        }
      },
      "execution_count": null,
      "outputs": [
        {
          "output_type": "stream",
          "name": "stdout",
          "text": [
            "나\n",
            "너\n",
            "우리\n"
          ]
        }
      ]
    },
    {
      "cell_type": "code",
      "source": [
        "for i in range(1):\n",
        "  print (i)\n",
        "type (i)"
      ],
      "metadata": {
        "id": "MT5Xu0Lw8k-i",
        "outputId": "a5c68eb4-8631-4c34-d502-aa76e1634c23",
        "colab": {
          "base_uri": "https://localhost:8080/"
        }
      },
      "execution_count": null,
      "outputs": [
        {
          "output_type": "stream",
          "name": "stdout",
          "text": [
            "0\n"
          ]
        },
        {
          "output_type": "execute_result",
          "data": {
            "text/plain": [
              "int"
            ]
          },
          "metadata": {},
          "execution_count": 55
        }
      ]
    },
    {
      "cell_type": "code",
      "source": [
        "for x in range (3):\n",
        "  print(x)\n",
        "\n",
        "type (x)"
      ],
      "metadata": {
        "id": "ynKng0R-8p8r",
        "outputId": "f6644ab0-1059-41df-ff8e-22e0d31d9cc0",
        "colab": {
          "base_uri": "https://localhost:8080/"
        }
      },
      "execution_count": null,
      "outputs": [
        {
          "output_type": "stream",
          "name": "stdout",
          "text": [
            "0\n",
            "1\n",
            "2\n"
          ]
        },
        {
          "output_type": "execute_result",
          "data": {
            "text/plain": [
              "int"
            ]
          },
          "metadata": {},
          "execution_count": 56
        }
      ]
    },
    {
      "cell_type": "code",
      "source": [
        "for i in range (100000):\n",
        "  print (i)"
      ],
      "metadata": {
        "id": "YVxyYC-u8rlw"
      },
      "execution_count": null,
      "outputs": []
    },
    {
      "cell_type": "code",
      "source": [
        "for y in range (10):\n",
        "  print (y)\n",
        "\n",
        "type (y)"
      ],
      "metadata": {
        "id": "lCIsZBW38uSQ",
        "outputId": "cfdd903b-b1b8-44c6-9891-adbc80479a35",
        "colab": {
          "base_uri": "https://localhost:8080/"
        }
      },
      "execution_count": null,
      "outputs": [
        {
          "output_type": "stream",
          "name": "stdout",
          "text": [
            "0\n",
            "1\n",
            "2\n",
            "3\n",
            "4\n",
            "5\n",
            "6\n",
            "7\n",
            "8\n",
            "9\n"
          ]
        },
        {
          "output_type": "execute_result",
          "data": {
            "text/plain": [
              "int"
            ]
          },
          "metadata": {},
          "execution_count": 58
        }
      ]
    },
    {
      "cell_type": "code",
      "source": [
        "r = range (10)\n",
        "for i in r:\n",
        "  print (i)\n",
        "\n",
        "type (i)"
      ],
      "metadata": {
        "id": "Mn8YKE_38xuY",
        "outputId": "db0d4776-1631-403c-aa30-465559ed250d",
        "colab": {
          "base_uri": "https://localhost:8080/"
        }
      },
      "execution_count": null,
      "outputs": [
        {
          "output_type": "stream",
          "name": "stdout",
          "text": [
            "0\n",
            "1\n",
            "2\n",
            "3\n",
            "4\n",
            "5\n",
            "6\n",
            "7\n",
            "8\n",
            "9\n"
          ]
        },
        {
          "output_type": "execute_result",
          "data": {
            "text/plain": [
              "int"
            ]
          },
          "metadata": {},
          "execution_count": 59
        }
      ]
    },
    {
      "cell_type": "code",
      "source": [
        "for i in range (0):\n",
        "  print (i)"
      ],
      "metadata": {
        "id": "amKPm25_8zom"
      },
      "execution_count": null,
      "outputs": []
    },
    {
      "cell_type": "code",
      "source": [
        "list_fruit = ['사과', '바나나', '오렌지', '딸기', '배', '포도', '망고']\n",
        "\n",
        "for i in list_fruit:\n",
        "  print (i)"
      ],
      "metadata": {
        "id": "giAAZJSs810T",
        "outputId": "4e2e7f66-3780-4ae5-89a0-5609c06c8e1c",
        "colab": {
          "base_uri": "https://localhost:8080/"
        }
      },
      "execution_count": null,
      "outputs": [
        {
          "output_type": "stream",
          "name": "stdout",
          "text": [
            "사과\n",
            "바나나\n",
            "오렌지\n",
            "딸기\n",
            "배\n",
            "포도\n",
            "망고\n"
          ]
        }
      ]
    },
    {
      "cell_type": "code",
      "source": [
        "string = 'abcde'\n",
        "\n",
        "for i in string:\n",
        "  print (i)"
      ],
      "metadata": {
        "id": "vAQKRtHj87Vq",
        "outputId": "9e488d2a-8b8d-496f-f91b-d1306656fa12",
        "colab": {
          "base_uri": "https://localhost:8080/"
        }
      },
      "execution_count": null,
      "outputs": [
        {
          "output_type": "stream",
          "name": "stdout",
          "text": [
            "a\n",
            "b\n",
            "c\n",
            "d\n",
            "e\n"
          ]
        }
      ]
    },
    {
      "cell_type": "code",
      "source": [
        "list_int = [1,2,3,4,5]\n",
        "\n",
        "for i in list_int:\n",
        "  print (i)\n",
        "\n",
        "print ('\\n')\n",
        "print (list_int[0])\n",
        "print ([0])"
      ],
      "metadata": {
        "id": "Oy1vBHL288Ms",
        "outputId": "ba37c361-6448-4bb7-c9bb-5f4260d55d33",
        "colab": {
          "base_uri": "https://localhost:8080/"
        }
      },
      "execution_count": null,
      "outputs": [
        {
          "output_type": "stream",
          "name": "stdout",
          "text": [
            "1\n",
            "2\n",
            "3\n",
            "4\n",
            "5\n",
            "\n",
            "\n",
            "1\n",
            "[0]\n"
          ]
        }
      ]
    },
    {
      "cell_type": "code",
      "source": [
        "dict1 = {'a':97, 'b':98, 'c':99}\n",
        "print (dict1['c'])\n",
        "print ('\\n')\n",
        "\n",
        "for i in dict1:\n",
        "  print (i)"
      ],
      "metadata": {
        "id": "GI4SY9Ck8-Ky",
        "outputId": "33576175-88e4-427b-af14-e9890f1da453",
        "colab": {
          "base_uri": "https://localhost:8080/"
        }
      },
      "execution_count": null,
      "outputs": [
        {
          "output_type": "stream",
          "name": "stdout",
          "text": [
            "99\n",
            "\n",
            "\n",
            "a\n",
            "b\n",
            "c\n"
          ]
        }
      ]
    },
    {
      "cell_type": "markdown",
      "source": [
        "|Symbol | Meaning|\n",
        "|--|--|\n",
        "|{숫자}|   숫자만큼 반복\n",
        "|{숫자1, 숫자2}| 숫자1 이상 숫자2 까지 반복. ?, *, +를 이것으로 대체할 수 있음|\n",
        "|{숫자,}| 숫자 이상만큼 반복\n",
        "|[ ] |   대괄호 안의 문자들 중 한 개의 문자와 매치|\n",
        "||.      [amk]라고 한다면 a 또는 m 또는 k 중 하나라도 존재하면 매치를 의미|\n",
        "||       [a-z]와 같이 범위를 지정할 수도 있음|\n",
        "||       [a-zA-Z]는 알파벳 전체를 의미하는 범위이며, 문자열에 알파벳이 존재하면 매치를 의미|\n",
        "|[^문자]|  해당 문자를 제외한 문자를 매치\n",
        "| 1 | A1B와 같이 쓰이며 A 또는 B의 의미| (cf.: a vertical line is replace by 1 to get the system work)"
      ],
      "metadata": {
        "id": "tqJSIGIHO4Yk"
      }
    },
    {
      "cell_type": "code",
      "source": [
        "import re\n",
        "text = '123,4567, 89, 12345'\n",
        "pattern = r'\\d{2}'\n",
        "\n",
        "matches = re.findall(pattern, text)\n",
        "for i in matches:\n",
        "  print (\"Match:\", i)"
      ],
      "metadata": {
        "colab": {
          "base_uri": "https://localhost:8080/"
        },
        "id": "iGr-2W92NQth",
        "outputId": "9a690af0-6f2b-48a6-f388-94013bfc6392"
      },
      "execution_count": 1,
      "outputs": [
        {
          "output_type": "stream",
          "name": "stdout",
          "text": [
            "Match: 12\n",
            "Match: 45\n",
            "Match: 67\n",
            "Match: 89\n",
            "Match: 12\n",
            "Match: 34\n"
          ]
        }
      ]
    },
    {
      "cell_type": "code",
      "source": [
        "import re\n",
        "text = '1112, 22223, 34, 44445, 556, 9879846546, 32135498754, 0000'\n",
        "pattern = r'\\d{2,6}'\n",
        "matches = re.findall(pattern, text)\n",
        "for i in matches:\n",
        "  print (\"Match:\", i)"
      ],
      "metadata": {
        "colab": {
          "base_uri": "https://localhost:8080/"
        },
        "id": "9ey1f9IwO6b-",
        "outputId": "f4ffe9a5-3b16-4b34-ceb1-42d91d9eda81"
      },
      "execution_count": 2,
      "outputs": [
        {
          "output_type": "stream",
          "name": "stdout",
          "text": [
            "Match: 1112\n",
            "Match: 22223\n",
            "Match: 34\n",
            "Match: 44445\n",
            "Match: 556\n",
            "Match: 987984\n",
            "Match: 6546\n",
            "Match: 321354\n",
            "Match: 98754\n",
            "Match: 0000\n"
          ]
        }
      ]
    },
    {
      "cell_type": "code",
      "source": [
        "import re\n",
        "\n",
        "text = 'The numbers are 12345678999, 12345, 987, 0000 and 56789.'\n",
        "pattern = r'\\d{3,5}'\n",
        "matches = re.findall(pattern, text)\n",
        "for i in matches:\n",
        "  print (\"Match:\", i)"
      ],
      "metadata": {
        "colab": {
          "base_uri": "https://localhost:8080/"
        },
        "id": "6NGZYDmcO8Rc",
        "outputId": "ef230a56-2cbd-418f-b506-6b9224f977a9"
      },
      "execution_count": 3,
      "outputs": [
        {
          "output_type": "stream",
          "name": "stdout",
          "text": [
            "Match: 12345\n",
            "Match: 67899\n",
            "Match: 12345\n",
            "Match: 987\n",
            "Match: 0000\n",
            "Match: 56789\n"
          ]
        }
      ]
    },
    {
      "cell_type": "code",
      "source": [
        "import re\n",
        "text = \"The word 'hello' is repeated many times: hello hello hello hello hello hello hello hello hello \"\n",
        "pattern = r'(hello ){3,}'\n",
        "matches = re.findall(pattern, text)\n",
        "for i in matches:\n",
        "  print (\"Match:\", i)"
      ],
      "metadata": {
        "colab": {
          "base_uri": "https://localhost:8080/"
        },
        "id": "XjS9Di6aO9Lv",
        "outputId": "d267525d-d2ac-4a49-d343-d964a4862c2f"
      },
      "execution_count": 4,
      "outputs": [
        {
          "output_type": "stream",
          "name": "stdout",
          "text": [
            "Match: hello \n"
          ]
        }
      ]
    },
    {
      "cell_type": "code",
      "source": [
        "import re\n",
        "text = \"The word 'hello' is repeated many time: hellohellohellohellohello hellohellohellohellohello hellohellohellohello\"\n",
        "pattern = r'(hello){2,}'\n",
        "matches = re.findall(pattern, text)\n",
        "for i in matches:\n",
        "  print (\"Match:\", i)"
      ],
      "metadata": {
        "colab": {
          "base_uri": "https://localhost:8080/"
        },
        "id": "hAATtw9dO-Ra",
        "outputId": "db14d6c9-dea6-4732-d7f1-a83deaa70b12"
      },
      "execution_count": 5,
      "outputs": [
        {
          "output_type": "stream",
          "name": "stdout",
          "text": [
            "Match: hello\n",
            "Match: hello\n",
            "Match: hello\n"
          ]
        }
      ]
    },
    {
      "cell_type": "code",
      "source": [
        "import re\n",
        "text = \"The price is $1003448975213.89.\"\n",
        "pattern = r'[1234567890]'\n",
        "matches = re.findall(pattern, text)\n",
        "for i in matches:\n",
        "  print (\"Match:\", i)"
      ],
      "metadata": {
        "colab": {
          "base_uri": "https://localhost:8080/"
        },
        "id": "2G-3mbALO-3D",
        "outputId": "ce00bb63-73de-4b27-eff7-6cbb9cba784a"
      },
      "execution_count": 6,
      "outputs": [
        {
          "output_type": "stream",
          "name": "stdout",
          "text": [
            "Match: 1\n",
            "Match: 0\n",
            "Match: 0\n",
            "Match: 3\n",
            "Match: 4\n",
            "Match: 4\n",
            "Match: 8\n",
            "Match: 9\n",
            "Match: 7\n",
            "Match: 5\n",
            "Match: 2\n",
            "Match: 1\n",
            "Match: 3\n",
            "Match: 8\n",
            "Match: 9\n"
          ]
        }
      ]
    },
    {
      "cell_type": "code",
      "source": [
        "import re\n",
        "text = \"The price is $100.\"\n",
        "pattern = r'[is]'\n",
        "matches = re.findall(pattern, text)\n",
        "for i in matches:\n",
        "  print (\"Match:\", i)"
      ],
      "metadata": {
        "colab": {
          "base_uri": "https://localhost:8080/"
        },
        "id": "MLx7xGMMPDSO",
        "outputId": "3716d2ac-8540-4587-93d4-5d6698e26236"
      },
      "execution_count": 7,
      "outputs": [
        {
          "output_type": "stream",
          "name": "stdout",
          "text": [
            "Match: i\n",
            "Match: i\n",
            "Match: s\n"
          ]
        }
      ]
    },
    {
      "cell_type": "code",
      "source": [
        "import re\n",
        "text = \"The price is $10012345.\"\n",
        "pattern = r\"[\\d]\"\n",
        "matches = re.findall(pattern, text)\n",
        "for i in matches:\n",
        "  print (\"Match:\", i)"
      ],
      "metadata": {
        "colab": {
          "base_uri": "https://localhost:8080/"
        },
        "id": "oRygSgoHPEnI",
        "outputId": "923b1bfc-4757-415c-bad3-9a4323de1749"
      },
      "execution_count": 8,
      "outputs": [
        {
          "output_type": "stream",
          "name": "stdout",
          "text": [
            "Match: 1\n",
            "Match: 0\n",
            "Match: 0\n",
            "Match: 1\n",
            "Match: 2\n",
            "Match: 3\n",
            "Match: 4\n",
            "Match: 5\n"
          ]
        }
      ]
    },
    {
      "cell_type": "code",
      "source": [
        "import re\n",
        "text = \"The price is $100.\"\n",
        "pattern = r\"[eptz\\d]\"\n",
        "matches = re.findall(pattern, text)\n",
        "for i in matches:\n",
        "  print (\"Match:\", i)"
      ],
      "metadata": {
        "colab": {
          "base_uri": "https://localhost:8080/"
        },
        "id": "FWb85cx7PF5c",
        "outputId": "734b562b-827f-4bcb-ceff-519e5f2fa429"
      },
      "execution_count": 9,
      "outputs": [
        {
          "output_type": "stream",
          "name": "stdout",
          "text": [
            "Match: e\n",
            "Match: p\n",
            "Match: e\n",
            "Match: 1\n",
            "Match: 0\n",
            "Match: 0\n"
          ]
        }
      ]
    },
    {
      "cell_type": "code",
      "source": [
        "import re\n",
        "text = \"I have an apple and a monkey in the kitchen\"\n",
        "pattern = r\"[amk]\"\n",
        "matches = re.findall(pattern, text)\n",
        "for i in matches:\n",
        "  print (\"Match:\", i)"
      ],
      "metadata": {
        "colab": {
          "base_uri": "https://localhost:8080/"
        },
        "id": "FFO1K6ROPHxC",
        "outputId": "1c3c8f0a-587d-40cb-836e-f0cc40be44bf"
      },
      "execution_count": 10,
      "outputs": [
        {
          "output_type": "stream",
          "name": "stdout",
          "text": [
            "Match: a\n",
            "Match: a\n",
            "Match: a\n",
            "Match: a\n",
            "Match: a\n",
            "Match: m\n",
            "Match: k\n",
            "Match: k\n"
          ]
        }
      ]
    },
    {
      "cell_type": "code",
      "source": [
        "import re\n",
        "text = \"The price is $100.\"\n",
        "pattern1 = r\"\\d\"\n",
        "pattern2 = r\"[1234567890]\"\n",
        "pattern3 = r\"[\\d]\"\n",
        "pattern4 = r'123456789'\n",
        "pattern5 = r'1,2,3,4,5,6,7,8,9'\n",
        "\n",
        "print('Pattern1:', pattern1)\n",
        "print('\\n')\n",
        "print('Pattern2:', pattern2)\n",
        "print('\\n')\n",
        "print('Pattern3:', pattern3)\n",
        "print('\\n')\n",
        "print('Pattern4:', pattern4)\n",
        "print('\\n')\n",
        "print('Pattern5:', pattern5)\n",
        "print('\\n')\n",
        "\n",
        "matches = re.findall(pattern1, text)\n",
        "for i in matches:\n",
        "    print(\"Match1:\", i)\n",
        "\n",
        "matches = re.findall(pattern2, text)\n",
        "for i in matches:\n",
        "    print(\"Match2:\", i)\n",
        "\n",
        "matches = re.findall(pattern3, text)\n",
        "for i in matches:\n",
        "    print(\"Match3:\", i)\n",
        "\n",
        "matches = re.findall(pattern4, text)\n",
        "for i in matches:\n",
        "    print(\"Match4:\", i)\n",
        "\n",
        "matches = re.findall(pattern5, text)\n",
        "for i in matches:\n",
        "    print(\"Match5:\", i)"
      ],
      "metadata": {
        "colab": {
          "base_uri": "https://localhost:8080/"
        },
        "id": "_v-BVchKPJa8",
        "outputId": "9fcf6ad0-2177-4c99-957f-f71506794648"
      },
      "execution_count": 11,
      "outputs": [
        {
          "output_type": "stream",
          "name": "stdout",
          "text": [
            "Pattern1: \\d\n",
            "\n",
            "\n",
            "Pattern2: [1234567890]\n",
            "\n",
            "\n",
            "Pattern3: [\\d]\n",
            "\n",
            "\n",
            "Pattern4: 123456789\n",
            "\n",
            "\n",
            "Pattern5: 1,2,3,4,5,6,7,8,9\n",
            "\n",
            "\n",
            "Match1: 1\n",
            "Match1: 0\n",
            "Match1: 0\n",
            "Match2: 1\n",
            "Match2: 0\n",
            "Match2: 0\n",
            "Match3: 1\n",
            "Match3: 0\n",
            "Match3: 0\n"
          ]
        }
      ]
    },
    {
      "cell_type": "code",
      "source": [
        "import re\n",
        "text = \"The quick brown fox jumps over the lazy dog.\"\n",
        "pattern = r\"[a-z]\"\n",
        "matches = re.findall(pattern, text)\n",
        "for i in matches:\n",
        "  print (\"Match:\", i)"
      ],
      "metadata": {
        "colab": {
          "base_uri": "https://localhost:8080/"
        },
        "id": "lRielaUrPU_g",
        "outputId": "f4e13cae-65f0-40c5-e63a-74f3c37b9eb9"
      },
      "execution_count": 12,
      "outputs": [
        {
          "output_type": "stream",
          "name": "stdout",
          "text": [
            "Match: h\n",
            "Match: e\n",
            "Match: q\n",
            "Match: u\n",
            "Match: i\n",
            "Match: c\n",
            "Match: k\n",
            "Match: b\n",
            "Match: r\n",
            "Match: o\n",
            "Match: w\n",
            "Match: n\n",
            "Match: f\n",
            "Match: o\n",
            "Match: x\n",
            "Match: j\n",
            "Match: u\n",
            "Match: m\n",
            "Match: p\n",
            "Match: s\n",
            "Match: o\n",
            "Match: v\n",
            "Match: e\n",
            "Match: r\n",
            "Match: t\n",
            "Match: h\n",
            "Match: e\n",
            "Match: l\n",
            "Match: a\n",
            "Match: z\n",
            "Match: y\n",
            "Match: d\n",
            "Match: o\n",
            "Match: g\n"
          ]
        }
      ]
    },
    {
      "cell_type": "code",
      "source": [
        "import re\n",
        "text = \"\\\"The book titles are 'The Aesop for Children', 'Harry Potter', and 'Pride and Prejudice',\\\" said Amelia.\"\n",
        "pattern = r\"[A-Z]\"\n",
        "matches = re.findall(pattern, text)\n",
        "for i in matches:\n",
        "  print (\"Match:\", i)"
      ],
      "metadata": {
        "colab": {
          "base_uri": "https://localhost:8080/"
        },
        "id": "T_YP52OWPWLw",
        "outputId": "137465fc-d157-4f4c-c92d-948b6c99c357"
      },
      "execution_count": 13,
      "outputs": [
        {
          "output_type": "stream",
          "name": "stdout",
          "text": [
            "Match: T\n",
            "Match: T\n",
            "Match: A\n",
            "Match: C\n",
            "Match: H\n",
            "Match: P\n",
            "Match: P\n",
            "Match: P\n",
            "Match: A\n"
          ]
        }
      ]
    },
    {
      "cell_type": "code",
      "source": [
        "import re\n",
        "text = \"New York is a wonderful city.\"\n",
        "pattern =r\"[a-zA-Z]\"\n",
        "matches = re.findall(pattern, text)\n",
        "for i in matches:\n",
        "  print (\"Match:\", i)"
      ],
      "metadata": {
        "colab": {
          "base_uri": "https://localhost:8080/"
        },
        "id": "Z0oj_xQ2PX9H",
        "outputId": "ef746782-6b34-4e9c-f448-61a5622049e3"
      },
      "execution_count": 14,
      "outputs": [
        {
          "output_type": "stream",
          "name": "stdout",
          "text": [
            "Match: N\n",
            "Match: e\n",
            "Match: w\n",
            "Match: Y\n",
            "Match: o\n",
            "Match: r\n",
            "Match: k\n",
            "Match: i\n",
            "Match: s\n",
            "Match: a\n",
            "Match: w\n",
            "Match: o\n",
            "Match: n\n",
            "Match: d\n",
            "Match: e\n",
            "Match: r\n",
            "Match: f\n",
            "Match: u\n",
            "Match: l\n",
            "Match: c\n",
            "Match: i\n",
            "Match: t\n",
            "Match: y\n"
          ]
        }
      ]
    },
    {
      "cell_type": "code",
      "source": [
        "import re\n",
        "\n",
        "text = \"A total of 149 episodes of The Aesop for Children.\"\n",
        "pattern = r\"[0-9]\"\n",
        "\n",
        "matches = re.findall(pattern, text)\n",
        "\n",
        "for i in matches:\n",
        "    print(\"Match:\", i)"
      ],
      "metadata": {
        "colab": {
          "base_uri": "https://localhost:8080/"
        },
        "id": "wXXqaom6PZIh",
        "outputId": "97f44b90-ea3b-41d3-80c9-ea83c8e66569"
      },
      "execution_count": 15,
      "outputs": [
        {
          "output_type": "stream",
          "name": "stdout",
          "text": [
            "Match: 1\n",
            "Match: 4\n",
            "Match: 9\n"
          ]
        }
      ]
    },
    {
      "cell_type": "code",
      "source": [
        "import re\n",
        "text = \"In mathematics, 3.14 is a decimal approximation of the mathematical constant π (pi).\"\n",
        "pattern = r\"[0-9]\"\n",
        "matches = re.findall(pattern, text)\n",
        "for i in matches:\n",
        "  print (\"Match:\", i)"
      ],
      "metadata": {
        "colab": {
          "base_uri": "https://localhost:8080/"
        },
        "id": "c76uKK-9PiOB",
        "outputId": "77276034-451a-407b-c764-e06ae5f2023a"
      },
      "execution_count": 16,
      "outputs": [
        {
          "output_type": "stream",
          "name": "stdout",
          "text": [
            "Match: 3\n",
            "Match: 1\n",
            "Match: 4\n"
          ]
        }
      ]
    },
    {
      "cell_type": "code",
      "source": [
        "import re\n",
        "text = \"24 Hours a Day, 7 Days a Week, & 365 Days a Year!\"\n",
        "pattern = r\"[a-zA-Z0-9]\"\n",
        "matches = re.findall(pattern, text)\n",
        "for i in matches:\n",
        "  print (\"Match:\", i)"
      ],
      "metadata": {
        "colab": {
          "base_uri": "https://localhost:8080/"
        },
        "id": "CE-QlhXPPjXU",
        "outputId": "f5da5f62-6230-46b3-d5f7-ef2b6ee5886d"
      },
      "execution_count": 17,
      "outputs": [
        {
          "output_type": "stream",
          "name": "stdout",
          "text": [
            "Match: 2\n",
            "Match: 4\n",
            "Match: H\n",
            "Match: o\n",
            "Match: u\n",
            "Match: r\n",
            "Match: s\n",
            "Match: a\n",
            "Match: D\n",
            "Match: a\n",
            "Match: y\n",
            "Match: 7\n",
            "Match: D\n",
            "Match: a\n",
            "Match: y\n",
            "Match: s\n",
            "Match: a\n",
            "Match: W\n",
            "Match: e\n",
            "Match: e\n",
            "Match: k\n",
            "Match: 3\n",
            "Match: 6\n",
            "Match: 5\n",
            "Match: D\n",
            "Match: a\n",
            "Match: y\n",
            "Match: s\n",
            "Match: a\n",
            "Match: Y\n",
            "Match: e\n",
            "Match: a\n",
            "Match: r\n"
          ]
        }
      ]
    },
    {
      "cell_type": "code",
      "source": [
        "import re\n",
        "text = \"A total of 149 episodes of The Aesop for Children.\"\n",
        "pattern =  r\"[0-9]\"\n",
        "pattern =  r\"[123456789]\"\n",
        "matches = re.findall(pattern, text)\n",
        "for i in matches:\n",
        "  print (\"Match:\", i)"
      ],
      "metadata": {
        "colab": {
          "base_uri": "https://localhost:8080/"
        },
        "id": "3B9pijoXPkfn",
        "outputId": "4319c82f-8072-4a51-90de-a7c3149f1d25"
      },
      "execution_count": 18,
      "outputs": [
        {
          "output_type": "stream",
          "name": "stdout",
          "text": [
            "Match: 1\n",
            "Match: 4\n",
            "Match: 9\n"
          ]
        }
      ]
    },
    {
      "cell_type": "code",
      "source": [
        "import re\n",
        "text = \"A total of 149 episodes of The Aesop for Children.\"\n",
        "#pattern =  r\"[0-9]\"\n",
        "#pattern =  r\"[123456789]\"\n",
        "pattern = r\"[a-zA-Z]\"\n",
        "matches = re.findall(pattern, text)\n",
        "for i in matches:\n",
        "  print (\"Match:\")\n",
        "  print (i)\n",
        "# 이거는 보기 편하게 한줄씩 띄운거"
      ],
      "metadata": {
        "colab": {
          "base_uri": "https://localhost:8080/"
        },
        "id": "JcHrk9WmPop-",
        "outputId": "a64dad3a-7951-46ff-d1c3-8f010e78b943"
      },
      "execution_count": 19,
      "outputs": [
        {
          "output_type": "stream",
          "name": "stdout",
          "text": [
            "Match:\n",
            "A\n",
            "Match:\n",
            "t\n",
            "Match:\n",
            "o\n",
            "Match:\n",
            "t\n",
            "Match:\n",
            "a\n",
            "Match:\n",
            "l\n",
            "Match:\n",
            "o\n",
            "Match:\n",
            "f\n",
            "Match:\n",
            "e\n",
            "Match:\n",
            "p\n",
            "Match:\n",
            "i\n",
            "Match:\n",
            "s\n",
            "Match:\n",
            "o\n",
            "Match:\n",
            "d\n",
            "Match:\n",
            "e\n",
            "Match:\n",
            "s\n",
            "Match:\n",
            "o\n",
            "Match:\n",
            "f\n",
            "Match:\n",
            "T\n",
            "Match:\n",
            "h\n",
            "Match:\n",
            "e\n",
            "Match:\n",
            "A\n",
            "Match:\n",
            "e\n",
            "Match:\n",
            "s\n",
            "Match:\n",
            "o\n",
            "Match:\n",
            "p\n",
            "Match:\n",
            "f\n",
            "Match:\n",
            "o\n",
            "Match:\n",
            "r\n",
            "Match:\n",
            "C\n",
            "Match:\n",
            "h\n",
            "Match:\n",
            "i\n",
            "Match:\n",
            "l\n",
            "Match:\n",
            "d\n",
            "Match:\n",
            "r\n",
            "Match:\n",
            "e\n",
            "Match:\n",
            "n\n"
          ]
        }
      ]
    },
    {
      "cell_type": "code",
      "source": [
        "import re\n",
        "text = \"The color can be either red, green, or blue.\"\n",
        "pattern = r\"(red|blue)\"\n",
        "matches = re.findall(pattern, text)\n",
        "for i in matches:\n",
        "  print (\"Match:\", i)"
      ],
      "metadata": {
        "colab": {
          "base_uri": "https://localhost:8080/"
        },
        "id": "F53ro10aPqcY",
        "outputId": "d2f87ce3-2baa-4e16-b777-848e5dadd3b7"
      },
      "execution_count": 20,
      "outputs": [
        {
          "output_type": "stream",
          "name": "stdout",
          "text": [
            "Match: red\n",
            "Match: blue\n"
          ]
        }
      ]
    },
    {
      "cell_type": "code",
      "source": [
        "import re\n",
        "text = \"It cost me \\$715,45 and more.\"\n",
        "pattern1 = r\"more.$\"\n",
        "matches1 = re.findall(pattern1, text)\n",
        "for i in matches1:\n",
        "  print (\"Match1:\", i)\n",
        "pattern2 = r\"\\$*7\"\n",
        "matches2 = re.findall(pattern2, text)\n",
        "for i in matches2:\n",
        "  print (\"Match2:\", i)"
      ],
      "metadata": {
        "colab": {
          "base_uri": "https://localhost:8080/"
        },
        "id": "jEJbRZv0PsMA",
        "outputId": "cdd84da0-8e0c-462d-b54b-850ec7cf6b99"
      },
      "execution_count": 21,
      "outputs": [
        {
          "output_type": "stream",
          "name": "stdout",
          "text": [
            "Match1: more.\n",
            "Match2: $7\n"
          ]
        }
      ]
    },
    {
      "cell_type": "code",
      "source": [
        "import re\n",
        "text = \"Hello, world. \\n This is test #5.\" # 문장 안에 \\n은 한 줄 띄우는 거\n",
        "#pattern = r\"\\.\" # \\. 은 문자를 매치\n",
        "pattern = r\".\" # .은 한개의 임의의 문자를 매치\n",
        "matches = re.findall(pattern, text)\n",
        "for i in matches:\n",
        "  print (\"Match:\", i)"
      ],
      "metadata": {
        "colab": {
          "base_uri": "https://localhost:8080/"
        },
        "id": "V6UVGDc4PtRS",
        "outputId": "679c56d2-b5dd-4067-8753-4f0e99ea3cfa"
      },
      "execution_count": 22,
      "outputs": [
        {
          "output_type": "stream",
          "name": "stdout",
          "text": [
            "Match: H\n",
            "Match: e\n",
            "Match: l\n",
            "Match: l\n",
            "Match: o\n",
            "Match: ,\n",
            "Match:  \n",
            "Match: w\n",
            "Match: o\n",
            "Match: r\n",
            "Match: l\n",
            "Match: d\n",
            "Match: .\n",
            "Match:  \n",
            "Match:  \n",
            "Match: T\n",
            "Match: h\n",
            "Match: i\n",
            "Match: s\n",
            "Match:  \n",
            "Match: i\n",
            "Match: s\n",
            "Match:  \n",
            "Match: t\n",
            "Match: e\n",
            "Match: s\n",
            "Match: t\n",
            "Match:  \n",
            "Match: #\n",
            "Match: 5\n",
            "Match: .\n"
          ]
        }
      ]
    },
    {
      "cell_type": "code",
      "source": [
        "import re\n",
        "text = \"The price is $100.\"\n",
        "pattern = r\"\\$\" # $는 기호를 매치\n",
        "matches = re.findall(pattern, text)\n",
        "for i in matches:\n",
        "  print (\"Match:\", i)"
      ],
      "metadata": {
        "colab": {
          "base_uri": "https://localhost:8080/"
        },
        "id": "zxf-nuAPPvCG",
        "outputId": "3abbc976-2ad9-4a1e-afc4-cf097276ec9d"
      },
      "execution_count": 23,
      "outputs": [
        {
          "output_type": "stream",
          "name": "stdout",
          "text": [
            "Match: $\n"
          ]
        }
      ]
    },
    {
      "cell_type": "code",
      "source": [
        "import re\n",
        "text = \"The price is $100.\"\n",
        "#pattern = r\"\\d\" #소문자 d는 모든 숫자\n",
        "pattern = r\"\\D\" #대문자 D는 숫자 제외\n",
        "matches = re.findall(pattern, text)\n",
        "for i in matches:\n",
        "  print (\"Match:\", i)"
      ],
      "metadata": {
        "colab": {
          "base_uri": "https://localhost:8080/"
        },
        "id": "pE8rpZ3vPzZ0",
        "outputId": "80714dde-3b29-4f7e-f9d0-cc17ab43069c"
      },
      "execution_count": 24,
      "outputs": [
        {
          "output_type": "stream",
          "name": "stdout",
          "text": [
            "Match: T\n",
            "Match: h\n",
            "Match: e\n",
            "Match:  \n",
            "Match: p\n",
            "Match: r\n",
            "Match: i\n",
            "Match: c\n",
            "Match: e\n",
            "Match:  \n",
            "Match: i\n",
            "Match: s\n",
            "Match:  \n",
            "Match: $\n",
            "Match: .\n"
          ]
        }
      ]
    },
    {
      "cell_type": "code",
      "source": [
        "import re\n",
        "text1 = \"The price is $100 and the number pi is approximately 3.14.\"\n",
        "pattern1 = r\"\\d+\" # 문자가 하나이상 연속해서 일치하게\n",
        "text2 = \"The number pi is approximately 3.14159265358979323846 and you will hear a lot about it in Math class from 1st Grade to the 12th Grade.\"\n",
        "pattern2 = r\"\\d+\\.\\d+\" # . 상관없이 문자가 하나이상 연속해서 일치하게 / \\. 은 온점 찾는 거\n",
        "matches1 = re.findall(pattern1, text1)\n",
        "matches2 = re.findall(pattern2, text2)\n",
        "print (matches1)\n",
        "for i in matches1:\n",
        "  print (\"Match1:\", i)\n",
        "print ('\\n')\n",
        "print (matches2)\n",
        "for i in matches2:\n",
        "  print (\"Match2:\", i)"
      ],
      "metadata": {
        "colab": {
          "base_uri": "https://localhost:8080/"
        },
        "id": "aDn5gNb1P0tR",
        "outputId": "0793ada7-e44b-4cf7-ac15-71019a5b62d3"
      },
      "execution_count": 25,
      "outputs": [
        {
          "output_type": "stream",
          "name": "stdout",
          "text": [
            "['100', '3', '14']\n",
            "Match1: 100\n",
            "Match1: 3\n",
            "Match1: 14\n",
            "\n",
            "\n",
            "['3.14159265358979323846']\n",
            "Match2: 3.14159265358979323846\n"
          ]
        }
      ]
    },
    {
      "cell_type": "code",
      "source": [
        "import re\n",
        "text = \"Hello   World\"\n",
        "#pattern = r\"\\s\" # 공백 문자\n",
        "pattern = r\"\\S\" # 공백 제외\n",
        "matches = re.findall(pattern, text)\n",
        "for i in matches:\n",
        "  print (\"Match:\", i)"
      ],
      "metadata": {
        "colab": {
          "base_uri": "https://localhost:8080/"
        },
        "id": "Gsu9PpI5P2bm",
        "outputId": "e3baf4b5-a3ee-443d-9f5b-a0c5f23b1a4e"
      },
      "execution_count": 26,
      "outputs": [
        {
          "output_type": "stream",
          "name": "stdout",
          "text": [
            "Match: H\n",
            "Match: e\n",
            "Match: l\n",
            "Match: l\n",
            "Match: o\n",
            "Match: W\n",
            "Match: o\n",
            "Match: r\n",
            "Match: l\n",
            "Match: d\n"
          ]
        }
      ]
    },
    {
      "cell_type": "code",
      "source": [
        "import re\n",
        "text = \"Python A007 is _awesome_!\"\n",
        "#pattern = r\"\\w\" # \\w는 알파벳 포함 숫자 포함. 모든 문자\n",
        "pattern = r\"\\w+\" # \\w+는 \"단어 문자의 묶음\"을 나타냄\n",
        "matches = re.findall(pattern, text)\n",
        "for i in matches:\n",
        "  print (\"Match:\", i)"
      ],
      "metadata": {
        "colab": {
          "base_uri": "https://localhost:8080/"
        },
        "id": "z6BGtTbmP3Zz",
        "outputId": "aaea4ec9-c037-4fd1-cf2f-f923f73ffbc8"
      },
      "execution_count": 27,
      "outputs": [
        {
          "output_type": "stream",
          "name": "stdout",
          "text": [
            "Match: Python\n",
            "Match: A007\n",
            "Match: is\n",
            "Match: _awesome_\n"
          ]
        }
      ]
    },
    {
      "cell_type": "code",
      "source": [
        "import re\n",
        "text = \"123 Main Street and 5 Avenue\"\n",
        "pattern = r\"\\d\\s\\w+\" # 숫자, 공백, 단어를 매치 (연달아 있는 것들)\n",
        "matches = re.findall(pattern, text)\n",
        "print (matches)\n",
        "for i in matches:\n",
        "  print (\"Match:\", i)"
      ],
      "metadata": {
        "colab": {
          "base_uri": "https://localhost:8080/"
        },
        "id": "s-a_MkR6P4xm",
        "outputId": "7cde3f0f-51dc-4d35-ea40-233310cf8641"
      },
      "execution_count": 28,
      "outputs": [
        {
          "output_type": "stream",
          "name": "stdout",
          "text": [
            "['3 Main', '5 Avenue']\n",
            "Match: 3 Main\n",
            "Match: 5 Avenue\n"
          ]
        }
      ]
    },
    {
      "cell_type": "code",
      "source": [
        "import re\n",
        "text = \"The price is $100.\"\n",
        "pattern = r\"\\D\"\n",
        "matches = re.findall(pattern, text)\n",
        "print (matches)\n",
        "for i in matches:\n",
        "  print (\"Match:\", i)"
      ],
      "metadata": {
        "colab": {
          "base_uri": "https://localhost:8080/"
        },
        "id": "bdnmfkrFP6KI",
        "outputId": "a13cae26-495b-4981-c7d6-e4853cf5ed04"
      },
      "execution_count": 29,
      "outputs": [
        {
          "output_type": "stream",
          "name": "stdout",
          "text": [
            "['T', 'h', 'e', ' ', 'p', 'r', 'i', 'c', 'e', ' ', 'i', 's', ' ', '$', '.']\n",
            "Match: T\n",
            "Match: h\n",
            "Match: e\n",
            "Match:  \n",
            "Match: p\n",
            "Match: r\n",
            "Match: i\n",
            "Match: c\n",
            "Match: e\n",
            "Match:  \n",
            "Match: i\n",
            "Match: s\n",
            "Match:  \n",
            "Match: $\n",
            "Match: .\n"
          ]
        }
      ]
    },
    {
      "cell_type": "code",
      "source": [
        "import re\n",
        "text = \"Hello   World\"\n",
        "pattern = r\"\\s\" # 공백 만\n",
        "matches = re.findall(pattern, text)\n",
        "print (matches)\n",
        "for i in matches:\n",
        "  print (\"Match:\", i)"
      ],
      "metadata": {
        "colab": {
          "base_uri": "https://localhost:8080/"
        },
        "id": "KJTSZ1x-P7ko",
        "outputId": "7647b082-b7e4-4162-b0a2-94ecf7fb3e63"
      },
      "execution_count": 30,
      "outputs": [
        {
          "output_type": "stream",
          "name": "stdout",
          "text": [
            "[' ', ' ', ' ']\n",
            "Match:  \n",
            "Match:  \n",
            "Match:  \n"
          ]
        }
      ]
    },
    {
      "cell_type": "code",
      "source": [
        "import re\n",
        "text = \"Hello   World\"\n",
        "pattern = r\"\\S\" # 공백제외\n",
        "matches = re.findall(pattern, text)\n",
        "print (matches)\n",
        "for i in matches:\n",
        "  print (\"Match:\", i)"
      ],
      "metadata": {
        "colab": {
          "base_uri": "https://localhost:8080/"
        },
        "id": "sPEbd8IRP9LG",
        "outputId": "32b629cb-2099-4cd5-e4f9-9dd1d955b959"
      },
      "execution_count": 31,
      "outputs": [
        {
          "output_type": "stream",
          "name": "stdout",
          "text": [
            "['H', 'e', 'l', 'l', 'o', 'W', 'o', 'r', 'l', 'd']\n",
            "Match: H\n",
            "Match: e\n",
            "Match: l\n",
            "Match: l\n",
            "Match: o\n",
            "Match: W\n",
            "Match: o\n",
            "Match: r\n",
            "Match: l\n",
            "Match: d\n"
          ]
        }
      ]
    },
    {
      "cell_type": "code",
      "source": [
        "import re\n",
        "text = \"123 Main Street and 5 Avenue \"\n",
        "pattern = r\"\\d+\\s\\w+\"\n",
        "matches = re.findall(pattern, text)\n",
        "print (matches)\n",
        "for i in matches:\n",
        "  print (\"Match:\", i)"
      ],
      "metadata": {
        "colab": {
          "base_uri": "https://localhost:8080/"
        },
        "id": "Rlf0y2RWQBNa",
        "outputId": "1f77b836-8fae-4980-aff2-06caef57e988"
      },
      "execution_count": 32,
      "outputs": [
        {
          "output_type": "stream",
          "name": "stdout",
          "text": [
            "['123 Main', '5 Avenue']\n",
            "Match: 123 Main\n",
            "Match: 5 Avenue\n"
          ]
        }
      ]
    },
    {
      "cell_type": "code",
      "source": [
        "import re\n",
        "text = \"123 _Main_ Street_ and 5th Avenue \" # 5th 는 숫자 다음 공백이 나오지 않아 결과값에서 탈락\n",
        "pattern = r\"\\d+\\s\\w+\"\n",
        "matches = re.findall(pattern, text)\n",
        "print (matches)\n",
        "for i in matches:\n",
        "  print (\"Match:\", i)"
      ],
      "metadata": {
        "colab": {
          "base_uri": "https://localhost:8080/"
        },
        "id": "2DChI3ZGQClW",
        "outputId": "9b3b0384-988a-4a5f-8177-fc009c6f49af"
      },
      "execution_count": 33,
      "outputs": [
        {
          "output_type": "stream",
          "name": "stdout",
          "text": [
            "['123 _Main_']\n",
            "Match: 123 _Main_\n"
          ]
        }
      ]
    },
    {
      "cell_type": "code",
      "source": [
        "def add_txt(t1, t2): # 함수도 :로 끝나기 / 쉼표는 인자의 구분 add_txt말고 다른거도 됨\n",
        "  t_result = t1 + t2\n",
        "  return t_result # 아무거나 괜찮음 t_result 대신 r되 됨"
      ],
      "metadata": {
        "id": "rOsjJGnPQEQJ"
      },
      "execution_count": 34,
      "outputs": []
    },
    {
      "cell_type": "code",
      "source": [
        "def tx(t1, t2):\n",
        "  r = t1 + t2\n",
        "  return r\n",
        "text1 = \"Hello, \"\n",
        "text2 = \"World!\"\n",
        "combined_text = tx(text1, text2)\n",
        "print (combined_text)"
      ],
      "metadata": {
        "colab": {
          "base_uri": "https://localhost:8080/"
        },
        "id": "gKi-SavwReQe",
        "outputId": "1133a2f2-1442-40b9-8a97-164469c35d10"
      },
      "execution_count": 35,
      "outputs": [
        {
          "output_type": "stream",
          "name": "stdout",
          "text": [
            "Hello, World!\n"
          ]
        }
      ]
    },
    {
      "cell_type": "code",
      "source": [
        "def tx(t1, t2):\n",
        "  r = t1 + t2\n",
        "# return 이 없음 결과값이 none으로 나옴\n",
        "text1 = \"Hello, \"\n",
        "text2 = \"World!\"\n",
        "combined_text = tx(text1, text2)\n",
        "print (combined_text)"
      ],
      "metadata": {
        "colab": {
          "base_uri": "https://localhost:8080/"
        },
        "id": "ZOrnW_ajRfVM",
        "outputId": "20c35068-22cc-463a-e613-38e595ce1497"
      },
      "execution_count": 36,
      "outputs": [
        {
          "output_type": "stream",
          "name": "stdout",
          "text": [
            "None\n"
          ]
        }
      ]
    },
    {
      "cell_type": "code",
      "source": [
        "def nb(n1,n2):\n",
        "  r = n1 + n2\n",
        "  return r\n",
        "num1 = 10\n",
        "num2 = 20\n",
        "add_nums = nb(num1, num2)\n",
        "print (add_nums)"
      ],
      "metadata": {
        "colab": {
          "base_uri": "https://localhost:8080/"
        },
        "id": "HQIbFqa4THUz",
        "outputId": "be613a2d-d783-4c6e-f298-293572a4a393"
      },
      "execution_count": 37,
      "outputs": [
        {
          "output_type": "stream",
          "name": "stdout",
          "text": [
            "30\n"
          ]
        }
      ]
    },
    {
      "cell_type": "code",
      "source": [
        "def nb(n1,n2):\n",
        "  r = n1 + n2\n",
        "\n",
        "num1 = 100\n",
        "num2 = 200\n",
        "add_nums = nb(num1, num2)\n",
        "print (add_nums)"
      ],
      "metadata": {
        "colab": {
          "base_uri": "https://localhost:8080/"
        },
        "id": "1S3Lr97PTIl9",
        "outputId": "ac3eee38-65dc-4c2c-85cc-e75d9cbc599b"
      },
      "execution_count": 38,
      "outputs": [
        {
          "output_type": "stream",
          "name": "stdout",
          "text": [
            "None\n"
          ]
        }
      ]
    },
    {
      "cell_type": "code",
      "source": [
        "# %d/%s 정수와 문자열 대입\n",
        "name = \"Alice\"\n",
        "score = 95\n",
        "age = 18\n",
        "tx = \"You scored %d on the test.\" %score # 문장 뒤에는 , 쓰면 오류남\n",
        "print (tx)\n",
        "gr = \"Hello, %s! You turn to finally %d years old finally.\" %(name, age) # 괄호 안에 구분하는 쉼표는 꼭 써야함.\n",
        "print (gr)\n",
        "print ('\\n')\n",
        "# 또 다르게는 아래처럼 프린트 할 수 있다\n",
        "print (\"You scored %d on the test.\" %score)\n",
        "print (\"Hello, %s! You turn to finally %d years old finally.\" %(name, age))"
      ],
      "metadata": {
        "colab": {
          "base_uri": "https://localhost:8080/"
        },
        "id": "nPm0xR4tTLbJ",
        "outputId": "849875c0-6f0c-45ea-801c-6d7376a13c7e"
      },
      "execution_count": 39,
      "outputs": [
        {
          "output_type": "stream",
          "name": "stdout",
          "text": [
            "You scored 95 on the test.\n",
            "Hello, Alice! You turn to finally 18 years old finally.\n",
            "\n",
            "\n",
            "You scored 95 on the test.\n",
            "Hello, Alice! You turn to finally 18 years old finally.\n"
          ]
        }
      ]
    },
    {
      "cell_type": "code",
      "source": [
        "def add(a,b):\n",
        "  result = a + b\n",
        "  return result\n",
        "num1 = 5\n",
        "num2 = 4\n",
        "sum_result = add(num1, num2)\n",
        "print (\"The sum of %d and %d is %d\" % (num1, num2, sum_result))"
      ],
      "metadata": {
        "colab": {
          "base_uri": "https://localhost:8080/"
        },
        "id": "a1vkZIeuTMXn",
        "outputId": "46e3c496-5df9-413b-a6ab-3c0a7c7cd05d"
      },
      "execution_count": 40,
      "outputs": [
        {
          "output_type": "stream",
          "name": "stdout",
          "text": [
            "The sum of 5 and 4 is 9\n"
          ]
        }
      ]
    },
    {
      "cell_type": "code",
      "source": [
        "def add_and_print(a, b):\n",
        "  r = a + b\n",
        "  print(\"The sum od %d and %d is %d\" %(a, b, r))\n",
        "  return r\n",
        "sum_result = add_and_print(5, 9)"
      ],
      "metadata": {
        "colab": {
          "base_uri": "https://localhost:8080/"
        },
        "id": "Oi-k-yshTNnV",
        "outputId": "be273ae7-9ddb-4093-abc1-d6a23f8d949d"
      },
      "execution_count": 41,
      "outputs": [
        {
          "output_type": "stream",
          "name": "stdout",
          "text": [
            "The sum od 5 and 9 is 14\n"
          ]
        }
      ]
    },
    {
      "cell_type": "code",
      "source": [
        "def tx(t1,t2= 'Python'):\n",
        "  print (t1 + ':' + t2)\n",
        "\n",
        "tx('Best')\n",
        "tx(t1='My friend', t2='Python')\n",
        "tx(t1='My buddy')"
      ],
      "metadata": {
        "colab": {
          "base_uri": "https://localhost:8080/"
        },
        "id": "XYQf_hJVTR4t",
        "outputId": "72e7adbe-3492-45a9-9426-24ca1fbd94d5"
      },
      "execution_count": 42,
      "outputs": [
        {
          "output_type": "stream",
          "name": "stdout",
          "text": [
            "Best:Python\n",
            "My friend:Python\n",
            "My buddy:Python\n"
          ]
        }
      ]
    },
    {
      "cell_type": "code",
      "source": [
        "def fu(*args):\n",
        "  print (args)\n",
        "fu()\n",
        "fu(1, 2, 3)\n",
        "fu('apple', 'banana', 'cherry', 'date')\n",
        "fu(True) #True는 참/거짓 값"
      ],
      "metadata": {
        "colab": {
          "base_uri": "https://localhost:8080/"
        },
        "id": "FGZ1LDt8TTVl",
        "outputId": "b21deae6-9509-42d4-b1b0-813598c4f18f"
      },
      "execution_count": 43,
      "outputs": [
        {
          "output_type": "stream",
          "name": "stdout",
          "text": [
            "()\n",
            "(1, 2, 3)\n",
            "('apple', 'banana', 'cherry', 'date')\n",
            "(True,)\n"
          ]
        }
      ]
    },
    {
      "cell_type": "code",
      "source": [
        "def fk(width, height, **kwargs):\n",
        "  print (kwargs)\n",
        "fk(10, 20)\n",
        "fk(10, 20, depth=30, color='blue')"
      ],
      "metadata": {
        "colab": {
          "base_uri": "https://localhost:8080/"
        },
        "id": "CSWRYOoBTdVl",
        "outputId": "2cfdc944-ff3b-475b-acfa-3a202867f84c"
      },
      "execution_count": 44,
      "outputs": [
        {
          "output_type": "stream",
          "name": "stdout",
          "text": [
            "{}\n",
            "{'depth': 30, 'color': 'blue'}\n"
          ]
        }
      ]
    },
    {
      "cell_type": "code",
      "source": [
        "def mf():\n",
        "  print ('Hello World!')\n",
        "list = [1, 2, mf]\n",
        "mf()\n",
        "list[2]()"
      ],
      "metadata": {
        "colab": {
          "base_uri": "https://localhost:8080/"
        },
        "id": "_2GFecGbTeT_",
        "outputId": "2033e66f-d96b-484b-af21-e466044125c7"
      },
      "execution_count": 45,
      "outputs": [
        {
          "output_type": "stream",
          "name": "stdout",
          "text": [
            "Hello World!\n",
            "Hello World!\n"
          ]
        }
      ]
    },
    {
      "cell_type": "code",
      "source": [
        "def fk(width, height, **kwargs):\n",
        "  print (\"Width:\", width)\n",
        "  print (\"Height:\", height)\n",
        "  print (\"Additional keyword arguments:\", kwargs)\n",
        "\n",
        "fk(10, 20, depth=30, color='blue')"
      ],
      "metadata": {
        "colab": {
          "base_uri": "https://localhost:8080/"
        },
        "id": "gGCjOgqJTfiE",
        "outputId": "887f93b2-9608-4557-b290-12a66172a230"
      },
      "execution_count": 46,
      "outputs": [
        {
          "output_type": "stream",
          "name": "stdout",
          "text": [
            "Width: 10\n",
            "Height: 20\n",
            "Additional keyword arguments: {'depth': 30, 'color': 'blue'}\n"
          ]
        }
      ]
    },
    {
      "cell_type": "code",
      "source": [
        "def mf():\n",
        "  print ('Hello World!')\n",
        "list = [1, 2, mf]\n",
        "mf()\n",
        "list[2]()"
      ],
      "metadata": {
        "colab": {
          "base_uri": "https://localhost:8080/"
        },
        "id": "m2H-aazLTgjr",
        "outputId": "db8edc3c-b255-4f6b-cafe-068ef37db39a"
      },
      "execution_count": 47,
      "outputs": [
        {
          "output_type": "stream",
          "name": "stdout",
          "text": [
            "Hello World!\n",
            "Hello World!\n"
          ]
        }
      ]
    },
    {
      "cell_type": "code",
      "source": [
        "import re\n",
        "text = '123 Main Street Street amd 5th Avenue'\n",
        "pattern = r\"\\d+t?h?\\s\\w+\"\n",
        "matches = re.findall(pattern, text)\n",
        "print (matches)"
      ],
      "metadata": {
        "colab": {
          "base_uri": "https://localhost:8080/"
        },
        "id": "h6EOFQzaTht3",
        "outputId": "10610640-5687-4e6c-af7e-36be0a71e72e"
      },
      "execution_count": 48,
      "outputs": [
        {
          "output_type": "stream",
          "name": "stdout",
          "text": [
            "['123 Main', '5th Avenue']\n"
          ]
        }
      ]
    },
    {
      "cell_type": "code",
      "source": [
        "import pandas as pd\n",
        "dict_data = {'c0':[1,2,3], 'c1':[4,5,6,], 'c2':[7,8,9,], 'c3':[10,11,12], 'c4':[13,14,15]}\n",
        "df = pd.DataFrame(dict_data)\n",
        "print (type(df))\n",
        "print ('\\n')\n",
        "print (df)"
      ],
      "metadata": {
        "colab": {
          "base_uri": "https://localhost:8080/"
        },
        "id": "ixkel8XJTjE_",
        "outputId": "48de5408-2703-4218-c2e7-3a49a7b309f2"
      },
      "execution_count": 49,
      "outputs": [
        {
          "output_type": "stream",
          "name": "stdout",
          "text": [
            "<class 'pandas.core.frame.DataFrame'>\n",
            "\n",
            "\n",
            "   c0  c1  c2  c3  c4\n",
            "0   1   4   7  10  13\n",
            "1   2   5   8  11  14\n",
            "2   3   6   9  12  15\n"
          ]
        }
      ]
    },
    {
      "cell_type": "code",
      "source": [
        "class FourCal:\n",
        "  def sd(self, first, second):\n",
        "    self.first = first\n",
        "    self.second = second\n",
        "a = FourCal()\n",
        "b = FourCal()"
      ],
      "metadata": {
        "id": "kpG8GhGfTopv"
      },
      "execution_count": 50,
      "outputs": []
    },
    {
      "cell_type": "code",
      "source": [
        "type(a)"
      ],
      "metadata": {
        "colab": {
          "base_uri": "https://localhost:8080/"
        },
        "id": "WV1aIGk4Tpv4",
        "outputId": "872d5d4e-1558-4e00-96e6-f7f9060a92e5"
      },
      "execution_count": 51,
      "outputs": [
        {
          "output_type": "execute_result",
          "data": {
            "text/plain": [
              "__main__.FourCal"
            ]
          },
          "metadata": {},
          "execution_count": 51
        }
      ]
    },
    {
      "cell_type": "code",
      "source": [
        "type(b)"
      ],
      "metadata": {
        "colab": {
          "base_uri": "https://localhost:8080/"
        },
        "id": "Ke3cfgepdkj6",
        "outputId": "fe0c1cb0-dd6b-4fa8-869f-ad71799f34de"
      },
      "execution_count": 52,
      "outputs": [
        {
          "output_type": "execute_result",
          "data": {
            "text/plain": [
              "__main__.FourCal"
            ]
          },
          "metadata": {},
          "execution_count": 52
        }
      ]
    },
    {
      "cell_type": "code",
      "source": [
        "a.sd(10,20)\n",
        "b.sd(300,400)"
      ],
      "metadata": {
        "id": "0YIINh3sdmWq"
      },
      "execution_count": 53,
      "outputs": []
    },
    {
      "cell_type": "code",
      "source": [
        "a.first"
      ],
      "metadata": {
        "colab": {
          "base_uri": "https://localhost:8080/"
        },
        "id": "cZrMhK8KdnqA",
        "outputId": "41b2aa29-ddf1-43ab-9203-2a32e6047830"
      },
      "execution_count": 54,
      "outputs": [
        {
          "output_type": "execute_result",
          "data": {
            "text/plain": [
              "10"
            ]
          },
          "metadata": {},
          "execution_count": 54
        }
      ]
    },
    {
      "cell_type": "code",
      "source": [
        "a.second"
      ],
      "metadata": {
        "colab": {
          "base_uri": "https://localhost:8080/"
        },
        "id": "aSPhL_yndopm",
        "outputId": "87cca596-2f43-46b5-d66f-b7998f5c78ed"
      },
      "execution_count": 55,
      "outputs": [
        {
          "output_type": "execute_result",
          "data": {
            "text/plain": [
              "20"
            ]
          },
          "metadata": {},
          "execution_count": 55
        }
      ]
    },
    {
      "cell_type": "code",
      "source": [
        "b.first"
      ],
      "metadata": {
        "colab": {
          "base_uri": "https://localhost:8080/"
        },
        "id": "EdFfnvBkdp-V",
        "outputId": "9dec639b-b9ee-49e1-8651-1755afe6d4c3"
      },
      "execution_count": 56,
      "outputs": [
        {
          "output_type": "execute_result",
          "data": {
            "text/plain": [
              "300"
            ]
          },
          "metadata": {},
          "execution_count": 56
        }
      ]
    },
    {
      "cell_type": "code",
      "source": [
        "b.second"
      ],
      "metadata": {
        "colab": {
          "base_uri": "https://localhost:8080/"
        },
        "id": "2RN-g4Z4dq_T",
        "outputId": "b0861cdb-784c-4908-80ed-97e00c72799c"
      },
      "execution_count": 57,
      "outputs": [
        {
          "output_type": "execute_result",
          "data": {
            "text/plain": [
              "400"
            ]
          },
          "metadata": {},
          "execution_count": 57
        }
      ]
    },
    {
      "cell_type": "code",
      "source": [
        "class f:\n",
        "  def sd(self, first, second):\n",
        "    self.first = first\n",
        "    self.second = second\n",
        "a = f()\n",
        "b = f()"
      ],
      "metadata": {
        "id": "4cieRdvOdsKS"
      },
      "execution_count": 58,
      "outputs": []
    },
    {
      "cell_type": "code",
      "source": [
        "a.sd (10,30)\n",
        "b.sd (1000,200)"
      ],
      "metadata": {
        "id": "UQUBRs5IdtSs"
      },
      "execution_count": 59,
      "outputs": []
    },
    {
      "cell_type": "code",
      "source": [
        "a.first"
      ],
      "metadata": {
        "colab": {
          "base_uri": "https://localhost:8080/"
        },
        "id": "v3JnIxGddu0C",
        "outputId": "20142390-8350-41a9-88be-813ad8883d95"
      },
      "execution_count": 60,
      "outputs": [
        {
          "output_type": "execute_result",
          "data": {
            "text/plain": [
              "10"
            ]
          },
          "metadata": {},
          "execution_count": 60
        }
      ]
    },
    {
      "cell_type": "code",
      "source": [
        "a.second"
      ],
      "metadata": {
        "colab": {
          "base_uri": "https://localhost:8080/"
        },
        "id": "oa4DaIYqdv0w",
        "outputId": "d5c6667e-2a4d-4a2a-bdf0-d741488e13c9"
      },
      "execution_count": 63,
      "outputs": [
        {
          "output_type": "execute_result",
          "data": {
            "text/plain": [
              "30"
            ]
          },
          "metadata": {},
          "execution_count": 63
        }
      ]
    },
    {
      "cell_type": "code",
      "source": [
        "b.first"
      ],
      "metadata": {
        "colab": {
          "base_uri": "https://localhost:8080/"
        },
        "id": "SD5AOuNWd1sW",
        "outputId": "85826cd0-46a6-4de5-d430-97050a5b5338"
      },
      "execution_count": 62,
      "outputs": [
        {
          "output_type": "execute_result",
          "data": {
            "text/plain": [
              "1000"
            ]
          },
          "metadata": {},
          "execution_count": 62
        }
      ]
    },
    {
      "cell_type": "code",
      "source": [
        "b.second"
      ],
      "metadata": {
        "colab": {
          "base_uri": "https://localhost:8080/"
        },
        "id": "1Np-6rBjd3z5",
        "outputId": "531b2f6a-9591-43e7-a3f9-f60138738b4e"
      },
      "execution_count": 64,
      "outputs": [
        {
          "output_type": "execute_result",
          "data": {
            "text/plain": [
              "200"
            ]
          },
          "metadata": {},
          "execution_count": 64
        }
      ]
    },
    {
      "cell_type": "code",
      "source": [
        "class f:\n",
        "  def sd(self, first, second):\n",
        "    self.first = first\n",
        "    self.second = second\n",
        "  def ad(self):\n",
        "    re = self.first + self.second\n",
        "    return re"
      ],
      "metadata": {
        "id": "EAYCedTrd4xU"
      },
      "execution_count": 65,
      "outputs": []
    },
    {
      "cell_type": "code",
      "source": [
        "a = f()\n",
        "a.sd(100,2)\n",
        "a.ad()"
      ],
      "metadata": {
        "colab": {
          "base_uri": "https://localhost:8080/"
        },
        "id": "ulldfXlpd6FA",
        "outputId": "4efab369-61e7-47fb-ec11-e1c5967a8f58"
      },
      "execution_count": 66,
      "outputs": [
        {
          "output_type": "execute_result",
          "data": {
            "text/plain": [
              "102"
            ]
          },
          "metadata": {},
          "execution_count": 66
        }
      ]
    },
    {
      "cell_type": "code",
      "source": [
        "class f:\n",
        "  def sd(self, first, second):\n",
        "    self.first = first\n",
        "    self.second = second\n",
        "  def ad(self):\n",
        "    re = self.first + self.second\n",
        "    return re\n",
        "  def su(self):\n",
        "    re = self.first - self.second\n",
        "    return re\n",
        "  def mu(self):\n",
        "    re = self.first * self.second\n",
        "    return re\n",
        "  def di(self):\n",
        "    re = self.first / self.second\n",
        "    return re\n",
        "a = f()\n",
        "b = f()\n",
        "c = f()\n",
        "\n",
        "a.sd(51,13)\n",
        "b.sd(879,321)\n",
        "c.sd(333,83)"
      ],
      "metadata": {
        "id": "gVvGhXVEd7En"
      },
      "execution_count": 67,
      "outputs": []
    },
    {
      "cell_type": "code",
      "source": [
        "a.ad()"
      ],
      "metadata": {
        "colab": {
          "base_uri": "https://localhost:8080/"
        },
        "id": "ZuOgsT-ld81p",
        "outputId": "c56aa266-efe3-4fad-e84b-83036fa74272"
      },
      "execution_count": 68,
      "outputs": [
        {
          "output_type": "execute_result",
          "data": {
            "text/plain": [
              "64"
            ]
          },
          "metadata": {},
          "execution_count": 68
        }
      ]
    },
    {
      "cell_type": "code",
      "source": [
        "b.ad()"
      ],
      "metadata": {
        "colab": {
          "base_uri": "https://localhost:8080/"
        },
        "id": "1Io4W1R-d9_C",
        "outputId": "1654ed34-c25b-4091-d60e-3a4c2d892d25"
      },
      "execution_count": 69,
      "outputs": [
        {
          "output_type": "execute_result",
          "data": {
            "text/plain": [
              "1200"
            ]
          },
          "metadata": {},
          "execution_count": 69
        }
      ]
    },
    {
      "cell_type": "code",
      "source": [
        "c.ad()"
      ],
      "metadata": {
        "colab": {
          "base_uri": "https://localhost:8080/"
        },
        "id": "1yJSe5R4d--S",
        "outputId": "9c34d747-ee04-4e60-f233-b19e01a5e9f3"
      },
      "execution_count": 70,
      "outputs": [
        {
          "output_type": "execute_result",
          "data": {
            "text/plain": [
              "416"
            ]
          },
          "metadata": {},
          "execution_count": 70
        }
      ]
    },
    {
      "cell_type": "code",
      "source": [
        "a.su()"
      ],
      "metadata": {
        "colab": {
          "base_uri": "https://localhost:8080/"
        },
        "id": "EctxdJPieAHc",
        "outputId": "8af90067-04bd-4e47-b162-9ef12a77de6e"
      },
      "execution_count": 71,
      "outputs": [
        {
          "output_type": "execute_result",
          "data": {
            "text/plain": [
              "38"
            ]
          },
          "metadata": {},
          "execution_count": 71
        }
      ]
    },
    {
      "cell_type": "code",
      "source": [
        "b.su()"
      ],
      "metadata": {
        "colab": {
          "base_uri": "https://localhost:8080/"
        },
        "id": "iMlnE5BVeBkW",
        "outputId": "260915ce-05c0-46c3-d0a1-383450285ac4"
      },
      "execution_count": 72,
      "outputs": [
        {
          "output_type": "execute_result",
          "data": {
            "text/plain": [
              "558"
            ]
          },
          "metadata": {},
          "execution_count": 72
        }
      ]
    },
    {
      "cell_type": "code",
      "source": [
        "c.su()"
      ],
      "metadata": {
        "colab": {
          "base_uri": "https://localhost:8080/"
        },
        "id": "Ce1vmYpfeDGS",
        "outputId": "ad8268ad-1637-4c74-c4df-f653774c39ab"
      },
      "execution_count": 73,
      "outputs": [
        {
          "output_type": "execute_result",
          "data": {
            "text/plain": [
              "250"
            ]
          },
          "metadata": {},
          "execution_count": 73
        }
      ]
    },
    {
      "cell_type": "code",
      "source": [
        "a.mu()"
      ],
      "metadata": {
        "colab": {
          "base_uri": "https://localhost:8080/"
        },
        "id": "ftS5b4aweECK",
        "outputId": "787f763d-5e00-4348-b36e-a99b4f767218"
      },
      "execution_count": 74,
      "outputs": [
        {
          "output_type": "execute_result",
          "data": {
            "text/plain": [
              "663"
            ]
          },
          "metadata": {},
          "execution_count": 74
        }
      ]
    },
    {
      "cell_type": "code",
      "source": [
        "b.mu()"
      ],
      "metadata": {
        "colab": {
          "base_uri": "https://localhost:8080/"
        },
        "id": "7tpin4VfeFAm",
        "outputId": "dcd582af-e3bd-44b2-f702-9e7696d6e140"
      },
      "execution_count": 76,
      "outputs": [
        {
          "output_type": "execute_result",
          "data": {
            "text/plain": [
              "282159"
            ]
          },
          "metadata": {},
          "execution_count": 76
        }
      ]
    },
    {
      "cell_type": "code",
      "source": [
        "c.mu()"
      ],
      "metadata": {
        "colab": {
          "base_uri": "https://localhost:8080/"
        },
        "id": "t6ovL4IXeHVF",
        "outputId": "0a98f059-cda7-47f4-a075-ccce7cfcc221"
      },
      "execution_count": 77,
      "outputs": [
        {
          "output_type": "execute_result",
          "data": {
            "text/plain": [
              "27639"
            ]
          },
          "metadata": {},
          "execution_count": 77
        }
      ]
    },
    {
      "cell_type": "code",
      "source": [
        "a.di()"
      ],
      "metadata": {
        "colab": {
          "base_uri": "https://localhost:8080/"
        },
        "id": "Ji2X508peJAp",
        "outputId": "5f6eab42-7fe1-4648-d964-58f481bd022e"
      },
      "execution_count": 78,
      "outputs": [
        {
          "output_type": "execute_result",
          "data": {
            "text/plain": [
              "3.923076923076923"
            ]
          },
          "metadata": {},
          "execution_count": 78
        }
      ]
    },
    {
      "cell_type": "code",
      "source": [
        "b.di()"
      ],
      "metadata": {
        "colab": {
          "base_uri": "https://localhost:8080/"
        },
        "id": "YAykOkkCeJ5q",
        "outputId": "e4eca6f7-13e0-46d1-fb55-97125f296242"
      },
      "execution_count": 79,
      "outputs": [
        {
          "output_type": "execute_result",
          "data": {
            "text/plain": [
              "2.7383177570093458"
            ]
          },
          "metadata": {},
          "execution_count": 79
        }
      ]
    },
    {
      "cell_type": "code",
      "source": [
        "c.di()"
      ],
      "metadata": {
        "colab": {
          "base_uri": "https://localhost:8080/"
        },
        "id": "MJVBBmLUeL1S",
        "outputId": "08bd3f23-8298-4c8a-8f79-555ec927309a"
      },
      "execution_count": 80,
      "outputs": [
        {
          "output_type": "execute_result",
          "data": {
            "text/plain": [
              "4.0120481927710845"
            ]
          },
          "metadata": {},
          "execution_count": 80
        }
      ]
    },
    {
      "cell_type": "code",
      "source": [
        "c_re = c.di()\n",
        "r_r = round(c_re,2)\n",
        "print (r_r)"
      ],
      "metadata": {
        "colab": {
          "base_uri": "https://localhost:8080/"
        },
        "id": "WBpQ7VkieNF2",
        "outputId": "3f9177cb-ad53-44c4-c380-34cb585141f0"
      },
      "execution_count": 81,
      "outputs": [
        {
          "output_type": "stream",
          "name": "stdout",
          "text": [
            "4.01\n"
          ]
        }
      ]
    },
    {
      "cell_type": "code",
      "source": [
        "c.di()\n",
        "print(c.di())\n",
        "c_re = c.di()\n",
        "r_r = round(c_re,1)\n",
        "print(r_r)"
      ],
      "metadata": {
        "colab": {
          "base_uri": "https://localhost:8080/"
        },
        "id": "hpqDfdHpeN1y",
        "outputId": "1df44d4f-3bf2-45fa-90c0-99686a44aa73"
      },
      "execution_count": 82,
      "outputs": [
        {
          "output_type": "stream",
          "name": "stdout",
          "text": [
            "4.0120481927710845\n",
            "4.0\n"
          ]
        }
      ]
    },
    {
      "cell_type": "code",
      "source": [
        "class mfc:\n",
        "  def sd (self, first, second):\n",
        "    self.first = first\n",
        "    self.second = second\n",
        "  def p(self):\n",
        "    re = self.first ** self.second\n",
        "    return re\n",
        "a = mfc()"
      ],
      "metadata": {
        "id": "9i2_a9kzePfA"
      },
      "execution_count": 83,
      "outputs": []
    },
    {
      "cell_type": "code",
      "source": [
        "a.sd(11,2)\n",
        "a.p()"
      ],
      "metadata": {
        "colab": {
          "base_uri": "https://localhost:8080/"
        },
        "id": "DY5Cw9JXeQgJ",
        "outputId": "3c937fb9-7d52-46df-d623-bc600cc5d194"
      },
      "execution_count": 84,
      "outputs": [
        {
          "output_type": "execute_result",
          "data": {
            "text/plain": [
              "121"
            ]
          },
          "metadata": {},
          "execution_count": 84
        }
      ]
    },
    {
      "cell_type": "code",
      "source": [
        "a.sd(5,30)\n",
        "a.p()"
      ],
      "metadata": {
        "colab": {
          "base_uri": "https://localhost:8080/"
        },
        "id": "Wve91BoweSLN",
        "outputId": "3ba3569b-bf40-4128-9ad7-0be72312d9cb"
      },
      "execution_count": 85,
      "outputs": [
        {
          "output_type": "execute_result",
          "data": {
            "text/plain": [
              "931322574615478515625"
            ]
          },
          "metadata": {},
          "execution_count": 85
        }
      ]
    },
    {
      "cell_type": "code",
      "source": [
        "class fa:\n",
        "  ln = 'Chandler'\n",
        "a = fa()\n",
        "b = fa()"
      ],
      "metadata": {
        "id": "-lMpaw54eTBu"
      },
      "execution_count": 86,
      "outputs": []
    },
    {
      "cell_type": "code",
      "source": [
        "a.ln"
      ],
      "metadata": {
        "colab": {
          "base_uri": "https://localhost:8080/",
          "height": 35
        },
        "id": "7-_f4HtJeUsU",
        "outputId": "541dcbdb-05c0-4579-caa7-7797f718855d"
      },
      "execution_count": 87,
      "outputs": [
        {
          "output_type": "execute_result",
          "data": {
            "text/plain": [
              "'Chandler'"
            ],
            "application/vnd.google.colaboratory.intrinsic+json": {
              "type": "string"
            }
          },
          "metadata": {},
          "execution_count": 87
        }
      ]
    },
    {
      "cell_type": "code",
      "source": [
        "b.ln"
      ],
      "metadata": {
        "colab": {
          "base_uri": "https://localhost:8080/",
          "height": 35
        },
        "id": "nPzB9sqLeVkE",
        "outputId": "527b3eb3-aa42-4c5a-f680-181a41db3ee9"
      },
      "execution_count": 88,
      "outputs": [
        {
          "output_type": "execute_result",
          "data": {
            "text/plain": [
              "'Chandler'"
            ],
            "application/vnd.google.colaboratory.intrinsic+json": {
              "type": "string"
            }
          },
          "metadata": {},
          "execution_count": 88
        }
      ]
    },
    {
      "cell_type": "code",
      "source": [
        "fa.ln = 'Poppins'"
      ],
      "metadata": {
        "id": "RQun0u4leWc4"
      },
      "execution_count": 89,
      "outputs": []
    },
    {
      "cell_type": "code",
      "source": [
        "a.ln"
      ],
      "metadata": {
        "colab": {
          "base_uri": "https://localhost:8080/",
          "height": 35
        },
        "id": "QGT_Qzc-eXtV",
        "outputId": "433bc9a4-8d2d-4c37-b378-de0d84ac27ac"
      },
      "execution_count": 90,
      "outputs": [
        {
          "output_type": "execute_result",
          "data": {
            "text/plain": [
              "'Poppins'"
            ],
            "application/vnd.google.colaboratory.intrinsic+json": {
              "type": "string"
            }
          },
          "metadata": {},
          "execution_count": 90
        }
      ]
    },
    {
      "cell_type": "code",
      "source": [
        "b.ln"
      ],
      "metadata": {
        "colab": {
          "base_uri": "https://localhost:8080/",
          "height": 35
        },
        "id": "GijEwf76eZZi",
        "outputId": "52e61842-9583-4778-f49f-e22d070a4bcb"
      },
      "execution_count": 91,
      "outputs": [
        {
          "output_type": "execute_result",
          "data": {
            "text/plain": [
              "'Poppins'"
            ],
            "application/vnd.google.colaboratory.intrinsic+json": {
              "type": "string"
            }
          },
          "metadata": {},
          "execution_count": 91
        }
      ]
    },
    {
      "cell_type": "code",
      "source": [
        "class g:\n",
        "  def sh(self):\n",
        "    print ('How are you?')\n",
        "  def sb(self,name):\n",
        "    print ('%s, see you!' %name)\n",
        "oj = g()\n",
        "oj.sh()\n",
        "oj.sb('Emma')"
      ],
      "metadata": {
        "colab": {
          "base_uri": "https://localhost:8080/"
        },
        "id": "hagZBtM_eacC",
        "outputId": "1f0f7272-d9e2-4311-8e29-50f992c266ef"
      },
      "execution_count": 92,
      "outputs": [
        {
          "output_type": "stream",
          "name": "stdout",
          "text": [
            "How are you?\n",
            "Emma, see you!\n"
          ]
        }
      ]
    },
    {
      "cell_type": "code",
      "source": [
        "# 아래는 함수 코드임 클래스도 설정안되어 있고, 매소드는 클래스와 연관있으니 아님.\n",
        "re = 0\n",
        "def ad(num):\n",
        "  global re\n",
        "  re += num\n",
        "  return re\n",
        "\n",
        "print (ad(3))\n",
        "print (ad(4))\n",
        "print (ad(5))"
      ],
      "metadata": {
        "colab": {
          "base_uri": "https://localhost:8080/"
        },
        "id": "ojFS9qWweb96",
        "outputId": "6dde5e77-ea68-4d1d-c9d2-450302e9facd"
      },
      "execution_count": 93,
      "outputs": [
        {
          "output_type": "stream",
          "name": "stdout",
          "text": [
            "3\n",
            "7\n",
            "12\n"
          ]
        }
      ]
    },
    {
      "cell_type": "code",
      "source": [
        "class cc:\n",
        "  def i(self):\n",
        "    self.re = 0\n",
        "  def ad(self, num):\n",
        "    self.re += num\n",
        "    return self.re\n",
        "  def su(self, num):\n",
        "    self.re -= num\n",
        "    return self.re\n",
        "c = cc()\n",
        "c.i()\n",
        "re_ad = c.ad(3)\n",
        "re_su = c.su(1)\n",
        "print (re_ad)\n",
        "print (re_su)"
      ],
      "metadata": {
        "colab": {
          "base_uri": "https://localhost:8080/"
        },
        "id": "kIXTSfNieddM",
        "outputId": "60468055-12bf-4818-ed35-227e951056b8"
      },
      "execution_count": 94,
      "outputs": [
        {
          "output_type": "stream",
          "name": "stdout",
          "text": [
            "3\n",
            "2\n"
          ]
        }
      ]
    },
    {
      "cell_type": "code",
      "source": [
        "class cc:\n",
        "  def i(self):\n",
        "    self.re = 0\n",
        "  def ad(self, num):\n",
        "    self.re += num\n",
        "    return self.re\n",
        "  def su(self, num):\n",
        "    self.re -= num\n",
        "    return self.re\n",
        "c = cc()\n",
        "c.i()\n",
        "print (c.ad(9))\n",
        "print (c.su(3))\n",
        "print (c.ad(11))\n",
        "print (c.su(25))"
      ],
      "metadata": {
        "colab": {
          "base_uri": "https://localhost:8080/"
        },
        "id": "mdTHK_n7eey6",
        "outputId": "ca0b8e57-9c6b-4c2a-e522-4f6461a27ab7"
      },
      "execution_count": 95,
      "outputs": [
        {
          "output_type": "stream",
          "name": "stdout",
          "text": [
            "9\n",
            "6\n",
            "17\n",
            "-8\n"
          ]
        }
      ]
    },
    {
      "cell_type": "markdown",
      "source": [
        "## 📙 **Open & Close**\n",
        "\n",
        "| 모드     | 설명  |\n",
        "|:--------|:-:|\n",
        "| r or rt | 텍스트 모드로 읽기 |\n",
        "| w or wt | 텍스트 모드로 쓰기 |\n",
        "| a or at | 텍스트 모드로 파일 마지막에 추가하기 |\n",
        "| rb| binary 모드로 읽기 |\n",
        "| wb | binary 모드로 쓰기 |\n",
        "| ab| binary 모드로 마지막에 추가하기|\n",
        ">\n",
        "#### 🎲 파일을 열 때에는 내장함수 (open(인자1, 인자2))을 사용한다.\n",
        "  \n",
        "  - 첫번째 인자에 파일 포멧까지 적어준다.\n",
        "  - 첫번째 인자는 파일이름만 쓰거나 전체적인 directory을 d: / / 등으로 슬래시를 사용하여 표시할 수 있다.\n",
        "  - 예시\n",
        "      - file1 = open('이미지파일.jpg', 'rb')\n",
        "      - file2 = open('텍스트파일.txt', 'rt')\n",
        "\n",
        ">\n",
        "#### 🎲🎲   읽을 수 있는 모드로 파일을 먼저 호출 했으면, ➡️ 이 파일 안에 내용을 읽을 때에는 내장함수 read()를 사용한다. 파일변수 입력 후, Period 찍고, read() 내장함수를 입력한다. (예시: variable.read()).\n",
        "\n",
        "#### 🎲🎲🎲   파일을 닫을 때에는 열어놓은 파일 변수 입력 후, Period 찍고, close() 내장함수를 입력한다. (예시: variable.close())\n",
        "\n"
      ],
      "metadata": {
        "id": "ExnkFwTZek41"
      }
    },
    {
      "cell_type": "code",
      "source": [
        "from urllib.request import urlopen\n",
        "url = 'https://google.com/'\n",
        "with urlopen(url) as f:\n",
        "  content = f.read().decode()\n",
        "  with open('google_html', 'w') as cf:\n",
        "    cf.write(content)"
      ],
      "metadata": {
        "id": "p4nzb-L1eggk"
      },
      "execution_count": 96,
      "outputs": []
    },
    {
      "cell_type": "code",
      "source": [
        "file = open('/content/exr/He had successfully avoided meeting his landlady on the stairs.txt','rt')\n",
        "txt = file.read()\n",
        "print (txt)\n",
        "file.close()"
      ],
      "metadata": {
        "colab": {
          "base_uri": "https://localhost:8080/",
          "height": 211
        },
        "collapsed": true,
        "id": "T8u5FuIBepdS",
        "outputId": "4904ecef-7dad-46ca-9b5a-564dd648e63a"
      },
      "execution_count": 97,
      "outputs": [
        {
          "output_type": "error",
          "ename": "FileNotFoundError",
          "evalue": "[Errno 2] No such file or directory: '/content/exr/He had successfully avoided meeting his landlady on the stairs.txt'",
          "traceback": [
            "\u001b[0;31m---------------------------------------------------------------------------\u001b[0m",
            "\u001b[0;31mFileNotFoundError\u001b[0m                         Traceback (most recent call last)",
            "\u001b[0;32m<ipython-input-97-658d0b7db8c1>\u001b[0m in \u001b[0;36m<cell line: 1>\u001b[0;34m()\u001b[0m\n\u001b[0;32m----> 1\u001b[0;31m \u001b[0mfile\u001b[0m \u001b[0;34m=\u001b[0m \u001b[0mopen\u001b[0m\u001b[0;34m(\u001b[0m\u001b[0;34m'/content/exr/He had successfully avoided meeting his landlady on the stairs.txt'\u001b[0m\u001b[0;34m,\u001b[0m\u001b[0;34m'rt'\u001b[0m\u001b[0;34m)\u001b[0m\u001b[0;34m\u001b[0m\u001b[0;34m\u001b[0m\u001b[0m\n\u001b[0m\u001b[1;32m      2\u001b[0m \u001b[0mtxt\u001b[0m \u001b[0;34m=\u001b[0m \u001b[0mfile\u001b[0m\u001b[0;34m.\u001b[0m\u001b[0mread\u001b[0m\u001b[0;34m(\u001b[0m\u001b[0;34m)\u001b[0m\u001b[0;34m\u001b[0m\u001b[0;34m\u001b[0m\u001b[0m\n\u001b[1;32m      3\u001b[0m \u001b[0mprint\u001b[0m \u001b[0;34m(\u001b[0m\u001b[0mtxt\u001b[0m\u001b[0;34m)\u001b[0m\u001b[0;34m\u001b[0m\u001b[0;34m\u001b[0m\u001b[0m\n\u001b[1;32m      4\u001b[0m \u001b[0mfile\u001b[0m\u001b[0;34m.\u001b[0m\u001b[0mclose\u001b[0m\u001b[0;34m(\u001b[0m\u001b[0;34m)\u001b[0m\u001b[0;34m\u001b[0m\u001b[0;34m\u001b[0m\u001b[0m\n",
            "\u001b[0;31mFileNotFoundError\u001b[0m: [Errno 2] No such file or directory: '/content/exr/He had successfully avoided meeting his landlady on the stairs.txt'"
          ]
        }
      ]
    },
    {
      "cell_type": "code",
      "source": [
        "from urllib.request import urlopen\n",
        "\n",
        "url = \"https://raw.githubusercontent.com/ms624atyale/Temp_Data/main/Crime_Punishment_ChOne_Part.txt\"\n",
        "with urlopen(url) as f:\n",
        "  content = f.read().decode()\n",
        "  with open ('crime_punish_copied.html','wt') as cf:\n",
        "    cf.write(content)\n",
        "file = open(\"/content/crime_punish_copied.html\",\"rt\")\n",
        "file.read()"
      ],
      "metadata": {
        "colab": {
          "base_uri": "https://localhost:8080/",
          "height": 192
        },
        "collapsed": true,
        "id": "LXC3EFaVeqhc",
        "outputId": "70f81a92-235a-4886-890d-60d88c3a6653"
      },
      "execution_count": 98,
      "outputs": [
        {
          "output_type": "execute_result",
          "data": {
            "text/plain": [
              "'He had successfully avoided meeting his landlady on the stairs. His closet of a room was under the roof of a high, five-floor house and was more like a cupboard than a place in which to live. The landlady who provided him with the room and with dinner and service lived on the floor below, and every time he went out he was obliged to pass her kitchen, the door of which was always open. And each time he passed, the young man had a sick, frightened feeling, which made him grimace and feel ashamed. He was hopelessly in debt to his landlady and was afraid of meeting her.\\n\\nThis was not because he was cowardly and browbeaten, quite the contrary; but for some time past he had been in an overstrained irritable condition, verging on hypochondria. He had become so completely absorbed in himself and isolated from everyone else that he dreaded meeting not only his landlady, but anyone at all. He was crushed by poverty, but even the anxieties of his position had recently ceased to weigh upon him. He had given up attending to matters of practical importance; he had lost all desire to do so. In fact, nothing that any landlady could do held any terror for him. But to be stopped on the stairs, to be forced to listen to her trivial, irrelevant gossip, to pestering demands for payment, threats and complaints, all the while racking his brains for excuses, avoiding the issue, lying — no, he would rather creep down the stairs like a cat and slip out unseen.\\n\\nHowever, when he emerged onto the street that evening, he became acutely aware of his fears.\\n\\n“I want to attempt a thing like that and am frightened by these trifles,” he thought, with an odd smile. “Hm . . . yes, everything is in someone’s hands and they let it all slip out of cowardice, that’s an axiom. It would be interesting to know what it is people are most afraid of. Taking a new step, uttering a new word is what they fear most . . . But I am talking too much. It’s because I babble that I do nothing. Or perhaps it is that I babble because I do nothing. I’ve learned to babble this last month, lying for days on end in my corner thinking . . . just nonsense. Why am I going there now? Am I capable of that? Is that seriously possible? I’m not serious about it at all. It’s just a fantasy to amuse myself; a plaything! Yes, maybe it is a plaything.”\\n\\nThe heat in the street was terrible: and the airlessness, the bustle, the plaster, the scaffolding, the bricks and the dust all around him, and that special Petersburg stench, so familiar to everyone who is unable to get out of town during the summer — all worked painfully upon the young man’s already overwrought nerves. The unbearable stench from the taverns, which are particularly numerous in that part of the town, and the drunken men whom he met continually, although it was a weekday, completed the revolting misery of the picture. An expression of the deepest disgust gleamed for a moment in the young man’s refined face. He was, by the way, exceptionally handsome, above average in height, slim, well-built, with beautiful dark eyes and dark brown hair. Soon, though, he sank into deep thought, or more accurately speaking into a complete blankness of mind; he walked along not observing what was around him and not caring to observe it. From time to time, because he used to talk to himself, he would mutter something, a habit to which he had just confessed. At these moments he would become conscious that his ideas were sometimes in a tangle and that he was very weak; for two days he had had almost nothing to eat.\\n\\nHe was so badly dressed that even a man accustomed to shabbiness would have been ashamed to be seen in the street in such rags. In that part of town, however, scarcely any shortcoming in dress would have created surprise. Due to the proximity of the Haymarket, the number of establishments of a certain kind and the overwhelming numbers of craftsmen and workers crowded in these streets and alleys at the center of Petersburg, so many different types of people were to be seen in the streets that no figure, however strange, would have caused surprise. But there was such accumulated spite and contempt in the young man’s heart, that, in spite of all the cares of youth, he minded his rags least of all. It was a different matter when he met with acquaintances or with former fellow students, whom, indeed, he disliked meeting at any time. And yet when a drunken man who, for some unknown reason, was being taken somewhere in a huge cart dragged by a heavy cart-horse, suddenly shouted at him as he drove past, “Hey there, German hatter,” bellowing at the top of his voice and pointing at him — the young man stopped suddenly and clutched trembling at his hat. It was a tall round one from Zimmermann’s, but completely worn out, rusty with age, all torn and bespattered, brimless and bent on one side in a most hideous fashion. Not shame, however, but another feeling akin to terror had overtaken him.'"
            ],
            "application/vnd.google.colaboratory.intrinsic+json": {
              "type": "string"
            }
          },
          "metadata": {},
          "execution_count": 98
        }
      ]
    },
    {
      "cell_type": "code",
      "source": [
        "from urllib.request import urlopen\n",
        "\n",
        "url = \"https://raw.githubusercontent.com/Irhs1220/data/main/crime_punishment_ch_one.txt\"\n",
        "with urlopen(url) as f:\n",
        "  doc = f.read().decode()\n",
        "  with open ('crime_punish_copied.html','wt') as cf:\n",
        "    cf.write(doc)\n",
        "file = open(\"/content/crime_punish_copied.html\",\"rt\")\n",
        "file.read().replace(\"\\n\",\" \")"
      ],
      "metadata": {
        "colab": {
          "base_uri": "https://localhost:8080/",
          "height": 192
        },
        "collapsed": true,
        "id": "JGIKua-IetCa",
        "outputId": "71c5d314-a9c6-43fd-a7db-a39282597397"
      },
      "execution_count": 99,
      "outputs": [
        {
          "output_type": "execute_result",
          "data": {
            "text/plain": [
              "'PART ONE  CHAPTER ONE  ON AN EXCEPTIONALLY HOT evening early in July a young man came out of the tiny room which he rented from tenants in S. Place and walked slowly, as though in hesitation, towards K. Bridge.  He had successfully avoided meeting his landlady on the stairs. His closet of a room was under the roof of a high, five-floor house and was more like a cupboard than a place in which to live. The landlady who provided him with the room and with dinner and service lived on the floor below, and every time he went out he was obliged to pass her kitchen, the door of which was always open. And each time he passed, the young man had a sick, frightened feeling, which made him grimace and feel ashamed. He was hopelessly in debt to his landlady and was afraid of meeting her.  This was not because he was cowardly and browbeaten, quite the contrary; but for some time past he had been in an overstrained irritable condition, verging on hypochondria. He had become so completely absorbed in himself and isolated from everyone else that he dreaded meeting not only his landlady, but anyone at all. He was crushed by poverty, but even the anxieties of his position had recently ceased to weigh upon him. He had given up attending to matters of practical importance; he had lost all desire to do so. In fact, nothing that any landlady could do held any terror for him. But to be stopped on the stairs, to be forced to listen to her trivial, irrelevant gossip, to pestering demands for payment, threats and complaints, all the while racking his brains for excuses, avoiding the issue, lying — no, he would rather creep down the stairs like a cat and slip out unseen.  However, when he emerged onto the street that evening, he became acutely aware of his fears.  “I want to attempt a thing like that and am frightened by these trifles,” he thought, with an odd smile. “Hm . . . yes, everything is in someone’s hands and they let it all slip out of cowardice, that’s an axiom. It would be interesting to know what it is people are most afraid of. Taking a new step, uttering a new word is what they fear most . . . But I am talking too much. It’s because I babble that I do nothing. Or perhaps it is that I babble because I do nothing. I’ve learned to babble this last month, lying for days on end in my corner thinking . . . just nonsense. Why am I going there now? Am I capable of that? Is that seriously possible? I’m not serious about it at all. It’s just a fantasy to amuse myself; a plaything! Yes, maybe it is a plaything.”  The heat in the street was terrible: and the airlessness, the bustle, the plaster, the scaffolding, the bricks and the dust all around him, and that special Petersburg stench, so familiar to everyone who is unable to get out of town during the summer — all worked painfully upon the young man’s already overwrought nerves. The unbearable stench from the taverns, which are particularly numerous in that part of the town, and the drunken men whom he met continually, although it was a weekday, completed the revolting misery of the picture. An expression of the deepest disgust gleamed for a moment in the young man’s refined face. He was, by the way, exceptionally handsome, above average in height, slim, well-built, with beautiful dark eyes and dark brown hair. Soon, though, he sank into deep thought, or more accurately speaking into a complete blankness of mind; he walked along not observing what was around him and not caring to observe it. From time to time, because he used to talk to himself, he would mutter something, a habit to which he had just confessed. At these moments he would become conscious that his ideas were sometimes in a tangle and that he was very weak; for two days he had had almost nothing to eat.  He was so badly dressed that even a man accustomed to shabbiness would have been ashamed to be seen in the street in such rags. In that part of town, however, scarcely any shortcoming in dress would have created surprise. Due to the proximity of the Haymarket, the number of establishments of a certain kind and the overwhelming numbers of craftsmen and workers crowded in these streets and alleys at the center of Petersburg, so many different types of people were to be seen in the streets that no figure, however strange, would have caused surprise. But there was such accumulated spite and contempt in the young man’s heart, that, in spite of all the cares of youth, he minded his rags least of all. It was a different matter when he met with acquaintances or with former fellow students, whom, indeed, he disliked meeting at any time. And yet when a drunken man who, for some unknown reason, was being taken somewhere in a huge cart dragged by a heavy cart-horse, suddenly shouted at him as he drove past, “Hey there, German hatter,” bellowing at the top of his voice and pointing at him — the young man stopped suddenly and clutched trembling at his hat. It was a tall round one from Zimmermann’s, but completely worn out, rusty with age, all torn and bespattered, brimless and bent on one side in a most hideous fashion. Not shame, however, but another feeling akin to terror had overtaken him.  “I knew it,” he muttered in confusion, “I thought so! That’s the worst of all! A stupid thing like this, the most trivial detail might spoil the whole plan. Yes, my hat is too noticeable . . . It looks absurd and that makes it noticeable . . . With my rags I ought to wear a cap, any old pancake, but not this grotesque thing. Nobody wears hats like this, it would be noticed a mile off, it would be remembered... What matters is that people would remember it, and that would give them a clue. For this business I should be as unnoticeable as possible . . . Trifles, trifles are what matter! It’s just such trifles that always ruin everything . . . ”  He did not have far to go; he knew indeed how many steps it was from the gate of his house: exactly seven hundred and thirty. He had counted them once when he had been lost in dreams. At the time he had put no faith in those dreams and was only tantalizing himself with their hideous insolence. Now, a month later, he had begun to look upon them differently, and, in spite of the monologues in which he jeered at his own impotence and indecision, he had even, involuntarily as it were, come to regard this “hideous” dream as an exploit to be attempted, although he still did not quite believe in this himself. He was now definitely going for a “rehearsal” of this undertaking of his, and at every step he grew more and more excited.  With a sinking heart and a nervous tremor, he went up to a huge house which on one side looked on to the canal, and on the other into the street. This house was let out in tiny apartments and was inhabited by working people of all kinds — tailors, locksmiths, cooks, Germans of all sorts, girls picking up a living as best they could, petty clerks, etc. There was a continual coming and going through the two gates and in the two courtyards of the house. Three or four door-keepers were employed in the building. The young man was very glad not to meet any of them, and at once slipped unnoticed through the door on the right, and up the staircase. It was a back staircase, dark and narrow, but he was familiar with it already, and knew his way, and he liked all these surroundings: in such darkness even the most inquisitive eyes were not to be feared.  “If I am so scared now, what would it be if it somehow came to pass that I were really going to do it?” he could not help asking himself as he reached the fourth floor. There his progress was barred by some porters who were moving furniture out of an apartment. He knew that the apartment had been occupied by a German clerk in the civil service, and his family. This German was moving out then, and so the fourth floor on this staircase would be vacant except for the old woman. “That’s a good thing anyway,” he thought to himself, as he rang the bell of the old woman’s flat. The bell gave a faint tinkle as though it were made of tin and not of copper. The little apartments in such houses always have bells that ring like that. He had forgotten the note of that bell, and now its peculiar tinkle seemed to remind him of something and to bring it clearly before him . . . He gave a start, his nerves were terribly overstrained by now. In a little while, the door was opened a tiny crack: the old woman eyed her visitor with evident distrust through the crack, and nothing could be seen but her little eyes, glittering in the darkness. But, seeing a number of people on the landing, she grew bolder, and opened the door wide. The young man stepped into the dark entryway, which was partitioned off from the tiny kitchen. The old woman stood facing him in silence and looking inquiringly at him. She was a diminutive, withered old woman of sixty, with sharp mean eyes and a sharp little nose. Her colorless, somewhat grizzled hair was thickly smeared with oil, and she wore no kerchief over it. Round her thin long neck, which looked like a hen’s leg, was knotted some sort of flannel rag, and, in spite of the heat, there hung flapping on her shoulders a tattered fur cape, yellow with age. The old woman coughed and groaned at every instant. The young man must have looked at her with a rather peculiar expression, for a gleam of mistrust came into her eyes again.  “Raskolnikov, a student, I came here a month ago,” the young man made haste to mutter, with a half bow, remembering that he ought to be more polite.  “I remember, sir, I remember quite well your coming here,” the old woman said distinctly, still keeping her inquiring eyes on his face.  “And here . . . I am again on the same errand,” Raskolnikov continued, a little disconcerted and surprised at the old woman’s mistrust. “Perhaps she is always like that though, only I did not notice it the other time,” he thought with an uneasy feeling.  The old woman paused, as though hesitating; then stepped to the side, and pointing to the door of the room, she said, letting her visitor pass in front of her:  “Step in, sir.”  The little room the young man walked into, with yellow paper on the walls, geraniums and muslin curtains in the windows, was brightly lit up at that moment by the setting sun.  “So the sun will shine like this then too!” flashed as it were by chance through Raskolnikov’s mind, and with a rapid glance he scanned everything in the room, trying as far as possible to notice and remember its arrangement. But there was nothing special in the room. The furniture, all very old and made of yellow wood, consisted of a sofa with a huge bent wooden back, an oval table in front of the sofa, a dressing-table with a mirror fixed on it between the windows, chairs along the walls and two or three cheap prints in yellow frames, representing German maidens with birds in their hands — that was all. In the corner a light was burning in front of a small icon. Everything was very clean; the floor and the furniture were brightly polished; everything shone.  “Lizaveta’s work,” thought the young man. There was not a speck of dust to be seen in the whole apartment.  “It’s in the houses of spiteful old widows that one finds such cleanliness,” Raskolnikov thought again, and he stole a curious glance at the cotton curtain over the door leading into another tiny room, in which stood the old woman’s bed and chest of drawers and into which he had never looked before. These two rooms made up the whole apartment.  “What do you want?” the old woman said severely, coming into the room and, as before, standing in front of him so as to look him straight in the face.  “I’ve brought something to pawn here,” and he drew out of his pocket an old-fashioned flat silver watch, on the back of which was engraved a globe; the chain was of steel.  “But the time is up for your last pledge. The month was up the day before yesterday.”  “I will bring you the interest for another month; wait a little.”  “That’s for me to do as I please, sir, to wait or to sell your pledge at once.”  “How much will you give me for the watch, Aliona Ivanovna?”  “You come with such trifles, sir, it’s scarcely worth anything. I gave you two rubles last time for your ring and one could buy it quite new at a jeweler’s for a ruble and a half.”  “Give me four rubles for it, I will redeem it, it was my father’s. I will be getting some money soon.”  “A ruble and a half, and interest in advance, if you like!”  “A ruble and a half!” cried the young man.  “As you wish” — and the old woman handed him back the watch. The young man took it, and was so angry that he was on the point of going away; but checked himself at once, remembering that there was nowhere else he could go, and that he had had another reason for coming.  “Hand it over,” he said roughly.  The old woman fumbled in her pocket for her keys, and disappeared behind the curtain into the other room. The young man, left standing alone in the middle of the room, listened inquisitively, thinking. He could hear her unlocking the chest of drawers.  “It must be the top drawer,” he reflected. “So she carries the keys in a pocket on the right. All in one bunch on a steel ring . . . And there’s one key there, three times as big as all the others, with deep notches; that can’t be the key for the chest of drawers . . . then there must be some other chest or b-box . . . that’s worth knowing. Strong-boxes always have keys like that . . . but how degrading it all is.”  The old woman came back.  “Here, sir: as we say ten kopecks the ruble a month, so I must take fifteen kopecks from a ruble and a half for the month in advance. But for the two rubles I lent you before, you owe me now twenty kopecks on the same reckoning in advance. That makes thirty-five kopecks altogether. So I must give you a ruble and fifteen kopecks for the watch. Here it is.”  “What! Only a ruble and fifteen kopecks now!”  “Exactly.”  The young man did not dispute it and took the money. He looked at the old woman, and was in no hurry to get away, as though there was still something he wanted to say or to do, but he did not himself quite know what.  “I may be bringing you something else in a day or two, Aliona Ivanovna — a valuable thing, silver, a cigarette box, as soon as I get it back from a friend . . . ” he broke off in confusion.  “Well, we will talk about it then, sir.”  “Goodbye — are you always at home alone, your sister is not here with you?” he asked her as casually as possible as he went out into the passage.  “What business is she of yours, sir?”  “Oh, nothing particular, I simply asked. You are too quick . . . Good-day, Aliona Ivanovna.”  Raskolnikov went out in complete confusion. This confusion became more and more intense. As he went down the stairs, he even stopped short, two or three times, as though suddenly struck by some thought. When he was in the street he cried out, “Oh, God, how loathsome it all is! and can I, can I possibly . . . No, it’s nonsense, it’s absurd!” he added resolutely. “And how could such an atrocious thing come into my head? What filthy things my heart is capable of. Yes, filthy above all, disgusting, loathsome, loathsome! — and for a whole month I’ve been . . . ” But no words, no exclamations, could express his agitation. The feeling of intense repulsion, which had begun to oppress and torture his heart while he was on his way to the old woman, had by now reached such a pitch and had taken such a definite form that he did not know what to do with himself to escape from his wretchedness. He walked along the pavement like a drunken man, oblivious of the passersby, and jostling against them, and only came to his senses when he was in the next street. Looking round, he noticed that he was standing close to a tavern which was entered by steps leading from the pavement to the basement. At that instant two drunken men came out of the door and, abusing and supporting one another, they mounted the steps. Without stopping to think, Raskolnikov went down the steps at once. Until that moment he had never been into a tavern, but now he felt dizzy and was tormented by a burning thirst. He longed for a drink of cold beer, and attributed his sudden weakness to hunger. He sat down at a sticky little table in a dark and dirty corner; ordered some beer, and eagerly drank off the first glassful. At once he felt relief; and his thoughts became clear.  “All that’s nonsense,” he said hopefully, “and there is nothing in it all to worry about! It’s simply physical weakness. Just a glass of beer, a piece of dry bread — and in one moment the brain is ber, the mind is clearer and the will is firm! Pah, how utterly petty it all is!”  But, though he spat this out so scornfully, he was by now looking cheerful as though he were suddenly set free from a terrible burden: and he gazed round in a friendly way at the people in the room. But even at that moment he had a dim foreboding that this happier frame of mind was also not normal.  There were few people at the time in the tavern. Besides the two drunken men he had met on the steps, a group consisting of about five men, with a girl and a concertina, had gone out at the same time. Their departure left the room quiet and rather empty. The persons remaining were a man who appeared to be an artisan, drunk, but not extremely so, sitting with a beer, and his companion, a huge, stout man with a gray beard, in a short full-skirted coat. He was very drunk and had dozed off on the bench; every now and then, as if in his sleep, he began cracking his fingers, with his arms wide apart and the upper part of his body bouncing about on the bench, while he hummed some meaningless refrain, trying to recall some such lines as these: —  “His wife a year he stroked and loved  His wife a — a year he — stroked and loved.” —  Or suddenly waking up again: —  “Walking along the crowded row  He met the one he used to know.” —  But no-one shared his enjoyment: his silent companion looked at all these outbursts with hostility and mistrust. There was another man in the room who looked somewhat like a retired government clerk. He was sitting apart, sipping now and then from his mug and looking round at the company. He, too, appeared to be somewhat excited.  CHAPTER TWO  RASKOLNIKOV WAS NOT USED to crowds, and, as was said previously, he avoided society of every sort, especially recently. But now all at once he felt a desire to be with other people. Something new seemed to be taking place within him, and with it he felt a sort of thirst for company. He was so weary after a whole month of concentrated wretchedness and gloomy excitement that he longed to rest, if only for a moment, in some other world, whatever it might be; and, in spite of the filthiness of the surroundings, he was glad now to stay in the tavern.  The owner of the establishment was in another room, but he frequently came down some steps into the main room, his jaunty, polished boots with red turn-over tops coming into view each time before the rest of him. He wore a full coat and a horribly greasy black satin waistcoat, with no cravat, and his whole face seemed smeared with oil like an iron lock. At the counter stood a boy of about fourteen, and there was another somewhat younger boy who served the customers. On the counter lay some sliced cucumber, some pieces of dried black bread, and some fish chopped up into little pieces, all smelling very bad. It was unbearably humid, and so heavy with the fumes of alcohol that five minutes in such an atmosphere could well cause drunkenness.  We all have chance meetings with people, even with complete strangers, who interest us at first glance, suddenly, before a word is spoken. Such was the impression made on Raskolnikov by the person sitting a little distance from him, who looked like a retired clerk. The young man often recalled this impression afterwards, and even ascribed it to presentiment. He looked repeatedly at the clerk, partly no doubt because the latter was staring persistently at him, obviously anxious to enter into conversation. The clerk looked at the other persons in the room, including the tavern-keeper, as though he were used to their company, and weary of it, showing at the same time a shade of patronizing contempt for them as members of a culture inferior to his own, with whom it would be useless for him to converse. He was over fifty, bald and grizzled, of medium height, and stoutly built. His face, bloated from continual drinking, was of a yellow, even greenish, tinge, with swollen eyelids out of which keen reddish eyes gleamed like little slits. But there was something very strange in him; there was a light in his eyes as though of intense feeling — perhaps there was even a streak of thought and intelligence, but at the same time they gleamed with something like madness. He was wearing an old and hopelessly ragged black dress coat, with all its buttons missing except one, which he had buttoned, evidently wishing to preserve his respectability. A crumpled shirt front covered with spots and stains, protruded from his canvas waistcoat. Like a clerk, he did not have a beard or a moustache, but had been so long unshaven that his chin looked like a stiff grayish brush. And there was also something respectable and official about his manner. But he was restless; he ruffled up his hair and from time to time let his head drop into his hands dejectedly resting his ragged elbows on the stained and sticky table. At last he looked straight at Raskolnikov, and said loudly and resolutely:  “May I venture, dear sir, to engage you in polite conversation? For although your exterior would not command respect, my experience distinguishes in you a man of education and not accustomed to drinking. I have always respected education united with genuine feelings, and I am besides a titular councilor in rank. Marmeladov — that is my name; titular councilor. May I inquire — have you been in the service?”  “No, I am studying,” answered the young man, somewhat surprised at the grand style of the speaker and also at being so directly addressed. In spite of the momentary desire he had just been feeling for company of any sort, when he was actually spoken to he felt his habitual irritable uneasiness at any stranger who approached or attempted to approach him.  “A student then, or a former student,” cried the clerk. “Just what I thought! I’m a man of experience, immense experience, sir,” and he tapped his forehead with his fingers in self-approval. “You’ve been a student or have attended some learned institution! . . . But allow me ... ” He got up, staggered, took up his jug and glass, and sat down beside the young man, facing him a little sideways. He was drunk, but spoke fluently and boldly, only occasionally losing the thread of his sentences and drawling his words. He pounced upon Raskolnikov as greedily as though he too had not spoken to a soul for a month.  “Dear sir,” he began almost with solemnity, “poverty is not a vice, that’s a true saying. Yet I know too that drunkenness is not a virtue, and that that’s even truer. But destitution, dear sir, destitution is a vice. In poverty you may still retain your innate nobility of soul, but in destitution — never — no-one. For destitution a man is not chased out of human society with a stick, he is swept out with a broom, so as to make it as humiliating as possible; and quite right, too, for in destitution I am the first to humiliate myself. Hence the tavern! Dear sir, a month ago Mr. Lebeziatnikov gave my wife a beating, and my wife is a very different matter from me! Do you understand? Allow me to ask you another question out of simple curiosity: have you ever spent a night on a hay barge, on the Neva?”  “No, I haven’t,” answered Raskolnikov. “What do you mean?”  “Well, I’ve just come from one and it’s the fifth night . . . ” He filled his glass, emptied it and paused. Bits of hay were in fact clinging to his clothes and sticking to his hair. It seemed quite probable that he had not undressed or washed for the last five days. His hands, particularly, were filthy. They were fat and red, with black nails.  His conversation seemed to excite a general though languid interest. The boys at the counter began to snigger. The innkeeper came down from the upper room, apparently on purpose to listen to the “clown” and sat down at a little distance, yawning lazily, but with dignity. Evidently Marmeladov was a familiar figure here, and he had most likely acquired his weakness for high-flown speeches from the habit of frequently entering into conversation with strangers of all sorts in the tavern. This habit develops into a necessity in some drunkards, and especially in those who are looked after strictly and kept in order at home. Hence in the company of other drinkers they try to justify themselves and even if possible obtain respect.  “Clown!” pronounced the innkeeper. “And why don’t ya work, why aren’t ya at the office, if y’are an official?”  “Why am I not at the office, dear sir,” Marmeladov went on, addressing himself exclusively to Raskolnikov, as though it had been he who put that question to him. “Why am I not at the office? Does not my heart ache to think what a useless worm I am? A month ago when Mr. Lebeziatnikov beat my wife with his own hands, and I lay drunk, didn’t I suffer? Excuse me, young man, has it ever happened to you . . . hm . . . well, to ask hopelessly for a loan?”  “Yes, it has. But what do you mean by hopelessly?”  “Hopelessly in the fullest sense, when you know beforehand that you will get nothing by it. You know, for instance, beforehand with positive certainty that this man, this most reputable and exemplary citizen, will on no consideration give you money; and indeed I ask you why should he? For he knows of course that I won’t pay it back. From compassion? But Mr. Lebeziatnikov who keeps up with modern ideas explained the other day that compassion is forbidden nowadays by science itself, and that that’s how it is done now in England, where there is political economy. Why, I ask you, should he give it to me? And knowing beforehand that he won’t, you set off to him and . . . ”  “Why do you go?” put in Raskolnikov.  “But what if there is no-one, nowhere else one can go! For every man must have somewhere to go. Since there are times when one absolutely must go somewhere! When my own daughter first went out with a yellow ticket, then I had to go . . . (for my daughter has a yellow ticket),” he added in parenthesis, looking with a certain uneasiness at the young man. “No matter, sir, no matter!” he went on hurriedly and with apparent composure when both the boys at the counter guffawed and even the innkeeper smiled — “No matter, I am not embarrassed by the wagging of their heads; for every one knows everything about it already, and all that is secret will be revealed. And I accept it all, not with contempt, but with humility. So be it! So be it! ‘Behold the man!’ Excuse me, young man, can you . . . No, to put it more bly and more distinctly; not can you but dare you, looking upon me, assert that I am not a pig?”  The young man did not answer a word.  “Well,” the orator began again persistently and with even more dignity, after waiting for the laughter in the room to subside. “Well, so be it, I am a pig, but she is a lady! I have the semblance of a beast, but Katerina Ivanovna, my spouse, is a person of education and an officer’s daughter. Granted, granted, I am a scoundrel, but she is a woman of a noble heart, full of sentiments, refined by education. And yet . . . oh, if only she pitied me! Dear sir, dear sir, you know every man ought to have at least one place where people pity him! But Katerina Ivanovna, though she is generous, she is unjust . . . And yet, although I realize that when she pulls my hair she does it merely out of pity — for I repeat without being ashamed, she pulls my hair, young man,” he declared with redoubled dignity, hearing the sniggering again — “but, my God, if she would but once . . . But no, no! It’s all in vain and it’s no use talking! No use talking! For more than once, my wish did come true and more than once she has taken pity on me but . . . such is my trait and I am a beast by nature!”  “Rather!” assented the innkeeper yawning. Marmeladov struck his fist resolutely on the table.  “Such is my trait! Do you know, sir, do you know, I have sold her very stockings for drink? Not her shoes — that would be more or less in the order of things, but her stockings, her stockings I have sold for drink! Her mohair shawl I sold for drink, a present to her long ago, her own property, not mine; and we live in a cold room and she caught cold this winter and has begun coughing and spitting blood too. We have three little children and Katerina Ivanovna is at work from morning till night; she is scrubbing and cleaning and washing the children, for she’s been used to cleanliness from childhood. But her chest is weak and she has a tendency to consumption and I feel it! Do you suppose I don’t feel it? And the more I drink the more I feel it. That’s why I drink, to find sympathy and feeling in drink . . . I drink because I want to suffer profoundly!” And as though in despair he laid his head down on the table.  “Young man,” he went on, raising his head again, “in your face I seem to read some kind of sorrow. When you came in I read it, and that was why I addressed you at once. For in unfolding to you the story of my life, I do not wish to make myself a laughing-stock before these idle listeners, who indeed know all about it already, but I am looking for a man of feeling and education. Know then that my wife was educated in a high-class school for the daughters of noble-men, and on leaving she danced the shawl dance before the governor and other personages, for which she was presented with a gold medal and a certificate of merit. The medal . . . well, the medal of course was sold — long ago, hm . . . but the certificate of merit is in her trunk still and not long ago she showed it to our landlady. And although she quarrels with the landlady most continually, yet she wanted to boast to someone or other of her past honors and to tell of the happy days that are gone. I don’t condemn her for it, I don’t condemn her, for the one thing left her is her memories of the past, and all the rest is dust and ashes! Yes, yes, she is a hot-tempered lady, proud and determined. She scrubs the floors herself and has nothing but black bread to eat, but won’t allow herself to be treated with disrespect. That’s why she would not overlook Mr. Lebeziatnikov’s rudeness to her, and so when he gave her a beating for it, she took to her bed more from the hurt to her feelings than from the blows. She was a widow when I married her, with three children, one smaller than the other. She married her first husband, an infantry officer, for love, and ran away with him from her father’s house. She loved her husband very much; but he gave way to cards, wound up in court and with that he died. He used to beat her at the end: and although she didn’t let him get away with it, of which I have authentic documentary evidence, to this day she speaks of him with tears and she throws him up to me; and I am glad, I am glad that, though only in imagination, she should think of herself as having once been happy . . . And she was left at his death with three children in a beastly and remote district where I happened to be at the time; and she was left in such hopeless destitution that, although I have seen many ups and downs of all sorts, I am unable to describe it even. Her relations had all abandoned her. And she was proud, too, excessively proud . . . And then, dear sir, and then, I, being at the time a widower, with a daughter of fourteen left me by my first wife, offered her my hand, for I could not bear the sight of such suffering. You can judge the extremity of her calamities, that she, a woman of education and culture and distinguished family, should have consented to be my wife. But she did! Weeping and sobbing and wringing her hands, she married me! For she had nowhere to turn! Do you understand, dear sir, do you understand what it means when you have absolutely nowhere to turn? No, that you don’t understand yet . . . And for a whole year, I performed my duties conscientiously and faithfully, and did not touch this” (he tapped the jug with his finger), “for I have feelings. But even so, I could not please her; and then I lost my place too, and that through no fault of mine but through changes in the office; and then I did touch it! . . . It will already be a year and a half ago since we found ourselves at last after many wanderings and numerous calamities in this magnificent capital, adorned with innumerable monuments. Here, too, I obtained a position . . . I obtained it and I lost it again. Do you understand? This time it was through my own fault I lost it: for my trait had come out . . . We have now a corner at Amalia Fiodorovna Lippewechsel’s; and what we live upon and what we pay our rent with, I could not say. There are a lot of people living there besides ourselves. A most abominable Sodom . . . hm . . . yes . . . And meanwhile my daughter by my first wife has grown up; and what my daughter has had to put up with from her step-mother whilst she was growing up, I won’t speak of. For, though Katerina Ivanovna is full of generous feelings, she is a high-tempered lady, irritable, and will cut you off ...Yes. But it’s no use going over that! Sonia, as you may well imagine, has had no education. I did make an effort four years ago to give her a course of geography and world history, but as I was not very well up in those subjects myself and we had no suitable manuals, and what books we had . . . hm, anyway, we don’t have them now, those books, so all our instruction came to an end. We stopped at Cyrus of Persia.  Since she has attained years of maturity, she has read other books of novelistic tendency and recently she had read with great interest a book she got through Mr. Lebeziatnikov, Lewes’ Physiology — do you know it? — and even recounted extracts from it to us: and that’s the whole of her education. And now may I venture to address you, dear sir, on my own account with a private question. Do you suppose that a respectable poor girl can earn much by honest work? Not fifteen kopecks a day can she earn, if she is respectable and has no special talent and that without putting her work down for an instant! And what’s more, Ivan Ivanich Klopstock the state councilor — have you heard of him? — has not to this day paid her for the half-dozen Holland shirts she made him and drove her away insulted, stamping and calling her names, on the pretext that the shirt collars were not made the right size and were put in askew. And there are the little ones hungry . . . And Katerina Ivanovna walking up and down and wringing her hands, her cheeks flushed red, as they always are in that disease: ‘You sponger,’ says she, ‘living with us, eating and drinking and keeping warm.’ And much she gets to eat and drink when there is not a crust for the little ones for three days! I was lying at the time . . . well, what of it! I was lying drunk and I heard my Sonia speaking (she is a meek creature with a gentle little voice . . . fair hair and such a pale, thin little face). She said: ‘Katerina Ivanovna, am I really to do a thing like that?’ Daria Frantsevna, an evil-minded woman and very well known to the police, had two or three times already tried to get at her through the landlady. ‘And why not?’ said Katerina Ivanovna with a jeer, ‘what’s there to save? Some treasure!’ But don’t blame her, don’t blame her, dear sir, don’t blame her! She was not in her right mind when she spoke, but driven to distraction by her illness and the crying of the hungry children; and it was said more to wound her than in any precise sense . . . For that’s Katerina Ivanovna’s character, and when children cry, even from hunger, she starts beating them at once. At six o’clock or so I saw Sonechka get up, put on her kerchief, put on her cape, and go out of the room, and about nine o’clock she came back. She walked straight up to Katerina Ivanovna and she laid thirty rubles on the table before her in silence. She did not utter a word, she did not even look at her, she simply picked up our big green woolen shawl (we all use it, this woolen shawl), put it over her head and face and lay down on the bed with her face to the wall; only her little shoulders and her body kept shuddering . . . And I went on lying there, just as before . . . And then I saw, young man, I saw Katerina Ivanovna, in the same silence go up to Sonechka’s little bed; she was on her knees all evening kissing Sonia’s feet, and would not get up, and then they both fell asleep in each other’s arms . . . together, together . . . yes . . . and I . . . lay drunk.”  Marmeladov stopped short, as though his voice had failed him. Then he hurriedly filled his glass, drank, and cleared his throat.  “Since then, sir,” he went on after a brief pause — “Since then, due to an unfortunate occurrence and through information given by evil-intentioned persons — in all of which Daria Frantsevna took a leading part on the pretext that she had been treated with too little respect — since then my daughter Sofia Semionovna has been forced to take a yellow ticket, and owing to that she is unable to go on living with us. For our landlady, Amalia Fiodorovna would not hear of it (though she had backed up Daria Frantsevna before) and Mr. Lebeziatnikov too . . . hm . . . All the trouble between him and Katerina Ivanovna was on Sonia’s account. At first he was after Sonechka himself and then all of a sudden he got into a huff: ‘how,’ said he, ‘can an enlightened man like me live in the same rooms with a girl like that?’ And Katerina Ivanovna would not let it pass, she stood up for her . . . and so that’s how it happened. And Sonechka comes to us now, mostly after dark; she comforts Katerina Ivanovna and gives her all she can . . . She has a room at the tailor Kapernaumov, she rents from them; Kapernaumov is a lame man with a cleft palate and all of his numerous family have cleft palates too. And his wife, too, has a cleft palate. They all live in one room, but Sonia has her own, partitioned off . . . Hm . . . yes . . . very poor people and all with cleft palates . . . yes. As soon as I got up in the morning, I put on my rags, lifted up my hands to heaven and set off to his excellency Ivan Afanasyevich. His excellency Ivan Afanasyevich, do you know him? No? Well, then, it’s a man of God you don’t know. He is wax . . . wax before the face of the Lord; even as wax melteth! . . . He even shed tears when he heard my story. ‘Marmeladov, once already you have deceived my expectations . . . I’ll take you once more on my own responsibility’ — that’s what he said, ‘remember,’ he said, ‘and now you can go.’ I kissed the dust at his feet — in thought only, for in reality he would not have allowed me to do it, being a statesman and a man of modern political and enlightened ideas. I returned home, and when I announced that I’d been taken back into the service and should receive a salary, heavens, what a to-do there was . . . !”  Marmeladov stopped again in violent excitement. At that moment a whole party of drunkards already drunk came in from the street, and the sounds of a hired concertina and the cracked piping voice of a child of seven singing “The Little Farm” were heard in the entryway. The room was filled with noise. The tavern-keeper and the servants were busy with the newcomers. Marmeladov paying no attention to the new arrivals continued his story. He appeared by now to be extremely weak, but as he became more and more drunk, he became more and more talkative. The recollection of his recent success in getting the position seemed to revive him, and was even reflected in a sort of radiance on his face. Raskolnikov listened attentively.  “That was five weeks ago, sir. Yes . . . As soon as Katerina Ivanovna and Sonechka heard of it, Lord, it was as though I stepped into the kingdom of Heaven. It used to be: you can lie like a beast, nothing but abuse. Now they were walking on tiptoe, hushing the children. ‘Semion Zakharovich is tired from his work at the office, he is resting, shh!’ They made me coffee before I went to work and boiled cream for me! They began to get real cream for me, do you hear that? And how they managed to scrape together the money for a decent outfit — eleven rubles, fifty kopecks, I can’t guess. Boots, cotton shirt-fronts — most magnificent, a uniform, they got it all up in splendid style, for eleven rubles and a half. The first morning I came back from the office I found Katerina Ivanovna had cooked two courses for dinner — soup and salt meat with horse radish — which we had never dreamed of until then. She didn’t have any dresses . . . none at all, but she got herself up as though she were going on a visit; and not that she had anything to do it with, they could make everything out of nothing: do the hair nicely, put on a clean collar of some sort, cuffs, and there she was, quite a different person, younger and better looking. Sonechka, my little darling, had only helped with money; ‘for the time,’ she said, ‘it won’t do for me to come and see you too often. After dark maybe when no-one can see.’ Do you hear, do you hear? I lay down for a nap after dinner and what do you think: though Katerina Ivanovna had quarreled to the last degree with our landlady Amalia Fiodorovna only a week before, she could not resist then asking her in for a cup of coffee. For two hours they were sitting, whispering together. ‘Semion Zakharovich is in the service again, now, and receiving a salary,’ says she, ‘and he went himself to his excellency and his excellency himself came out to him, made all the others wait and led Semion Zakharovich by the hand before everybody into his study.’ Do you hear, do you hear? ‘To be sure,’ says he, ‘Semion Zakharovich, remembering your past services,’ says he, ‘and in spite of your propensity to that foolish weakness, since you promise now and since moreover we’ve got on badly without you,’ (do you hear, do you hear!) ‘and so,’ says he, ‘I rely now on your word as a gentleman.’ And all that, let me tell you, she has simply made up for herself, and not simply out of thoughtlessness, for the sake of bragging; no, she believes it all herself, she amuses herself with her own imaginings, upon my word she does! And I don’t blame her for it, no, I don’t blame her! . . . Six days ago when I brought her my first earnings in full — twenty-three rubles forty kopecks altogether — she called me her little one: little one,’ said she, ‘my little one.’ And when we were by ourselves, you understand? You would not think me a beauty, you would not think much of me as a husband, would you? . . . Well, she pinched my cheek; ‘my little one,’ she says.”  Marmeladov broke off, tried to smile, but suddenly his chin began to twitch. He controlled himself however. The tavern, the degraded appearance of the man, the five nights in the hay barge, and the jug of alcohol, and yet this poignant love for his wife and children bewildered his listener. Raskolnikov listened intently but with a sick sensation. He felt vexed that he had come here.  “Dear sir, dear sir,” exclaimed Marmeladov recovering himself — “Oh, sir, perhaps all this seems a laughing matter to you, as it does to others, and perhaps I am only worrying you with the stupidity of all these miserable details of my home life, but it is not a laughing matter to me. For I can feel it all . . . And the whole of that heavenly day of my life and the whole of that evening I passed in fleeting dreams of how I would arrange it all, and how I would dress all the children, and how I would give her rest, and how I would rescue my own daughter from dishonor and restore her to the bosom of her family ... And a great deal more . . . Quite excusable, sir. Well, then, sir” (Marmeladov suddenly gave a sort of start, raised his head and stared fixedly at his listener) “well, on the very next day after all those dreams, that is to say, exactly five days ago, in the evening, by a cunning trick, like a thief in the night, I stole from Katerina Ivanovna the key of her trunk, took out what was left of my earnings, how much it was I have forgotten, and now look at me, all of you! It’s the fifth day since I left home, and they are looking for me there and it’s the end of my employment, and my uniform is lying in a tavern on the Egyptian bridge, exchanged for the garments I have on . . . and it’s the end of everything!”  Marmeladov struck his forehead with his fist, clenched his teeth, closed his eyes and leaned heavily with his elbow on the table. But a minute later his face suddenly changed and with a certain assumed slyness and affectation of bravado, he glanced at Raskolnikov, laughed and said:  “This morning I went to see Sonia, I went to ask her for a hangover drink! He-he-he!”  “You don’t say she gave it to you?” cried one of the newcomers; he shouted the words and went off into a guffaw.  “This very quart was bought with her money,” Marmeladov declared, addressing himself exclusively to Raskolnikov. “Thirty kopecks she gave me with her own hands, her last, all she had, as I saw . . . She said nothing, she only looked at me without a word . . . Not on earth, but up there . . . they grieve so over men, they weep, but they don’t blame them, they don’t blame them! But it hurts more, it hurts more when they don’t blame! Thirty kopecks, yes! And maybe she needs them now, eh? What do you think, my dear sir? For now she’s got to keep up a clean appearance. It costs money, that clean style, a special one, you know? Do you understand? And there’s rouge, too, you see, she must have things; petticoats, starched ones, shoes, too, real jaunty ones to show off her foot when she has to step over a puddle. Do you understand, sir, do you understand what all that cleanliness means? And here I, her own father, here I took thirty kopecks of that money for a drink! And I am drinking it! And I have already drunk it! Come, who will have pity on a man like me, eh? Do you pity me, sir, or not? Tell me, sir, do you pity me or not? He-he-he!”  He would have filled his glass, but there was no drink left. The jug was empty.  “What are you to be pitied for?” shouted the tavern-keeper who was again near them.  Shouts of laughter and even swearing followed. The laughter and the swearing came from those who were listening and also from those who had heard nothing but were simply looking at the figure of the discharged government clerk.  “To be pitied! Why am I to be pitied?” Marmeladov suddenly cried out, standing up with his arm outstretched, positively inspired, as though he had been only waiting for that question.  “Why am I to be pitied, you say? Yes! There’s nothing to pity me for! I ought to be crucified, crucified on a cross, not pitied! Crucify, oh judge, crucify, but when you have crucified, take pity on him! And then I myself will go to be crucified, for it’s not merry-making I seek but tears and tribulation! . . . Do you suppose, you that sell, that this half-bottle of yours has been sweet to me? It was tribulation I sought at the bottom of it, tears and tribulation, and have tasted it, and have found it; but He will pity us Who has had pity on all men, Who has understood all men and all things, He is the One. He too is the judge. He will come in that day and He will ask: ‘Where is the daughter who gave herself for her mean, consumptive step-mother and for the little children of another? Where is the daughter who had pity upon the filthy drunkard, her earthly father, undismayed by his beastliness? ’ And He will say, ‘Come to me! I have already forgiven thee once . . . I have forgiven thee once . . . Thy sins which are many are forgiven thee for thou hast loved much . . . ’ And he will forgive my Sonia, He will forgive, I know it . . . I felt it in my heart when I was with her just now! And He will judge and will forgive all, the good and the evil, the wise and the meek . . . And when He has done with all of them, then He will summon us. ‘You too come forth,’ He will say, ‘Come forth ye drunkards, come forth, ye weak ones, come forth, ye children of shame!’ And we shall all come forth, without shame and shall stand before him. And He will say unto us, ‘Ye are swine, made in the Image of the Beast and with his mark; but come ye also!’ And the wise ones and those of understanding will say, ‘Oh Lord, why dost Thou receive these men?’ And He will say, ‘This is why I receive them, oh ye wise, this is why I receive them, oh ye of understanding, that not one of them believed himself to be worthy of this.’ And He will hold out His hands to us and we shall fall down before him . . . and we shall weep . . . and we shall understand all things! Then we shall understand everything! . . . and all will understand, Katerina Ivanovna even . . . she will understand . . . Lord, Thy kingdom come!” And he sank down on the bench exhausted and weak, looking at no-one, apparently oblivious of his surroundings and plunged in deep thought. His words had created a certain impression; there was a moment of silence; but soon laughter and swearing were heard again.  “Reasoned it all out!”  “Talked himself silly!”  “A fine clerk he is!”  And so on, and so on.  “Let us go, sir,” said Marmeladov suddenly, raising his head and addressing Raskolnikov — “come along with me . . . Kozel’s house, looking into the yard. I’m going to Katerina Ivanovna — time I did.”  Raskolnikov had for some time been wanting to leave, and he himself had meant to help him. Marmeladov was much weaker on his legs than in his speech and leaned heavily on the young man. They had two or three hundred paces to go. The drunken man was more and more overcome by dismay and confusion as they drew nearer the house.  “It’s not Katerina Ivanovna I am afraid of now,” he muttered in agitation — “and that she will begin pulling my hair. What does my hair matter! Forget my hair! That’s what I say! It will even be better if she does begin pulling it, that’s not what I am afraid of . . . it’s her eyes I am afraid of . . . yes, her eyes . . . the red on her cheeks, too, frightens me . . . and her breathing too . . . Have you noticed how people with that disease breathe . . . when they are excited? I am afraid of the children’s crying, too . . . Because if Sonia has not taken them food . . . I don’t know then! I don’t know! But blows I am not afraid of . . . Know, sir, that such blows are not a pain to me, but even an enjoyment. For I myself can’t manage without it . . . It’s better that way. Let her strike me, it relieves her heart . . . it’s better that way . . . There is the house. The house of Kozel, the cabinet maker . . . a German, well-off. Lead the way!”  They went in from the yard and up to the fourth floor. The staircase got darker and darker as they went up. It was nearly eleven o’clock and although in summer in Petersburg there is no real night, yet it was quite dark at the top of the stairs.  A grimy little door at the very top of the stairs stood ajar. A very poor-looking room about ten paces long was lit up by a candle-end; the whole of it was visible from the entrance. It was all in disorder, littered up with rags of all sorts, especially children’s clothes. Across the furthest corner was stretched a sheet with holes in it. Behind it probably was the bed. There was nothing in the room except two chairs and a very shabby sofa covered with oilcloth, before which stood an old pine kitchen-table, unpainted and uncovered. At the edge of the table stood a smoldering tallow-candle in an iron candlestick. It appeared that the family had a room to themselves, not a corner, but their room was practically a passage. The door leading to the other rooms, or rather cupboards, into which Amalia Lippewechsel’s apartment was divided, stood half open, and there was shouting, uproar and laughter within. People seemed to be playing cards and drinking tea there. Words of the most unceremonious kind flew out from time to time.  Raskolnikov recognized Katerina Ivanovna at once. She was terribly emaciated, a rather tall, slim and graceful woman, with magnificent dark blond hair and indeed with a hectic flush in her cheeks. She was pacing up and down in her little room, pressing her hands against her chest; her lips were parched and her breathing came in irregular broken gasps. Her eyes glittered as in fever but looked about with a harsh immovable stare. And that consumptive and excited face with the last flickering light of the candle-end playing upon it made a sickening impression. She seemed to Raskolnikov about thirty years old and was certainly a strange wife for Marmeladov . . . She had not heard them and did not notice them coming in. She seemed to be lost in thought, hearing and seeing nothing. The room was stuffy, but she had not opened the window; a stench rose from the staircase, but the door on to the stairs was not closed. From the inner rooms clouds of tobacco smoke floated in, she kept coughing, but did not close the door. The youngest child, a girl of six, was asleep, sitting curled up on the floor with her head against the sofa. A boy a year older stood crying and shaking in the corner. Probably he had just had a beating. Beside him stood a girl of nine years old, tall and thin as a matchstick, wearing a worn and ragged shirt with an ancient wool wrap flung over her bare shoulders, long outgrown and barely reaching her knees. She stood in the corner next to her little brother, her long arm, as dry as a matchstick, round her brother’s neck. She seemed to be trying to comfort him, whispering something to him, and doing all she could to keep him from whimpering again while at the same time her large dark eyes, which looked larger still from the thinness of her frightened face, were watching her mother with fear. Marmeladov did not enter the door, but dropped on his knees in the very doorway, pushing Raskolnikov in front of him. The woman seeing a stranger stopped absentmindedly facing him, coming to herself for a moment and apparently wondering what he had come for. But evidently she decided that he was going into the next room, since he had to pass through hers to get there. Having figured this out and taking no further notice of him, she walked towards the outer door to close it and uttered a sudden scream on seeing her husband on his knees in the doorway.  “Ah!” she cried out in a frenzy, “he has come back! The criminal! the monster! . . . And where is the money? What’s in your pocket, show me! And your clothes are all different! Where are your clothes? Where is the money! speak!”  And she rushed to search him. Marmeladov submissively and obediently held up both arms to facilitate the search. Not a kopeck was there.  “Where’s the money?” she cried — “Oh Lord, can he have drunk it all? But there were twelve silver rubles left in the chest!” and suddenly, in a fury, she seized him by the hair and dragged him into the room. Marmeladov helped her efforts by meekly crawling along on his knees.  “And this is enjoyment to me! This does not hurt me, but is actually enjoyment, dear sir,” he called out, shaken to and fro by his hair and even once striking the ground with his forehead. The child asleep on the floor woke up, and began to cry. The boy in the corner losing all control began trembling and screaming and rushed to his sister in violent terror, almost in a fit. The eldest girl was shaking like a leaf.  “He’s drunk it! He’s drunk it all,” the poor woman screamed in despair — “and his clothes are gone! And they are hungry, hungry!” — and wringing her hands she pointed to the children. “Oh, accursed life! And you, are you not ashamed?” — she pounced suddenly upon Raskolnikov — “from the tavern! Have you been drinking with him? You have been drinking with him, too! Get out!”  The young man hastened to leave without uttering a word. The inner door, moreover, was thrown wide open and inquisitive faces were peering in. Shameless laughing faces with pipes and cigarettes and heads wearing caps thrust themselves in at the doorway. Further in figures in dressing gowns flung open could be seen, in costumes of unseemly scantiness, some of them with cards in their hands. They were particularly diverted when Marmeladov, dragged about by his hair, shouted that it was enjoyment to him. They even began to come into the room; at last a sinister shrill outcry was heard: this came from Amalia Lippewechsel herself pushing her way forward and trying to restore order in her own way and for the hundredth time to frighten the poor woman by ordering her with coarse abuse to clear out of the room next day. As he went out, Raskolnikov had time to put his hand into his pocket, to snatch up the coppers he had received in exchange for his ruble in the tavern and to lay them unnoticed on the window. Afterwards on the stairs, he changed his mind and wanted to go back.  “What a stupid thing I’ve done,” he thought to himself, “they have Sonia and I need it myself.” But reflecting that it would be impossible to take it back now and that in any case he would not have taken it, he dismissed it with a wave of his hand and went back to his room. “Sonia wants rouge too,” he said as he walked along the street, and he laughed malignantly — “such cleanliness costs money . . . Hm! And maybe our Sonia herself will be bankrupt today, for there is always a risk, hunting big game . . . digging for gold . . . then they would all be without a crust tomorrow except for my money. Bravo Sonia! What a well they’ve dug! And they’re making the most of it! Yes, they are making the most of it! Got used to it. They’ve wept a bit and grown used to it. Man grows used to everything, the scoundrel!”  He sank into thought.  “And what if I am wrong,” he suddenly cried involuntarily. “What if man is not really a scoundrel, man in general, I mean, the whole race of mankind — then all the rest is prejudice, simply artificial terrors and there are no barriers and it’s all as it should be.”  CHAPTER THREE  HE WOKE UP LATE next day after a troubled sleep. But his sleep had not refreshed him; he woke up bilious, irritable, ill-tempered, and looked with hatred at his room. It was a tiny cupboard of a room about six paces in length. It had a poverty-stricken appearance with its dusty yellow paper peeling off the walls, and the ceiling was so low that a man of just a little more than average height was ill at ease in it and kept feeling every moment that he would knock his head against the ceiling. The furniture was in keeping with the room: there were three old chairs, rather rickety; a painted table in the corner on which lay a few books and notebooks; the dust alone that lay thick upon them showed that they had been long untouched. A big clumsy sofa occupied almost the whole of one wall and half the floor space of the room; it was once covered with chintz, but was now in rags and served Raskolnikov as a bed. Often he went to sleep on it, as he was, without undressing, without sheets, wrapped in his old, shabby student’s overcoat, with his head on one little pillow, under which he heaped up all the linen he had, clean and dirty, by way of a bolster. A little table stood in front of the sofa.  It would have been difficult to sink to a lower ebb of slovenliness, but to Raskolnikov in his present state of mind this was even agreeable. He had completely withdrawn from everyone, like a tortoise in its shell, and even the sight of the servant girl who had to wait upon him and looked sometimes into his room made him writhe with nervous irritation. He was in the condition that overtakes some monomaniacs excessively concentrated upon one thing. His landlady had for the last fortnight given up sending him in meals, and he had still not yet thought of expostulating with her, though he went without his dinner. Nastasia, the cook and only servant, was rather pleased at the tenant’s mood and had entirely given up sweeping and doing his room, only once a week or so she would stray into his room with a broom. She woke him up now.  “Get up, why are you asleep!” she called to him. “It’s past nine, I’ve brought you some tea; want a cup? You must be starving?”  The tenant opened his eyes, started and recognized Nastasia.  “From the landlady, eh?” he asked, slowly and with a sickly face sitting up on the sofa.  “From the landlady, indeed!”  She set before him her own cracked teapot full of weak and stale tea and laid two yellow lumps of sugar by the side of it.  “Here, Nastasia, take it please,” he said, fumbling in his pocket (for he had slept in his clothes) and taking out a handful of coppers — “run and buy me a loaf. And get me a little sausage, the cheapest, at the pork-butcher’s.”  “The loaf I’ll fetch you this very minute, but don’t you want some cabbage soup instead of sausage? It’s great soup, yesterday’s. I saved it for you yesterday, but you came in late. It’s fine soup.”  When the soup had been brought, and he had started on it, Nastasia sat down beside him on the sofa and began chatting. She was a country peasant-woman and a very talkative one.  “Praskovia Pavlovna wants to complain to the police about you,” she said.  He winced.  “To the police? What does she want?”  “You don’t pay her money and you won’t move out of the room. It’s clear what she wants.”  “The devil, that’s the last straw,” he muttered, grinding his teeth, “no, that would not suit me . . . just now. She is a fool,” he added aloud. “I’ll go and talk to her today.”  “Fool she is and no mistake, just as I am. But why, if you are so clever, do you lie here like a sack and have nothing to show for it? One time you used to go out, you say, to teach children. But why is it you do nothing now?”  “I am doing . . . ” Raskolnikov began sullenly and reluctantly.  “What are you doing?”  “Work . . . ”  “What sort of work?”  “I am thinking,” he answered seriously after a pause.  Nastasia burst out laughing. She was given to laughter and when anything amused her, she laughed inaudibly, quivering and shaking all over until she felt ill.  “And have you made much money by your thinking?” she managed to articulate at last.  “One can’t go out to give lessons without boots. And who cares.”  “Don’t spit in a well.”  “They pay so little for lessons. What’s the use of a few coppers?” he answered, reluctantly, as though replying to his own thought.  “And you want to get a fortune all at once?”  He looked at her strangely.  “Yes, I want a fortune,” he answered firmly, after a brief pause.  “Easy, easy, or you’ll frighten me! Am I getting you the loaf or not?”  “As you like.”  “Ah, I forgot! A letter came for you yesterday when you were out.”  “A letter? For me! From whom?”  “I don’t know. But I gave three kopecks of my own to the post-man for it. Will you pay me back?”  “Then bring it to me, for God’s sake, bring it,” cried Raskolnikov greatly excited — “good God!”  A minute later the letter was brought him. Just as he thought: from his mother, from the province of R____.  He even turned pale when he took it. It was a long while since he had received a letter, but another feeling also suddenly stabbed his heart.  “Nastasia, leave me alone, for goodness’ sake; here are your three kopecks, but for goodness’ sake, make haste and go!”  The letter was quivering in his hand; he did not want to open it in her presence; he wanted to be left alone with this letter. When Nastasia had gone out, he lifted it quickly to his lips and kissed it; then he gazed intently at the address, the small, sloping handwriting, so dear and familiar, of the mother who had once taught him to read and write. He delayed; he even seemed almost afraid of something. At last he opened it; it was a thick heavy letter, weighing over two ounces, two large sheets of note paper were covered with very small handwriting.  ”My dear Rodia,” wrote his mother — “it’s over two months since I last had a talk with you by letter which has distressed me and even kept me awake at night, thinking. But I am sure you will not blame me for my involuntary silence.You know how I love you; you are all we have to look to, Dunia and I, you are our all, our one hope, our one mainstay.What a grief it was to me when I heard that you had given up the university some months ago, for want of means to support yourself and that you had lost your lessons and your other work! How could I help you out of my hundred and twenty rubles a year pension? The fifteen rubles I sent you four months ago I borrowed, as you know, on security of my pension, from Vassily Ivanovich Vakhrushin, our local merchant. He is a kind-hearted man and was a friend of your father’s too. But having given him the right to receive the pension, I had to wait till the debt was paid off and that is only just done, so that I’ve been unable to send you anything all this time. But now, thank God, I believe I will be able to send you something more and in fact we may congratulate ourselves on our good fortune now, of which I hasten to inform you. In the first place, would you have guessed, dear Rodia, that your sister has been living with me for the last six weeks and we will not be separated again in the future.Thank God, her sufferings are over, but I will tell you everything in order, so that you may know just how everything has happened and all that we have until now concealed from you.When you wrote to me two months ago that you had heard that Dunia had a great deal of rudeness to put up with in the Svidrigailovs’ house, when you wrote that and asked me to tell you all the particulars — what could I write in answer to you? If I had written the whole truth to you, I dare say you would have dropped everything and have come to us, even if you had to walk all the way, for I know your character and your feelings, and you would not let your sister be insulted. I was in despair myself, but what could I do? And, besides, I did not know the whole truth myself then.What made it all so difficult was that Dunia received a hundred rubles in advance when she took the place as governess in their family, on condition of part of her salary being deducted every month, and so it was impossible to quit the position without repaying the debt.This sum (now I can explain it all to you, my dearest Rodia) she took chiefly in order to send you sixty rubles, which you needed so badly then and which you received from us last year.We deceived you then, writing that this money came from Dunechka’s savings, but that was not so, and now I tell you all about it, because, thank God, things have suddenly changed for the better, and that you may know how Dunia loves you and what a priceless heart she has. At first indeed Mr. Svidrigailov treated her very rudely and used to make disrespectful and jeering remarks at table . . . But I don’t want to go into all those painful details, so as not to worry you for nothing when it is now all over. In short, in spite of the kind and generous behavior of Marfa Petrovna, Mr. Svidrigailov’s wife, and all the rest of the household, Dunechka had a very hard time, especially when Mr. Svidrigailov, relapsing into his old regimental habits, was under the influence of alcohol. And how do you think it was all explained later on? Would you believe that the madman had conceived a passion for Dunia from the beginning, but had concealed it under a show of rudeness and contempt. Possibly he was ashamed and horrified himself at his own flighty hopes, considering his years and his being the father of a family; and that made him angry with Dunia. And possibly, too, he simply hoped by his rude and sneering behavior to hide the truth from others. But at last he lost all control and dared to make Dunia an open and vile proposal, promising her all sorts of inducements and offering, besides, to drop everything and take her to another estate of his, or even abroad.You can imagine all she suffered! To leave her situation at once was impossible not only on account of the money debt, but also to spare the feelings of Marfa Petrovna, whose suspicions would have been aroused; and then Dunia would have been the cause of a discord in the family. And it would have meant a terrible scandal for Dunechka too; that would have been inevitable. There were various other reasons owing to which Dunia could not hope to escape from that awful house for another six weeks.You know Dunia, of course; you know how clever she is and what a b will she has. Dunechka can endure a great deal and even in the most difficult cases her generous spirit helps her to retain her firmness. She did not even write to me about everything for fear of upsetting me, although we were constantly in communication. It all ended very unexpectedly. Marfa Petrovna accidentally overheard her husband imploring Dunia in the garden, and, putting quite a wrong interpretation on the situation, threw the blame upon her, believing her to be the cause of it all. An awful scene took place between them on the spot in the garden; Marfa Petrovna went so far as to strike Dunia, refused to hear anything and was shouting at her for a whole hour and then gave orders that Dunia should be packed off at once to me in a plain peasant’s cart, into which they flung all her things, her linen and her clothes, all pell-mell, without folding it up and packing it. And a heavy shower of rain came on, too, and Dunia, insulted and put to shame, had to drive with a peasant in an open cart all the seventeen versts into town. Only think now what answer could I have sent to the letter I received from you two months ago and what could I have written? I was in despair; I dared not write to you the truth because you would have been very unhappy, chagrined and indignant, and yet what could you do? You could only perhaps ruin yourself, and, besides, Dunechka would not allow it; and I could not fill up my letter with trifles when my heart was so full of sorrow. For a whole month the town was full of gossip about this scandal, and it came to the point that Dunia and I dared not even go to church on account of the contemptuous looks, whispers, and even remarks made aloud about us. All our acquaintances avoided us, nobody even bowed to us in the street, and I learnt that some store assistants and clerks were intending to insult us in a shameful way, smearing the gates of our house with tar, so that the landlord began to tell us we must leave.The cause of all this was Marfa Petrovna, who managed to slander Dunia and throw dirt at her in every family. She knows everyone in the neighborhood, and that month she was continually coming into the town, and as she is rather talkative and fond of gossiping about her family affairs and particularly of complaining to all and each of her husband — which is not at all right — so in a short time she had spread her story not only in the town, but over the whole surrounding district. It made me ill, but Dunechka was firmer than I was, and if only you could have seen how she endured it all and tried to comfort me and cheer me up! She is an angel! But by God’s mercy, our sufferings were cut short: Mr. Svidrigailov returned to his senses and repented and, probably feeling sorry for Dunia, he laid before Marfa Petrovna a complete and unmistakable proof of Dunechka’s innocence, in the form of a letter Dunia had been forced to write and give to him, before Marfa Petrovna found them in the garden.This letter, which remained in Mr. Svidrigailov’s hands after her departure, she had written to refuse personal explanations and secret meetings, on which he was insisting. In that letter she reproached him with great heat and indignation for the baseness of his behavior in regard to Marfa Petrovna, reminding him that he was the father and head of a family and telling him how vile it was of him to torment and make unhappy a defenseless girl, unhappy enough already. Indeed, dear Rodia, the letter was so nobly and touchingly written that I sobbed when I read it and to this day I cannot read it without tears. Moreover, the evidence of the servants, too, cleared Dunia’s reputation; they had seen and known a great deal more than Mr. Svidrigailov had himself supposed — as indeed is always the case with servants. Marfa Petrovna was completely taken aback, and ‘again crushed’ as she said herself to us, but she was completely convinced of Dunechka’s innocence.The very next day, being Sunday, she went straight to the Cathedral, knelt down and prayed with tears to Our Lady to give her strength to bear this new trial and to do her duty.Then she came straight from the Cathedral to us, told us the whole story, wept bitterly and, fully penitent, she embraced Dunia and besought her to forgive her.The same morning without any delay, she went round to all the houses in the town and everywhere, shedding tears, she asserted in the most flattering terms Dunechka’s innocence and the nobility of her feelings and her behavior.What was more, she showed and read to every one the letter in Dunechka’s own handwriting to Mr. Svidrigailov and even allowed them to take copies of it — which I must say I think was superfluous. In this way she was busy for several days in a row in driving about the whole town, since some people had taken offence that precedence has been given to others, and thus they had to take turns, so that in every house she was expected before she arrived, and everyone knew that on such and such a day Marfa Petrovna would be reading the letter in such and such a place and people assembled for every reading of it, even those who had heard it several times already both in their own houses and in other people’s, taking turns. In my opinion a great deal, a very great deal of all this was unnecessary; but that’s Marfa Petrovna’s character. Anyway she succeeded in completely re-establishing Dunechka’s reputation and the whole vileness of this affair rested as an indelible disgrace upon her husband, as the first person to blame, so that I really began to feel sorry for him; it was really treating the madcap too harshly. Dunia was at once asked to give lessons in several families, but she refused. In general everyone suddenly began to treat her with marked respect. All this did much to bring about that unexpected event by which, one may say, all our fate is now transformed.You must know, dear Rodia, that Dunia has a suitor and that she has already consented to marry him, of which I hasten to tell you as soon as possible. And though the matter has been arranged without asking your consent, I think you will not be aggrieved with me or with your sister on that account, for you will see that it would have been impossible for us to wait and put off our decision till we heard from you. And you could not have judged all the facts without being on the spot.This was how it happened. He is already of the rank of a court councilor, Peter Petrovich Luzhin, and is distantly related to Marfa Petrovna, who has been very active in bringing the match about. He began by expressing through her his desire to make our acquaintance, was properly received, drank coffee with us and the very next day he sent us a letter in which he very courteously explained his offer and begged for a speedy and decided answer. He is a very busy man and is in a great hurry to get to Petersburg, so that every moment is precious to him. At first, of course, we were greatly surprised, as it had all happened so quickly and unexpectedly.We thought and deliberated the whole day. He is a well-to-do man, to be depended upon, he has two posts in the government and has already made his fortune. It is true that he is forty-five years old, but he is of a fairly pleasing appearance and might still be thought attractive by women, and he is altogether a very respectable and presentable man, only he seems a little morose and somewhat haughty. But possibly that may only be the impression he makes at first sight. And beware, dear Rodia, when he comes to Petersburg, as he shortly will do, beware of judging him too rashly and heatedly, as your way is, if there is anything you do not like in him at first sight. I say this just in case, although I feel sure that he will make a favorable impression upon you. Moreover, in order to understand any man one must approach gradually and carefully to avoid forming prejudices and mistaken ideas, which are very difficult to correct and remedy afterwards. And Peter Petrovich, judging by many indications, is a thoroughly estimable man. At his first visit, indeed, he told us that he was a practical man, but still he shares, as he expressed it, many of ‘the convictions of our most rising generation’ and he is an opponent of all prejudices. He said a good deal more, for he seems a little conceited and likes to be listened to, but this is scarcely a vice. I, of course, understood very little of it, but Dunia explained to me that, though he is not a man of great education, he is clever and, it seems, kind.You know your sister’s character, Rodia. She is a resolute, sensible, patient and generous girl, but she has an ardent heart, as I know very well. Of course, there is no great love either on his side or on hers, but Dunia, while a clever girl, is also a noble creature, like an angel, and will make it her duty to make her husband happy who on his side will make her happiness his care, of which we have no good reason to doubt, though it must be admitted the matter has been arranged in great haste. Besides he is a man of great prudence and he will see, to be sure, for himself that his own happiness will be the more secure, the happier Dunechka is with him. And as for some defects of character, for some habits and even certain differences of opinion — which indeed are inevitable even in the happiest marriages — Dunechka has said that, as regards all that, she relies on herself, that there is nothing to be uneasy about, and that she is ready to put up with a great deal, if only their future relationship can be an honest and honorable one. He struck me too, for instance, at first, as rather abrupt, but that may well come from his being an outspoken man, and that is no doubt how it is. For instance, at his second visit, after he had received Dunia’s consent, in the course of conversation, he declared that before making Dunia’s acquaintance, he had made up his mind to marry a girl of good reputation, but without dowry and, above all, one who had experienced poverty, because, as he explained, a man ought not to be indebted to his wife, but that it is better for a wife to look upon her husband as her benefactor. I must add that he expressed it more nicely and politely than I have done, for I have forgotten his actual phrases and only remember the meaning. And, besides, it was obviously not said of design, but slipped out in the heat of conversation, so that he tried afterwards to correct himself and smooth it over, but all the same it did strike me as somewhat rude, and I said so afterwards to Dunia. But Dunia was vexed, and answered that ‘words are not deeds,’ and that, of course, is perfectly true. Dunechka did not sleep all night before she made up her mind, and, thinking that I was asleep, she got out of bed and was walking up and down the room all night; at last she knelt down before the icon and prayed long and fervently and in the morning she told me that she had decided.“I have mentioned already that Peter Petrovich is just setting off for Petersburg, where he has a great deal of business, and he wants to open a legal bureau in Petersburg. He has been occupied for many years in conducting various lawsuits and cases, and only the other day he won an important case. He has to be in Petersburg because he has an important case before the Senate. So, Rodia dear, he may be of the greatest use to you, in every way indeed, and Dunia and I have already agreed that from this very day you could definitely enter upon your career and might consider that your future is marked out and assured for you. Oh, if only this comes to pass! This would be such a benefit that we could only look upon it as a providential blessing. Dunia is dreaming of nothing else.We have even ventured already to drop a few words on the subject to Peter Petrovich. He was cautious in his answer, and said that, of course, as he could not get on without a secretary, it would be better to be paying a salary to a relation than to a stranger, if only the former were fit for the duties (as though there could be doubt of your being fit!) but then he expressed doubts whether your studies at the university would leave you time for work at his office.The matter was dropped for the time, but Dunia is thinking of nothing else now. She has been in a sort of fever for the last few days, and has already made a whole plan for your becoming in the future an associate and even a partner in Peter Petrovich’s law business, which might well be, seeing that you yourself are a student of law. I am in complete agreement with her, Rodia, and share all her plans and hopes, and think there is every probability of realizing them. And in spite of Peter Petrovich’s evasiveness, very natural at present (since he does not know you), Dunia is firmly persuaded that she will gain everything by her good influence over her future husband; this she is sure of. Of course we are careful not to talk of any of these more distant dreams to Peter Petrovich, especially of your becoming his partner. He is a practical man and might take this very coldly, it might all seem to him simply a day dream. Nor has either Dunia or I breathed a word to him of the great hopes we have of his helping us to assist you with money while you are at the university; we have not spoken of it in the first place because it will come to pass of itself, later on, and he himself will no doubt without wasting words offer to do it (as though he could refuse Dunechka that), the more readily since you may by your own efforts become his right hand in the office, and receive this assistance not as a charity, but as a salary earned by your own work. Dunechka wants to arrange it all like this and I quite agree with her. And we have not spoken of our plans for another reason, that is, because I particularly wanted you to feel on an equal footing when you first meet him.When Dunia spoke to him with enthusiasm about you, he answered that one could never judge of a man without seeing him up close, for oneself, and that he would leave it to himself to form his own opinion when he makes your acquaintance. Do you know, my dearest Rodia, I think that perhaps for some reasons (nothing to do with Peter Petrovich though, simply for my own personal, perhaps even old-womanish, whims) I will do better to go on living by myself after the wedding, apart, than with them. I am convinced that he will be generous and delicate enough to invite me and to urge me not to part with my daughter for the future, and if he has said nothing about it until now, it is simply because it has been taken for granted; but I shall refuse. I have noticed more than once in my life that mothers-in-law aren’t quite to husbands’ liking, and I don’t want to be the least bit in anyone’s way, and for my own sake, too, would rather be quite independent, so long as I have a crust of bread of my own, and such children as you and Dunechka. If possible, I would settle somewhere near you both, for the most joyful piece of news, dear Rodia, I have kept for the end of my letter: know then, my dear boy, that we may, perhaps, be all together in a very short time and may embrace one another again after a separation of almost three years! It is settled for certain that Dunia and I are to set off for Petersburg, exactly when I don’t know, but in any case very, very soon, even possibly in a week. It all depends on Peter Petrovich who will let us know when he has had time to look round him in Petersburg.To suit his own arrangements he is anxious to have the ceremony as soon as possible, even before the fast of Our Lady, if it could be managed, or if that is too soon to be ready, immediately after. Oh, with what happiness I shall press you to my heart! Dunia is all excitement at the joyful thought of seeing you, she said one day in jest that she would be ready to marry Peter Petrovich for that alone. She is an angel! She is not writing anything to you now, and has only told me to write that she has so much, so much to tell you that she is not going to take up her pen now, for a few lines would tell you nothing, and it would only mean upsetting herself; she bids me to send you her love and innumerable kisses. But although we will perhaps be meeting so soon, I will all the same send you as much money as I can in a day or two. Now that everyone has heard that Dunechka is to marry Peter Petrovich, my credit has suddenly improved and I know that Afanasy Ivanovich will trust me now even to seventy-five rubles on the security of my pension, so that perhaps I will be able to send you twenty-five or even thirty rubles. I would send you more, but I am uneasy about our traveling expenses; for though Peter Petrovich has been so kind as to undertake part of the expenses of the journey, that is to say, he has taken upon himself the delivery of our bags and big trunk (through some acquaintances of his, somehow), we must take into account some expenses on our arrival in Petersburg, where we can’t be left without any money, at least for the first few days. But we have calculated it all, Dunechka and I, to the last kopeck, and we see that the journey will not cost very much. It is only ninety versts from us to the railway and we have already come to an agreement with a driver we know; and from there Dunechka and I can travel quite comfortably third class. So that I may very likely be able to send to you not twenty-five, but thirty rubles. But enough; I have covered two sheets already and there is no space left for more; our whole history, but so many events have happened! And now, my dearest Rodia, I embrace you and send you a mother’s blessing till we meet. Love Dunia your sister, Rodia; love her as she loves you and understand that she loves you beyond everything, more than herself. She is an angel and you, Rodia, you are everything to us — our one hope, our one consolation. If only you are happy, we shall be happy. Do you still say your prayers, Rodia, and believe in the mercy of our Creator and our Redeemer? I am afraid in my heart that you may have been visited by the new fashionable spirit of unbelief. If it is so, I pray for you. Remember, dear boy, how in your childhood, when your father was living, you used to lisp your prayers at my knee, and how happy we all were in those days. Goodbye, or rather, till we meet — I embrace you warmly, warmly, with countless kisses.  “Yours till death,“PULCHERIA RASKOLNIKOV.” —   Almost from the first, while he read the letter, Raskolnikov’s face was wet with tears; but when he finished it, his face was pale and distorted and a bitter, wrathful and malignant smile was on his lips. He laid his head down on his threadbare dirty pillow and pondered, pondered a long time. His heart was beating violently, and his thoughts were in a turmoil. At last he felt cramped and stifled in the little yellow room that was like a cupboard or a box. His eyes and his mind craved for space. He took up his hat and went out, this time without dread of meeting anyone; he had forgotten all about that. He turned in the direction of the Vassilyevsky Island, walking along V. Prospect, as though hastening on some business, but he walked, as his habit was, without noticing his way, whispering and even speaking aloud to himself, to the astonishment of the passersby. Many of them took him to be drunk.  CHAPTER FOUR  HIS MOTHER’S LETTER HAD been a torture to him. But as regards the chief, the fundamental fact in it, he had felt not one moment’s hesitation, even while he was reading the letter. The essential question was settled, and irrevocably settled, in his mind: “Never such a marriage while I am alive, and Mr. Luzhin be damned!” “The thing is perfectly clear,” he muttered to himself, with a malignant smile anticipating the triumph of his decision. “No, Mother, no, Dunia, you won’t deceive me! And then they apologize for not asking my advice and for making the decision without me! I dare say! They imagine it is arranged now and can’t be broken off; but we will see whether it can or not! A magnificent excuse: ‘Peter Petrovich is such a busy man, such a busy man that even his wedding has to be rushed, almost express. ’ No, Dunechka, I see it all and I know what that much is that you want to say to me; and I know too what you were thinking about, when you walked up and down all night, and what your prayers were like before the Holy Mother of Kazan who stands in mother’s bedroom. Bitter is the ascent to Golgotha . . .  Hm . . . So it is finally settled; you have determined to marry a rational business man, Avdotia Romanovna, one who has a fortune (has already made his fortune, that is so much more solid and impressive), a man who holds two government posts and who shares the ideas of our most rising generation, as mother writes, and who ‘seems to be kind,’ as Dunechka herself observes. That seems beats everything! And that very Dunechka is marrying that very ‘seems’! Splendid! splendid!  “ . . . But I wonder why mother has written to me about ‘our most rising generation’? Simply as a descriptive touch, or with the idea of predisposing me in favor of Mr. Luzhin? Oh, the cunning of them! I wonder about one other item: how far were they open with one another that day and night and all this time since? Was it all put into words, or did both understand that they had the same thing at heart and in their minds, so that there was no need to speak of it aloud, and better not to speak of it. Most likely it was partly like that, from mother’s letter it’s evident: he struck her as rude, just a little, and mother in her simplicity took her observations to Dunia. And she was sure to be vexed and ‘answered her angrily.’ I should think so! Who would not be furious when it was quite clear without any naive questions and when it was understood that it was useless to discuss it. And why does she write to me, ‘love Dunia, Rodia, and she loves you more than herself’? Has she a secret conscience-prick at sacrificing her daughter to her son? ‘You are our one comfort, you are everything to us.’ Oh, Mother!”  His bitterness grew more and more intense, and if he had happened to meet Mr. Luzhin at the moment, he might have murdered him.  “Hm . . . yes, that’s true,” he continued, pursuing the whirling ideas that chased each other in his brain, “it is true that ‘to get to know a man, one must approach gradually and carefully,’ but there is no mistake about Mr. Luzhin. The chief thing is he is ‘a man of business and seems kind,’ that was something, wasn’t it, to send the bags and big box for them at his own expense! A kind man, no doubt after that! But his bride and her mother are to ride in a peasant’s cart covered with matting (I know, I have been driven in it). No matter! It is only ninety versts and then they can ‘travel very comfortably, third class,’ for a thousand versts! Quite sensible, too. One must cut one’s coat according to one’s cloth, but what about you, Mr. Luzhin? She is your bride . . . And you couldn’t fail to be aware that her mother has to borrow money on her pension for the journey. To be sure it’s a matter of transacting business together, a partnership for mutual benefit, with equal shares and, therefore, expenses; — food and drink in common, but pay for your tobacco, as the proverb goes. But here too the business man has got the better of them. The luggage will cost less than their fares and very likely go for nothing. How is it that they don’t both see all that, or is it that they don’t want to see? And they are pleased, pleased! And to think that this is only the first blossoming, and that the real fruits are to come! For what really matters is not the stinginess, not the tightfistedness, but the tone of the whole thing. For that will be the tone after marriage, it’s a foretaste of it. And mother too, why is she spending recklessly? What will she have by the time she gets to Petersburg? Three silver rubles or two ‘paper ones’ as she says . . . that old woman . . . hm. What does she expect to live on in Petersburg afterwards? She has her reasons already for guessing that she could not live with Dunia after the marriage, even at first. The good man has no doubt let it slip on that subject also, made himself clear, though mother is waving the notion aside with both hands: ‘I will refuse,’ says she. What is she hoping for then? Is she counting on what is left of her hundred and twenty rubles of pension when Afanasy Ivanovich’s debt is paid? She knits woolen shawls and embroiders cuffs, ruining her old eyes. And all her shawls don’t add more than twenty rubles a year to her hundred and twenty, I know that. So she is building all her hopes on Mr. Luzhin’s generosity; ‘he will offer it himself, he will press it on me.’ You’ll have a long wait! That’s how it always is with these Schilleresque noble hearts; till the last moment every goose is a swan with them, till the last moment they hope for good and not ill, and although they have an inkling of the other side of the picture, yet they won’t face the truth till they are forced to; the very thought of it makes them shiver; they thrust the truth away with both hands, until the man they deck out in false colors puts a fool’s cap on them with his own hands. I wonder whether Mr. Luzhin has any orders of merit; I bet he has the Anna in his buttonhole and that he puts it on when he goes to dine with contractors or merchants. He’ll put it on for his wedding, too! Enough of him, devil take him!  “Well . . . Mother, I don’t wonder at, it’s like her, God bless her, but how could Dunia? Dunechka, darling, as though I did not know you! You were nearly twenty when I saw you last: I understood you then. Mother writes that ‘Dunia can put up with a great deal.’ I know that very well. I knew that two years and a half ago, and for the last two and a half years I have been thinking about it, thinking of just that, that ‘Dunia can put up with a great deal.’ If she could put up with Mr. Svidrigailov and all the rest of it, she certainly can put up with a great deal. And now mother and she have taken it into their heads that she can put up with Mr. Luzhin, who propounds the theory of the superiority of wives raised from destitution and owing everything to their husbands’ bounty — who propounds it, too, almost at the first interview. Granted that he ‘let it slip,’ though he is a rational man (so maybe it was not a slip at all, but he meant to make himself clear as soon as possible), but Dunia, Dunia? She understands the man, of course, but she will have to live with the man. Why! She’d live on black bread and water, she would not sell her soul, she would not barter her moral freedom for comfort; she would not barter it for all Schleswig-Holstein, much less Mr. Luzhin’s money. No, Dunia was not that sort when I knew her and . . . she is still the same, of course! Yes, there’s no denying, the Svidrigailovs are a bitter pill! It’s hard to spend one’s life as a governess in the provinces for two hundred rubles, but I know she would rather be a slave on a plantation or a Latvian with a German master, than degrade her soul, and her moral feeling, by binding herself forever to a man whom she does not respect and with whom she has nothing in common — for her own advantage. And if Mr. Luzhin had been made of pure gold, or one huge diamond, she would never have consented to become his legal concubine. Why is she consenting then? What is this? What’s the answer? It’s clear enough: for herself, for her comfort, to save her life she would not sell herself, but for someone else she is doing it! For the one she loves, for the one she adores, she will sell herself! That’s what it all amounts to; for her brother, for her mother, she will sell herself! She will sell everything! In such cases, we squash our moral feeling if necessary, freedom, peace, conscience even, all, all are brought into the street market. goodbye life! If only these our dear ones may be happy. More than that, we become casuists, we learn to be Jesuitical and for a time maybe we can soothe ourselves, we can persuade ourselves that it is, really is one’s duty for a good cause. That’s just like us, it’s as clear as daylight. It’s clear that Rodion Romanovich Raskolnikov is the central figure in the business, and no-one else. Oh, yes, she can ensure his happiness, keep him in the university, make him a partner in the office, make his whole future secure; perhaps he may even be a rich man later on, esteemed, respected, and may even end his life a famous man! But mother? Oh, but it’s all Rodia, dearest Rodia, her first born! For such a son who would not sacrifice even such a daughter! Oh, loving, over-partial hearts! Why, for his sake we would not shrink even from Sonia’s fate. Sonechka, Sonechka Marmeladov, the eternal Sonechka so long as the world lasts. Have you taken the measure of your sacrifice, both of you, have you? Is it right? Can you bear it? Is it any use? Is there sense in it? And let me tell you, Dunechka, Sonechka’s life is no worse than life with Mr. Luzhin. ‘There can be no question of love,’ mother writes. And what if there can be no respect either, if on the contrary there is aversion, contempt, repulsion, what then? Then you will have to ‘keep up your appearance,’ too. Is that not so? Do you understand, do you, do you, what that cleanliness means? Do you understand that the Luzhin cleanliness is just the same thing as Sonechka’s and may be worse, viler, baser, because in your case, Dunechka, it’s a bargain for luxuries, after all, but there it’s simply a question of starvation. ‘It has to be paid for, it has to be paid for, Dunechka, this cleanliness!’ And what if it’s more than you can bear afterwards, if you regret it? The grief, the misery, the curses, the tears hidden from all the world, for you are not a Marfa Petrovna. And how will your mother feel then? Even now she is uneasy, she is worried, but then, when she sees it all clearly? And I? Yes, indeed, what have you taken me for? I won’t have your sacrifice, Dunechka, I won’t have it, Mother! It will not be, so long as I am alive, it will not, it will not! I won’t accept it!”  He suddenly recollected himself and paused.  “It shall not be? But what are you going to do to prevent it? You’ll forbid it? And what right have you? What can you promise them on your side to give you such a right? Your whole life, your whole future, you will devote to them when you have finished your studies and obtained a post? Yes, we have heard all that before, and that’s all words, but now? Now something must be done, now, do you understand that? And what are you doing now? You are robbing them. They borrow on their hundred rubles pension. They borrow from the Svidrigailovs. How are you going to save them from the Svidrigailovs, from Afanasy Ivanovich Vakhrushin, oh, future millionaire, oh Zeus who would arrange their lives for them? In another ten years? In another ten years, mother will be blind with knitting shawls, maybe with weeping too. She will be worn to a shadow with fasting; and my sister? Imagine for a moment what may become of your sister in ten years? What may happen to her during those ten years? Have you guessed?”  So he tortured himself, taunting himself with such questions, and finding a kind of enjoyment in it. And yet all these questions were not new ones suddenly confronting him, they were old familiar aches. It was long since they had first begun to grip and rend his heart. Long, long ago his present anguish had its first beginnings; it had waxed and gathered strength, it had matured and concentrated, until it had taken the form of a horrible, wild and fantastic question, which tortured his heart and mind, clamoring insistently for an answer. Now his mother’s letter had burst on him like a thunderclap. It was clear that he must not now languish and suffer passively, in thought alone, over questions that appeared insoluble, but that he must do something, do it at once, and do it quickly. He must decide on something no matter what, on anything at all, or . . .  “Or renounce life altogether!” he cried suddenly, in a frenzy — “accept one’s lot humbly as it is, once for all and stifle everything in oneself, giving up every right to act, live, and love!”  “Do you understand, dear sir, do you understand what it means when there is absolutely nowhere to go?” Marmeladov’s question of the previous day came suddenly into his mind, “for every man must have somewhere to go . . . ”  He gave a sudden start; another thought, that he had also had yesterday, flashed through his mind. But he did not start at the thought recurring to him, for he knew, he had felt beforehand, that it must ‘flash,’ he was expecting it; besides it was not only yesterday’s thought. The difference was that a month ago, yesterday even, the thought was a mere dream: but now . . . now it appeared not a dream at all, it had taken a new, menacing and completely unfamiliar shape, and he suddenly became aware of this himself . . . He felt a hammering in his head, and eyes were darkened.  He looked round hurriedly, he was searching for something. He wanted to sit down and was looking for a bench; he was walking along K_ Boulevard.  There was a bench about a hundred paces in front of him. He walked towards it as fast he could; but on the way he met with a little adventure which for several minutes absorbed all his attention. Looking for the seat, he had noticed a woman walking some twenty paces in front of him, but at first he took no more notice of her than of other objects that crossed his path. It had happened to him many times already, on the way home, for example, not to notice the road by which he was going, and he was accustomed to walk like that. But there was something so strange about the woman in front of him, so striking even at first sight, that gradually his attention was riveted on her, at first reluctantly and, as it were, resentfully, and then more and more intently. He felt a sudden desire to find out what it was that was so strange about the woman. In the first place, she appeared to be quite a young, and she was walking in the great heat bareheaded and with no parasol or gloves, waving her arms about in an absurd way. She had on a dress of some light silky material, but also put on strangely awry, scarcely fastened, and torn open at the top of the skirt, close to the waist at the back: a great piece was coming apart and hanging loose. A little kerchief was flung about her bare throat, but lay slanting on one side. On top of everything, the girl was walking unsteadily, stumbling and even staggering from side to side. The encounter drew Raskolnikov’s whole attention at last. He overtook the girl at the bench, but, on reaching it, she dropped down on it, in the corner; she let her head sink on the back of the bench and closed her eyes, apparently in extreme exhaustion. Looking at her closely, he realized at once that she was completely drunk. It was a strange and shocking sight. He could hardly believe that he was not mistaken. He saw before him the face of an extremely young, fair-haired girl — sixteen, even perhaps only fifteen years old, pretty little face, but flushed and, as it were, swollen. The girl seemed hardly to know what she was doing; she crossed one leg over the other, lifting it indecorously, and showed every sign of being unconscious that she was in the street.  Raskolnikov did not sit down, but he felt unwilling to leave her, and stood facing her in perplexity. This boulevard is never much frequented; and now, at two o’clock, in the stifling heat, it was quite deserted. And yet on the further side of the boulevard, about fifteen paces away, a gentleman was standing on the edge of the pavement; he, too, would apparently have liked very much to approach the girl with some purpose of his own. He, too, had probably seen her in the distance and had followed her, but found Raskolnikov in his way. He looked angrily at him, though he tried to escape his notice, and stood impatiently biding his time, till the unwelcome ragamuffin should have moved away. His intentions were unmistakable. The gentleman was a fat, thickly-set man, about thirty, full-blooded, with red lips and a little moustache, and very foppishly dressed. Raskolnikov felt furious; he had a sudden longing to insult this fat dandy in some way. He left the girl for a moment and walked towards the gentleman.  “Hey! You Svidrigailov! What do you want here?” he shouted, clenching his fists and laughing, spluttering with rage.  “What do you mean?” the gentleman asked sternly, frowning with haughty astonishment.  “Get away, that’s what I mean.”  “How dare you, you rabble!”  He raised his cane. Raskolnikov rushed at him with his fists, without reflecting even that the stout gentleman was a match for two men like himself. But at that instant someone seized him from behind, and a police constable stood between them.  “That’s enough, gentlemen, no fighting, please, in a public place. What do you want? Who are you?” he asked Raskolnikov sternly, noticing his rags.  Raskolnikov looked at him intently. He had a straight-forward, sensible, soldierly face, with a gray moustache and whiskers.  “You are just the man I want,” Raskolnikov cried, grabbing his arm. “I am a former student, Raskolnikov . . . You may as well know that too,” he added, addressing the gentleman, “come along, I have something to show you.”  And taking the policeman by the hand he dragged him towards the bench.  “Look here, hopelessly drunk, and she has just come down the boulevard. There is no telling who and what she is, but she does not look like a professional. It’s more likely she has been given drink and deceived somewhere . . . for the first time . . . you understand? And they’ve put her out into the street like that. Look at the way her dress is torn, look at the way it has been put on: she’s been dressed by somebody, she hasn’t dressed herself, and dressed by unpracticed hands, by a man’s hands; that’s evident. And now look there: I don’t know that dandy I was going to fight just now, I see him for the first time, but, he, too has seen her on the road, just now, drunk, not knowing what she is doing, and now he is extremely eager to get hold of her, to get her away somewhere while she is in this state . . . that’s certain, believe me, I am not wrong. I saw him myself watching her and following her, but I prevented him, and he is just waiting for me to go away. Now he has walked away a little, and is standing still, pretending to roll a cigarette . . . Think — how can we keep her out of his hands, and how are we to get her home?”  The policeman saw it all in a flash. The stout gentleman was easy to understand, he turned to consider the girl. The policeman bent over to examine her more closely, and his face worked with genuine compassion.  “Ah, what a pity!” he said, shaking his head — “why, she is still a child! She has been deceived, that’s right. Listen, lady,” he began addressing her, “where do you live?” The girl opened her tired and bleary eyes, gazed blankly at the speaker and waved her hand.  “Here,” said Raskolnikov feeling in his pocket and finding twenty kopecks, “here, call a cab and tell him to drive her to her address. The only thing is to find out her address!”  “Young lady, young lady!” the policeman began again, taking the money. “I’ll fetch you a cab and take you home myself. Where shall I take you, eh? Where do you live?”  “Go away! ...Won’t leave me alone,” the girl muttered, and once more waved her hand.  “Ah, ah, how awful! It’s shameful, young lady, it’s a shame!” He shook his head again, shocked, sympathetic and indignant.  “It’s a difficult job,” the policeman said to Raskolnikov, and as he did so, he again looked him up and down in a rapid glance. He, too, must have seemed a strange figure to him: dressed in rags and handing him money!  “Did you find her far from here?” he asked him.  “I tell you she was walking in front of me, staggering, just here, in the boulevard. She only just reached the bench and sank down on it.”  “Ah, the shameful things that are done in the world nowadays, God have mercy on us! An innocent creature like that, drunk already! She has been deceived, that’s a sure thing. See how her dress has been torn too . . . Ah, the vice one sees nowadays! And she probably belongs to gentlefolk too, poor ones maybe . . . There are many like that nowadays. She looks refined, too, as though she were a lady,” and he bent over her once more.  Perhaps he had daughters growing up like that, “looking like ladies and refined” with pretensions to gentility and fashion . . .  “The chief thing is,” Raskolnikov persisted, “to keep her out of this scoundrel’s hands! Why should he too outrage her! It’s as clear as day what he is after; ah, the brute, he is not moving off!”  Raskolnikov spoke aloud and pointed to him. The gentleman heard him, and seemed about to fly into a rage again, but thought better of it, and confined himself to a contemptuous look. He then walked slowly another ten paces away and again halted.  “Keep her out of his hands we can,” said the constable thoughtfully, “if only she’d tell us where to take her, but as it is ...Young lady, hey, young lady!” he bent over her once more.  She opened her eyes fully all of a sudden, looked at him intently, as though realizing something, got up from the bench and started walking away in the direction from which she had come. “Ugh! No shame, won’t leave me alone!” she said, waving her hand again. She walked quickly, though staggering as before. The dandy followed her, but along another avenue, keeping his eye on her.  “Don’t worry, I won’t let him have her,” the policeman said resolutely, and he set off after them.  “Ah, the vice we see nowadays!” he repeated aloud, sighing.  At that moment something seemed to sting Raskolnikov; in an instant everything turned over inside of him.  “Hey, here!” he shouted after the policeman.  The latter turned round.  “Let it be! What’s it to you? Let it go! Let him amuse himself.” He pointed at the dandy, “What do you care?”  The policeman was bewildered, and stared at him open-eyed. Raskolnikov laughed.  “Eh!” said the policeman, with a gesture of contempt, and he walked after the dandy and the girl, probably taking Raskolnikov for a madman or something even worse.  “He has carried off my twenty kopecks,” Raskolnikov murmured angrily when he was left alone. “Well, let him take as much from the other fellow and let him have the girl and so let it end. And why did I want to interfere? Is it for me to help? Have I any right to help? Let them devour each other alive — what is to me? How did I dare to give him twenty kopecks? Were they mine?”  In spite of those strange words he felt very wretched. He sat down on the deserted bench. His thought strayed aimlessly . . . In fact he found it hard to fix his mind on anything at that moment. He longed to forget himself altogether, to forget everything, and then to wake up and begin anew . . .  “Poor girl!” he said, looking at the empty corner where she had sat — “She will come to her senses and weep, and then her mother will find out . . . She will give her a beating, a horrible, shameful beating and then maybe, throw her out . . . And even if she does not, the Daria Frantsevnas will get wind of it, and the girl will soon be slipping out on the sly here and there. Then right away there will be the hospital (that’s always the luck of those girls with respectable mothers, who go wrong on the sly) and then . . . again the hospital . . . drink . . . the taverns . . . and more hospital, in two or three years — a wreck, and her life over at eighteen or nineteen . . . Have not I seen cases like that? And how have they been brought to it? They’ve all come to it like that. Ugh! But what does it matter? That’s as it should be, they tell us. A certain percentage, they tell us, must every year go . . . that way . . . to the devil, I suppose, so that the rest may remain fresh, and not be interfered with. A percentage! What splendid words they have; they are so scientific, so consolatory . . . Once you’ve said ‘percentage,’ there’s nothing more to worry about. If we had any other word . . . maybe we might feel more uneasy . . . But what if Dunechka were one of the percentage! Of another one if not that one?”  “But where am I going?” he thought suddenly. “Strange, I came out for something. As soon as I had read the letter I came out . . . I was going to Vassilyevsky Island, to Razumikhin. That’s what it was . . . now I remember. What for, though? And how is it that the idea of going to Razumikhin flew into my head just now? That’s curious.”  He wondered at himself. Razumikhin was one of his former comrades at the university. It was remarkable that Raskolnikov had hardly any friends at the university; he kept aloof from everyone, went to see no-one, and did not welcome anyone who came to see him, and indeed everyone soon turned away from him too. He took no part in the students’ gatherings, amusements or conversations. He worked with great intensity without sparing himself, and he was respected for this, but no-one liked him. He was very poor, and there was a sort of haughty pride and reserve about him, as though he were keeping something to himself. He seemed to some of his comrades to look down upon them all as children, as though he were superior in development, knowledge and convictions, as though their convictions and interests were beneath him.  With Razumikhin, though, he had for some reason become friends, or, rather, he was more open and communicative with him. Indeed it was impossible to be on any other terms with Razumikhin. He was an exceptionally good-humored and communicative youth, kind to the point of simplicity, though both depth and dignity lay concealed under that simplicity. The better of his comrades understood this, and all loved him. He was a man of no small intelligence, though he was certainly rather a simpleton at times. He was of striking appearance — tall, thin, black-haired and always badly shaved. He was sometimes rowdy and was reputed to be of great physical strength. One night, when out in a festive company, he had with one blow laid a gigantic policeman on his back. There was no limit to his drinking powers, but he could abstain from drink altogether; he sometimes went too far in his pranks; but he could do without pranks altogether. Another thing striking about Razumikhin, no failure ever distressed him, and it seemed as though no unfavorable circumstances could crush him. He could lodge anywhere, and bear the extremes of cold and hunger. He was very poor, and supported himself entirely on what he could earn by work of one sort or another. He knew of no end of resources by which to get money, through work of course. He spent one whole winter without lighting his stove, and used to declare that he liked it better, because one slept more soundly in the cold. For the present he, too, had been obliged to give up the university, but it was only for a time, and he was working with all his might to save enough to return to his studies again. Raskolnikov had not been to see him for the last four months, and Razumikhin did not even know his address. About two months before, they had met in the street, but Raskolnikov had turned away and even crossed to the other side so that he might not be observed. And though Razumikhin noticed him, he passed him by, as he did not want to disturb a friend.  CHAPTER FIVE  “OF COURSE, I’VE BEEN meaning lately to go to Razumikhin’s to ask for work, to ask him to get me lessons or something . . . ” Raskolnikov thought, “but what help can he be to me now? Suppose he gets me lessons, suppose he shares his last kopeck with me, if he has any kopecks, so that I could get some boots and make myself tidy enough to give lessons . . . hm . . . Well and what then? What will I do with the few coppers I earn? That’s not what I want now. It’s really absurd for me to go to Razumikhin . . . ”  The question why he was now going to Razumikhin agitated him even more than he was himself aware; he kept uneasily seeking for some sinister significance in this apparently ordinary action.  “Could I have expected to set it all straight and to find a way out by means of Razumikhin alone?” he asked himself in perplexity.  He pondered and rubbed his forehead, and, strange to say, after long musing, suddenly, as if it were spontaneously and by chance, a very strange thought came into his head.  “Hm . . . to Razumikhin’s,” he said all at once, calmly, as though he had reached a final determination. “I will go to Razumikhin’s of course, but . . . not now. I will go to him . . . on the next day after it, when it will already be over and everything will begin afresh . . . ”  And suddenly he realized what he was thinking.  “After it,” he shouted, jumping up from the bench, “but is it really going to happen? Is it possible it really will happen?” He left the bench, and went off almost at a run; he meant to turn back, homewards, but the thought of going home suddenly filled him with intense loathing; it was in that hole, in that awful little cupboard of his, that all this had for more than a month now been growing up in him; and he walked on at random.  His nervous shudder had passed into a fever that made him feel shivering; in spite of the heat he felt cold. With a kind of effort he began almost unconsciously, from some inner necessity, to stare at all the objects before him, as though looking for something to distract his attention; but he did not succeed, and kept lapsing every moment into brooding. When with a start he lifted his head again and looked around, he forgot at once what he had just been thinking about and even where he was going. In this way he walked right across Vassilyevsky Island, came out on to the Lesser Neva, crossed the bridge and turned towards the islands. The greenness and freshness were at first restful to his weary eyes used to the dust and lime of the town and the huge houses that hemmed him in and weighed upon him. Here there were no taverns, no stuffiness, no stench. But soon these new pleasant sensations turned into morbid irritability. Sometimes he stood still before a brightly painted summer villa standing among green foliage, he gazed through the fence, he saw in the distance fashionably dressed women on the verandahs and balconies, and children running in the gardens. The flowers especially caught his attention; he gazed at them longer than at anything. He was met, too, by luxurious carriages and by men and women on horseback; he watched them with curious eyes and forgot about them before they had vanished from his sight. Once he stopped and counted his money; he found he had thirty kopecks. “Twenty to the policeman, three to Nastasia for the letter, so I must have given forty-seven or fifty to the Marmeladovs yesterday,” he thought, making calculations for some unknown reason, but he soon forgot why he had taken the money out of his pocket. He recalled it on passing an eating-house or tavern, and felt that he was hungry . . . Going into the eatery he drank a glass of vodka and ate a pie of some sort. He finished eating it when he was on the road again. It was a long while since he had taken vodka and it had an effect upon him at once, though he only drank a wine-glassful. His legs felt suddenly heavy and a great drowsiness came upon him. He turned homewards, but reaching Petrovsky Island he stopped completely exhausted, turned off the road into the bushes, sank down upon the grass and instantly fell asleep.  In a morbid condition of the brain, dreams often have an extraordinary distinctiveness, vividness, and extraordinary semblance of reality. At times monstrous images are created, but the setting and the entire process of imagining are so truth-like and filled with details so delicate, so unexpected, but so artistically consistent with the picture as a whole, that the dreamer, were he an artist like Pushkin or Turgenev even, could never have invented them in the waking state. Such sick dreams always remain long in the memory and make a powerful impression on the overwrought and excited nervous system.  Raskolnikov dreamed a frightening dream. He dreamt he was back in his childhood, in their little town. He is a child about seven years old, walking in the countryside with his father on the evening of a holiday. It is a gray and stifling day, the country is exactly as he remembered it; indeed he recalled it far more vividly in his dream than he had done in memory. The little town stands on a level flat as bare as the hand, not a willow near it; only in the far distance, a wood lies, a dark blur on the very edge of the horizon. A few paces beyond the last market garden stands a tavern, a big tavern, which had always aroused in him a feeling of aversion, even of fear, when he walked by it with his father. There was always such a crowd there, such shouting, laughter and swearing, such hideous hoarse singing and often fighting. Drunken and scary mugs were always hanging about the tavern. He used to cling close to his father, trembling all over when he met them. Near the tavern the road becomes a track, always dusty, and the dust is always so black. It is a winding road, and about a hundred paces further on, it turns to the right to the graveyard. In the middle of the graveyard is a stone church with a green cupola where he used to go to mass two or three times a year with his father and mother, when a service was held in memory of his grandmother, who had long been dead, and whom he had never seen. On these occasions they used to take on a white dish tied up in a table napkin a special sort of rice pudding with raisins stuck in it in the shape of a cross. He loved that church, the old-fashioned icons with no setting and the old priest with the shaking head. Near his grandmother’s grave, which was marked by a stone, was the little grave of his younger brother who had died at six months old. He did not remember him at all, but he had been told about his little brother, and whenever he visited the graveyard he used religiously and reverently to cross himself and to bow down and kiss the little grave. And now he is dreaming that he is walking with his father past the tavern on the way to the graveyard; he is holding his father’s hand and looking with dread at the tavern. A peculiar circumstance attracts his attention: there seems to be some kind of festivity going on here, there are crowds of gaily dressed townspeople, peasant women, their husbands, and riff-raff of all sorts. All are singing, all are drunk, and near the entrance of the tavern there is a cart, but a strange cart. It is one of those big carts usually drawn by heavy cart-horses and laden with casks of wine or other heavy goods. He always liked looking at those great cart-horses, with their long manes, thick legs, and slow even pace, drawing along a perfect mountain with no appearance of effort, as though it were easier going with a load than without it. But now, strange to say, in the shafts of such a cart he sees a thin little sorrel beast, one of those peasants’ nags which he had often seen straining their utmost under a heavy load of wood or hay, especially when the wheels were stuck in the mud or in a rut. And the peasants would beat them with whips so cruelly, so cruelly, sometimes even about the nose and eyes, and he felt so sorry, so sorry for them that he almost cried, and his mother always used to take him away from the window. All of a sudden there is a great uproar of shouting, singing and the balalaika, and from the tavern a number of big and very drunken peasants come out, wearing red and blue shirts and coats thrown over their shoulders.  “Get in, get in!” shouts one of them, a young thick-necked peasant with a fleshy face red as a carrot. “I’ll take you all, get in!”  But at once there is an outbreak of laughter and exclamations in the crowd.  “Take us all with a beast like that!”  “Why, Mikolka, are you crazy to put a nag like that in such a cart?”  “And this mare is twenty if she is a day, pals!”  “Get in, I’ll take you all,” Mikolka shouts again, leaping first into the cart, seizing the reins and standing straight up in front. “The bay has gone with Matvey,” he shouts from the cart — “and this brute, pals, is just breaking my heart, I could kill her. She’s just eating her head off. Get in, I tell you! I’ll make her gallop! She’ll gallop!” and he picks up the whip, preparing himself with relish to flog the little mare.  “Get in! Come along!” The crowd is laughing. “Do you hear, she’ll gallop!”  “Gallop indeed! She has not had a gallop in her for the last ten years!”  “She’ll jog along!”  “No being sorry for her, pals, bring a whip each of you, get ready!”  “That’s right! Give it to her!”  They all clamber into Mikolka’s cart, laughing and making jokes. Six of them get in and there is still room for more. They haul in a fat, rosy-cheeked woman. She is dressed in red cotton, in a pointed, beaded headdress and warm boots; she is cracking nuts and laughing. The crowd round them is laughing too, and really, how could they help laughing? That wretched nag is to drag all the cartload of them at a gallop! Two young lads in the cart get whips ready right away to help Mikolka. With the cry of “Go!” the mare tugs with all her might, but far from galloping, can scarcely move forward; she is struggling with her legs, gasping and shrinking from the blows of the three whips showered upon her like hail. The laughter in the cart and in the crowd is redoubled, but Mikolka flies into a rage and thrashes the mare furiously, with quickened blows, as though he thinks she really can gallop.  “Let me get in, too, pals,” shouts a young man in the crowd, his appetite aroused.  “Get in, all get in,” cries Mikolka, “she’ll pull you all. I’ll beat her to death!” And he thrashes and thrashes at the mare, beside himself with fury.  “Father, Father,” he cries, “Father, what are they doing? Father, they are beating the poor horse!”  “Come along, come along!” says his father. “They are drunk and foolish, having fun; come away, don’t look!” and he tries to lead him away, but he tears himself away from his hand, and, beside himself with horror, runs to the horse. But the poor horse is already in a bad way. She is gasping, pausing, then tugging again and almost falling.  “Beat her to death!” cries Mikolka, “it’s come to that. I’ll do her in!”  “What are you about, are you a Christian, you devil?” shouts an old man in the crowd.  “Did anyone ever see anything like it? A wretched nag like that pulling such a cartload,” adds another.  “You’ll kill her!” shouts the third.  “Stay out! It’s my property. I do as I like. Get in, more of you! Everyone get in! She’ll go at a gallop, I say! . . . ”  All of a sudden laughter breaks into a roar and covers everything: the mare, roused by the shower of blows, in her impotence had begun kicking. Even the old man could not help smiling. To think of a wretched little nag like that trying to kick!  Two lads in the crowd snatch up whips and run to the mare to beat her about the ribs, one on each side.  “Lash her in the face, in the eyes, in the eyes,” cries Mikolka.  “Give us a song, pals,” shouts someone in the cart and everyone in the cart joins in a riotous song, jingling a tambourine and whistling in the refrains. The woman goes on cracking nuts and laughing.  ... He runs beside the mare, runs in front of her, sees her being whipped across the eyes, right in the eyes! He is crying, his heart is rising, his tears are streaming. One of the men gives him a cut with the whip across the face, he does not feel it. Wringing his hands and screaming, he rushes up to the gray-headed old man with the gray beard, who is shaking his head in disapproval. One woman seizes him by the hand and wants to take him away, but he tears himself from her and runs back to the horse. She is almost at the last gasp, but begins kicking once more.  “I’ll teach you to kick,” Mikolka shouts ferociously. He throws down the whip, bends forward and picks up from the bottom of the cart a long, thick shaft, takes hold of one end with both hands and with an effort brandishes it over the mare.  “He’ll crush her,” was shouted round him. “He’ll kill her!”  “It’s my property,” shouts Mikolka and brings the shaft down with a swinging blow. There is a sound of a heavy thud.  “Thrash her, thrash her! What’s the matter?” shout voices in the crowd.  And Mikolka swings the shaft a second time and a blow falls a second time on the spine of the luckless mare. She sinks back on her haunches, but lurches forward and tugs forward, tugs with all her force, first on one side and then on the other, trying to move the cart. But the six whips are attacking her in all directions, and the shaft is raised again and falls a third time, then a fourth, with heavy measured blows. Mikolka is furious that he cannot kill her at one blow.  “She’s a tough one!” they shout.  “She’ll fall in a minute, pals, you’ll see, and that’s the end of her!” shouts an admiring spectator in the crowd.  “Get an axe, hell! Finish her off,” shouts a third.  “Eh, eat the flies! Make way!” Mikolka screams frantically, throws down the shaft, stoops down in the cart and picks up an iron crowbar. “Look out,” he shouts, and with all his might deals a stunning blow at his poor mare. The blow crashes down; the mare staggers, sinks back, tries to pull, but the bar falls again with a swinging blow on her back and she falls on the ground as if all four legs had been knocked out from her at once.  “Finish her off,” shouts Mikolka and, beside himself, leaps out of the cart. Several young men, also red and drunk, seize anything they come across — whips, sticks, poles, and run to the dying mare. Mikolka stands on one side and begins dealing random blows to her back with the crowbar. The mare stretches out her muzzle, draws a long breath and dies.  “You butchered her!” someone shouts in the crowd.  “Should have galloped!”  “My property!” shouts Mikolka, with bloodshot eyes, brandishing the bar in his hands. He stands as though regretting that he has nothing more to beat.  “No mistake about it, you are not a Christian,” many voices are shouting in the crowd.  But the poor boy is already beside himself. He makes his way screaming through the crowd to the sorrel nag, puts his arms round her bleeding dead muzzle and kisses it, kisses the eyes and the lips . .. Then he suddenly jumps up and flies in a frenzy with his little fists out at Mikolka. At that instant his father, who had long been running after him, snatches him up and carries him out of the crowd.  “Come along, come! Let’s go home,” he says to him.  “Father! Why did they . . . kill . . . the poor horse!” he sobs, but his breath catches and the words come in shrieks from his panting chest.  “They are drunk . . . fooling around . . . it’s not our business!” says his father. He puts his arms round his father but he feels choked, choked. He tries to draw a breath, to cry out — and wakes up.  He woke up sweating, gasping for breath, his hair soaked with perspiration, and stood up in terror.  “Thank God, that was only a dream,” he said, sitting down under a tree and drawing deep breaths. “But what is it? Is it some fever coming on? Such a hideous dream!”  His whole body felt broken; darkness and confusion were in his soul. He rested his elbows on his knees and put his head in his hands.  “Good God!” he cried, “can it be, can it be, that I will really take an axe, that I will strike her on the head, split her skull open . . . that I will tread in the sticky warm blood, break the lock, steal and tremble; hide, all spattered in the blood . . . with the axe . . . Good God, can it be?”  He was shaking like a leaf as he said this.  “But why am I going on like this?” he continued, sitting up again, as it were in profound amazement. “I knew that I could never bring myself to it, so what have I been torturing myself for till now? Yesterday, yesterday, when I went to make that . . . experiment, yesterday I realized completely that I could never bear to do it . . . Why am I going over it again, then? Why have I till now been hesitating? As I came down the stairs yesterday, I said myself that it was base, loathsome, vile, vile . . . the very thought of it made me feel sick when I wasn’t dreaming and filled me with horror.”  “No, I couldn’t stand it, I couldn’t stand it! Granted, granted that there is no flaw in all that reasoning, that all that I have concluded this last month is clear as day, true as arithmetic . . . My God! Still I couldn’t bring myself to it! I couldn’t stand it, I couldn’t stand it! Why, why then am I still . . . ?”  He rose to his feet, looked round in wonder as though surprised at finding himself in this place, and went towards T____ Bridge.  He was pale, his eyes glowed, he was exhausted in every limb, but he seemed suddenly to breathe more easily. He felt he had already cast off that fearful burden that had so long been weighing upon him, and all at once there was a sense of relief and peace in his soul. “Lord,” he prayed, “show me my path — I renounce that accursed . . . dream of mine.”  Crossing the bridge, he gazed quietly and calmly at the Neva, at the glowing red sun setting in the glowing sky. In spite of his weakness he was not even conscious of fatigue. It was as though an abscess that had been forming for a month past in his heart had suddenly broken. Freedom, freedom! He was free now from that spell, that sorcery, that enchantment, that obsession!  Later on, when he recalled that time and all that happened to him during those days, minute by minute, point by point, step by step, he was superstitiously impressed by one circumstance, which though in itself not very exceptional, always seemed to him afterwards the predestined turning-point of his fate. Namely, he could never understand and explain to himself why, when he was tired and worn out, when it would have been more convenient for him to go home by the shortest and most direct way, he had returned by the Haymarket where he had no need to go. It was obviously and quite unnecessarily out of his way, though not much so. It is true that it happened to him dozens of times to return home without noticing what streets he passed through. But why, he was always asking himself, why had such an important, such a decisive and at the same time such an absolutely chance meeting happened in the Haymarket (where he had moreover no reason to go) at the very hour, the very minute of his life when he was just in the very mood and in the very circumstances in which that meeting was able to exert the gravest and most decisive influence on his whole destiny? As though it had been lying in wait for him on purpose!  It was about nine o’clock when he crossed the Haymarket. At the tables and the barrows, at the booths and the stores, all the market people were closing their establishments or clearing away and packing up their wares and, like their customers, were going home. Rag-pickers and scroungers of all kinds were crowding round the eateries and especially the taverns in the dirty and stinking courtyards of the Haymarket. Raskolnikov preferred this place and all the neighboring alleys when he wandered aimlessly in the streets. Here his rags did not attract contemptuous attention, and one could walk about in anything without scandalizing people. At the corner of K____ Alley a huckster and his wife had two tables set out with ribbons, thread, cotton handkerchiefs, &amp;c. They, too, had got up to go home, but were lingering in conversation with a friend, who had just come up to them. This friend was Lizaveta Ivanovna, or simply, as everyone called her, Lizaveta, the younger sister of the old pawnbroker, Aliona Ivanovna, whom Raskolnikov had visited the previous day to pawn his watch and make his experiment . . . He already knew all about Lizaveta and she knew him a little too. She was a single woman of about thirty-five, tall, clumsy, timid, submissive and almost idiotic. She was a complete slave to her sister, worked for her day and night, went in fear and trembling of her, and even suffered beatings from her. She was standing with a bundle before the huckster and his wife, listening earnestly and doubtfully. They were explaining something to her especially heatedly. The moment Raskolnikov caught sight of her, he was overcome by a strange sensation as it were of intense astonishment, though there was nothing astonishing about this meeting.  “You could make up your mind for yourself, Lizaveta Ivanovna,” the huckster was saying aloud. “Come round tomorrow about seven. They will be here too.”  “Tomorrow?” said Lizaveta slowly and thoughtfully, as though unable to make up her mind.  “Upon my word, what a fright you are in of Aliona Ivanovna,” gabbled the huckster’s wife, a lively little woman. “I look at you, you are like some little babe. And she is not your own sister either — nothing but a half sister and what a hand she keeps over you!”  “Just this time don’t say a word to Aliona Ivanovna,” her husband interrupted; “that’s my advice, but come round to us without asking. It will be worth your while. Your sister may see for herself later on.”  “Should I come?”  “About seven o’clock tomorrow. And they will be here too. You’ll decide for yourself.”  “And we’ll have tea,” added his wife.  “All right, I’ll come,” said Lizaveta, still pondering, and she began slowly moving away.  Raskolnikov had just passed and heard no more. He passed softly, unnoticed, trying not to miss a word. His first amazement turned gradually to horror, like a shiver running down his spine. He had learned, he had suddenly and quite unexpectedly learned, that the next day at seven o’clock Lizaveta, the old woman’s sister and only companion, would be away from home and that therefore at seven o’clock precisely the old woman would be left alone.  He was only a few steps from his apartment. He went in like a man condemned to death. He thought of nothing and was completely incapable of thinking; but he felt suddenly in his whole being that he had no more freedom of thought, no will, and that everything was suddenly and irrevocably decided.  Certainly, even if he had to wait whole years for a suitable opportunity, his plan in mind, he could not count for sure on a more certain step towards the success of the plan than that which suddenly had just presented itself. In any case, it would have been difficult to find out beforehand and with certainty, with greater exactness and less risk, and without dangerous inquiries and investigations, that next day at such and such a time such and such an old woman, on whose life an attempt was contemplated, would be at home entirely alone.  CHAPTER SIX  LATER ON RASKOLNIKOV HAPPENED to find out why the huckster and his wife had invited Lizaveta. It was a very ordinary matter and there was nothing exceptional about it. A family who had come to the town and been reduced to poverty were selling their household goods and clothes, all women’s things. As the things would have fetched little in the market, they were looking for a dealer, and this was Lizaveta’s business. She took up commissions, went around on business, and had many clients, as she was very honest and always fixed the best price and stuck to it. She spoke as a rule little and, as we have said already, she was so submissive and timid . . .  But Raskolnikov had become superstitious recently. The traces of superstition remained in him long after, and were almost ineradicable. And in all this he was always afterwards disposed to see something strange and mysterious, as it were the presence of some peculiar influences and coincidences. In the previous winter a student he knew called Pokorev, who had left for Kharkov, had chanced in conversation to give him the address of Aliona Ivanovna, the old pawnbroker, in case he might want to pawn anything. For a long while he did not go to her, for he had lessons and managed to get by somehow. Six weeks ago he had remembered the address; he had two articles that could be pawned: his father’s old silver watch and a little gold ring with three red stones, a keepsake from his sister at parting. He decided to take the ring. When he found the old woman he had felt an insurmountable repulsion for her at the first glance, though he knew nothing special about her yet. He got two rubles from her and went into a miserable little tavern on his way home. He asked for tea, sat down and sank into deep thought. A strange idea was pecking at his brain like a chicken in the egg, and very, very much absorbed him.  Almost beside him at the next table there was sitting a student, whom he did not know or remember at all, and with him a young officer. They had played a game of billiards and began drinking tea. Suddenly he heard the student mention to the officer the pawnbroker Aliona Ivanovna and give him her address. This of itself seemed strange to Raskolnikov; he had just come from there and here they were talking about her. By accident, of course, but there he is, unable to shake off a very extraordinary impression, and here someone seems to be speaking expressly for him; the student suddenly begins telling his friend various details about Aliona Ivanovna.  “She is first rate,” he said. “You can always get money from her. She is as rich as a Jew, she can give you five thousand at a time but she is not above taking a pledge for a ruble. Lots of our fellows have had dealings with her. But she is an awful old harpy . . . ”  And he began describing how spiteful and capricious she was, how if you were only a day late with your interest the pledge was lost; how she gave a quarter of the value of an article and took five and even seven percent a month on it and so on. The student chattered on, saying that she had a sister Lizaveta, whom the repulsive little creature was continually beating, and kept in complete bondage like a small child, though Lizaveta was at least six feet tall . . .  “There’s a phenomenon for you,” cried the student and he laughed.  They began talking about Lizaveta. The student spoke about her with a peculiar relish and was continually laughing and the officer listened with great interest and asked him to send Lizaveta to do some mending for him. Raskolnikov did not miss a word and learned everything about her right away. Lizaveta was younger than the old woman and was her half-sister, being the child of a different mother. She was already thirty-five. She worked day and night for her sister, and besides doing the cooking and the washing, she did sewing and even hired herself out to wash floors and gave her sister all she earned. She did not dare to accept an order or job of any kind without the old woman’s permission. The old woman had already made her will, and Lizaveta knew of it, and by this will she would not get a kopeck; nothing but the movables, chairs and so on; all the money, meanwhile, was left to a monastery in the province of N____, that prayers might be said for her in perpetuity. Lizaveta was of lower rank than her sister, a collegiate assessor’s wife, unmarried and awfully uncouth in appearance, remarkably tall with long feet that looked as if they were bent outwards. She always wore battered goatskin shoes, and kept herself clean. What the student expressed most surprise and amusement about was the fact that Lizaveta was constantly pregnant.  “But you say she is ugly?” observed the officer.  “Yes, she is so dark-skinned and looks like a soldier dressed up, but you know she is not at all ugly. She has such a kind face and eyes. Very much so. And the proof of it is that lots of people are attracted by her. She is such a meek, mild, gentle creature, always willing, willing to do anything. And her smile is really very sweet.”  “You seem to find her attractive yourself,” laughed the officer.  “Because she’s strange. No, I’ll tell you what. I could kill that damned old woman and make off with her money, I assure you, without the faintest conscience-prick,” the student added hotly. The officer again burst out laughing while Raskolnikov shuddered. How strange it was!  “Listen, I want to ask you a serious question,” the student said heatedly. “I was joking of course, but look here; on one side we have a stupid, senseless, worthless, spiteful, ailing old woman, not simply useless but doing actual harm, who herself has no idea what she is living for, and who will die in a day or two in any case. You understand? You understand?”  “Yes, yes, I understand,” answered the officer, watching his excited companion attentively.  “Well, listen then. On the other hand, fresh young lives thrown away in vain for lack of support — and by thousands, on every side! A hundred, a thousand good deeds and undertakings could be done and helped on that old woman’s money, which will be buried in a monastery! Hundreds, thousands perhaps, might be set on the right path; dozens of families saved from destitution, from corruption, from ruin, from vice, from venereal wards — and all with her money. Kill her, take her money and with the help of it devote yourself to the service of humanity and the common good. What do you think, would not one tiny crime be wiped out by thousands of good deeds? For one life thousands would be saved from corruption and decay. One death, and a hundred lives in exchange — it’s simple arithmetic! Besides, what value has the life of that sickly, stupid, ill-natured old woman in the balance of existence! No more than the life of a louse, of a cockroach, less in fact because the old woman is doing harm. She is wearing out the lives of others; the other day she bit Lizaveta’s finger out of spite; it almost had to be amputated!”  “Of course she does not deserve to live,” remarked the officer, “but there it is, it’s nature.”  “Oh, well, brother, but we have to correct and direct nature, and, but for that, we’ll drown in an ocean of prejudice. But for that, there would never have been a single great man. They talk of duty, conscience — I don’t want to say anything against duty and conscience; but the point is what do we mean by them. Wait, I have another question to ask you. Listen!”  “No, you wait, I’ll ask you a question. Listen!”  “Well?”  “You are talking and speechifying away, but tell me, would you kill the old woman yourself or not?”  “Of course not! I was only arguing the justice of it . . . It’s nothing to do with me . . . ”  “But I think, if you would not do it yourself, then there’s no justice in it! Let’s have another game!”  Raskolnikov was extremely agitated. Of course, it was all very ordinary and very frequent youthful talk and thought, such as he had often heard before, only in different forms and on different themes. But why had he happened to hear just such a discussion and such ideas at the very moment when his own brain was just conceiving . .. the very same ideas? And why, just at the moment when he had brought away the embryo of his idea from the old woman had he happened upon a conversation about her? This coincidence always seemed strange to him. This trivial talk in a tavern had an immense influence on him as the action developed further; as though there had really been in it something preordained, some guiding hint . . .    When he returned from the Haymarket he flung himself on the sofa and sat for a whole hour without stirring. Meanwhile it got dark; he had no candle and, indeed, it did not occur to him to light up. He could never recollect whether he had been thinking about anything at that time. At last he was conscious of his former fever and shivering, and he realized with relief that he could lie down on the sofa. Soon heavy, leaden sleep came over him, as though crushing him.  He slept an extraordinarily long time and without dreaming. Nastasia, coming into his room at ten o’clock the next morning, had a hard time waking him. She brought him tea and bread. The tea was again the second brew and again in her own tea-pot.  “My goodness, how he sleeps!” she cried indignantly. “Sleeping and sleeping!”  He got up with an effort. His head ached, he stood up, took a turn in his little room and sank back on the sofa again.  “Going to sleep again,” cried Nastasia. “Are you ill, eh?”  He made no reply.  “Do you want some tea?”  “Later,” he said with an effort, closing his eyes again and turning to the wall.  Nastasia stood over him.  “Perhaps he really is ill,” she said, turned and went out. She came in again at two o’clock with soup. He was lying as before. The tea stood untouched. Nastasia felt positively offended and began angrily rousing him.  “Why are you lying like a log?” she shouted, looking at him with repulsion.  He got up, and sat down again, but said nothing and stared at the floor.  “Are you ill or not?” asked Nastasia and again received no answer. “You’d better go out and get a breath of air,” she said after a pause. “Will you eat it or not?”  “Later,” he said weakly. “You can go.”  And he motioned her out.  She remained a little longer, looked at him with compassion and went out.  A few minutes later, he raised his eyes and looked for a long while at the tea and the soup. Then he took the bread, took up a spoon and began to eat.  He ate a little, three or four spoonfuls, without appetite, as it were, mechanically. His head ached less. After his meal he stretched himself on the sofa again, but now he could not sleep; he lay without stirring, with his face in the pillow. He was haunted by daydreams and such strange daydreams; in one, that kept recurring, he imagined that he was in Africa, in Egypt, in some sort of oasis. The caravan is resting, the camels are peacefully lying down; the palms stand all around in a complete circle; everyone is eating dinner. But he is drinking water straight from a spring which flows gurgling close by. And it is so cool, and such wonderful, wonderful, blue, cold water is running among the colored stones and over the clean sand which glistens here and there like gold . . . Suddenly he heard a clock strike. He started, roused himself, raised his head, looked out of the window, and seeing how late it was, suddenly jumped up wide awake as though someone had pulled him off the sofa. He crept on tiptoe to the door, stealthily opened it and began listening on the staircase. His heart beat terribly. But all was quiet on the stairs as if everyone was asleep . . . It seemed to him strange and monstrous that he could have slept in such forgetfulness from the previous day and had done nothing, had prepared nothing yet . . . And meanwhile perhaps it had struck six. And his drowsiness and stupefaction were followed by an extraordinary, feverish, as it were, distracted, haste. But the preparations to be made were few. He concentrated all his energies on thinking of everything and forgetting nothing; and his heart kept beating and thumping so that he could hardly breathe. First he had to make a noose and sew it into his overcoat — a work of a moment. He rummaged under his pillow and picked out amongst the linen stuffed away under it, a completely worn out old unwashed shirt. From its rags he tore a long strip, a couple of inches wide and about sixteen inches long. He folded this strip in two, took off his wide, sturdy summer overcoat of some thick cotton material (his only outer garment) and began sewing the two ends of the rag on the inside, under the left armhole. His hands shook as he sewed, but he prevailed, and so well that nothing showed on the outside when he put the coat on again. He had got the needle and thread ready long before and they lay on his table in a piece of paper. As for the noose, it was a very ingenious device of his own; the noose was intended for the axe. He couldn’t very well carry the axe through the street in his hands. And if hidden under his coat he would still have had to support it with his hand, which would have been noticeable. Now he had only to put the head of the axe in the noose, and it would hang quietly under his arm on the inside. Putting his hand in his coat pocket, he could hold the end of the handle all the way, so that it did not swing; and as the coat was very full, a regular sack in fact, it could not be seen from outside that he was holding something with the hand that was in the pocket. This noose, too, he had designed two weeks before.  When he had finished with this, he thrust his hand into a little opening between his “Turkish” sofa and the floor, fumbled in the left corner and pulled out the pledge, which he had got ready long before and hidden there. This pledge was, however, not a pledge at all, but only a smoothly planed piece of wood the size and thickness of a silver cigarette case. He picked up this piece of wood in one of his wanderings in a courtyard where there was some sort of a workshop. Afterwards he had added to the wood a thin smooth piece of iron, some fragment, probably, which he had also picked up at the same time in the street. Putting the iron piece, which was a little smaller, on the piece of wood, he fastened them very firmly, crossing and re-crossing the thread round them; then wrapped them carefully and daintily in clean white paper and tied up the parcel so that it would be very difficult to untie it. This was in order to divert the attention of the old woman for a time, while she was trying to undo the knot, and so to gain a moment. The iron strip was added to give weight, so that the woman might not immediately guess that the “thing” was made of wood. All this had been stored by him beforehand under the sofa. He had only just got the pledge out when suddenly he heard someone shouting in the yard:  “It struck six long ago!”  “Long ago! My God!”  He rushed to the door, listened, grabbed his hat and began to descend his thirteen steps cautiously, noiselessly, like a cat. He had still the most important thing to do — to steal the axe from the kitchen. That the deed must be done with an axe he had decided long ago. He had also a pocket pruning-knife, but he could not rely on the knife and still less on his own strength, and so resolved finally on the axe. We may note in passing, one peculiarity in regard to all the final resolutions taken by him in the matter; they had one strange characteristic: the more final they were, the more hideous and the more absurd they at once became in his eyes. In spite of all his agonizing inward struggle, he never for a single instant all that time could believe in the carrying out of his plans.  And, indeed, if it had ever happened that everything to the least point could have been considered and finally settled, and no uncertainty of any kind had remained, he would, it seems, have renounced it all as something absurd, monstrous and impossible. But a whole heap of unsettled points and uncertainties remained. As for getting the axe, that trifling business cost him no anxiety, for nothing could be easier. Nastasia was continually out of the house, especially in the evenings; she would run in to the neighbors’ apartments or to a store, and always left the door ajar. It was the one thing the landlady was always scolding her about. And so when the time came, he would only have to go quietly into the kitchen and to take the axe, and an hour later (when everything was over) go in and put it back again. But there were doubtful points too. Supposing he returned an hour later to put it back, and Nastasia had come back and was on the spot. He would of course have to go by and wait till she went out again. But supposing she were in the meantime to miss the axe, start looking, make an outcry — that would mean suspicion or at least grounds for suspicion.  But those were all trifles which he had not even begun to consider, and indeed he had no time. He was thinking of the chief point, and put off trifling details, until he could believe in it all. But that seemed utterly unattainable. So it seemed to him at least. He could not imagine, for instance, that he would sometime stop thinking, get up and simply go there . . . Even his recent experiment (i.e., his visit with the intention of conducting a final survey of the place) was simply an attempt at an experiment, far from being the real thing, as though one should say “come, let us go and try it — why dream about it!” — and at once he had broken down and had run away cursing, furious with himself. Meanwhile it would seem, as regards the moral question, that his analysis was complete; his casuistry had become keen as a razor, and he could no longer find conscious objections in himself. But in the end he simply ceased to believe himself, and doggedly, slavishly sought arguments in all directions, fumbling for them, as though someone were forcing and drawing him to it. This last day, however, which had come so unexpectedly deciding everything at once, had an almost completely mechanical effect on him, as though someone took him by the hand and started pulling with unnatural force, irresistibly, blindly, without his objections. It was as though a part of his clothing had gotten caught in the wheel of a machine, and he was being drawn into it.  At first — long before, in fact — he had been extremely occupied by a single question; why are almost all crimes so badly concealed and so easily detected, and why do almost all criminals leave such obvious traces? He had come gradually to many different and curious conclusions, and in his opinion the chief reason lay not so much in the material impossibility of concealing the crime, as in the criminal himself. Almost every criminal is subject to a failure of will and reasoning power by a childish and phenomenal heedlessness, at the very instant when reason and caution are most essential. It was his conviction that this eclipse of reason and failure of will power attacked a man like a disease, developed gradually and reached its highest point just before the perpetration of the crime, continued with equal violence at the moment of the crime and for longer or shorter time after, according to the individual case, and then passed off like any other disease. The question whether the disease gives rise to the crime, or whether the crime, due to its own peculiar nature, is always accompanied by something like a disease, he did not yet feel able to decide.  When he reached these conclusions, he decided that in his own case there could not be such morbid reversals, that his reason and will would remain unimpaired at the time of carrying out his design, for the simple reason that his design was “not a crime . . . ” We will omit all the process by means of which he arrived at this last conclusion; we have run too far ahead already . . . We may add only that the practical, purely material difficulties of the affair occupied an altogether secondary position in his mind. “So long as one keeps all one’s will power and reason to deal with them, they will all be overcome at the time when once one has familiarized oneself with the minutest details of the business . . . ” But the business wouldn’t begin. His final decisions were what he continued to trust least, and when the hour struck, it all turned out quite differently, as it were accidentally and even unexpectedly.  One trifling circumstance upset his calculations, before he had even left the staircase. When he reached the landlady’s kitchen, wide open as usual, he glanced cautiously in to see whether, in Nastasia’s absence, the landlady herself was there, or if not, whether the door to her own room was closed, so that she might not peep out when he went in for the axe. To his amazement, however, he suddenly saw that Nastasia was not only at home in the kitchen this time, but was even occupied there, taking linen out of a basket and hanging it on a line! Seeing him, she stopped hanging the clothes, turned to him and stared at him all the time he was passing. He turned away his eyes, and walked past as though he noticed nothing. But it was the end of everything: there was no axe! He was overwhelmed.  “What made me think,” he reflected, as he went under the gateway, “what made me think that she would be sure not to be at home at that moment! Why, why, why did I assume this so certainly?”  He was crushed and even humiliated. He could have laughed at himself in his anger . . . A dull animal rage boiled within him.  He stood hesitating in the gateway. To go into the street, to go for a walk for appearance sake was revolting; to go back to his room, even more revolting. “And what a chance I have lost forever!” he muttered, standing aimlessly in the gateway, just opposite the porter’s little dark room, which was also open. Suddenly he started. From the porter’s room, two paces away from him, something shining under the bench to the right caught his eye . . . He looked about him — nobody. He approached the room on tiptoe, went down two steps into it and in a faint voice called the porter. “Yes, not at home! Somewhere near though, in the yard, for the door is wide open.” He dashed to the axe (it was an axe) and pulled it out from under the bench, where it lay between two chunks of wood; at once before going out, he secured it in the noose, thrust both hands into his pockets and went out of the room; no-one had noticed him! “When reason fails, the devil helps!” he thought with a strange grin. This incident raised his spirits extraordinarily.  He walked along quietly and sedately, without hurry, to avoid awakening suspicion. He scarcely looked at the passersby, even tried to escape looking at their faces at all, and to be as little noticeable as possible. Suddenly he thought of his hat. “Good heavens! I had the money the day before yesterday and did not get a cap to wear instead!” A curse rose from the bottom of his soul.  Glancing out of the corner of his eye into a store, he saw by a clock on the wall that it was ten minutes past seven. He had to hurry up and at the same time to make a detour, so as to approach the house round about, from the other side . . .  When he had happened to imagine all this beforehand, he had sometimes thought that he would be very much afraid. But he was not very much afraid now, not afraid at all, in fact. His mind was even occupied by irrelevant matters, but by nothing for long. As he passed the Yusupov Garden, he was deeply absorbed in considering the building of great fountains, and of their refreshing effect on the atmosphere in all the squares. Little by little he arrived at the conviction that if the summer garden were extended to all of the Mars Field, and perhaps even joined to the garden of the Mikhailovsky Palace, it would be a splendid thing and a great benefit to the town. Then he suddenly became interested in the question why in all great towns men are not simply driven by necessity, but in some peculiar way inclined to live in those parts of the town where there are no gardens nor fountains; where there is filth and stench and all sorts of nastiness. Then his own walks through the Haymarket came back to his mind, and for a moment he woke up to reality. “What nonsense!” he thought, “better think of nothing at all!”  “So probably men led to execution clutch mentally at every object that meets them on the way,” flashed through his mind, but simply flashed, like lightning; he himself quickly extinguished this thought . . . And by now he was near; here was the house, here was the gate. Suddenly a clock somewhere struck once. “What! can it be half-past seven? Impossible, it must be fast!”  Luckily for him, everything went well again at the gates. What’s more, at that very moment, as though on purpose, a huge cart of hay had just driven in at the gate, completely screening him as he passed under the gateway, and the cart had scarcely had time to drive through into the yard, before he had slipped in a flash to the right. On the other side of the cart he could hear several voices shouting and quarrelling; but no-one noticed him and no-one passed him. Many windows looking into that huge quadrangular yard were open at that moment, but he did not raise his head — he did not have the strength. The staircase leading to the old woman’s room was close by, just on the right of the gateway. He was already on the stairs . . .  Catching his breath, pressing his hand against his throbbing heart, and once more feeling for the axe and setting it straight, he began softly and cautiously ascending the stairs, listening every minute. But the stairs, too, were quite deserted at that time; all the doors were shut; he met no-one after all. It is true that one apartment on the first floor was wide open and painters were at work in it, but they did not glance at him. He stood still, thought a minute and went on. “Of course it would be better if they had not been here, but . . . it’s two floors above them.”  And there was the fourth floor, here was the door, here was the apartment opposite, the empty one. On the third floor, the apartment underneath the old woman’s was apparently empty also; the visiting card nailed on the door had been torn off — they had moved out! . . . He was out of breath. For one instant the thought flashed through his mind “Should I leave?” But he made no answer and began listening at the old woman’s door: a dead silence. Then he listened again on the staircase, listened long and intently . . . then looked about him for the last time, pulled himself together, drew himself up, and once more tried the axe in the noose. “Am I very pale?” he wondered. “Am I too agitated? She is mistrustful . . . Had I better wait a little longer . . . till my heart stops thumping?”  But his heart would not stop thumping. On the contrary, as though on purpose, it throbbed more and more and more . . . He could stand it no longer, slowly put out his hand to the bell and rang. Half a minute later he rang again, more loudly.  No answer. To go on ringing was useless and out of place. The old woman was, of course, at home, but she was suspicious and alone. He had some knowledge of her habits . . . and once more he put his ear to the door. Either his senses were peculiarly keen (which it is difficult to suppose), or the sound was really very distinct, but at any rate he suddenly heard something like the cautious touch of a hand on the lock and the rustle of a skirt at the very door. Someone was standing quietly close to the lock and just as he was doing on the outside was stealthily listening within, and also, it seemed, had her ear to the door . . . He moved a little on purpose and muttered something aloud so as not to give the impression that he was hiding, then rang a third time, but quietly, soberly and without impatience. Recalling it afterwards, that moment stood out in his mind vividly, distinctly, forever; he could not make out how he had had such cunning, especially since his mind was as it were clouded at moments and he was almost unconscious of his body . . . An instant later he heard the latch unfastened.  CHAPTER SEVEN  THE DOOR WAS AS before opened a tiny crack, and again two sharp and suspicious eyes stared at him out of the darkness. Then Raskolnikov lost his head and nearly made a great mistake.  Fearing the old woman would be frightened by their being alone, and not hoping that the sight of him would disarm her suspicions, he took hold of the door and pulled it towards him to prevent the old woman from attempting to shut it again. Seeing this she did not pull the door back, but she did not let go the handle, either, so that he almost dragged her out with it on to the stairs. Seeing that she was standing in the doorway not allowing him to pass, he advanced straight upon her. She stepped back in alarm, tried to say something, but seemed unable to speak and stared with open eyes at him.  “Good evening, Aliona Ivanovna,” he began, trying to speak as casually as possible, but his voice would not obey him, it broke and shook. “I have come . . . I have brought something . . . but we’d better go over here . . . to the light . . . ”  And leaving her, he walked straight into the room uninvited. The old woman ran after him; her tongue was loosened.  “Good heavens! What are you doing here? Who are you? What do you want?”  “Why, Aliona Ivanovna, you know me . . . Raskolnikov . . . here, I brought you the pledge I promised the other day . . . ” and he held out the pledge.  The old woman glanced for a moment at the pledge, but at once stared in the eyes of her uninvited visitor. She looked intently, maliciously and mistrustfully. A minute passed; he even thought he saw something like a sneer in her eyes, as though she had already guessed everything. He felt that he was losing his head, that he was almost frightened, so frightened that if she were to look like that and not say a word for another half minute, he would have run away from her.  “Why do you look at me as though you didn’t recognize me?” he said suddenly, also with malice. “Take it if you like, if not I’ll go elsewhere, I am in a hurry.”  He had not even thought of saying this; it was just suddenly said of itself. The old woman recovered herself, and her visitor’s resolute tone evidently set her at ease.  “But why, sir, all of a sudden ... What is it?” she asked, looking at the pledge.  “The silver cigarette case; I spoke of it last time, you know.”  She held out her hand.  “But why are you so pale somehow? And your hands are trembling too! Have you been bathing, or what?”  “Fever,” he answered abruptly. “You can’t help getting pale . . . if you’ve nothing to eat,” he added, with difficulty articulating the words.  His strength was failing him again. But his answer sounded like the truth; the old woman took the pledge.  “What is it?” she asked once more, scanning Raskolnikov intently, and weighing the pledge in her hand.  “A thing . . . cigarette case . . . Silver . . . Look at it.”  “It does not seem somehow like silver . . . How he has wrapped it up!”  Trying to untie the string and turning to the window, to the light (all her windows were shut, in spite of the stifling heat), she left him altogether for several seconds and stood with her back to him. He unbuttoned his coat and freed the axe from the noose, but did not yet take it out altogether, simply holding it in his right hand under the coat. His hands were terribly weak, he himself felt them every moment growing more numb and more wooden. He was afraid he would let the axe slip and fall . . . Suddenly his head seemed to spin.  “But what has he tied it up like this for?” the old woman cried with vexation and moved towards him.  He had not an instant more to lose. He pulled the axe out completely, swung it with both arms, scarcely conscious of himself, and almost without effort, almost mechanically, brought the blunt side down on her head. He seemed not to use his own strength in this. But as soon as he had once brought the axe down, strength was born in him.  The old woman was as always bareheaded. Her thin, light hair, streaked with gray, thickly smeared with grease, was plaited in a rat’s tail and fastened by a broken horn comb which stood out on the nape of her neck. As she was so short, the blow fell on the very top of her skull. She cried out, but very faintly, and suddenly sank all of a heap on the floor, though still managing to raise her hands to her head. In one hand she still held “the pledge.” Then with all his strength he dealt her another and another blow with the blunt side, and on the same spot. The blood gushed as from an overturned glass, the body fell back. He stepped back, let it fall, and at once bent over her face; she was already dead. Her eyes seemed to be starting out of their sockets, the forehead and the whole face were drawn and contorted convulsively.  He laid the axe on the ground near the dead body and felt at once in her pocket (trying to not get smeared with the streaming blood) — the same right hand pocket from which she had taken the key on his last visit. He was in full possession of his faculties, free from confusion or giddiness, but his hands were still trembling. He remembered afterwards that he had been particularly cautious and careful, trying all the time not to get stained . . . He pulled out the keys at once, they were all, as before, in one bunch on a steel ring. He ran at once into the bedroom with them. It was a very small room with a whole shrine of holy images. Against the other wall stood a big bed, very clean and covered with a silk patchwork wadded quilt. Against a third wall was a chest of drawers. Strange to say, as soon as he began to fit the keys into the chest, as soon as he heard their jingling, a convulsive shudder passed over him. He suddenly felt tempted again to give it all up and go away. But that was only for an instant; it was too late to go back. He even smiled at himself, when suddenly another alarming idea occurred to his mind. He suddenly fancied that the old woman might be still alive and might recover her senses. Leaving the keys in the chest, he ran back to the body, snatched up the axe and lifted it once more over the old woman, but did not bring it down. There was no doubt that she was dead. Bending down and examining her again more closely, he saw clearly that the skull was broken and even battered in on one side. He was about to feel it with his finger, but drew back his hand and indeed it was evident without that. Meanwhile there was a whole pool of blood. All of a sudden he noticed a string on her neck; he tugged at it, but the string was b and did not snap and besides, it was soaked with blood. He tried to pull it out from the front of the dress, but something held it and prevented its coming. In his impatience he raised the axe again to hack at the string from above, right on the body, but did not dare, and with difficulty, smearing his hands and the axe in the blood, after two minutes’ hurried effort, he cut the string and took it off without touching the body with the axe; he was not mistaken — it was a purse. On the string were two crosses, one of Cyprus wood and one of copper, and an enameled icon, and with them a small greasy suede purse with a steel rim and ring. The purse was stuffed very full; Raskolnikov thrust it in his pocket without looking at it, flung the crosses on the old woman’s chest and rushed back into the bedroom, this time taking the axe with him.  He was in a terrible hurry, he snatched the keys, and began trying them again. But he was unsuccessful. They would not fit in the locks. It was not so much that his hands were shaking, but that he kept making mistakes; though he saw, for instance, that a key was not the right one and would not fit, still he tried to put it in. Suddenly he remembered and realized that the big key with the deep notches, which was hanging there with the small keys, could not possibly belong to the chest of drawers (on his last visit this had struck him), but to some b-box, and that everything perhaps was hidden in that box. He abandoned the chest of drawers, and at once felt under the bedstead, knowing that old women usually keep boxes under their beds. And so it was; there was a good-sized box under the bed, at least a yard in length, with an arched lid covered with red leather and studded with steel nails. The notched key fit at once and unlocked it. At the top, under a white sheet, was a coat of thick red silk cloth lined with hare skin; under it was a silk dress, then a shawl and it seemed as though there was nothing below but clothes. The first thing he did was to wipe his blood-stained hands on the thick red silk. “It’s red, and on red blood will be less noticeable,” the thought passed through his mind; then he suddenly came to. “Good God, am I going out of my mind?” he thought with terror.  But no sooner did he touch the clothes than a gold watch slipped from under the fur coat. He started turning everything over. And in fact there were various articles made of gold among the clothes — probably all pledges, unredeemed or waiting to be redeemed — bracelets, chains, earrings, pins and such. Some were in cases, others simply wrapped in newspaper, carefully and exactly folded, in double sheets, and tied round with tape. Losing not a moment, he began stuffing the pockets of his trousers and overcoat without examining or opening the parcels and cases; but he didn’t get to take many . . .  He suddenly heard steps in the room where the old woman lay. He stopped short and was still as death. But all was quiet, so he must have been imagining things. All of a sudden he distinctly heard a faint cry, as though someone had uttered a low broken moan. Then again dead silence for a minute or two. He sat squatting on his heels by the box and waited holding his breath, then suddenly jumped up, seized the axe and ran out of the bedroom.  In the middle of the room stood Lizaveta with a big bundle in her arms. She was gazing in stupefaction at her murdered sister, white as a sheet and seeming not to have the strength to cry out. Seeing him run out of the bedroom, she began faintly quivering all over, like a leaf, a shudder ran down her face; she lifted her hand, opened her mouth, but still did not scream. She began slowly backing away from him into the corner, staring intently, persistently at him, but still uttered no sound, as though she could not get breath to scream. He rushed at her with the axe; her mouth twitched piteously, as one sees babies’ mouths, when they begin to be frightened, stare intently at what frightens them and are on the point of screaming. And this hapless Lizaveta was so simple and had been so thoroughly scared and browbeaten that she did not even raise a hand to protect her face, though that was the most necessary and natural action at the moment, for the axe was raised over her face. She only lifted her empty left hand ever so slightly, still far from her face, slowly holding it out before her as though motioning him away. The axe fell with the sharp edge just on the skull and split at one blow all the top of the head. She collapsed at once. Raskolnikov completely lost control of himself, snatched up her bundle, dropped it again and ran into the entryway.  Fear gained more and more mastery over him, especially after this second, quite unexpected murder. He longed to run away from the place as fast as possible. And if at that moment he had been capable of seeing and reasoning more correctly, if he had been able to realize all the difficulties of his position, the hopelessness, the hideousness and the absurdity of it, if he could have understood how many obstacles and, perhaps, villainies he had still to overcome or to commit, to get out of that place and to make his way home, it is very possible that he would have abandoned everything, and would have gone to give himself up, and not from fear for himself, but from simple horror and loathing of what he had done. The feeling of loathing especially surged up within him and grew ber every minute. Not for anything in the world would he now have gone to the b-box or even into the room.  But a sort of blankness, even dreaminess had begun by degrees to take possession of him; at moments he forgot himself, or rather, forgot what was of importance, and caught at trifles. Glancing, however, into the kitchen and seeing a bucket half full of water on a bench, he did realize that he needed to wash his hands and the axe. His hands were sticky with blood. He dropped the axe with the blade in the water, snatched a piece of soap that lay in a broken saucer on the window, and began washing his hands right there in the bucket. When they were clean, he took out the axe, washed the blade and spent a long time, about three minutes, washing the wood where there were spots of blood, even rubbing them with soap. Then he wiped it all with some linen that was hanging to dry on a line in the kitchen and then he spent a long time attentively examining the axe at the window. There was no trace left on it, only the wood was still damp. He carefully hung the axe in the noose under his coat. Then as far as was possible, in the dim light in the kitchen, he looked over his overcoat, his trousers and his boots. At the first glance there seemed to be nothing but stains on the boots. He wetted the rag and rubbed the boots. But he knew he was not looking thoroughly, that there might be something quite noticeable that he was overlooking. He stood in the middle of the room, lost in thought. A dark agonizing thought rose in his mind — the thought that he was going mad and that at that moment he was incapable of reasoning, of protecting himself, that he ought perhaps to be doing something utterly different from what he was now doing. “Good God!” he muttered “I must run, run,” and he rushed into the entryway. But here a shock of terror awaited him such as he had never of course known before.  He stood and gazed and could not believe his eyes: the door, the outer door from the stairs, the one at which he had not long before waited and rung, was standing unlocked and at least six inches open. No lock, no bolt, all the time, all that time! The old woman had not shut it after him perhaps as a precaution. But, good God! Why, he had seen Lizaveta afterwards! And how could he, how could he have failed to reflect that she must have come in somehow! She could not have come through the wall!  He dashed to the door and fastened the latch.  “But no, the wrong thing again. I must get away, get away . . . ”  He unfastened the latch, opened the door and began listening on the staircase.  He listened a long time. Somewhere far away, probably in the gateway, two voices were loudly and shrilly shouting, quarrelling and scolding. “What are they yelling about?” He waited patiently. At last everything was still, as though suddenly cut off; they had separated. He was meaning to go out, but suddenly, on the floor below, a door was noisily opened and someone began going downstairs humming a tune. “How is it they all make such a noise!” flashed through his mind. Once more he closed the door and waited. At last everything was still, not a soul was stirring. He was just taking a step towards the stairs when he heard fresh footsteps.  The steps sounded very far off, at the very bottom of the stairs, but he remembered quite clearly and distinctly that from the first sound he began for some reason to suspect that this was someone coming there, to the fourth floor, to the old woman. Why? Were the sounds somehow peculiar, significant? The steps were heavy, even and unhurried. Now he had passed the first floor, now he was mounting higher, it was growing more and more distinct! He could hear his heavy breathing. And now the third storey had been reached. Coming here! And it seemed to him all at once that he was turned to stone, that it was like a dream in which one is being pursued, nearly caught and will be killed, and is rooted to the spot and cannot even move one’s arms.  At last when the unknown was mounting to the fourth floor, he suddenly started, and succeeded in slipping neatly and quickly back into the flat and closing the door behind him. Then he took the hook and softly, noiselessly, fixed it in the catch. Instinct helped him. When he had done this, he crouched holding his breath, by the door. The unknown visitor was by now also at the door. They were now standing opposite one another, as he had just before been standing with the old woman, when the door divided them and he was listening.  The visitor panted several times. “He must be a big, fat man,” thought Raskolnikov, squeezing the axe in his hand. It seemed like a dream. The visitor took hold of the bell and rang loudly.  As soon as the tin bell tinkled, Raskolnikov seemed to be aware of something moving in the room. For some seconds he listened quite seriously. The unknown rang again, waited and suddenly tugged violently and impatiently at the handle of the door. Raskolnikov gazed in horror at the hook shaking in its fastening, and in blank terror expected every minute that the fastening would be pulled out. It certainly did seem possible, so violently was he shaking it. He was tempted to hold the fastening, but he might be aware of it. Dizziness came over him again. “I shall fall down!” flashed through his mind, but the unknown began to speak and he recovered himself at once.  “What’s up? Are they asleep or murdered? D-damn them!” he bawled in a thick voice, “Hey, Aliona Ivanovna, old witch! Lizaveta Ivanovna, hey, my beauty! Open the door! Damn them! Are they asleep or what?”  And again, enraged, he tugged with all his might a dozen times at the bell. He must certainly be a man of authority and an intimate acquaintance.  At this moment light hurried steps were heard not far off, on the stairs. Someone else was approaching. Raskolnikov had not heard them at first.  “You don’t say there’s no-one at home,” the newcomer cried in a cheerful, ringing voice, addressing the first visitor, who still went on pulling the bell. “Good evening, Koch.”  “From his voice he must be quite young,” thought Raskolnikov.  “Who the hell can tell? I’ve almost broken the lock,” answered Koch. “But how do you come to know me?”  “Why! The day before yesterday I beat you three times in a row at billiards at Gambrinus’.”  “Oh!”  “So they are not at home? That’s strange. It’s pretty stupid though. Where could the old woman have gone? I’ve come on business.”  “Yes; and I have business with her, too.”  “Well, what can we do? Go back, I suppose! And I was hoping to get some money!” cried the young man.  “We must give up, of course, but what did she fix this time for? The old witch fixed the time for me to come herself. It’s out of my way. And where the devil she can have got to, I can’t make out. She sits here from year’s end to year’s end, the old hag; her legs are bad and yet here all of a sudden she is out for a walk!”  “Hadn’t we better ask the porter?”  “What?”  “Where she’s gone and when she’ll be back.”  “Hm . . . Damn it all! . . . We might ask . . . But you know she never does go anywhere.”  And he once more tugged at the door-handle.  “Damn it all. There’s nothing to be done, we must go!”  “Stay!” cried the young man suddenly. “Do you see how the door shakes if you pull it?”  “Well?”  “That shows it’s not locked, but fastened with the hook! Do you hear how the hook clanks?”  “Well?”  “Why, don’t you see? That proves that one of them is at home. If they were all out, they would have locked the door from the outside with the key and not with the hook from inside. There, do you hear how the hook is clanking? To fasten the hook on the inside they must be at home, don’t you see. So there they are sitting inside and aren’t opening the door!”  “Well! And so they must be!” cried Koch, astonished. “What are they doing in there!” And he began furiously shaking the door.  “Stay!” cried the young man again. “Don’t pull at it! There must be something wrong . . . Here, you’ve been ringing and pulling at the door and still they don’t open! So either they’ve both fainted or . . . ”  “What?”  “I tell you what. Let’s go fetch the porter, let him wake them up.”  “All right.”  Both of them went down.  “Stop. You stay here while I run down for the porter.”  “What for?”  “Well, you’d better.”  “All right.”  “I’m studying law, you see! It’s evident, e-vi-dent there’s something wrong here!” the young man cried hotly, and he ran downstairs.  Koch remained. Once more he softly touched the bell which gave one tinkle, then gently, as though reflecting and looking about him, began touching the door-handle pulling it and letting it go to make sure once more that it was only fastened by the hook. Then puffing and panting he bent down and began looking at the keyhole; but the key was in the lock on the inside and so nothing could be seen.  Raskolnikov stood keeping tight hold of the axe. He was in a sort of delirium. He was even getting ready to fight when they came in. While they were knocking and talking together, the idea several times occurred to him to end it all at once and shout to them through the door. Now and then he was tempted to swear at them, to jeer at them, while they could not open the door! “Just hurry up!” was the thought that flashed through his mind.  “But what the devil is he about? . . . ” Time was passing, one minute, and another — no-one came. Koch began to be restless.  “What the hell?” he cried suddenly and in impatience deserting his sentry duty, he, too, went down, hurrying and thumping his heavy boots on the stairs. The steps died away.  “God! What should I do?”  Raskolnikov unfastened the hook, opened the door — there was no sound. Abruptly, without any thought at all, he went out, closing the door as thoroughly as he could, and went downstairs.  He had gone down three flights when he suddenly heard a loud voice below — where could he go! There was nowhere to hide. He was just going back to the flat.  “Hey there! Catch the brute!”  Somebody dashed out of a flat below, shouting, and rather fell than ran down the stairs, bawling at the top of his voice.  “Mitka! Mitka! Mitka! Mitka! Mitka! Damn him!”  The shout ended in a shriek; the last sounds came from the yard; all was still. But at the same instant several men talking loud and fast began noisily mounting the stairs. There were three or four of them. He distinguished the ringing voice of the young man. “Them!”  Filled with despair he went straight to meet them, feeling “come what may!” If they stopped him — all was lost; if they let him pass — all was lost too; they would remember him. They were approaching; they were only a flight away from him — and, suddenly, salvation! A few steps from him on the right there was an empty flat with the door wide open, the flat on the second floor where the painters had been at work, and which, as though for his benefit, they had just left. It was they, no doubt, who had just run down, shouting. The floor had only just been painted, in the middle of the room stood a pail and a broken pot with paint and brushes. In one instant he had whisked in at the open door and hidden behind the wall and just in the nick of time; they had already reached the landing. Then they turned and went on up to the fourth floor, talking loudly. He waited, went out on tiptoe and ran down the stairs.  No-one was on the stairs or in the gateway. He passed quickly through the gateway and turned to the left into the street.  He knew, he knew perfectly well that at that moment they were at the flat, that they were greatly astonished at finding it unlocked, as the door had just been fastened, that by now they were looking at the bodies, that before another minute had passed they would guess and eventually realize that the murderer had just been there, and had succeeded in hiding somewhere, slipping by them and escaping. They would guess most likely that he had been in the empty flat while they were going upstairs. And meanwhile he dared not speed up too much, though the next turning was still nearly a hundred yards away. “Should he slip through some gateway and wait somewhere in an unknown street? No, hopeless! Should he fling away the axe? Should he take a cab? Hopeless, hopeless!”  At last he reached the turning. He turned down it more dead than alive. Here he was halfway to safety, and here he understood it; it was less risky because there was a great crowd of people, and he was lost in it like a grain of sand. But everything he had suffered had so weakened him that he could scarcely move. Perspiration ran down him in drops, his neck was all wet. “My God, he’s been at it!” someone shouted at him when he came out on the canal bank.  He was only dimly conscious of himself now, and the farther he went the worse it was. He remembered, however, that when he came out onto the canal bank, he was alarmed at finding few people there and at being more conspicuous, and he had thought of turning back. Though he was almost falling from fatigue, he went a long way round so as to get home from a different direction.  He was not fully conscious when he passed through the gateway of his house; he was already on the staircase before he remembered the axe. And yet he had a very grave problem before him, to put it back and to escape observation as far as possible in doing so. He was of course incapable of reflecting that it might perhaps be far better not to put the axe back at all, but to drop it later on in somebody’s yard. But it all turned out beautifully: the door of the porter’s room was closed but not locked, so it seemed most likely that the porter was at home. But he had lost his powers of reflection so completely that he walked straight to the door and opened it. If the porter had asked him “What do you want?” he would perhaps have simply handed him the axe. But again the porter was not at home, and he succeeded in putting the axe back under the bench, and even covering it with the chunk of wood just as before. He met no-one, not a soul, on the way to his room; the landlady’s door was shut. When he was in his room, he flung himself on the sofa just as he was — he did not sleep, but sank into blank forgetfulness. If anyone had come into his room then, he would have jumped up at once and screamed. Scraps and shreds of thoughts were simply swarming in his brain, but he could not catch at one, he could not rest on one, in spite of all his efforts ...  PART TWO  CHAPTER ONE  HE LAY LIKE THAT for a very long time. Now and then he seemed to wake up, and at such moments he became conscious that it was far into the night, but it did not occur to him to get up. At last he noticed that it was already dawn. He was lying on his back, still dazed from his recent oblivion. Fearful, despairing cries rose shrilly from the street, sounds which he heard every night under his window after two o’clock; now they woke him up.  “Ah! The drunkards are coming out of the taverns,” he thought, “it’s past two o’clock,” and at once he leaped up, as though someone had pulled him from the sofa.  “What! Past two o’clock!”  He sat down on the sofa — and instantly remembered everything! All at once, in a flash, he remembered everything.  At first he thought he was going mad. A dreadful chill came over him; but the chill was from the fever that had begun long before in his sleep. Now he suddenly started shivering violently, so that his teeth chattered and all his limbs were shaking. He opened the door and began listening; everyone in the house was asleep. With amazement he gazed at himself and everything in the room around him, wondering how he could have come in the night before without fastening the door and have flung himself on the sofa without undressing, without even taking his hat off. It had fallen off and was lying on the floor near his pillow.  “If someone had come in, what would they have thought? That I’m drunk but...”  He rushed to the window. There was enough light for him to begin hurriedly checking himself all over from head to foot, all his clothes: were there no traces? But there was no use doing it like that; shivering with cold, he began taking off everything and looking himself over again. He turned everything over to the last threads and rags and, mistrusting himself, went through his search three times.  But there seemed to be nothing, no trace, except in one place, where some thick drops of congealed blood were clinging to the frayed edge of his trousers. He picked up a big pocket knife and cut off the frayed threads. There seemed to be nothing more.  Suddenly he remembered that the purse and the things he had taken out of the old woman’s box were still in his pockets! He had not thought until then of taking them out and hiding them! He had not even thought of them while he was examining his clothes! What next? Instantly he rushed to take them out and fling them on the table. When he had pulled out everything and turned the pocket inside out to be sure there was nothing left, he carried the whole heap to the corner. The paper had come off the bottom of the wall and hung there in tatters. He began stuffing all the things into the hole under the paper. “They’re in! All out of sight, and the purse too!” he thought gleefully, getting up and gazing blankly at the hole which bulged out more than ever. Suddenly he shuddered all over with horror. “My God!” he whispered in despair. “What’s the matter with me? Are they hidden? Is that the way to hide things?”  He had not counted on having trinkets to hide. He had only thought of money, and so he had not prepared a hiding-place.  “But now, now, what am I pleased about?” he thought, “Is that hiding things? My reason’s deserting me — it’s as simple as that!”  He sat down on the sofa in exhaustion and was at once shaken by another unbearable fit of shivering. Mechanically he drew from a chair beside him his old student’s winter coat, which was still warm though almost in rags, covered himself up with it and once more sank into drowsiness and delirium. He lost consciousness.  Not more than five minutes had passed when he jumped up a second time, and at once pounced in a frenzy on his clothes again.  “How could I go to sleep again with nothing done? Yes, yes; I haven’t taken the noose off the armhole! I forgot it, forgot a thing like that! Such a piece of evidence!”  He pulled off the noose, hurriedly cut it to pieces and threw the bits among his linen under the pillow.  “Pieces of torn linen couldn’t arouse suspicion, whatever happened; I think not, I think not — anyway!” he repeated, standing in the middle of the room, and with painful concentration he started gazing about him again, at the floor and everywhere, trying to make sure he had not forgotten anything. The conviction that all his faculties were failing him, even his memory and his most basic powers of reflection, began to be an insufferable torture.  “Surely it isn’t beginning already? Surely it isn’t my punishment coming upon me? It is!”  The frayed rags he had cut off his trousers were actually lying on the floor in the middle of the room, where anyone coming in would see them!  “What is the matter with me!” he cried again, distraught.  Then a strange idea entered his head; that, perhaps, all his clothes were covered with blood, that, perhaps, there were many stains, but that he did not see them, did not notice them because his perceptions were failing, were going to pieces . . . his reason was clouded . . . Suddenly he remembered that there had been blood on the purse too. “Ah! Then there must be blood on the pocket too, because I put the wet purse in my pocket!”  In a flash he had turned the pocket inside out and, yes! There were traces, stains on the lining of the pocket!  “So my reason has not quite deserted me, so I still have some kind of memory and common sense, since I guessed it myself,” he thought triumphantly, with a deep sigh of relief. “It’s simply the weakness of fever, a moment’s delirium,” and he tore the whole lining out of the left pocket of his trousers. At that instant the sunlight fell on his left boot; on the sock which poked out from the boot he thought there were traces! He flung off his boots — “traces! The tip of the sock was soaked with blood”; he must have unwarily stepped into that pool . . . “But what am I to do with this now? Where am I to put the sock and rags and pocket?”  He gathered them all up in his hands and stood in the middle of the room.  “In the stove? But they would search the stove first. Burn them? But what can I burn them with? There aren’t even any matches. No, better go out and throw it all away somewhere. Yes, better throw it away,” he repeated, sitting down on the sofa again, “and straightaway, immediately, without delay . . . ”  But his head sank on the pillow instead. Again the unbearable icy shivering came over him; again he drew his coat over him.  And for a long while, for some hours, he was haunted by the impulse to “go off somewhere at once, this minute, and fling it all away, just so it’s out of sight and done with, at once, at once!” Several times he tried to rise from the sofa but could not.  He was properly woken at last by a violent knocking on his door.  “Open the door, are you dead or alive? He keeps sleeping here!” shouted Nastasia, banging with her fist on the door. “For days on end he’s been snoring here like a dog! A dog he is too. Open it, come on! It’s past ten.”  “Maybe he’s not at home,” said a man’s voice.  “Ha! That’s the porter’s voice . . . What does he want?”  He jumped up and sat on the sofa. Even the beating of his heart was painful.  “Then who can have latched the door?” retorted Nastasia.  “He’s taken to bolting himself in! As if he were worth stealing! Open it, you idiot, wake up!”  “What do they want? Why the porter? They’ve found me out. Resist or open? Come what may! . . . ”  He half rose, stooped forward and unlatched the door.  His room was so small that he could undo the latch without leaving the bed. Yes; the porter and Nastasia were standing there.  Nastasia stared at him in a strange way. He glanced with a defiant and desperate air at the porter, who without a word held out a gray folded paper sealed with wax.  “A notice from the office,” he announced, as he gave him the paper.  “From what office?”  “A summons to the police office, of course. You know which office.”  “To the police? . . . What for? . . . ”  “How can I tell? You’re sent for, so you go.”  The man looked at him attentively, looked round the room and turned to go away.  “He’s seriously ill!” observed Nastasia, not taking her eyes off him. The porter turned his head for a moment. “He’s been in a fever since yesterday,” she added.  Raskolnikov made no response and held the paper in his hands, without opening it. “Don’t get up then,” Nastasia went on compassionately, seeing that he was letting his feet down from the sofa. “You’re ill, so don’t go; there’s no hurry. What have you got there?”  He looked; in his right hand he held the shreds he had cut from his trousers, the sock, and the rags of the pocket. So he had been asleep with them in his hand. When he reflected on it afterwards, he remembered that, half waking up in his fever, he had grasped all this tightly in his hand and fallen asleep again.  “Look at the rags he’s collected and sleeps with, as though he’s got treasure in his hands . . . ”  And Nastasia went off into her hysterical giggle.  Instantly he thrust them all under his overcoat and fixed his eyes intently upon her. Far as he was from being capable of rational reflection at that moment, he felt that no-one would behave like that with a person who was going to be arrested. “But . . . the police?”  “You’d better have some tea! Yes? I’ll bring it, there’s some left.”  “No . . . I’m going; I’ll go at once,” he muttered, getting on to his feet.  “Why, you’ll never get downstairs!”  “Yes, I’ll go.”  “As you wish.”  She followed the porter out.  At once he rushed to the light to examine the sock and the rags.  “There are stains, but not very noticeable; all covered with dirt, and rubbed and discolored. No-one who wasn’t suspicious could distinguish anything. Nastasia couldn’t have noticed from a distance, thank God!” Then with a tremor he broke the seal of the notice and began reading; he spent a long time reading it before he understood. It was an ordinary summons from the district police station to appear that day at half past nine at the office of the district superintendent.  “But when has such a thing happened? I never have anything to do with the police! And why just today?” he thought in agonizing bewilderment. “Good God, just get it over with as soon as possible!”  He was flinging himself on his knees to pray, but broke into laughter — not at the idea of prayer, but at himself.  He began to dress himself hurriedly. “If I’m lost, I’m lost, I don’t care! Shall I put the sock on?” he suddenly wondered. “It will get even dustier and the traces will be gone.”  But no sooner had he put it on than he pulled it off again in loathing and horror. He pulled it off, but reflecting that he had no other socks, he picked it up and put it on again — and again he laughed.  “That’s all conventional, that’s all relative, just a way of looking at it,” he thought in a flash, but only on the surface of his mind, while he was shuddering all over. “There, I’ve got it on! I’ve actually managed to get it on!”  But his laughter was quickly followed by despair.  “No, it’s too much for me . . . ” he thought. His legs shook. “Fear,” he muttered. His head swam and ached with fever. “It’s a trick! They want to decoy me and confuse me about everything,” he mused, as he went out onto the stairs. “The worst of it is I’m almost light-headed . . . I may blurt out something stupid . . . ”  On the stairs he remembered that he was leaving all the things just as they were in the hole in the wall, “and, very likely, it’s on purpose to search when I’m out,” he thought, and stopped short. But he was possessed by such despair, such cynicism of misery, if that is what it could be called, that with a wave of his hand he went on. “Just to get it over with!”  In the street the heat was unbearable again; not a drop of rain had fallen. Again, dust, bricks and mortar, again, the stench from the stores and taverns, again the drunken men, the Finnish street-sellers and half-broken-down cabs. The sun shone straight in his eyes, so that it hurt him to look out of them, and he felt his head spinning — as a person in a fever is apt to feel when they come out into the street on a bright sunny day.  When he reached the turning into the street, in agonizing terror he looked down it . . . at the house . . . and at once turned his eyes away.  “If they question me, perhaps I’ll just tell them everything,” he thought, as he neared the police station.  The police station was about a quarter of a mile off. It had recently been moved to new rooms on the fourth floor of a new house. He had been once for a moment in the old office, but long ago. Turning in at the gateway, he saw on the right a flight of stairs which a peasant was mounting with a book in his hand. “A house-porter, no doubt; so then, the office is here,” and he began climbing the stairs in case. He did not want to ask anyone any questions.  “I’ll go in, fall on my knees, and confess everything . . . ” he thought as he reached the fourth floor.  The staircase was steep, narrow and all sloppy with dirty water. The kitchens of the apartments opened onto the stairs and stood open almost the whole day. There was a terrible smell and heat. The staircase was crowded with porters going up and down with their books under their arms, policemen, and people of all sorts and both sexes. The door of the office, too, stood wide open. Peasants stood waiting inside. There, too, the heat was stifling and there was a sickening smell of fresh paint and stale oil from the newly decorated rooms.  After waiting a little, he decided to move forward into the next room. All the rooms were small and low-ceilinged. A terrible impatience drew him on and on. No-one paid attention to him. In the second room some clerks sat writing, dressed hardly better than he was — a rather strange-looking set. He went up to one of them.  “What is it?”  He showed him the notice he had received.  “You’re a student?” the man asked, glancing at the notice.  “Yes, a former student.”  The clerk looked at him, but without any interest. He was a particularly untidy person with a fixed expression in his eye.  “There would be no use trying to get anything out of him because he has no interest in anything,” thought Raskolnikov.  “Go in there to the head clerk,” said the clerk, pointing towards the furthest room.  He went into the room, the fourth in order; it was a small room and packed full of people, who were rather better dressed than in the outer rooms. Among them were two ladies. One, dressed in cheap mourning clothes, sat at the table opposite the chief clerk, writing something at his dictation. The other, a very stout, buxom woman with a purplish-red, blotchy face, excessively smartly dressed with a brooch on her bosom as big as a saucer, was standing on one side, apparently waiting for something. Raskolnikov thrust his notice at the head clerk. The latter glanced at it, said, “Wait a minute,” and went on attending to the lady in mourning.  He breathed more freely. “It can’t be that!”  By degrees he began to regain confidence, he kept urging himself to have courage and be calm.  “Some foolishness, some insignificant carelessness, and I may betray myself! Hm . . . it’s a pity there’s no air here,” he added, “it’s stifling . . . It makes your head dizzier than ever . . . and your mind too . . . ”  He was conscious of a terrible inner turmoil. He was afraid of losing his self-control; he tried to catch at something and fix his mind on it, something entirely irrelevant, but he could not succeed at all. Yet the head clerk greatly interested him; he kept hoping to see through him and guess something from his face.  He was a very young man, about twenty-two, with a dark mobile face that looked older than its years. He was fashionably dressed and effeminate, with his hair parted in the middle, well combed and greased, and wore a number of rings on his well-scrubbed fingers and a gold chain on his waistcoat. He said a couple of words in French to a foreigner who was in the room and said them fairly correctly.  “Luise Ivanovna, you can sit down,” he said casually to the cheerfully dressed, purple-faced lady, who was still standing as if she were not venturing to sit down, though there was a chair beside her.  “Ich danke,” said the latter, and softly, with a rustle of silk she sank into the chair. Her light blue dress trimmed with white lace floated about the table like an air-balloon and filled almost half the room. She smelt of scent. But she was obviously embarrassed at filling half the room and smelling so bly of scent; and though her smile was impudent as well as cringing, it betrayed evident uneasiness.  The lady in mourning had done at last and got up. All at once, with some noise, an officer walked in very jauntily, with a peculiar swing of his shoulders at each step. He tossed his cockaded cap on the table and sat down in an easy-chair. The small lady really skipped from her seat when she saw him, and started curtsying in a sort of ecstasy; but the officer did not take the slightest notice of her, and she did not venture to sit down again in his presence. He was the assistant superintendent. He had a reddish moustache that stood out horizontally on each side of his face, with extremely small features that expressed nothing much except insolence. He looked sideways and rather indignantly at Raskolnikov; he was so badly dressed, and in spite of his humiliating position, his bearing was by no means in keeping with his clothes. Raskolnikov had unwarily fixed a very long and direct look at him, and he felt offended.  “What do you want?” he shouted, apparently astonished that such a ragged person was not annihilated by the majesty of his gaze.  “I was summoned . . . by a notice . . . ” Raskolnikov faltered.  “For the recovery of money due, from the student,” the head clerk interfered hurriedly, tearing himself from his papers. “Here!” and he flung Raskolnikov a document and pointed out the place. “Read that!”  “Money? What money?” thought Raskolnikov, “but . . . then . . . it’s definitely not that.”  And he trembled with joy. He felt sudden intense indescribable relief. A load was lifted from his back.  “And what time were you asked to appear, sir?” shouted the assistant superintendent, seeming for some unknown reason to be more and more aggrieved. “You were told to come at nine, and now it’s twelve!”  “The notice was only brought to me a quarter of an hour ago,” Raskolnikov answered loudly over his shoulder. To his own surprise, he too grew suddenly angry and found a certain pleasure in it. “And it’s enough that I’ve come here ill with fever.”  “Please stop shouting!”  “I’m not shouting, I’m speaking very quietly, it’s you who are shouting at me. I’m a student: I don’t let anyone shout at me.”  The assistant superintendent was so furious that for the first minute he could only splutter inarticulately. He leaped up from his seat.  “Be silent! You are in a government office. Don’t be impudent, sir!”  “You’re in a government office, too,” cried Raskolnikov, “and you’re smoking a cigarette as well as shouting, so you are showing disrespect to all of us.”  He felt an indescribable satisfaction at having said this.  The head clerk looked at him with a smile. The angry assistant superintendent was obviously confused.  “That’s not your business!” he shouted at last with unnatural loudness. “Kindly make the declaration demanded of you. Show him, Alexander Grigorievich. There is a complaint against you! You don’t pay your debts! Who’s the disrespectful one around here!”  But Raskolnikov was not listening now; he had eagerly clutched at the paper in order to find an explanation. He read it once, and a second time, and still did not understand.  “What is this?” he asked the head clerk.  “It is for the recovery of money on an I.O.U., a writ. You must either pay it, with all expenses, costs and so on, or give a written declaration as to when you can pay it and at the same time an undertaking not to leave the capital without payment, nor to sell or conceal your property. The creditor is at liberty to sell your property, and proceed against you according to the law.”  “But I . . . am not in debt to anyone!”  “That’s not our business. Here, an I.O.U. for a hundred and fifteen rubles, legally attested, and due for payment, has been brought us for recovery, given by you to the widow of the assessor Zarnitsyn, nine months ago, and paid by the widow Zarnitsyn to a Mr. Chebarov. That is why we have summoned you.”  “But she is my landlady!”  “And what if she is your landlady?”  The head clerk looked at him with a patronizing smile of compassion, and at the same time with a certain triumph, like he would at a novice under fire for the first time — as though he was about to say: “Well, how do you feel now?” But what did he care now for an I.O.U., for a writ of recovery! Was that worth worrying about now, was it even worth his attention! He stood, he read, he listened, he answered, he even asked questions himself, but he did it all mechanically. The triumphant sense of security, of deliverance from overwhelming danger — that was what filled his whole soul that moment without thought for the future, without analysis, without suppositions or surmises, without doubts and without questioning. It was an instant of full, direct, purely instinctive joy. But at that very moment something like a thunderstorm took place in the office. The assistant superintendent, still shaken by Raskolnikov’s disrespect, still fuming and obviously anxious to keep up his wounded dignity, pounced on the unfortunate lady, who had been gazing at him ever since he came in with an exceedingly silly smile.  “And you!” he shouted suddenly at the top of his voice. (The lady in mourning had left the office.) “What was going on at your house last night? Eh! Yet another scandal, you’re a disgrace to the whole street. Fighting and drinking again. Do you want to end up in jail? I have warned you ten times over that I would not let you off the eleventh! And here you are again, again, you . . . you!..”  The paper fell out of Raskolnikov’s hands, and he looked wildly at the smart lady who was being so unceremoniously treated. But he soon saw what it meant, and at once began to find some real amusement in the scandal. He listened with such pleasure that he longed to laugh and laugh . . . all his nerves were on edge.  “Ilia Petrovich!” the head clerk began anxiously, but stopped short, for he knew from experience that the enraged assistant could not be stopped except by force.  As for the smart lady, at first she trembled before the storm. But strange to say, the more numerous and violent the terms of abuse became, the more likeable she looked, and the more seductive the smiles she lavished on the terrible assistant. She moved uneasily, and curtsied incessantly, waiting impatiently for a chance of putting in her word; and at last she found it.  “There was no noise or fighting in my house, Mr. Captain,” she pattered all at once, like peas dropping, speaking Russian confidently, though with a b German accent, “and no scandal, and his honor came drunk, and it’s the whole truth I am telling, Mr. Captain, and I am not to blame . . . Mine is an honorable house, Mr. Captain, and honorable behavior, Mr. Captain, and I always, always dislike any scandal myself. But he came so tipsy, and asked for three bottles again, and then he lifted up one leg, and began playing the piano with one foot, and that is not at all right in an honorable house, and he ganz broke the piano, and it was very bad manners indeed and I said so. And he picked up a bottle and began hitting everyone with it. And then I called the porter, and Karl came, and he took Karl and hit him in the eye; and he hit Henriette in the eye, too, and gave me five slaps on the cheek. And it was so ungentlemanly in an honorable house, Mr. Captain, and I screamed. And he opened the window over the canal, and stood in the window, squealing like a little pig; it was a disgrace. The idea of squealing like a little pig at the window into the street! And Karl pulled him away from the window by his coat, and it is true, Mr. Captain, he tore sein Rock.  '"
            ],
            "application/vnd.google.colaboratory.intrinsic+json": {
              "type": "string"
            }
          },
          "metadata": {},
          "execution_count": 99
        }
      ]
    },
    {
      "cell_type": "code",
      "source": [
        "from IPython.display import display\n",
        "import ipywidgets as widgets\n",
        "import requests\n",
        "def obc(button):\n",
        "  sn = int(button.description) - 1\n",
        "  image.value = requests.get(urls[sn]).content\n",
        "urls = [\"https://raw.githubusercontent.com/junkyuhufs/workshop/main/slide.07.png\",\n",
        "         \"https://raw.githubusercontent.com/junkyuhufs/workshop/main/slide.08.png\",\n",
        "         \"https://raw.githubusercontent.com/junkyuhufs/workshop/main/slide.11.png\"]\n",
        "bl = widgets.Layout(width='50px', height='30px')\n",
        "bs = [widgets.Button(descript=str(i), layout=bl) for i in range(1, 4)]\n",
        "for button in bs:\n",
        "  button.on_click(obc)\n",
        "image = widgets.Image(value=requests.get(urls[0]).content, width=\"700\", height=\"600\")\n",
        "display(widgets.HBox([image, widgets.VBox(bs)]))"
      ],
      "metadata": {
        "colab": {
          "base_uri": "https://localhost:8080/",
          "height": 415,
          "referenced_widgets": [
            "f1c09e4f6e7844e8b084f85917109616",
            "41bb1706b7f244a5b2bacf36fba6b6c0",
            "d636220416ed46bf841e1fcec933c075",
            "5d0cd7b3164d4de9becb231417eccbb2",
            "b71ba359d37a4336adcbff46f5fdeda5",
            "13378923da3b440b8806c1cda12c12f7",
            "7b9b2bc52db244a993182bcf270663f9",
            "e710093832254095832e36d218006f12",
            "49edd364c1924a8b8057ee0513efdb10",
            "a973a7c753294c2995dc01541339055a",
            "372635930fec41d38d046b66c1bf5b9a",
            "4211d675c96c470dbf2d7b9be74bac07",
            "ca34ec0efdcf4c80acce1c5b22fa042e"
          ]
        },
        "collapsed": true,
        "id": "xboJYkijeuec",
        "outputId": "307fd906-93f2-4cd8-96b5-654447c40fce"
      },
      "execution_count": 100,
      "outputs": [
        {
          "output_type": "display_data",
          "data": {
            "text/plain": [
              "HBox(children=(Image(value=b'\\x89PNG\\r\\n\\x1a\\n\\x00\\x00\\x00\\rIHDR\\x00\\x00\\x03+\\x00\\x00\\x01\\xc8\\x08\\x06\\x00\\x00\\…"
            ],
            "application/vnd.jupyter.widget-view+json": {
              "version_major": 2,
              "version_minor": 0,
              "model_id": "f1c09e4f6e7844e8b084f85917109616"
            }
          },
          "metadata": {}
        }
      ]
    },
    {
      "cell_type": "code",
      "source": [
        "!pip install pandas"
      ],
      "metadata": {
        "colab": {
          "base_uri": "https://localhost:8080/"
        },
        "collapsed": true,
        "id": "9brIGG05ewJ5",
        "outputId": "8b096e42-182d-40d4-aa83-103591516291"
      },
      "execution_count": 101,
      "outputs": [
        {
          "output_type": "stream",
          "name": "stdout",
          "text": [
            "Requirement already satisfied: pandas in /usr/local/lib/python3.10/dist-packages (2.0.3)\n",
            "Requirement already satisfied: python-dateutil>=2.8.2 in /usr/local/lib/python3.10/dist-packages (from pandas) (2.8.2)\n",
            "Requirement already satisfied: pytz>=2020.1 in /usr/local/lib/python3.10/dist-packages (from pandas) (2023.4)\n",
            "Requirement already satisfied: tzdata>=2022.1 in /usr/local/lib/python3.10/dist-packages (from pandas) (2024.1)\n",
            "Requirement already satisfied: numpy>=1.21.0 in /usr/local/lib/python3.10/dist-packages (from pandas) (1.25.2)\n",
            "Requirement already satisfied: six>=1.5 in /usr/local/lib/python3.10/dist-packages (from python-dateutil>=2.8.2->pandas) (1.16.0)\n"
          ]
        }
      ]
    },
    {
      "cell_type": "code",
      "source": [
        "!pip install scikit-learn"
      ],
      "metadata": {
        "colab": {
          "base_uri": "https://localhost:8080/"
        },
        "collapsed": true,
        "id": "5eSy2Bx8e2LX",
        "outputId": "cd198066-2427-4111-be19-cdfda83128fb"
      },
      "execution_count": 102,
      "outputs": [
        {
          "output_type": "stream",
          "name": "stdout",
          "text": [
            "Requirement already satisfied: scikit-learn in /usr/local/lib/python3.10/dist-packages (1.2.2)\n",
            "Requirement already satisfied: numpy>=1.17.3 in /usr/local/lib/python3.10/dist-packages (from scikit-learn) (1.25.2)\n",
            "Requirement already satisfied: scipy>=1.3.2 in /usr/local/lib/python3.10/dist-packages (from scikit-learn) (1.11.4)\n",
            "Requirement already satisfied: joblib>=1.1.1 in /usr/local/lib/python3.10/dist-packages (from scikit-learn) (1.4.2)\n",
            "Requirement already satisfied: threadpoolctl>=2.0.0 in /usr/local/lib/python3.10/dist-packages (from scikit-learn) (3.5.0)\n"
          ]
        }
      ]
    },
    {
      "cell_type": "code",
      "source": [
        "!pip install matplot"
      ],
      "metadata": {
        "colab": {
          "base_uri": "https://localhost:8080/",
          "height": 1000
        },
        "collapsed": true,
        "id": "bRnQNBhVe3bQ",
        "outputId": "678d96bd-4ebd-402d-e6ad-dfbb312f109e"
      },
      "execution_count": 103,
      "outputs": [
        {
          "output_type": "stream",
          "name": "stdout",
          "text": [
            "Collecting matplot\n",
            "  Downloading matplot-0.1.9-py2.py3-none-any.whl (5.0 kB)\n",
            "Collecting pyloco>=0.0.134 (from matplot)\n",
            "  Downloading pyloco-0.0.139-py2.py3-none-any.whl (60 kB)\n",
            "\u001b[?25l     \u001b[90m━━━━━━━━━━━━━━━━━━━━━━━━━━━━━━━━━━━━━━━━\u001b[0m \u001b[32m0.0/60.2 kB\u001b[0m \u001b[31m?\u001b[0m eta \u001b[36m-:--:--\u001b[0m\r\u001b[2K     \u001b[90m━━━━━━━━━━━━━━━━━━━━━━━━━━━━━━━━━━━━━━━━\u001b[0m \u001b[32m60.2/60.2 kB\u001b[0m \u001b[31m2.5 MB/s\u001b[0m eta \u001b[36m0:00:00\u001b[0m\n",
            "\u001b[?25hRequirement already satisfied: matplotlib>=3.1.1 in /usr/local/lib/python3.10/dist-packages (from matplot) (3.7.1)\n",
            "Requirement already satisfied: contourpy>=1.0.1 in /usr/local/lib/python3.10/dist-packages (from matplotlib>=3.1.1->matplot) (1.2.1)\n",
            "Requirement already satisfied: cycler>=0.10 in /usr/local/lib/python3.10/dist-packages (from matplotlib>=3.1.1->matplot) (0.12.1)\n",
            "Requirement already satisfied: fonttools>=4.22.0 in /usr/local/lib/python3.10/dist-packages (from matplotlib>=3.1.1->matplot) (4.53.0)\n",
            "Requirement already satisfied: kiwisolver>=1.0.1 in /usr/local/lib/python3.10/dist-packages (from matplotlib>=3.1.1->matplot) (1.4.5)\n",
            "Requirement already satisfied: numpy>=1.20 in /usr/local/lib/python3.10/dist-packages (from matplotlib>=3.1.1->matplot) (1.25.2)\n",
            "Requirement already satisfied: packaging>=20.0 in /usr/local/lib/python3.10/dist-packages (from matplotlib>=3.1.1->matplot) (24.0)\n",
            "Requirement already satisfied: pillow>=6.2.0 in /usr/local/lib/python3.10/dist-packages (from matplotlib>=3.1.1->matplot) (9.4.0)\n",
            "Requirement already satisfied: pyparsing>=2.3.1 in /usr/local/lib/python3.10/dist-packages (from matplotlib>=3.1.1->matplot) (3.1.2)\n",
            "Requirement already satisfied: python-dateutil>=2.7 in /usr/local/lib/python3.10/dist-packages (from matplotlib>=3.1.1->matplot) (2.8.2)\n",
            "Collecting ushlex (from pyloco>=0.0.134->matplot)\n",
            "  Downloading ushlex-0.99.1.tar.gz (4.7 kB)\n",
            "  Preparing metadata (setup.py) ... \u001b[?25l\u001b[?25hdone\n",
            "Requirement already satisfied: websocket-client in /usr/local/lib/python3.10/dist-packages (from pyloco>=0.0.134->matplot) (1.8.0)\n",
            "Collecting twine (from pyloco>=0.0.134->matplot)\n",
            "  Downloading twine-5.1.0-py3-none-any.whl (38 kB)\n",
            "Collecting typing (from pyloco>=0.0.134->matplot)\n",
            "  Downloading typing-3.7.4.3.tar.gz (78 kB)\n",
            "\u001b[2K     \u001b[90m━━━━━━━━━━━━━━━━━━━━━━━━━━━━━━━━━━━━━━━━\u001b[0m \u001b[32m78.6/78.6 kB\u001b[0m \u001b[31m11.4 MB/s\u001b[0m eta \u001b[36m0:00:00\u001b[0m\n",
            "\u001b[?25h  Preparing metadata (setup.py) ... \u001b[?25l\u001b[?25hdone\n",
            "Collecting SimpleWebSocketServer (from pyloco>=0.0.134->matplot)\n",
            "  Downloading SimpleWebSocketServer-0.1.2.tar.gz (10 kB)\n",
            "  Preparing metadata (setup.py) ... \u001b[?25l\u001b[?25hdone\n",
            "Requirement already satisfied: six>=1.5 in /usr/local/lib/python3.10/dist-packages (from python-dateutil>=2.7->matplotlib>=3.1.1->matplot) (1.16.0)\n",
            "Collecting pkginfo>=1.8.1 (from twine->pyloco>=0.0.134->matplot)\n",
            "  Downloading pkginfo-1.11.1-py3-none-any.whl (31 kB)\n",
            "Collecting readme-renderer>=35.0 (from twine->pyloco>=0.0.134->matplot)\n",
            "  Downloading readme_renderer-43.0-py3-none-any.whl (13 kB)\n",
            "Requirement already satisfied: requests>=2.20 in /usr/local/lib/python3.10/dist-packages (from twine->pyloco>=0.0.134->matplot) (2.31.0)\n",
            "Collecting requests-toolbelt!=0.9.0,>=0.8.0 (from twine->pyloco>=0.0.134->matplot)\n",
            "  Downloading requests_toolbelt-1.0.0-py2.py3-none-any.whl (54 kB)\n",
            "\u001b[2K     \u001b[90m━━━━━━━━━━━━━━━━━━━━━━━━━━━━━━━━━━━━━━━━\u001b[0m \u001b[32m54.5/54.5 kB\u001b[0m \u001b[31m6.1 MB/s\u001b[0m eta \u001b[36m0:00:00\u001b[0m\n",
            "\u001b[?25hRequirement already satisfied: urllib3>=1.26.0 in /usr/local/lib/python3.10/dist-packages (from twine->pyloco>=0.0.134->matplot) (2.0.7)\n",
            "Requirement already satisfied: importlib-metadata>=3.6 in /usr/local/lib/python3.10/dist-packages (from twine->pyloco>=0.0.134->matplot) (7.1.0)\n",
            "Requirement already satisfied: keyring>=15.1 in /usr/lib/python3/dist-packages (from twine->pyloco>=0.0.134->matplot) (23.5.0)\n",
            "Collecting rfc3986>=1.4.0 (from twine->pyloco>=0.0.134->matplot)\n",
            "  Downloading rfc3986-2.0.0-py2.py3-none-any.whl (31 kB)\n",
            "Requirement already satisfied: rich>=12.0.0 in /usr/local/lib/python3.10/dist-packages (from twine->pyloco>=0.0.134->matplot) (13.7.1)\n",
            "Requirement already satisfied: zipp>=0.5 in /usr/local/lib/python3.10/dist-packages (from importlib-metadata>=3.6->twine->pyloco>=0.0.134->matplot) (3.19.1)\n",
            "Collecting nh3>=0.2.14 (from readme-renderer>=35.0->twine->pyloco>=0.0.134->matplot)\n",
            "  Downloading nh3-0.2.17-cp37-abi3-manylinux_2_17_x86_64.manylinux2014_x86_64.whl (777 kB)\n",
            "\u001b[2K     \u001b[90m━━━━━━━━━━━━━━━━━━━━━━━━━━━━━━━━━━━━━━━━\u001b[0m \u001b[32m777.1/777.1 kB\u001b[0m \u001b[31m42.2 MB/s\u001b[0m eta \u001b[36m0:00:00\u001b[0m\n",
            "\u001b[?25hRequirement already satisfied: docutils>=0.13.1 in /usr/local/lib/python3.10/dist-packages (from readme-renderer>=35.0->twine->pyloco>=0.0.134->matplot) (0.18.1)\n",
            "Requirement already satisfied: Pygments>=2.5.1 in /usr/local/lib/python3.10/dist-packages (from readme-renderer>=35.0->twine->pyloco>=0.0.134->matplot) (2.16.1)\n",
            "Requirement already satisfied: charset-normalizer<4,>=2 in /usr/local/lib/python3.10/dist-packages (from requests>=2.20->twine->pyloco>=0.0.134->matplot) (3.3.2)\n",
            "Requirement already satisfied: idna<4,>=2.5 in /usr/local/lib/python3.10/dist-packages (from requests>=2.20->twine->pyloco>=0.0.134->matplot) (3.7)\n",
            "Requirement already satisfied: certifi>=2017.4.17 in /usr/local/lib/python3.10/dist-packages (from requests>=2.20->twine->pyloco>=0.0.134->matplot) (2024.6.2)\n",
            "Requirement already satisfied: markdown-it-py>=2.2.0 in /usr/local/lib/python3.10/dist-packages (from rich>=12.0.0->twine->pyloco>=0.0.134->matplot) (3.0.0)\n",
            "Requirement already satisfied: mdurl~=0.1 in /usr/local/lib/python3.10/dist-packages (from markdown-it-py>=2.2.0->rich>=12.0.0->twine->pyloco>=0.0.134->matplot) (0.1.2)\n",
            "Building wheels for collected packages: SimpleWebSocketServer, typing, ushlex\n",
            "  Building wheel for SimpleWebSocketServer (setup.py) ... \u001b[?25l\u001b[?25hdone\n",
            "  Created wheel for SimpleWebSocketServer: filename=SimpleWebSocketServer-0.1.2-py3-none-any.whl size=9664 sha256=c8a2d3b441abcf831ab4227cab2196838fae81ba6bf67cda4f66ae6f85a4e524\n",
            "  Stored in directory: /root/.cache/pip/wheels/af/cb/9d/23ef01c9c26b978be6d29ed456d7348abd0e96b1563049bd63\n",
            "  Building wheel for typing (setup.py) ... \u001b[?25l\u001b[?25hdone\n",
            "  Created wheel for typing: filename=typing-3.7.4.3-py3-none-any.whl size=26306 sha256=2750336307178e615705238fee8a0ddcb289093308336b1dcbe4c5feaeb1f476\n",
            "  Stored in directory: /root/.cache/pip/wheels/7c/d0/9e/1f26ebb66d9e1732e4098bc5a6c2d91f6c9a529838f0284890\n",
            "  Building wheel for ushlex (setup.py) ... \u001b[?25l\u001b[?25hdone\n",
            "  Created wheel for ushlex: filename=ushlex-0.99.1-py3-none-any.whl size=4394 sha256=6cca3c7690be133d37e8dd5678e85b53a0b0270d6909a3d8f96b504d61488369\n",
            "  Stored in directory: /root/.cache/pip/wheels/fd/e4/80/4de44668798392eb2f5b24f0130df2f5d28b43cb256bf9c1f9\n",
            "Successfully built SimpleWebSocketServer typing ushlex\n",
            "Installing collected packages: ushlex, SimpleWebSocketServer, nh3, typing, rfc3986, readme-renderer, pkginfo, requests-toolbelt, twine, pyloco, matplot\n",
            "Successfully installed SimpleWebSocketServer-0.1.2 matplot-0.1.9 nh3-0.2.17 pkginfo-1.11.1 pyloco-0.0.139 readme-renderer-43.0 requests-toolbelt-1.0.0 rfc3986-2.0.0 twine-5.1.0 typing-3.7.4.3 ushlex-0.99.1\n"
          ]
        },
        {
          "output_type": "display_data",
          "data": {
            "application/vnd.colab-display-data+json": {
              "pip_warning": {
                "packages": [
                  "typing"
                ]
              },
              "id": "37dd840d581447b4ba8cb5cce35de89c"
            }
          },
          "metadata": {}
        }
      ]
    },
    {
      "cell_type": "code",
      "source": [
        "!pip install nltk"
      ],
      "metadata": {
        "colab": {
          "base_uri": "https://localhost:8080/"
        },
        "collapsed": true,
        "id": "Ypa3Rdkbe45a",
        "outputId": "70b922f4-8fae-4902-859f-e00e441c8e86"
      },
      "execution_count": 104,
      "outputs": [
        {
          "output_type": "stream",
          "name": "stdout",
          "text": [
            "Requirement already satisfied: nltk in /usr/local/lib/python3.10/dist-packages (3.8.1)\n",
            "Requirement already satisfied: click in /usr/local/lib/python3.10/dist-packages (from nltk) (8.1.7)\n",
            "Requirement already satisfied: joblib in /usr/local/lib/python3.10/dist-packages (from nltk) (1.4.2)\n",
            "Requirement already satisfied: regex>=2021.8.3 in /usr/local/lib/python3.10/dist-packages (from nltk) (2024.5.15)\n",
            "Requirement already satisfied: tqdm in /usr/local/lib/python3.10/dist-packages (from nltk) (4.66.4)\n",
            "\u001b[31mERROR: Operation cancelled by user\u001b[0m\u001b[31m\n",
            "\u001b[0m"
          ]
        }
      ]
    },
    {
      "cell_type": "code",
      "source": [
        "!pip install corpus-toolkit"
      ],
      "metadata": {
        "colab": {
          "base_uri": "https://localhost:8080/"
        },
        "collapsed": true,
        "id": "vSVqQO1We6Rq",
        "outputId": "8bea5179-7875-4b03-bc32-c81be009e564"
      },
      "execution_count": 1,
      "outputs": [
        {
          "output_type": "stream",
          "name": "stdout",
          "text": [
            "Collecting corpus-toolkit\n",
            "  Using cached corpus_toolkit-0.32-py3-none-any.whl (1.7 MB)\n",
            "Installing collected packages: corpus-toolkit\n",
            "Successfully installed corpus-toolkit-0.32\n"
          ]
        }
      ]
    },
    {
      "cell_type": "code",
      "source": [
        "!pip install nltk"
      ],
      "metadata": {
        "colab": {
          "base_uri": "https://localhost:8080/"
        },
        "collapsed": true,
        "id": "BXuv2H_ve7fa",
        "outputId": "af16e143-e229-4d53-df2a-d65b6a0551ef"
      },
      "execution_count": 2,
      "outputs": [
        {
          "output_type": "stream",
          "name": "stdout",
          "text": [
            "Requirement already satisfied: nltk in /usr/local/lib/python3.10/dist-packages (3.8.1)\n",
            "Requirement already satisfied: click in /usr/local/lib/python3.10/dist-packages (from nltk) (8.1.7)\n",
            "Requirement already satisfied: joblib in /usr/local/lib/python3.10/dist-packages (from nltk) (1.4.2)\n",
            "Requirement already satisfied: regex>=2021.8.3 in /usr/local/lib/python3.10/dist-packages (from nltk) (2024.5.15)\n",
            "Requirement already satisfied: tqdm in /usr/local/lib/python3.10/dist-packages (from nltk) (4.66.4)\n"
          ]
        }
      ]
    },
    {
      "cell_type": "code",
      "source": [
        "import nltk\n",
        "from nltk.tokenize import word_tokenize, sent_tokenize\n",
        "nltk.download(\"punkt\")"
      ],
      "metadata": {
        "colab": {
          "base_uri": "https://localhost:8080/"
        },
        "collapsed": true,
        "id": "_-63BOa4e9JS",
        "outputId": "f4510f8e-2286-4677-a394-b2be00273548"
      },
      "execution_count": 3,
      "outputs": [
        {
          "output_type": "stream",
          "name": "stderr",
          "text": [
            "[nltk_data] Downloading package punkt to /root/nltk_data...\n",
            "[nltk_data]   Unzipping tokenizers/punkt.zip.\n"
          ]
        },
        {
          "output_type": "execute_result",
          "data": {
            "text/plain": [
              "True"
            ]
          },
          "metadata": {},
          "execution_count": 3
        }
      ]
    },
    {
      "cell_type": "code",
      "source": [
        "import os\n",
        "os.mkdir (\"txtfolder\")"
      ],
      "metadata": {
        "id": "LPOXFnEpe-Zq"
      },
      "execution_count": 4,
      "outputs": []
    },
    {
      "cell_type": "code",
      "source": [
        "!pip install nltk\n",
        "text = \"Python programming is a high-level, interpreted programming language known for its simplicity and readability. It emphasizes code readability with its clean syntax, making it easier to write and understand. Python supports multiple programming paradigms, including procedural, object-oriented, and functional programming. It has a vast standard library and a thriving ecosystem of third-party libraries and frameworks, making it suitable for various domains such as web development, data analysis, machine learning, and automation. Python's versatility, ease of use, and extensive community support have contributed to its popularity among developers of all skill levels.\"\n",
        "from nltk.tokenize import sent_tokenize\n",
        "sentence = sent_tokenize(text)\n",
        "print('문장 토큰화: %s' %sentence)"
      ],
      "metadata": {
        "collapsed": true,
        "id": "qWKZMPXefcu6",
        "outputId": "54fd628a-5593-4788-a354-419218b1a205",
        "colab": {
          "base_uri": "https://localhost:8080/"
        }
      },
      "execution_count": 5,
      "outputs": [
        {
          "output_type": "stream",
          "name": "stdout",
          "text": [
            "Requirement already satisfied: nltk in /usr/local/lib/python3.10/dist-packages (3.8.1)\n",
            "Requirement already satisfied: click in /usr/local/lib/python3.10/dist-packages (from nltk) (8.1.7)\n",
            "Requirement already satisfied: joblib in /usr/local/lib/python3.10/dist-packages (from nltk) (1.4.2)\n",
            "Requirement already satisfied: regex>=2021.8.3 in /usr/local/lib/python3.10/dist-packages (from nltk) (2024.5.15)\n",
            "Requirement already satisfied: tqdm in /usr/local/lib/python3.10/dist-packages (from nltk) (4.66.4)\n",
            "문장 토큰화: ['Python programming is a high-level, interpreted programming language known for its simplicity and readability.', 'It emphasizes code readability with its clean syntax, making it easier to write and understand.', 'Python supports multiple programming paradigms, including procedural, object-oriented, and functional programming.', 'It has a vast standard library and a thriving ecosystem of third-party libraries and frameworks, making it suitable for various domains such as web development, data analysis, machine learning, and automation.', \"Python's versatility, ease of use, and extensive community support have contributed to its popularity among developers of all skill levels.\"]\n"
          ]
        }
      ]
    },
    {
      "cell_type": "code",
      "source": [
        "!pip install lexical-diversity"
      ],
      "metadata": {
        "collapsed": true,
        "id": "42lQPGZlfeMc",
        "outputId": "3f5b1889-45ff-41aa-a446-fb8409824cfe",
        "colab": {
          "base_uri": "https://localhost:8080/"
        }
      },
      "execution_count": 6,
      "outputs": [
        {
          "output_type": "stream",
          "name": "stdout",
          "text": [
            "Collecting lexical-diversity\n",
            "  Downloading lexical_diversity-0.1.1-py3-none-any.whl (117 kB)\n",
            "\u001b[?25l     \u001b[90m━━━━━━━━━━━━━━━━━━━━━━━━━━━━━━━━━━━━━━━━\u001b[0m \u001b[32m0.0/117.8 kB\u001b[0m \u001b[31m?\u001b[0m eta \u001b[36m-:--:--\u001b[0m\r\u001b[2K     \u001b[90m━━━━━━━━━━━━━━━━━━━━━━━━━━━━━━━━━━━━━━━━\u001b[0m \u001b[32m117.8/117.8 kB\u001b[0m \u001b[31m3.3 MB/s\u001b[0m eta \u001b[36m0:00:00\u001b[0m\n",
            "\u001b[?25hInstalling collected packages: lexical-diversity\n",
            "Successfully installed lexical-diversity-0.1.1\n"
          ]
        }
      ]
    },
    {
      "cell_type": "code",
      "source": [
        "text = \"\"\"There was once a little Kid whose growing horns made him think he was a grown-up Billy Goat and able to take care of himself. So one evening when the flock started home from the pasture and his mother called, the Kid paid no heed and kept right on nibbling the tender grass. A little later when he lifted his head, the flock was gone. He was all alone. The sun was sinking. Long shadows came creeping over the ground. A chilly little wind came creeping with them making scary noises in the grass. The Kid shivered as he thought of the terrible Wolf. Then he started wildly over the field, bleating for his mother. But not half-way, near a clump of trees, there was the Wolf! The Kid knew there was little hope for him. “Please, Mr. Wolf,” he said trembling, “I know you are going to eat me. But first please pipe me a tune, for I want to dance and be merry as long as I can.“The Wolf liked the idea of a little music before eating, so he struck up a merry tune and the Kid leaped and frisked gaily. Meanwhile, the flock was moving slowly homeward. In the still evening air the Wolf's piping carried far. The Shepherd Dogs pricked up their ears. They recognized the song the Wolf sings before a feast, and in a moment they were racing back to the pasture. The Wolf's song ended suddenly, and as he ran, with the Dogs at his heels, he called himself a fool for turning piper to please a Kid, when he should have stuck to his butcher's trade. Do not let anything turn you from your purpose.\"\"\"\n",
        "words = text.split()\n",
        "unique_words = set(words)\n",
        "ttr = len(unique_words) / len(words)\n",
        "print (\"Type-Token Ratio (TTR):\", ttr)"
      ],
      "metadata": {
        "collapsed": true,
        "id": "1saoD1h_fiGo",
        "outputId": "1ebe2571-c30e-4d89-d2f7-36321b7becc1",
        "colab": {
          "base_uri": "https://localhost:8080/"
        }
      },
      "execution_count": 7,
      "outputs": [
        {
          "output_type": "stream",
          "name": "stdout",
          "text": [
            "Type-Token Ratio (TTR): 0.6267605633802817\n"
          ]
        }
      ]
    },
    {
      "cell_type": "code",
      "source": [
        "text = \"\"\"There was once a little Kid whose growing horns made him think he was a grown-up Billy Goat and able to take care of himself. So one evening when the flock started home from the pasture and his mother called, the Kid paid no heed and kept right on nibbling the tender grass. A little later when he lifted his head, the flock was gone. He was all alone. The sun was sinking. Long shadows came creeping over the ground. A chilly little wind came creeping with them making scary noises in the grass. The Kid shivered as he thought of the terrible Wolf. Then he started wildly over the field, bleating for his mother. But not half-way, near a clump of trees, there was the Wolf! The Kid knew there was little hope for him. “Please, Mr. Wolf,” he said trembling, “I know you are going to eat me. But first please pipe me a tune, for I want to dance and be merry as long as I can.“The Wolf liked the idea of a little music before eating, so he struck up a merry tune and the Kid leaped and frisked gaily. Meanwhile, the flock was moving slowly homeward. In the still evening air the Wolf's piping carried far. The Shepherd Dogs pricked up their ears. They recognized the song the Wolf sings before a feast, and in a moment they were racing back to the pasture. The Wolf's song ended suddenly, and as he ran, with the Dogs at his heels, he called himself a fool for turning piper to please a Kid, when he should have stuck to his butcher's trade. Do not let anything turn you from your purpose.\"\"\"\n",
        "words = text.split()\n",
        "unique_words = set(words)\n",
        "ttr = len(unique_words) / len(words)\n",
        "print (\"Type-Token Ratio (TTR):\", ttr)\n",
        "print (\"Tokens:\", words)\n",
        "print (\"Unique words (Type):\", sorted(unique_words))"
      ],
      "metadata": {
        "collapsed": true,
        "id": "cd2crFeGfrFL",
        "outputId": "07c064b9-fd31-4474-b623-ca293d8c013c",
        "colab": {
          "base_uri": "https://localhost:8080/"
        }
      },
      "execution_count": 8,
      "outputs": [
        {
          "output_type": "stream",
          "name": "stdout",
          "text": [
            "Type-Token Ratio (TTR): 0.6267605633802817\n",
            "Tokens: ['There', 'was', 'once', 'a', 'little', 'Kid', 'whose', 'growing', 'horns', 'made', 'him', 'think', 'he', 'was', 'a', 'grown-up', 'Billy', 'Goat', 'and', 'able', 'to', 'take', 'care', 'of', 'himself.', 'So', 'one', 'evening', 'when', 'the', 'flock', 'started', 'home', 'from', 'the', 'pasture', 'and', 'his', 'mother', 'called,', 'the', 'Kid', 'paid', 'no', 'heed', 'and', 'kept', 'right', 'on', 'nibbling', 'the', 'tender', 'grass.', 'A', 'little', 'later', 'when', 'he', 'lifted', 'his', 'head,', 'the', 'flock', 'was', 'gone.', 'He', 'was', 'all', 'alone.', 'The', 'sun', 'was', 'sinking.', 'Long', 'shadows', 'came', 'creeping', 'over', 'the', 'ground.', 'A', 'chilly', 'little', 'wind', 'came', 'creeping', 'with', 'them', 'making', 'scary', 'noises', 'in', 'the', 'grass.', 'The', 'Kid', 'shivered', 'as', 'he', 'thought', 'of', 'the', 'terrible', 'Wolf.', 'Then', 'he', 'started', 'wildly', 'over', 'the', 'field,', 'bleating', 'for', 'his', 'mother.', 'But', 'not', 'half-way,', 'near', 'a', 'clump', 'of', 'trees,', 'there', 'was', 'the', 'Wolf!', 'The', 'Kid', 'knew', 'there', 'was', 'little', 'hope', 'for', 'him.', '“Please,', 'Mr.', 'Wolf,”', 'he', 'said', 'trembling,', '“I', 'know', 'you', 'are', 'going', 'to', 'eat', 'me.', 'But', 'first', 'please', 'pipe', 'me', 'a', 'tune,', 'for', 'I', 'want', 'to', 'dance', 'and', 'be', 'merry', 'as', 'long', 'as', 'I', 'can.“The', 'Wolf', 'liked', 'the', 'idea', 'of', 'a', 'little', 'music', 'before', 'eating,', 'so', 'he', 'struck', 'up', 'a', 'merry', 'tune', 'and', 'the', 'Kid', 'leaped', 'and', 'frisked', 'gaily.', 'Meanwhile,', 'the', 'flock', 'was', 'moving', 'slowly', 'homeward.', 'In', 'the', 'still', 'evening', 'air', 'the', \"Wolf's\", 'piping', 'carried', 'far.', 'The', 'Shepherd', 'Dogs', 'pricked', 'up', 'their', 'ears.', 'They', 'recognized', 'the', 'song', 'the', 'Wolf', 'sings', 'before', 'a', 'feast,', 'and', 'in', 'a', 'moment', 'they', 'were', 'racing', 'back', 'to', 'the', 'pasture.', 'The', \"Wolf's\", 'song', 'ended', 'suddenly,', 'and', 'as', 'he', 'ran,', 'with', 'the', 'Dogs', 'at', 'his', 'heels,', 'he', 'called', 'himself', 'a', 'fool', 'for', 'turning', 'piper', 'to', 'please', 'a', 'Kid,', 'when', 'he', 'should', 'have', 'stuck', 'to', 'his', \"butcher's\", 'trade.', 'Do', 'not', 'let', 'anything', 'turn', 'you', 'from', 'your', 'purpose.']\n",
            "Unique words (Type): ['A', 'Billy', 'But', 'Do', 'Dogs', 'Goat', 'He', 'I', 'In', 'Kid', 'Kid,', 'Long', 'Meanwhile,', 'Mr.', 'Shepherd', 'So', 'The', 'Then', 'There', 'They', 'Wolf', 'Wolf!', \"Wolf's\", 'Wolf,”', 'Wolf.', 'a', 'able', 'air', 'all', 'alone.', 'and', 'anything', 'are', 'as', 'at', 'back', 'be', 'before', 'bleating', \"butcher's\", 'called', 'called,', 'came', 'can.“The', 'care', 'carried', 'chilly', 'clump', 'creeping', 'dance', 'ears.', 'eat', 'eating,', 'ended', 'evening', 'far.', 'feast,', 'field,', 'first', 'flock', 'fool', 'for', 'frisked', 'from', 'gaily.', 'going', 'gone.', 'grass.', 'ground.', 'growing', 'grown-up', 'half-way,', 'have', 'he', 'head,', 'heed', 'heels,', 'him', 'him.', 'himself', 'himself.', 'his', 'home', 'homeward.', 'hope', 'horns', 'idea', 'in', 'kept', 'knew', 'know', 'later', 'leaped', 'let', 'lifted', 'liked', 'little', 'long', 'made', 'making', 'me', 'me.', 'merry', 'moment', 'mother', 'mother.', 'moving', 'music', 'near', 'nibbling', 'no', 'noises', 'not', 'of', 'on', 'once', 'one', 'over', 'paid', 'pasture', 'pasture.', 'pipe', 'piper', 'piping', 'please', 'pricked', 'purpose.', 'racing', 'ran,', 'recognized', 'right', 'said', 'scary', 'shadows', 'shivered', 'should', 'sings', 'sinking.', 'slowly', 'so', 'song', 'started', 'still', 'struck', 'stuck', 'suddenly,', 'sun', 'take', 'tender', 'terrible', 'the', 'their', 'them', 'there', 'they', 'think', 'thought', 'to', 'trade.', 'trees,', 'trembling,', 'tune', 'tune,', 'turn', 'turning', 'up', 'want', 'was', 'were', 'when', 'whose', 'wildly', 'wind', 'with', 'you', 'your', '“I', '“Please,']\n"
          ]
        }
      ]
    },
    {
      "cell_type": "code",
      "source": [
        "def tokenize_and_lower(text):\n",
        "  words = text.split()\n",
        "  words_lower = [word.lower() for word in words]\n",
        "  return words_lower\n",
        "text = \"\"\"There was once a little Kid whose growing horns made him think he was a grown-up Billy Goat and able to take care of himself. So one evening when the flock started home from the pasture and his mother called, the Kid paid no heed and kept right on nibbling the tender grass. A little later when he lifted his head, the flock was gone. He was all alone. The sun was sinking. Long shadows came creeping over the ground. A chilly little wind came creeping with them making scary noises in the grass. The Kid shivered as he thought of the terrible Wolf. Then he started wildly over the field, bleating for his mother. But not half-way, near a clump of trees, there was the Wolf! The Kid knew there was little hope for him. “Please, Mr. Wolf,” he said trembling, “I know you are going to eat me. But first please pipe me a tune, for I want to dance and be merry as long as I can.“The Wolf liked the idea of a little music before eating, so he struck up a merry tune and the Kid leaped and frisked gaily. Meanwhile, the flock was moving slowly homeward. In the still evening air the Wolf's piping carried far. The Shepherd Dogs pricked up their ears. They recognized the song the Wolf sings before a feast, and in a moment they were racing back to the pasture. The Wolf's song ended suddenly, and as he ran, with the Dogs at his heels, he called himself a fool for turning piper to please a Kid, when he should have stuck to his butcher's trade. Do not let anything turn you from your purpose.\"\"\"\n",
        "count = len(text)\n",
        "print (count)\n",
        "tokens_lower = tokenize_and_lower(text)\n",
        "unique_words = set(tokens_lower)\n",
        "ttr = len(unique_words) / len(tokens_lower)\n",
        "print (\"Type-Token Ratio (TTR):\", ttr)\n",
        "print (\"Tokens in Lowercase:\", tokens_lower)\n",
        "print (\"Unique words (Type):\", sorted(unique_words))"
      ],
      "metadata": {
        "collapsed": true,
        "id": "tyyVgfXQft5c",
        "outputId": "33939dad-f241-4103-e491-8768e340b0d9",
        "colab": {
          "base_uri": "https://localhost:8080/"
        }
      },
      "execution_count": 9,
      "outputs": [
        {
          "output_type": "stream",
          "name": "stdout",
          "text": [
            "1487\n",
            "Type-Token Ratio (TTR): 0.5985915492957746\n",
            "Tokens in Lowercase: ['there', 'was', 'once', 'a', 'little', 'kid', 'whose', 'growing', 'horns', 'made', 'him', 'think', 'he', 'was', 'a', 'grown-up', 'billy', 'goat', 'and', 'able', 'to', 'take', 'care', 'of', 'himself.', 'so', 'one', 'evening', 'when', 'the', 'flock', 'started', 'home', 'from', 'the', 'pasture', 'and', 'his', 'mother', 'called,', 'the', 'kid', 'paid', 'no', 'heed', 'and', 'kept', 'right', 'on', 'nibbling', 'the', 'tender', 'grass.', 'a', 'little', 'later', 'when', 'he', 'lifted', 'his', 'head,', 'the', 'flock', 'was', 'gone.', 'he', 'was', 'all', 'alone.', 'the', 'sun', 'was', 'sinking.', 'long', 'shadows', 'came', 'creeping', 'over', 'the', 'ground.', 'a', 'chilly', 'little', 'wind', 'came', 'creeping', 'with', 'them', 'making', 'scary', 'noises', 'in', 'the', 'grass.', 'the', 'kid', 'shivered', 'as', 'he', 'thought', 'of', 'the', 'terrible', 'wolf.', 'then', 'he', 'started', 'wildly', 'over', 'the', 'field,', 'bleating', 'for', 'his', 'mother.', 'but', 'not', 'half-way,', 'near', 'a', 'clump', 'of', 'trees,', 'there', 'was', 'the', 'wolf!', 'the', 'kid', 'knew', 'there', 'was', 'little', 'hope', 'for', 'him.', '“please,', 'mr.', 'wolf,”', 'he', 'said', 'trembling,', '“i', 'know', 'you', 'are', 'going', 'to', 'eat', 'me.', 'but', 'first', 'please', 'pipe', 'me', 'a', 'tune,', 'for', 'i', 'want', 'to', 'dance', 'and', 'be', 'merry', 'as', 'long', 'as', 'i', 'can.“the', 'wolf', 'liked', 'the', 'idea', 'of', 'a', 'little', 'music', 'before', 'eating,', 'so', 'he', 'struck', 'up', 'a', 'merry', 'tune', 'and', 'the', 'kid', 'leaped', 'and', 'frisked', 'gaily.', 'meanwhile,', 'the', 'flock', 'was', 'moving', 'slowly', 'homeward.', 'in', 'the', 'still', 'evening', 'air', 'the', \"wolf's\", 'piping', 'carried', 'far.', 'the', 'shepherd', 'dogs', 'pricked', 'up', 'their', 'ears.', 'they', 'recognized', 'the', 'song', 'the', 'wolf', 'sings', 'before', 'a', 'feast,', 'and', 'in', 'a', 'moment', 'they', 'were', 'racing', 'back', 'to', 'the', 'pasture.', 'the', \"wolf's\", 'song', 'ended', 'suddenly,', 'and', 'as', 'he', 'ran,', 'with', 'the', 'dogs', 'at', 'his', 'heels,', 'he', 'called', 'himself', 'a', 'fool', 'for', 'turning', 'piper', 'to', 'please', 'a', 'kid,', 'when', 'he', 'should', 'have', 'stuck', 'to', 'his', \"butcher's\", 'trade.', 'do', 'not', 'let', 'anything', 'turn', 'you', 'from', 'your', 'purpose.']\n",
            "Unique words (Type): ['a', 'able', 'air', 'all', 'alone.', 'and', 'anything', 'are', 'as', 'at', 'back', 'be', 'before', 'billy', 'bleating', 'but', \"butcher's\", 'called', 'called,', 'came', 'can.“the', 'care', 'carried', 'chilly', 'clump', 'creeping', 'dance', 'do', 'dogs', 'ears.', 'eat', 'eating,', 'ended', 'evening', 'far.', 'feast,', 'field,', 'first', 'flock', 'fool', 'for', 'frisked', 'from', 'gaily.', 'goat', 'going', 'gone.', 'grass.', 'ground.', 'growing', 'grown-up', 'half-way,', 'have', 'he', 'head,', 'heed', 'heels,', 'him', 'him.', 'himself', 'himself.', 'his', 'home', 'homeward.', 'hope', 'horns', 'i', 'idea', 'in', 'kept', 'kid', 'kid,', 'knew', 'know', 'later', 'leaped', 'let', 'lifted', 'liked', 'little', 'long', 'made', 'making', 'me', 'me.', 'meanwhile,', 'merry', 'moment', 'mother', 'mother.', 'moving', 'mr.', 'music', 'near', 'nibbling', 'no', 'noises', 'not', 'of', 'on', 'once', 'one', 'over', 'paid', 'pasture', 'pasture.', 'pipe', 'piper', 'piping', 'please', 'pricked', 'purpose.', 'racing', 'ran,', 'recognized', 'right', 'said', 'scary', 'shadows', 'shepherd', 'shivered', 'should', 'sings', 'sinking.', 'slowly', 'so', 'song', 'started', 'still', 'struck', 'stuck', 'suddenly,', 'sun', 'take', 'tender', 'terrible', 'the', 'their', 'them', 'then', 'there', 'they', 'think', 'thought', 'to', 'trade.', 'trees,', 'trembling,', 'tune', 'tune,', 'turn', 'turning', 'up', 'want', 'was', 'were', 'when', 'whose', 'wildly', 'wind', 'with', 'wolf', 'wolf!', \"wolf's\", 'wolf,”', 'wolf.', 'you', 'your', '“i', '“please,']\n"
          ]
        }
      ]
    },
    {
      "cell_type": "code",
      "source": [
        "import re\n",
        "\n",
        "def calculate_lexical_diversity(text):\n",
        "    # Remove punctuation and make all words lowercase\n",
        "    words = re.findall(r'\\b\\w+\\b', text.lower())\n",
        "\n",
        "    # Calculate number of unique words (types)\n",
        "    unique_words = set(words)\n",
        "\n",
        "    # Calculate total number of words (tokens)\n",
        "    total_words = len(words)\n",
        "\n",
        "    # Calculate type-token ratio (TTR)\n",
        "    ttr = len(unique_words) / total_words if total_words > 0 else 0\n",
        "\n",
        "    return ttr\n",
        "\n",
        "# The text from the user\n",
        "text = \"\"\"\n",
        "There was once a little Kid whose growing horns made him think he was a grown-up Billy Goat and able to take care of himself. So one evening when the flock started home from the pasture and his mother called, the Kid paid no heed and kept right on nibbling the tender grass. A little later when he lifted his head, the flock was gone. He was all alone. The sun was sinking. Long shadows came creeping over the ground. A chilly little wind came creeping with them making scary noises in the grass. The Kid shivered as he thought of the terrible Wolf. Then he started wildly over the field, bleating for his mother. But not half-way, near a clump of trees, there was the Wolf! The Kid knew there was little hope for him. “Please, Mr. Wolf,” he said trembling, “I know you are going to eat me. But first please pipe me a tune, for I want to dance and be merry as long as I can.“The Wolf liked the idea of a little music before eating, so he struck up a merry tune and the Kid leaped and frisked gaily. Meanwhile, the flock was moving slowly homeward. In the still evening air the Wolf's piping carried far. The Shepherd Dogs pricked up their ears. They recognized the song the Wolf sings before a feast, and in a moment they were racing back to the pasture. The Wolf's song ended suddenly, and as he ran, with the Dogs at his heels, he called himself a fool for turning piper to please a Kid, when he should have stuck to his butcher's trade. Do not let anything turn you from your purpose.\n",
        "\"\"\"\n",
        "\n",
        "# Calculate and print lexical diversity (TTR)\n",
        "lexical_diversity = calculate_lexical_diversity(text)\n",
        "print(f\"Lexical Diversity (TTR): {lexical_diversity:.3f}\")"
      ],
      "metadata": {
        "collapsed": true,
        "id": "-yibRz-CfvXd",
        "outputId": "99cfdf8f-e34c-4156-aba5-5c683ff8a145",
        "colab": {
          "base_uri": "https://localhost:8080/"
        }
      },
      "execution_count": 10,
      "outputs": [
        {
          "output_type": "stream",
          "name": "stdout",
          "text": [
            "Lexical Diversity (TTR): 0.545\n"
          ]
        }
      ]
    },
    {
      "cell_type": "code",
      "source": [
        "import re\n",
        "\n",
        "def calculate_lexical_diversity(text):\n",
        "    # Remove punctuation and make all words lowercase\n",
        "    words = re.findall(r'\\b\\w+\\b', text.lower())\n",
        "\n",
        "    # Calculate number of unique words (types)\n",
        "    unique_words = set(words)\n",
        "\n",
        "    # Calculate total number of words (tokens)\n",
        "    total_words = len(words)\n",
        "\n",
        "    # Calculate type-token ratio (TTR)\n",
        "    ttr = len(unique_words) / total_words if total_words > 0 else 0\n",
        "\n",
        "    return words, unique_words, ttr\n",
        "\n",
        "# The text from the user\n",
        "text = \"\"\"\n",
        "There was once a little Kid whose growing horns made him think he was a grown-up Billy Goat and able to take care of himself. So one evening when the flock started home from the pasture and his mother called, the Kid paid no heed and kept right on nibbling the tender grass. A little later when he lifted his head, the flock was gone. He was all alone. The sun was sinking. Long shadows came creeping over the ground. A chilly little wind came creeping with them making scary noises in the grass. The Kid shivered as he thought of the terrible Wolf. Then he started wildly over the field, bleating for his mother. But not half-way, near a clump of trees, there was the Wolf! The Kid knew there was little hope for him. “Please, Mr. Wolf,” he said trembling, “I know you are going to eat me. But first please pipe me a tune, for I want to dance and be merry as long as I can.“The Wolf liked the idea of a little music before eating, so he struck up a merry tune and the Kid leaped and frisked gaily. Meanwhile, the flock was moving slowly homeward. In the still evening air the Wolf's piping carried far. The Shepherd Dogs pricked up their ears. They recognized the song the Wolf sings before a feast, and in a moment they were racing back to the pasture. The Wolf's song ended suddenly, and as he ran, with the Dogs at his heels, he called himself a fool for turning piper to please a Kid, when he should have stuck to his butcher's trade. Do not let anything turn you from your purpose.\n",
        "\"\"\"\n",
        "\n",
        "# Calculate tokens, types, and lexical diversity (TTR)\n",
        "tokens, types, lexical_diversity = calculate_lexical_diversity(text)\n",
        "\n",
        "# Print tokens, types, and lexical diversity (TTR)\n",
        "print(\"Tokens (Total Words):\")\n",
        "print(tokens)\n",
        "print(\"\\nTypes (Unique Words):\")\n",
        "print(types)\n",
        "print(f\"\\nLexical Diversity (TTR): {lexical_diversity:.3f}\")"
      ],
      "metadata": {
        "collapsed": true,
        "id": "zl8fJouCfyPx",
        "outputId": "8bccf71d-4e1c-4947-a996-20d58be123ed",
        "colab": {
          "base_uri": "https://localhost:8080/"
        }
      },
      "execution_count": 11,
      "outputs": [
        {
          "output_type": "stream",
          "name": "stdout",
          "text": [
            "Tokens (Total Words):\n",
            "['there', 'was', 'once', 'a', 'little', 'kid', 'whose', 'growing', 'horns', 'made', 'him', 'think', 'he', 'was', 'a', 'grown', 'up', 'billy', 'goat', 'and', 'able', 'to', 'take', 'care', 'of', 'himself', 'so', 'one', 'evening', 'when', 'the', 'flock', 'started', 'home', 'from', 'the', 'pasture', 'and', 'his', 'mother', 'called', 'the', 'kid', 'paid', 'no', 'heed', 'and', 'kept', 'right', 'on', 'nibbling', 'the', 'tender', 'grass', 'a', 'little', 'later', 'when', 'he', 'lifted', 'his', 'head', 'the', 'flock', 'was', 'gone', 'he', 'was', 'all', 'alone', 'the', 'sun', 'was', 'sinking', 'long', 'shadows', 'came', 'creeping', 'over', 'the', 'ground', 'a', 'chilly', 'little', 'wind', 'came', 'creeping', 'with', 'them', 'making', 'scary', 'noises', 'in', 'the', 'grass', 'the', 'kid', 'shivered', 'as', 'he', 'thought', 'of', 'the', 'terrible', 'wolf', 'then', 'he', 'started', 'wildly', 'over', 'the', 'field', 'bleating', 'for', 'his', 'mother', 'but', 'not', 'half', 'way', 'near', 'a', 'clump', 'of', 'trees', 'there', 'was', 'the', 'wolf', 'the', 'kid', 'knew', 'there', 'was', 'little', 'hope', 'for', 'him', 'please', 'mr', 'wolf', 'he', 'said', 'trembling', 'i', 'know', 'you', 'are', 'going', 'to', 'eat', 'me', 'but', 'first', 'please', 'pipe', 'me', 'a', 'tune', 'for', 'i', 'want', 'to', 'dance', 'and', 'be', 'merry', 'as', 'long', 'as', 'i', 'can', 'the', 'wolf', 'liked', 'the', 'idea', 'of', 'a', 'little', 'music', 'before', 'eating', 'so', 'he', 'struck', 'up', 'a', 'merry', 'tune', 'and', 'the', 'kid', 'leaped', 'and', 'frisked', 'gaily', 'meanwhile', 'the', 'flock', 'was', 'moving', 'slowly', 'homeward', 'in', 'the', 'still', 'evening', 'air', 'the', 'wolf', 's', 'piping', 'carried', 'far', 'the', 'shepherd', 'dogs', 'pricked', 'up', 'their', 'ears', 'they', 'recognized', 'the', 'song', 'the', 'wolf', 'sings', 'before', 'a', 'feast', 'and', 'in', 'a', 'moment', 'they', 'were', 'racing', 'back', 'to', 'the', 'pasture', 'the', 'wolf', 's', 'song', 'ended', 'suddenly', 'and', 'as', 'he', 'ran', 'with', 'the', 'dogs', 'at', 'his', 'heels', 'he', 'called', 'himself', 'a', 'fool', 'for', 'turning', 'piper', 'to', 'please', 'a', 'kid', 'when', 'he', 'should', 'have', 'stuck', 'to', 'his', 'butcher', 's', 'trade', 'do', 'not', 'let', 'anything', 'turn', 'you', 'from', 'your', 'purpose']\n",
            "\n",
            "Types (Unique Words):\n",
            "{'up', 'all', 'able', 'started', 'want', 'but', 'frisked', 'so', 'still', 'tender', 'back', 'liked', 'please', 'were', 'came', 'me', 'horns', 'wind', 'think', 'far', 'ran', 'kid', 'sings', 'can', 'piper', 'before', 'over', 'dance', 'was', 'wildly', 'then', 'turning', 'him', 'their', 'eat', 'music', 'feast', 'have', 'moving', 'noises', 'called', 'sinking', 'right', 'field', 'himself', 'way', 'one', 'gaily', 'moment', 'purpose', 'clump', 'turn', 'whose', 'long', 'carried', 'knew', 'leaped', 'for', 'your', 'as', 'trees', 'nibbling', 'kept', 'in', 'trembling', 'of', 'trade', 'from', 'on', 'grown', 'creeping', 'i', 'know', 'they', 'his', 'alone', 'eating', 'anything', 'dogs', 'not', 'shepherd', 'and', 'piping', 'grass', 'pricked', 'lifted', 'head', 'do', 'later', 'shadows', 'tune', 'thought', 'said', 'recognized', 'there', 'merry', 'be', 'air', 'meanwhile', 'little', 'homeward', 'near', 'ears', 'pasture', 'heed', 'goat', 'terrible', 'mr', 'are', 'no', 'ended', 'suddenly', 'should', 'billy', 'evening', 'made', 'home', 'shivered', 'gone', 'flock', 'ground', 'with', 'fool', 'paid', 'the', 'once', 's', 'let', 'butcher', 'to', 'wolf', 'racing', 'at', 'making', 'slowly', 'heels', 'struck', 'first', 'care', 'hope', 'take', 'a', 'growing', 'he', 'going', 'sun', 'stuck', 'pipe', 'song', 'you', 'bleating', 'chilly', 'half', 'mother', 'scary', 'them', 'idea', 'when'}\n",
            "\n",
            "Lexical Diversity (TTR): 0.545\n"
          ]
        }
      ]
    },
    {
      "cell_type": "code",
      "source": [
        "def tal(text):\n",
        "    words = text.split()\n",
        "    wl = [word.lower() for word in words]\n",
        "    return wl\n",
        "import urllib.request\n",
        "url = \"https://raw.githubusercontent.com/ms624atyale/Temp_Data/main/TheAesop4Children_1stEpisode.txt\"\n",
        "response = urllib.request.urlopen(url)\n",
        "content = response.read().decode('utf-8')\n",
        "print('The Aesop EP1:', content)\n",
        "tl = tal(text)\n",
        "uw = set(tl)\n",
        "ttr = len(uw) / len(tl)\n",
        "print(\"Type-Token Ratio (TTR):\", ttr)\n",
        "print(\"Unique words (Types):\", sorted(uw))\n",
        "print(\"Unique words (Types):\", uw)\n",
        "print(\"Tokens in lowercase:\", tl)"
      ],
      "metadata": {
        "collapsed": true,
        "id": "Y2NdIjbPf0fO",
        "outputId": "fffa0b09-24fa-43a8-bd48-19fc2085f8f7",
        "colab": {
          "base_uri": "https://localhost:8080/"
        }
      },
      "execution_count": 12,
      "outputs": [
        {
          "output_type": "stream",
          "name": "stdout",
          "text": [
            "The Aesop EP1: There was once a little Kid whose growing horns made him think he was a grown-up Billy Goat and able to take care of himself. So one evening when the flock started home from the pasture and his mother called, the Kid paid no heed and kept right on nibbling the tender grass. A little later when he lifted his head, the flock was gone. He was all alone. The sun was sinking. Long shadows came creeping over the ground. A chilly little wind came creeping with them making scary noises in the grass. The Kid shivered as he thought of the terrible Wolf. Then he started wildly over the field, bleating for his mother. But not half-way, near a clump of trees, there was the Wolf! The Kid knew there was little hope for him. “Please, Mr. Wolf,” he said trembling, “I know you are going to eat me. But first please pipe me a tune, for I want to dance and be merry as long as I can.“The Wolf liked the idea of a little music before eating, so he struck up a merry tune and the Kid leaped and frisked gaily. Meanwhile, the flock was moving slowly homeward. In the still evening air the Wolf's piping carried far. The Shepherd Dogs pricked up their ears. They recognized the song the Wolf sings before a feast, and in a moment they were racing back to the pasture. The Wolf's song ended suddenly, and as he ran, with the Dogs at his heels, he called himself a fool for turning piper to please a Kid, when he should have stuck to his butcher's trade. Do not let anything turn you from your purpose.\n",
            "Type-Token Ratio (TTR): 0.5985915492957746\n",
            "Unique words (Types): ['a', 'able', 'air', 'all', 'alone.', 'and', 'anything', 'are', 'as', 'at', 'back', 'be', 'before', 'billy', 'bleating', 'but', \"butcher's\", 'called', 'called,', 'came', 'can.“the', 'care', 'carried', 'chilly', 'clump', 'creeping', 'dance', 'do', 'dogs', 'ears.', 'eat', 'eating,', 'ended', 'evening', 'far.', 'feast,', 'field,', 'first', 'flock', 'fool', 'for', 'frisked', 'from', 'gaily.', 'goat', 'going', 'gone.', 'grass.', 'ground.', 'growing', 'grown-up', 'half-way,', 'have', 'he', 'head,', 'heed', 'heels,', 'him', 'him.', 'himself', 'himself.', 'his', 'home', 'homeward.', 'hope', 'horns', 'i', 'idea', 'in', 'kept', 'kid', 'kid,', 'knew', 'know', 'later', 'leaped', 'let', 'lifted', 'liked', 'little', 'long', 'made', 'making', 'me', 'me.', 'meanwhile,', 'merry', 'moment', 'mother', 'mother.', 'moving', 'mr.', 'music', 'near', 'nibbling', 'no', 'noises', 'not', 'of', 'on', 'once', 'one', 'over', 'paid', 'pasture', 'pasture.', 'pipe', 'piper', 'piping', 'please', 'pricked', 'purpose.', 'racing', 'ran,', 'recognized', 'right', 'said', 'scary', 'shadows', 'shepherd', 'shivered', 'should', 'sings', 'sinking.', 'slowly', 'so', 'song', 'started', 'still', 'struck', 'stuck', 'suddenly,', 'sun', 'take', 'tender', 'terrible', 'the', 'their', 'them', 'then', 'there', 'they', 'think', 'thought', 'to', 'trade.', 'trees,', 'trembling,', 'tune', 'tune,', 'turn', 'turning', 'up', 'want', 'was', 'were', 'when', 'whose', 'wildly', 'wind', 'with', 'wolf', 'wolf!', \"wolf's\", 'wolf,”', 'wolf.', 'you', 'your', '“i', '“please,']\n",
            "Unique words (Types): {'up', 'all', 'able', 'trembling,', 'head,', 'started', 'want', 'gaily.', 'but', 'frisked', 'so', 'can.“the', 'still', 'tender', 'grown-up', 'back', 'liked', 'please', 'were', 'came', 'me', 'horns', 'wind', 'think', 'him.', 'kid', 'trade.', 'sings', 'piper', 'before', 'over', 'dance', 'was', '“i', 'far.', 'wildly', 'then', 'turning', 'him', 'their', 'eat', 'music', 'have', 'moving', 'noises', 'called', 'right', 'half-way,', 'himself', 'wolf!', 'one', 'himself.', 'wolf,”', 'moment', 'clump', 'turn', 'whose', 'long', 'carried', 'knew', 'leaped', 'for', 'your', 'as', 'nibbling', 'kept', 'in', 'of', 'trees,', 'mr.', 'from', 'on', 'creeping', 'tune,', 'know', 'i', 'meanwhile,', 'homeward.', 'suddenly,', 'they', 'his', 'wolf.', 'anything', \"wolf's\", 'dogs', 'pasture.', 'not', 'ground.', \"butcher's\", 'shepherd', 'and', 'piping', 'sinking.', 'pricked', 'lifted', 'field,', 'alone.', 'do', 'later', 'shadows', 'tune', 'thought', 'said', 'ran,', 'recognized', 'there', 'merry', 'be', 'air', 'little', 'near', 'pasture', 'heed', 'goat', 'terrible', 'are', 'no', 'gone.', 'ended', 'heels,', 'should', 'billy', 'evening', 'made', 'home', 'shivered', 'called,', 'flock', 'with', 'fool', 'paid', '“please,', 'the', 'once', 'kid,', 'let', 'eating,', 'me.', 'to', 'wolf', 'racing', 'grass.', 'at', 'making', 'mother.', 'feast,', 'slowly', 'struck', 'first', 'care', 'hope', 'take', 'a', 'growing', 'he', 'going', 'sun', 'stuck', 'pipe', 'song', 'you', 'bleating', 'chilly', 'ears.', 'mother', 'scary', 'them', 'idea', 'when', 'purpose.'}\n",
            "Tokens in lowercase: ['there', 'was', 'once', 'a', 'little', 'kid', 'whose', 'growing', 'horns', 'made', 'him', 'think', 'he', 'was', 'a', 'grown-up', 'billy', 'goat', 'and', 'able', 'to', 'take', 'care', 'of', 'himself.', 'so', 'one', 'evening', 'when', 'the', 'flock', 'started', 'home', 'from', 'the', 'pasture', 'and', 'his', 'mother', 'called,', 'the', 'kid', 'paid', 'no', 'heed', 'and', 'kept', 'right', 'on', 'nibbling', 'the', 'tender', 'grass.', 'a', 'little', 'later', 'when', 'he', 'lifted', 'his', 'head,', 'the', 'flock', 'was', 'gone.', 'he', 'was', 'all', 'alone.', 'the', 'sun', 'was', 'sinking.', 'long', 'shadows', 'came', 'creeping', 'over', 'the', 'ground.', 'a', 'chilly', 'little', 'wind', 'came', 'creeping', 'with', 'them', 'making', 'scary', 'noises', 'in', 'the', 'grass.', 'the', 'kid', 'shivered', 'as', 'he', 'thought', 'of', 'the', 'terrible', 'wolf.', 'then', 'he', 'started', 'wildly', 'over', 'the', 'field,', 'bleating', 'for', 'his', 'mother.', 'but', 'not', 'half-way,', 'near', 'a', 'clump', 'of', 'trees,', 'there', 'was', 'the', 'wolf!', 'the', 'kid', 'knew', 'there', 'was', 'little', 'hope', 'for', 'him.', '“please,', 'mr.', 'wolf,”', 'he', 'said', 'trembling,', '“i', 'know', 'you', 'are', 'going', 'to', 'eat', 'me.', 'but', 'first', 'please', 'pipe', 'me', 'a', 'tune,', 'for', 'i', 'want', 'to', 'dance', 'and', 'be', 'merry', 'as', 'long', 'as', 'i', 'can.“the', 'wolf', 'liked', 'the', 'idea', 'of', 'a', 'little', 'music', 'before', 'eating,', 'so', 'he', 'struck', 'up', 'a', 'merry', 'tune', 'and', 'the', 'kid', 'leaped', 'and', 'frisked', 'gaily.', 'meanwhile,', 'the', 'flock', 'was', 'moving', 'slowly', 'homeward.', 'in', 'the', 'still', 'evening', 'air', 'the', \"wolf's\", 'piping', 'carried', 'far.', 'the', 'shepherd', 'dogs', 'pricked', 'up', 'their', 'ears.', 'they', 'recognized', 'the', 'song', 'the', 'wolf', 'sings', 'before', 'a', 'feast,', 'and', 'in', 'a', 'moment', 'they', 'were', 'racing', 'back', 'to', 'the', 'pasture.', 'the', \"wolf's\", 'song', 'ended', 'suddenly,', 'and', 'as', 'he', 'ran,', 'with', 'the', 'dogs', 'at', 'his', 'heels,', 'he', 'called', 'himself', 'a', 'fool', 'for', 'turning', 'piper', 'to', 'please', 'a', 'kid,', 'when', 'he', 'should', 'have', 'stuck', 'to', 'his', \"butcher's\", 'trade.', 'do', 'not', 'let', 'anything', 'turn', 'you', 'from', 'your', 'purpose.']\n"
          ]
        }
      ]
    },
    {
      "cell_type": "code",
      "source": [
        "text = \"\"\"\n",
        "Olympic officials say the Russian Olympic Committee's (ROC) latest suspension followed Moscow's decision to absorb sports organizations in four occupied territories of Ukraine, describing that action as a \"breach of the Olympic charter.\"\n",
        "\n",
        "According to an IOC statement, the ROC \"cannot receive any funding from the Olympic movement\" including revenue from international broadcast rights.\n",
        "\n",
        "Russia's sports programs have faced a series of sanctions since 2017 after it was revealed that coaches and trainers created a nationwide system of athletic doping using banned substances.\n",
        "\n",
        "The IOC views the two wars' impact on sport as \"unique\"\n",
        "It's still unclear whether Russian athletes will be allowed to compete independently - without flying Russia's flag or playing the Russian national anthem — during the 2024 Summer Olympics in Paris, though that appears likely.\n",
        "\n",
        "Lavrov said the two cases show clear bias between the treatments of Russia and Israel.\n",
        "\n",
        "\"[The IOC] actively supports everything that meets the interests of Western countries, primarily the United States, and tries to find wordings that generally props up this policy,\" Lavrov said on Nov. 2.\n",
        "\"\"\"\n",
        "tn = text.replace('\\n',' ')\n",
        "count = len(text)\n",
        "print(count)\n",
        "#print('The text of the article:', tn)\n",
        "print('\\n', tn)\n",
        "print('\\n')\n",
        "count1 = len(text)\n",
        "count2 = len(tn)\n",
        "print(count1)\n",
        "print(count2)"
      ],
      "metadata": {
        "collapsed": true,
        "id": "wR9Ze4Fgf2Vn",
        "outputId": "06c5e5f0-8262-4f92-e49b-785444585fd1",
        "colab": {
          "base_uri": "https://localhost:8080/"
        }
      },
      "execution_count": 13,
      "outputs": [
        {
          "output_type": "stream",
          "name": "stdout",
          "text": [
            "1156\n",
            "\n",
            "  Olympic officials say the Russian Olympic Committee's (ROC) latest suspension followed Moscow's decision to absorb sports organizations in four occupied territories of Ukraine, describing that action as a \"breach of the Olympic charter.\"  According to an IOC statement, the ROC \"cannot receive any funding from the Olympic movement\" including revenue from international broadcast rights.  Russia's sports programs have faced a series of sanctions since 2017 after it was revealed that coaches and trainers created a nationwide system of athletic doping using banned substances.  The IOC views the two wars' impact on sport as \"unique\" It's still unclear whether Russian athletes will be allowed to compete independently - without flying Russia's flag or playing the Russian national anthem — during the 2024 Summer Olympics in Paris, though that appears likely.  Lavrov said the two cases show clear bias between the treatments of Russia and Israel.  \"[The IOC] actively supports everything that meets the interests of Western countries, primarily the United States, and tries to find wordings that generally props up this policy,\" Lavrov said on Nov. 2. \n",
            "\n",
            "\n",
            "1156\n",
            "1156\n"
          ]
        }
      ]
    },
    {
      "cell_type": "code",
      "source": [
        "text = \"\"\"\n",
        "'명조'는 오픈월드 액션 RPG로 광활한 오픈월드에서 다양한 캐릭터와 함께하는 모험, 조작의 재미를 느낄 수 있는 실시간 액션 전투, 완성도 높은 그래픽 등을 특징으로 내세우고 있다. 작년 지스타 2024에 출전해 현장 시연을 선보인 바 있으며, 현재 글로벌 사전예약자 3,000만 명을 돌파했다.\n",
        "\n",
        "쿠로게임즈는 '명조' 출시를 하루 앞두고 사전 다운로드를 시작했다. 이와 함께 다양한 콜라보 이벤트도 공개했다. 가장 먼저 6월 3일부터 23일까지 맘스터치와 콜라보한다. ‘명조 세트’를 구매하면 선착순으로 게임 쿠폰과 포토카드를 획득할 수 있다. ‘명조 세트’는 싸이버거와 콜라, 후라이드 싸이 순살로 구성되어 있다.\n",
        "\n",
        "또, 6월 4일부터 7월 3일까지 달콤커피와 콜라보한다. ‘앙코세트’ 및 ‘감심세트’를 구매자에게 선착순으로 포토카드, 게임쿠폰, 엽서, 종이코스터 등의 굿즈를 증정한다. 또한, 달콤커피 매장에선 종이코스터, 포션커피&Tea, 아크릴 키링, 스티커팩 등이 포함된 ‘명조X달콤커피 한정판 콜라보 굿즈세트’를 구매할 수도 있다. 달콤커피 교대점에서는 이용자를 위한 특별 포토존도 마련된다.\n",
        "\"\"\"\n",
        "tn = text.replace('\\n',' ')\n",
        "count = len(text)\n",
        "print(count)\n",
        "print('\\n', tn)"
      ],
      "metadata": {
        "collapsed": true,
        "id": "PQXPJVU-f4zD",
        "outputId": "97e170dd-c471-4d24-8fce-72be47cc1984",
        "colab": {
          "base_uri": "https://localhost:8080/"
        }
      },
      "execution_count": 14,
      "outputs": [
        {
          "output_type": "stream",
          "name": "stdout",
          "text": [
            "565\n",
            "\n",
            "  '명조'는 오픈월드 액션 RPG로 광활한 오픈월드에서 다양한 캐릭터와 함께하는 모험, 조작의 재미를 느낄 수 있는 실시간 액션 전투, 완성도 높은 그래픽 등을 특징으로 내세우고 있다. 작년 지스타 2024에 출전해 현장 시연을 선보인 바 있으며, 현재 글로벌 사전예약자 3,000만 명을 돌파했다.  쿠로게임즈는 '명조' 출시를 하루 앞두고 사전 다운로드를 시작했다. 이와 함께 다양한 콜라보 이벤트도 공개했다. 가장 먼저 6월 3일부터 23일까지 맘스터치와 콜라보한다. ‘명조 세트’를 구매하면 선착순으로 게임 쿠폰과 포토카드를 획득할 수 있다. ‘명조 세트’는 싸이버거와 콜라, 후라이드 싸이 순살로 구성되어 있다.  또, 6월 4일부터 7월 3일까지 달콤커피와 콜라보한다. ‘앙코세트’ 및 ‘감심세트’를 구매자에게 선착순으로 포토카드, 게임쿠폰, 엽서, 종이코스터 등의 굿즈를 증정한다. 또한, 달콤커피 매장에선 종이코스터, 포션커피&Tea, 아크릴 키링, 스티커팩 등이 포함된 ‘명조X달콤커피 한정판 콜라보 굿즈세트’를 구매할 수도 있다. 달콤커피 교대점에서는 이용자를 위한 특별 포토존도 마련된다. \n"
          ]
        }
      ]
    },
    {
      "cell_type": "code",
      "source": [
        "def tal(text):\n",
        "    words = text.split()\n",
        "    wl = [word.lower() for word in words]\n",
        "    return wl\n",
        "text = \"\"\"\n",
        "When violence in Israel and Gaza escalated after last month's terror attack by Hamas, the International Olympic Committee (IOC) issued a statement warning against \"discriminatory behavior\" against Israeli athletes competing around the world.\n",
        "\n",
        "\"[A]thletes cannot be held responsible for the actions of their governments,\" an IOC spokesperson told the German Press Agency, promising \"swift action\" if incidents occur.\n",
        "\n",
        "Russian officials reacted angrily to the IOC's stance toward Israel, noting that in October the Russian Olympic Committee was suspended for actions taken in occupied regions of eastern Ukraine.\n",
        "\n",
        "\"This is, of course, outrageous,\" said Russian Foreign Minister Sergey Lavrov, in an interview posted on Telegram. \"Once again we see an example of the bias and ineptitude of the International Olympic Committee, which time and again proves its political bent.\"\n",
        "\"\"\"\n",
        "tl = tal(text)\n",
        "uw = set(tl)\n",
        "ttr = len(uw) / len(tl)\n",
        "print(\"Type-Token Ratio (TTR):\", ttr)\n",
        "print(\"Unique words (Types):\", sorted(uw))\n",
        "print(\"Tokens in Lowercase:\", tl)"
      ],
      "metadata": {
        "collapsed": true,
        "id": "EMZYXF3jf6XK",
        "outputId": "dee2298b-66ae-433d-a3c5-ed7909c097bf",
        "colab": {
          "base_uri": "https://localhost:8080/"
        }
      },
      "execution_count": 15,
      "outputs": [
        {
          "output_type": "stream",
          "name": "stdout",
          "text": [
            "Type-Token Ratio (TTR): 0.78125\n",
            "Unique words (Types): ['\"[a]thletes', '\"discriminatory', '\"once', '\"swift', '\"this', '(ioc)', 'a', 'action\"', 'actions', 'after', 'again', 'against', 'agency,', 'an', 'and', 'angrily', 'around', 'athletes', 'attack', 'be', 'behavior\"', 'bent.\"', 'bias', 'by', 'cannot', 'committee', 'committee,', 'competing', 'course,', 'eastern', 'escalated', 'example', 'for', 'foreign', 'gaza', 'german', 'governments,\"', 'hamas,', 'held', 'if', 'in', 'incidents', 'ineptitude', 'international', 'interview', 'ioc', \"ioc's\", 'is,', 'israel', 'israel,', 'israeli', 'issued', 'its', 'last', 'lavrov,', 'minister', \"month's\", 'noting', 'occupied', 'occur.', 'october', 'of', 'officials', 'olympic', 'on', 'outrageous,\"', 'political', 'posted', 'press', 'promising', 'proves', 'reacted', 'regions', 'responsible', 'russian', 'said', 'see', 'sergey', 'spokesperson', 'stance', 'statement', 'suspended', 'taken', 'telegram.', 'terror', 'that', 'the', 'their', 'time', 'to', 'told', 'toward', 'ukraine.', 'violence', 'warning', 'was', 'we', 'when', 'which', 'world.']\n",
            "Tokens in Lowercase: ['when', 'violence', 'in', 'israel', 'and', 'gaza', 'escalated', 'after', 'last', \"month's\", 'terror', 'attack', 'by', 'hamas,', 'the', 'international', 'olympic', 'committee', '(ioc)', 'issued', 'a', 'statement', 'warning', 'against', '\"discriminatory', 'behavior\"', 'against', 'israeli', 'athletes', 'competing', 'around', 'the', 'world.', '\"[a]thletes', 'cannot', 'be', 'held', 'responsible', 'for', 'the', 'actions', 'of', 'their', 'governments,\"', 'an', 'ioc', 'spokesperson', 'told', 'the', 'german', 'press', 'agency,', 'promising', '\"swift', 'action\"', 'if', 'incidents', 'occur.', 'russian', 'officials', 'reacted', 'angrily', 'to', 'the', \"ioc's\", 'stance', 'toward', 'israel,', 'noting', 'that', 'in', 'october', 'the', 'russian', 'olympic', 'committee', 'was', 'suspended', 'for', 'actions', 'taken', 'in', 'occupied', 'regions', 'of', 'eastern', 'ukraine.', '\"this', 'is,', 'of', 'course,', 'outrageous,\"', 'said', 'russian', 'foreign', 'minister', 'sergey', 'lavrov,', 'in', 'an', 'interview', 'posted', 'on', 'telegram.', '\"once', 'again', 'we', 'see', 'an', 'example', 'of', 'the', 'bias', 'and', 'ineptitude', 'of', 'the', 'international', 'olympic', 'committee,', 'which', 'time', 'and', 'again', 'proves', 'its', 'political', 'bent.\"']\n"
          ]
        }
      ]
    },
    {
      "cell_type": "code",
      "source": [
        "def tal(text):\n",
        "    text = text.replace(\"\\n\", \" \")\n",
        "    words = text.split()\n",
        "    wl = [word.lower() for word in words]\n",
        "    return wl\n",
        "text1 = \"\"\"\n",
        "Mimi Kim, teaching professor of Korean language, is the co-author of a new Korean language textbook that uses folktales as a springboard for language learning.\n",
        "The 21 stories that make up Tigers, Fairies, and Gods: Enchanting Folktales from Korea progress through increasingly challenging levels of diction and vocabulary while developing students’ cultural literacy.\\n\n",
        "Every semester, Mimi Kim asks her Korean language students at WashU to write their own Korean-style folktales. She says that folktales are “rich in cultural context, and so they provide a very effective backdrop for discussions about cultural practices and perspectives. Students really get into our discussions about commonalities and differences between Korean folktales and the stories that they grew up with in their own communities.” Kim sees cultural literacy as a key tool for the language classroom. Tigers, Fairies, and Gods grew out of that idea.\\n\n",
        "The book is an unusually rich visual object, with vibrant illustrations done in a style that is evocative of Korean animation. Kim and her co-author, Angela Lee-Smith of Yale University, use visual and linguistic cues to engage with students’ cultural knowledge. In “Sister Sun and Brother Moon,” for example, a brother and sister encounter a tiger in their mother’s clothing in a scene that might evoke echoes of “Little Red Riding Hood” for readers who grew up with the Grimm brothers’ tales.\n",
        "That kind of cross-cultural comparison is exactly what we hope for in humanities education, Kim says. “By learning a new language you gain a richer understanding of cultural differences and similarities,” she says. “Folktales are a natural tool for that work. They just needed to be put together in a way that was more useful for students.”\n",
        "\"\"\"\n",
        "count1 = len(text1)\n",
        "print(count1)\n",
        "text2 = text1.replace('\\n', ' ')\n",
        "count2 = len(text2)\n",
        "print(count2)\n",
        "print('The text of the article:', text1)\n",
        "tl = tal(text1)\n",
        "uw = set(tl)\n",
        "ttr = len(uw) / len(tl)\n",
        "print(\"Type-Token Ratio (TTR):\", ttr)\n",
        "print(\"Tokens in Lowercase:\", tl)\n",
        "print(\"Unique words (Types):\", sorted(uw))"
      ],
      "metadata": {
        "collapsed": true,
        "id": "Ti98TVn-f8Q2",
        "outputId": "ac841988-4b6a-4dfc-cff2-a7bb2139dde1",
        "colab": {
          "base_uri": "https://localhost:8080/"
        }
      },
      "execution_count": 16,
      "outputs": [
        {
          "output_type": "stream",
          "name": "stdout",
          "text": [
            "1764\n",
            "1764\n",
            "The text of the article: \n",
            "Mimi Kim, teaching professor of Korean language, is the co-author of a new Korean language textbook that uses folktales as a springboard for language learning.\n",
            "The 21 stories that make up Tigers, Fairies, and Gods: Enchanting Folktales from Korea progress through increasingly challenging levels of diction and vocabulary while developing students’ cultural literacy.\n",
            "\n",
            "Every semester, Mimi Kim asks her Korean language students at WashU to write their own Korean-style folktales. She says that folktales are “rich in cultural context, and so they provide a very effective backdrop for discussions about cultural practices and perspectives. Students really get into our discussions about commonalities and differences between Korean folktales and the stories that they grew up with in their own communities.” Kim sees cultural literacy as a key tool for the language classroom. Tigers, Fairies, and Gods grew out of that idea.\n",
            "\n",
            "The book is an unusually rich visual object, with vibrant illustrations done in a style that is evocative of Korean animation. Kim and her co-author, Angela Lee-Smith of Yale University, use visual and linguistic cues to engage with students’ cultural knowledge. In “Sister Sun and Brother Moon,” for example, a brother and sister encounter a tiger in their mother’s clothing in a scene that might evoke echoes of “Little Red Riding Hood” for readers who grew up with the Grimm brothers’ tales.\n",
            "That kind of cross-cultural comparison is exactly what we hope for in humanities education, Kim says. “By learning a new language you gain a richer understanding of cultural differences and similarities,” she says. “Folktales are a natural tool for that work. They just needed to be put together in a way that was more useful for students.”\n",
            "\n",
            "Type-Token Ratio (TTR): 0.5985663082437276\n",
            "Tokens in Lowercase: ['mimi', 'kim,', 'teaching', 'professor', 'of', 'korean', 'language,', 'is', 'the', 'co-author', 'of', 'a', 'new', 'korean', 'language', 'textbook', 'that', 'uses', 'folktales', 'as', 'a', 'springboard', 'for', 'language', 'learning.', 'the', '21', 'stories', 'that', 'make', 'up', 'tigers,', 'fairies,', 'and', 'gods:', 'enchanting', 'folktales', 'from', 'korea', 'progress', 'through', 'increasingly', 'challenging', 'levels', 'of', 'diction', 'and', 'vocabulary', 'while', 'developing', 'students’', 'cultural', 'literacy.', 'every', 'semester,', 'mimi', 'kim', 'asks', 'her', 'korean', 'language', 'students', 'at', 'washu', 'to', 'write', 'their', 'own', 'korean-style', 'folktales.', 'she', 'says', 'that', 'folktales', 'are', '“rich', 'in', 'cultural', 'context,', 'and', 'so', 'they', 'provide', 'a', 'very', 'effective', 'backdrop', 'for', 'discussions', 'about', 'cultural', 'practices', 'and', 'perspectives.', 'students', 'really', 'get', 'into', 'our', 'discussions', 'about', 'commonalities', 'and', 'differences', 'between', 'korean', 'folktales', 'and', 'the', 'stories', 'that', 'they', 'grew', 'up', 'with', 'in', 'their', 'own', 'communities.”', 'kim', 'sees', 'cultural', 'literacy', 'as', 'a', 'key', 'tool', 'for', 'the', 'language', 'classroom.', 'tigers,', 'fairies,', 'and', 'gods', 'grew', 'out', 'of', 'that', 'idea.', 'the', 'book', 'is', 'an', 'unusually', 'rich', 'visual', 'object,', 'with', 'vibrant', 'illustrations', 'done', 'in', 'a', 'style', 'that', 'is', 'evocative', 'of', 'korean', 'animation.', 'kim', 'and', 'her', 'co-author,', 'angela', 'lee-smith', 'of', 'yale', 'university,', 'use', 'visual', 'and', 'linguistic', 'cues', 'to', 'engage', 'with', 'students’', 'cultural', 'knowledge.', 'in', '“sister', 'sun', 'and', 'brother', 'moon,”', 'for', 'example,', 'a', 'brother', 'and', 'sister', 'encounter', 'a', 'tiger', 'in', 'their', 'mother’s', 'clothing', 'in', 'a', 'scene', 'that', 'might', 'evoke', 'echoes', 'of', '“little', 'red', 'riding', 'hood”', 'for', 'readers', 'who', 'grew', 'up', 'with', 'the', 'grimm', 'brothers’', 'tales.', 'that', 'kind', 'of', 'cross-cultural', 'comparison', 'is', 'exactly', 'what', 'we', 'hope', 'for', 'in', 'humanities', 'education,', 'kim', 'says.', '“by', 'learning', 'a', 'new', 'language', 'you', 'gain', 'a', 'richer', 'understanding', 'of', 'cultural', 'differences', 'and', 'similarities,”', 'she', 'says.', '“folktales', 'are', 'a', 'natural', 'tool', 'for', 'that', 'work.', 'they', 'just', 'needed', 'to', 'be', 'put', 'together', 'in', 'a', 'way', 'that', 'was', 'more', 'useful', 'for', 'students.”']\n",
            "Unique words (Types): ['21', 'a', 'about', 'an', 'and', 'angela', 'animation.', 'are', 'as', 'asks', 'at', 'backdrop', 'be', 'between', 'book', 'brother', 'brothers’', 'challenging', 'classroom.', 'clothing', 'co-author', 'co-author,', 'commonalities', 'communities.”', 'comparison', 'context,', 'cross-cultural', 'cues', 'cultural', 'developing', 'diction', 'differences', 'discussions', 'done', 'echoes', 'education,', 'effective', 'enchanting', 'encounter', 'engage', 'every', 'evocative', 'evoke', 'exactly', 'example,', 'fairies,', 'folktales', 'folktales.', 'for', 'from', 'gain', 'get', 'gods', 'gods:', 'grew', 'grimm', 'her', 'hood”', 'hope', 'humanities', 'idea.', 'illustrations', 'in', 'increasingly', 'into', 'is', 'just', 'key', 'kim', 'kim,', 'kind', 'knowledge.', 'korea', 'korean', 'korean-style', 'language', 'language,', 'learning', 'learning.', 'lee-smith', 'levels', 'linguistic', 'literacy', 'literacy.', 'make', 'might', 'mimi', 'moon,”', 'more', 'mother’s', 'natural', 'needed', 'new', 'object,', 'of', 'our', 'out', 'own', 'perspectives.', 'practices', 'professor', 'progress', 'provide', 'put', 'readers', 'really', 'red', 'rich', 'richer', 'riding', 'says', 'says.', 'scene', 'sees', 'semester,', 'she', 'similarities,”', 'sister', 'so', 'springboard', 'stories', 'students', 'students.”', 'students’', 'style', 'sun', 'tales.', 'teaching', 'textbook', 'that', 'the', 'their', 'they', 'through', 'tiger', 'tigers,', 'to', 'together', 'tool', 'understanding', 'university,', 'unusually', 'up', 'use', 'useful', 'uses', 'very', 'vibrant', 'visual', 'vocabulary', 'was', 'washu', 'way', 'we', 'what', 'while', 'who', 'with', 'work.', 'write', 'yale', 'you', '“by', '“folktales', '“little', '“rich', '“sister']\n"
          ]
        }
      ]
    },
    {
      "cell_type": "code",
      "source": [
        "import urllib.request\n",
        "url = \"https://raw.githubusercontent.com/ms624atyale/Temp_Data/main/Article_about_enchanting_folktakes_from_Korea.txt\"\n",
        "response = urllib.request.urlopen(url)\n",
        "content = response.read().decode('utf-8')\n",
        "print(content)\n",
        "words = content.split()\n",
        "print(words)\n",
        "uw = set(words)\n",
        "ttr = len(uw) / len(words)\n",
        "print(\"Type-Token Ratio (TTR):\", ttr)\n",
        "print(\"Unique words (Types):\", sorted(uw))\n",
        "print(\"Tokens:\", words)"
      ],
      "metadata": {
        "collapsed": true,
        "id": "YVi5Ufu_f-rt",
        "outputId": "87d9ffbc-3718-43b6-f39d-e8402426a066",
        "colab": {
          "base_uri": "https://localhost:8080/"
        }
      },
      "execution_count": 17,
      "outputs": [
        {
          "output_type": "stream",
          "name": "stdout",
          "text": [
            "Mimi Kim, teaching professor of Korean language, is the co-author of a new Korean language textbook that uses folktales as a springboard for language learning.\n",
            "The 21 stories that make up Tigers, Fairies, and Gods: Enchanting Folktales from Korea progress through increasingly challenging levels of diction and vocabulary while developing students’ cultural literacy.\\n\n",
            "Every semester, Mimi Kim asks her Korean language students at WashU to write their own Korean-style folktales. She says that folktales are “rich in cultural context, and so they provide a very effective backdrop for discussions about cultural practices and perspectives. Students really get into our discussions about commonalities and differences between Korean folktales and the stories that they grew up with in their own communities.” Kim sees cultural literacy as a key tool for the language classroom. Tigers, Fairies, and Gods grew out of that idea.\\n\n",
            "The book is an unusually rich visual object, with vibrant illustrations done in a style that is evocative of Korean animation. Kim and her co-author, Angela Lee-Smith of Yale University, use visual and linguistic cues to engage with students’ cultural knowledge. In “Sister Sun and Brother Moon,” for example, a brother and sister encounter a tiger in their mother’s clothing in a scene that might evoke echoes of “Little Red Riding Hood” for readers who grew up with the Grimm brothers’ tales.\n",
            "That kind of cross-cultural comparison is exactly what we hope for in humanities education, Kim says. “By learning a new language you gain a richer understanding of cultural differences and similarities,” she says. “Folktales are a natural tool for that work. They just needed to be put together in a way that was more useful for students.”\n",
            "\n",
            "['Mimi', 'Kim,', 'teaching', 'professor', 'of', 'Korean', 'language,', 'is', 'the', 'co-author', 'of', 'a', 'new', 'Korean', 'language', 'textbook', 'that', 'uses', 'folktales', 'as', 'a', 'springboard', 'for', 'language', 'learning.', 'The', '21', 'stories', 'that', 'make', 'up', 'Tigers,', 'Fairies,', 'and', 'Gods:', 'Enchanting', 'Folktales', 'from', 'Korea', 'progress', 'through', 'increasingly', 'challenging', 'levels', 'of', 'diction', 'and', 'vocabulary', 'while', 'developing', 'students’', 'cultural', 'literacy.\\\\n', 'Every', 'semester,', 'Mimi', 'Kim', 'asks', 'her', 'Korean', 'language', 'students', 'at', 'WashU', 'to', 'write', 'their', 'own', 'Korean-style', 'folktales.', 'She', 'says', 'that', 'folktales', 'are', '“rich', 'in', 'cultural', 'context,', 'and', 'so', 'they', 'provide', 'a', 'very', 'effective', 'backdrop', 'for', 'discussions', 'about', 'cultural', 'practices', 'and', 'perspectives.', 'Students', 'really', 'get', 'into', 'our', 'discussions', 'about', 'commonalities', 'and', 'differences', 'between', 'Korean', 'folktales', 'and', 'the', 'stories', 'that', 'they', 'grew', 'up', 'with', 'in', 'their', 'own', 'communities.”', 'Kim', 'sees', 'cultural', 'literacy', 'as', 'a', 'key', 'tool', 'for', 'the', 'language', 'classroom.', 'Tigers,', 'Fairies,', 'and', 'Gods', 'grew', 'out', 'of', 'that', 'idea.\\\\n', 'The', 'book', 'is', 'an', 'unusually', 'rich', 'visual', 'object,', 'with', 'vibrant', 'illustrations', 'done', 'in', 'a', 'style', 'that', 'is', 'evocative', 'of', 'Korean', 'animation.', 'Kim', 'and', 'her', 'co-author,', 'Angela', 'Lee-Smith', 'of', 'Yale', 'University,', 'use', 'visual', 'and', 'linguistic', 'cues', 'to', 'engage', 'with', 'students’', 'cultural', 'knowledge.', 'In', '“Sister', 'Sun', 'and', 'Brother', 'Moon,”', 'for', 'example,', 'a', 'brother', 'and', 'sister', 'encounter', 'a', 'tiger', 'in', 'their', 'mother’s', 'clothing', 'in', 'a', 'scene', 'that', 'might', 'evoke', 'echoes', 'of', '“Little', 'Red', 'Riding', 'Hood”', 'for', 'readers', 'who', 'grew', 'up', 'with', 'the', 'Grimm', 'brothers’', 'tales.', 'That', 'kind', 'of', 'cross-cultural', 'comparison', 'is', 'exactly', 'what', 'we', 'hope', 'for', 'in', 'humanities', 'education,', 'Kim', 'says.', '“By', 'learning', 'a', 'new', 'language', 'you', 'gain', 'a', 'richer', 'understanding', 'of', 'cultural', 'differences', 'and', 'similarities,”', 'she', 'says.', '“Folktales', 'are', 'a', 'natural', 'tool', 'for', 'that', 'work.', 'They', 'just', 'needed', 'to', 'be', 'put', 'together', 'in', 'a', 'way', 'that', 'was', 'more', 'useful', 'for', 'students.”']\n",
            "Type-Token Ratio (TTR): 0.6272401433691757\n",
            "Unique words (Types): ['21', 'Angela', 'Brother', 'Enchanting', 'Every', 'Fairies,', 'Folktales', 'Gods', 'Gods:', 'Grimm', 'Hood”', 'In', 'Kim', 'Kim,', 'Korea', 'Korean', 'Korean-style', 'Lee-Smith', 'Mimi', 'Moon,”', 'Red', 'Riding', 'She', 'Students', 'Sun', 'That', 'The', 'They', 'Tigers,', 'University,', 'WashU', 'Yale', 'a', 'about', 'an', 'and', 'animation.', 'are', 'as', 'asks', 'at', 'backdrop', 'be', 'between', 'book', 'brother', 'brothers’', 'challenging', 'classroom.', 'clothing', 'co-author', 'co-author,', 'commonalities', 'communities.”', 'comparison', 'context,', 'cross-cultural', 'cues', 'cultural', 'developing', 'diction', 'differences', 'discussions', 'done', 'echoes', 'education,', 'effective', 'encounter', 'engage', 'evocative', 'evoke', 'exactly', 'example,', 'folktales', 'folktales.', 'for', 'from', 'gain', 'get', 'grew', 'her', 'hope', 'humanities', 'idea.\\\\n', 'illustrations', 'in', 'increasingly', 'into', 'is', 'just', 'key', 'kind', 'knowledge.', 'language', 'language,', 'learning', 'learning.', 'levels', 'linguistic', 'literacy', 'literacy.\\\\n', 'make', 'might', 'more', 'mother’s', 'natural', 'needed', 'new', 'object,', 'of', 'our', 'out', 'own', 'perspectives.', 'practices', 'professor', 'progress', 'provide', 'put', 'readers', 'really', 'rich', 'richer', 'says', 'says.', 'scene', 'sees', 'semester,', 'she', 'similarities,”', 'sister', 'so', 'springboard', 'stories', 'students', 'students.”', 'students’', 'style', 'tales.', 'teaching', 'textbook', 'that', 'the', 'their', 'they', 'through', 'tiger', 'to', 'together', 'tool', 'understanding', 'unusually', 'up', 'use', 'useful', 'uses', 'very', 'vibrant', 'visual', 'vocabulary', 'was', 'way', 'we', 'what', 'while', 'who', 'with', 'work.', 'write', 'you', '“By', '“Folktales', '“Little', '“Sister', '“rich']\n",
            "Tokens: ['Mimi', 'Kim,', 'teaching', 'professor', 'of', 'Korean', 'language,', 'is', 'the', 'co-author', 'of', 'a', 'new', 'Korean', 'language', 'textbook', 'that', 'uses', 'folktales', 'as', 'a', 'springboard', 'for', 'language', 'learning.', 'The', '21', 'stories', 'that', 'make', 'up', 'Tigers,', 'Fairies,', 'and', 'Gods:', 'Enchanting', 'Folktales', 'from', 'Korea', 'progress', 'through', 'increasingly', 'challenging', 'levels', 'of', 'diction', 'and', 'vocabulary', 'while', 'developing', 'students’', 'cultural', 'literacy.\\\\n', 'Every', 'semester,', 'Mimi', 'Kim', 'asks', 'her', 'Korean', 'language', 'students', 'at', 'WashU', 'to', 'write', 'their', 'own', 'Korean-style', 'folktales.', 'She', 'says', 'that', 'folktales', 'are', '“rich', 'in', 'cultural', 'context,', 'and', 'so', 'they', 'provide', 'a', 'very', 'effective', 'backdrop', 'for', 'discussions', 'about', 'cultural', 'practices', 'and', 'perspectives.', 'Students', 'really', 'get', 'into', 'our', 'discussions', 'about', 'commonalities', 'and', 'differences', 'between', 'Korean', 'folktales', 'and', 'the', 'stories', 'that', 'they', 'grew', 'up', 'with', 'in', 'their', 'own', 'communities.”', 'Kim', 'sees', 'cultural', 'literacy', 'as', 'a', 'key', 'tool', 'for', 'the', 'language', 'classroom.', 'Tigers,', 'Fairies,', 'and', 'Gods', 'grew', 'out', 'of', 'that', 'idea.\\\\n', 'The', 'book', 'is', 'an', 'unusually', 'rich', 'visual', 'object,', 'with', 'vibrant', 'illustrations', 'done', 'in', 'a', 'style', 'that', 'is', 'evocative', 'of', 'Korean', 'animation.', 'Kim', 'and', 'her', 'co-author,', 'Angela', 'Lee-Smith', 'of', 'Yale', 'University,', 'use', 'visual', 'and', 'linguistic', 'cues', 'to', 'engage', 'with', 'students’', 'cultural', 'knowledge.', 'In', '“Sister', 'Sun', 'and', 'Brother', 'Moon,”', 'for', 'example,', 'a', 'brother', 'and', 'sister', 'encounter', 'a', 'tiger', 'in', 'their', 'mother’s', 'clothing', 'in', 'a', 'scene', 'that', 'might', 'evoke', 'echoes', 'of', '“Little', 'Red', 'Riding', 'Hood”', 'for', 'readers', 'who', 'grew', 'up', 'with', 'the', 'Grimm', 'brothers’', 'tales.', 'That', 'kind', 'of', 'cross-cultural', 'comparison', 'is', 'exactly', 'what', 'we', 'hope', 'for', 'in', 'humanities', 'education,', 'Kim', 'says.', '“By', 'learning', 'a', 'new', 'language', 'you', 'gain', 'a', 'richer', 'understanding', 'of', 'cultural', 'differences', 'and', 'similarities,”', 'she', 'says.', '“Folktales', 'are', 'a', 'natural', 'tool', 'for', 'that', 'work.', 'They', 'just', 'needed', 'to', 'be', 'put', 'together', 'in', 'a', 'way', 'that', 'was', 'more', 'useful', 'for', 'students.”']\n"
          ]
        }
      ]
    },
    {
      "cell_type": "code",
      "source": [
        "from IPython.display import display\n",
        "import ipywidgets as widgets\n",
        "import requests\n",
        "\n",
        "def on_button_click(button):\n",
        "    sn = int(button.description) - 1\n",
        "    image.value = requests.get(urls[sn]).content\n",
        "\n",
        "urls = [ \"https://raw.githubusercontent.com/junkyuhufs/workshop/main/slide.07.png\",\n",
        "         \"https://raw.githubusercontent.com/junkyuhufs/workshop/main/slide.08.png\",\n",
        "         \"https://raw.githubusercontent.com/junkyuhufs/workshop/main/slide.11.png\"\n",
        "]\n",
        "\n",
        "button_layout = widgets.Layout(width='50px', height='30px')\n",
        "\n",
        "buttons = [widgets.Button(description=str(i), layout=button_layout) for i in range(1, 4)]\n",
        "for button in buttons:\n",
        "    button.on_click(on_button_click)\n",
        "\n",
        "image = widgets.Image(value=requests.get(urls[0]).content, width=\"700\", height=\"600\")\n",
        "\n",
        "display(widgets.HBox([image, widgets.VBox(buttons)]))"
      ],
      "metadata": {
        "collapsed": true,
        "id": "XSn6cWK9gAvj",
        "outputId": "6acf20b2-bbb1-4159-c810-607f7786ee3e",
        "colab": {
          "base_uri": "https://localhost:8080/",
          "height": 415,
          "referenced_widgets": [
            "e502bb7a682f4e2da2451fa99cb32e17",
            "05b56cd805a444a28c26d5fe8977b16b",
            "beccda87e0664955bf86a23ea57c5927",
            "f6edea33209c4d96a5f6828d8f4677c6",
            "64e24573bf0d41bf8290247e6f879835",
            "8060e9bda7324c2eb623a195c849ed3a",
            "42df68578b2c47b7892aa7599eb7abcf",
            "1125abc057cf4a68b959b8f74b2ee2f2",
            "ea6912c203a746ffbc7ac6c7c7c29ec9",
            "9228a808cf304320aa16e9935777cb4b",
            "b3db6a70f4d046c496e053a4462a894c",
            "6358f4d7149b4ab4b8b7f573e1dbb656",
            "e0ddc82f6afd4d94922735c8b33ce702"
          ]
        }
      },
      "execution_count": 18,
      "outputs": [
        {
          "output_type": "display_data",
          "data": {
            "text/plain": [
              "HBox(children=(Image(value=b'\\x89PNG\\r\\n\\x1a\\n\\x00\\x00\\x00\\rIHDR\\x00\\x00\\x03+\\x00\\x00\\x01\\xc8\\x08\\x06\\x00\\x00\\…"
            ],
            "application/vnd.jupyter.widget-view+json": {
              "version_major": 2,
              "version_minor": 0,
              "model_id": "e502bb7a682f4e2da2451fa99cb32e17"
            }
          },
          "metadata": {}
        }
      ]
    },
    {
      "cell_type": "code",
      "source": [
        "!pip install nltk\n",
        "import nltk\n",
        "nltk.download('punkt')"
      ],
      "metadata": {
        "collapsed": true,
        "id": "_PjpB9WwgGuf",
        "outputId": "4e4ad940-bf2a-4298-d764-f86bd4959c97",
        "colab": {
          "base_uri": "https://localhost:8080/"
        }
      },
      "execution_count": 19,
      "outputs": [
        {
          "output_type": "stream",
          "name": "stdout",
          "text": [
            "\u001b[31mERROR: Operation cancelled by user\u001b[0m\u001b[31m\n",
            "\u001b[0mTraceback (most recent call last):\n",
            "  File \"/usr/local/lib/python3.10/dist-packages/pip/_vendor/pkg_resources/__init__.py\", line 3108, in _dep_map\n",
            "    return self.__dep_map\n",
            "  File \"/usr/local/lib/python3.10/dist-packages/pip/_vendor/pkg_resources/__init__.py\", line 2901, in __getattr__\n",
            "    raise AttributeError(attr)\n",
            "AttributeError: _DistInfoDistribution__dep_map\n",
            "\n",
            "During handling of the above exception, another exception occurred:\n",
            "\n",
            "Traceback (most recent call last):\n",
            "  File \"/usr/local/lib/python3.10/dist-packages/pip/_internal/cli/base_command.py\", line 169, in exc_logging_wrapper\n",
            "    status = run_func(*args)\n",
            "  File \"/usr/local/lib/python3.10/dist-packages/pip/_internal/cli/req_command.py\", line 242, in wrapper\n",
            "    return func(self, options, args)\n",
            "  File \"/usr/local/lib/python3.10/dist-packages/pip/_internal/commands/install.py\", line 441, in run\n",
            "    conflicts = self._determine_conflicts(to_install)\n",
            "  File \"/usr/local/lib/python3.10/dist-packages/pip/_internal/commands/install.py\", line 572, in _determine_conflicts\n",
            "    return check_install_conflicts(to_install)\n",
            "  File \"/usr/local/lib/python3.10/dist-packages/pip/_internal/operations/check.py\", line 101, in check_install_conflicts\n",
            "    package_set, _ = create_package_set_from_installed()\n",
            "  File \"/usr/local/lib/python3.10/dist-packages/pip/_internal/operations/check.py\", line 42, in create_package_set_from_installed\n",
            "    dependencies = list(dist.iter_dependencies())\n",
            "  File \"/usr/local/lib/python3.10/dist-packages/pip/_internal/metadata/pkg_resources.py\", line 216, in iter_dependencies\n",
            "    return self._dist.requires(extras)\n",
            "  File \"/usr/local/lib/python3.10/dist-packages/pip/_vendor/pkg_resources/__init__.py\", line 2821, in requires\n",
            "    dm = self._dep_map\n",
            "  File \"/usr/local/lib/python3.10/dist-packages/pip/_vendor/pkg_resources/__init__.py\", line 3110, in _dep_map\n",
            "    self.__dep_map = self._compute_dependencies()\n",
            "  File \"/usr/local/lib/python3.10/dist-packages/pip/_vendor/pkg_resources/__init__.py\", line 3120, in _compute_dependencies\n",
            "    reqs.extend(parse_requirements(req))\n",
            "  File \"/usr/local/lib/python3.10/dist-packages/pip/_vendor/pkg_resources/__init__.py\", line 3173, in __init__\n",
            "    super(Requirement, self).__init__(requirement_string)\n",
            "  File \"/usr/local/lib/python3.10/dist-packages/pip/_vendor/packaging/requirements.py\", line 102, in __init__\n",
            "    req = REQUIREMENT.parseString(requirement_string)\n",
            "  File \"/usr/local/lib/python3.10/dist-packages/pip/_vendor/pyparsing/core.py\", line 1131, in parse_string\n",
            "    loc, tokens = self._parse(instring, 0)\n",
            "  File \"/usr/local/lib/python3.10/dist-packages/pip/_vendor/pyparsing/core.py\", line 817, in _parseNoCache\n",
            "    loc, tokens = self.parseImpl(instring, pre_loc, doActions)\n",
            "  File \"/usr/local/lib/python3.10/dist-packages/pip/_vendor/pyparsing/core.py\", line 3886, in parseImpl\n",
            "    loc, exprtokens = e._parse(instring, loc, doActions)\n",
            "  File \"/usr/local/lib/python3.10/dist-packages/pip/_vendor/pyparsing/core.py\", line 825, in _parseNoCache\n",
            "    ret_tokens = ParseResults(\n",
            "  File \"/usr/local/lib/python3.10/dist-packages/pip/_vendor/pyparsing/results.py\", line 159, in __init__\n",
            "    def __init__(\n",
            "KeyboardInterrupt\n",
            "\n",
            "During handling of the above exception, another exception occurred:\n",
            "\n",
            "Traceback (most recent call last):\n",
            "  File \"/usr/local/bin/pip3\", line 8, in <module>\n",
            "    sys.exit(main())\n",
            "  File \"/usr/local/lib/python3.10/dist-packages/pip/_internal/cli/main.py\", line 79, in main\n",
            "    return command.main(cmd_args)\n",
            "  File \"/usr/local/lib/python3.10/dist-packages/pip/_internal/cli/base_command.py\", line 101, in main\n",
            "    return self._main(args)\n",
            "  File \"/usr/local/lib/python3.10/dist-packages/pip/_internal/cli/base_command.py\", line 223, in _main\n",
            "    return run(options, args)\n",
            "  File \"/usr/local/lib/python3.10/dist-packages/pip/_internal/cli/base_command.py\", line 206, in exc_logging_wrapper\n",
            "    logger.critical(\"Operation cancelled by user\")\n",
            "  File \"/usr/lib/python3.10/logging/__init__.py\", line 1524, in critical\n",
            "    self._log(CRITICAL, msg, args, **kwargs)\n",
            "  File \"/usr/lib/python3.10/logging/__init__.py\", line 1624, in _log\n",
            "    self.handle(record)\n",
            "  File \"/usr/lib/python3.10/logging/__init__.py\", line 1634, in handle\n",
            "    self.callHandlers(record)\n",
            "  File \"/usr/lib/python3.10/logging/__init__.py\", line -1, in callHandlers\n",
            "KeyboardInterrupt\n",
            "^C\n"
          ]
        },
        {
          "output_type": "stream",
          "name": "stderr",
          "text": [
            "[nltk_data] Downloading package punkt to /root/nltk_data...\n",
            "[nltk_data]   Package punkt is already up-to-date!\n"
          ]
        },
        {
          "output_type": "execute_result",
          "data": {
            "text/plain": [
              "True"
            ]
          },
          "metadata": {},
          "execution_count": 19
        }
      ]
    },
    {
      "cell_type": "code",
      "source": [
        "message = \"I'm actively looking for Ph.D. students, \\\n",
        "and you are a Ph.D student. \\\n",
        "Visit IP 192.168.56.31 \\\n",
        "and send the results to my email account. \\\n",
        "It's python@gmail.com.\"\n",
        "\n",
        "from nltk.tokenize import sent_tokenize\n",
        "sentence = sent_tokenize(message)\n",
        "print('문장 토큰화: %s' %sentence)"
      ],
      "metadata": {
        "collapsed": true,
        "id": "c2MFR7UZgIwl",
        "outputId": "ab26e43e-58a6-49b4-cbfd-4f5e9c9a9418",
        "colab": {
          "base_uri": "https://localhost:8080/"
        }
      },
      "execution_count": 20,
      "outputs": [
        {
          "output_type": "stream",
          "name": "stdout",
          "text": [
            "문장 토큰화: [\"I'm actively looking for Ph.D. students, and you are a Ph.D student.\", 'Visit IP 192.168.56.31 and send the results to my email account.', \"It's python@gmail.com.\"]\n"
          ]
        }
      ]
    },
    {
      "cell_type": "code",
      "source": [
        "!pip install nltk\n",
        "import nltk\n",
        "nltk.download('punkt')\n",
        "\n",
        "text = open ('/content/text_symbol_sample.txt')\n",
        "temp = text.read()\n",
        "obj = temp.replace('\\n', ' ')"
      ],
      "metadata": {
        "collapsed": true,
        "id": "pfhMZL2-gMNj",
        "outputId": "bbe4fad5-1bd3-4389-b1d5-fabc9956cb70",
        "colab": {
          "base_uri": "https://localhost:8080/",
          "height": 352
        }
      },
      "execution_count": 21,
      "outputs": [
        {
          "output_type": "stream",
          "name": "stdout",
          "text": [
            "Requirement already satisfied: nltk in /usr/local/lib/python3.10/dist-packages (3.8.1)\n",
            "Requirement already satisfied: click in /usr/local/lib/python3.10/dist-packages (from nltk) (8.1.7)\n",
            "Requirement already satisfied: joblib in /usr/local/lib/python3.10/dist-packages (from nltk) (1.4.2)\n",
            "Requirement already satisfied: regex>=2021.8.3 in /usr/local/lib/python3.10/dist-packages (from nltk) (2024.5.15)\n",
            "Requirement already satisfied: tqdm in /usr/local/lib/python3.10/dist-packages (from nltk) (4.66.4)\n"
          ]
        },
        {
          "output_type": "stream",
          "name": "stderr",
          "text": [
            "[nltk_data] Downloading package punkt to /root/nltk_data...\n",
            "[nltk_data]   Package punkt is already up-to-date!\n"
          ]
        },
        {
          "output_type": "error",
          "ename": "FileNotFoundError",
          "evalue": "[Errno 2] No such file or directory: '/content/text_symbol_sample.txt'",
          "traceback": [
            "\u001b[0;31m---------------------------------------------------------------------------\u001b[0m",
            "\u001b[0;31mFileNotFoundError\u001b[0m                         Traceback (most recent call last)",
            "\u001b[0;32m<ipython-input-21-a666e196f32d>\u001b[0m in \u001b[0;36m<cell line: 5>\u001b[0;34m()\u001b[0m\n\u001b[1;32m      3\u001b[0m \u001b[0mnltk\u001b[0m\u001b[0;34m.\u001b[0m\u001b[0mdownload\u001b[0m\u001b[0;34m(\u001b[0m\u001b[0;34m'punkt'\u001b[0m\u001b[0;34m)\u001b[0m\u001b[0;34m\u001b[0m\u001b[0;34m\u001b[0m\u001b[0m\n\u001b[1;32m      4\u001b[0m \u001b[0;34m\u001b[0m\u001b[0m\n\u001b[0;32m----> 5\u001b[0;31m \u001b[0mtext\u001b[0m \u001b[0;34m=\u001b[0m \u001b[0mopen\u001b[0m \u001b[0;34m(\u001b[0m\u001b[0;34m'/content/text_symbol_sample.txt'\u001b[0m\u001b[0;34m)\u001b[0m\u001b[0;34m\u001b[0m\u001b[0;34m\u001b[0m\u001b[0m\n\u001b[0m\u001b[1;32m      6\u001b[0m \u001b[0mtemp\u001b[0m \u001b[0;34m=\u001b[0m \u001b[0mtext\u001b[0m\u001b[0;34m.\u001b[0m\u001b[0mread\u001b[0m\u001b[0;34m(\u001b[0m\u001b[0;34m)\u001b[0m\u001b[0;34m\u001b[0m\u001b[0;34m\u001b[0m\u001b[0m\n\u001b[1;32m      7\u001b[0m \u001b[0mobj\u001b[0m \u001b[0;34m=\u001b[0m \u001b[0mtemp\u001b[0m\u001b[0;34m.\u001b[0m\u001b[0mreplace\u001b[0m\u001b[0;34m(\u001b[0m\u001b[0;34m'\\n'\u001b[0m\u001b[0;34m,\u001b[0m \u001b[0;34m' '\u001b[0m\u001b[0;34m)\u001b[0m\u001b[0;34m\u001b[0m\u001b[0;34m\u001b[0m\u001b[0m\n",
            "\u001b[0;31mFileNotFoundError\u001b[0m: [Errno 2] No such file or directory: '/content/text_symbol_sample.txt'"
          ]
        }
      ]
    },
    {
      "cell_type": "code",
      "source": [
        "print (obj)"
      ],
      "metadata": {
        "id": "4DPqxpIwgOAi"
      },
      "execution_count": null,
      "outputs": []
    },
    {
      "cell_type": "code",
      "source": [
        "obj.split()"
      ],
      "metadata": {
        "collapsed": true,
        "id": "DVPS6dGtgQWf",
        "outputId": "36c8f664-9443-4478-85cd-2a8b71089d18",
        "colab": {
          "base_uri": "https://localhost:8080/",
          "height": 141
        }
      },
      "execution_count": 22,
      "outputs": [
        {
          "output_type": "error",
          "ename": "NameError",
          "evalue": "name 'obj' is not defined",
          "traceback": [
            "\u001b[0;31m---------------------------------------------------------------------------\u001b[0m",
            "\u001b[0;31mNameError\u001b[0m                                 Traceback (most recent call last)",
            "\u001b[0;32m<ipython-input-22-049aa0a30fc2>\u001b[0m in \u001b[0;36m<cell line: 1>\u001b[0;34m()\u001b[0m\n\u001b[0;32m----> 1\u001b[0;31m \u001b[0mobj\u001b[0m\u001b[0;34m.\u001b[0m\u001b[0msplit\u001b[0m\u001b[0;34m(\u001b[0m\u001b[0;34m)\u001b[0m\u001b[0;34m\u001b[0m\u001b[0;34m\u001b[0m\u001b[0m\n\u001b[0m",
            "\u001b[0;31mNameError\u001b[0m: name 'obj' is not defined"
          ]
        }
      ]
    },
    {
      "cell_type": "code",
      "source": [
        "text = open('/content/text_symbol_sample.txt','rt')\n",
        "obj = text.read().replace(\"\\n\", \" \")\n",
        "obj.split()"
      ],
      "metadata": {
        "collapsed": true,
        "id": "5aSxZOVngS8_",
        "outputId": "f45c7664-b2fc-4280-ef2f-792b8c75129a",
        "colab": {
          "base_uri": "https://localhost:8080/",
          "height": 176
        }
      },
      "execution_count": 23,
      "outputs": [
        {
          "output_type": "error",
          "ename": "FileNotFoundError",
          "evalue": "[Errno 2] No such file or directory: '/content/text_symbol_sample.txt'",
          "traceback": [
            "\u001b[0;31m---------------------------------------------------------------------------\u001b[0m",
            "\u001b[0;31mFileNotFoundError\u001b[0m                         Traceback (most recent call last)",
            "\u001b[0;32m<ipython-input-23-ba5190476006>\u001b[0m in \u001b[0;36m<cell line: 1>\u001b[0;34m()\u001b[0m\n\u001b[0;32m----> 1\u001b[0;31m \u001b[0mtext\u001b[0m \u001b[0;34m=\u001b[0m \u001b[0mopen\u001b[0m\u001b[0;34m(\u001b[0m\u001b[0;34m'/content/text_symbol_sample.txt'\u001b[0m\u001b[0;34m,\u001b[0m\u001b[0;34m'rt'\u001b[0m\u001b[0;34m)\u001b[0m\u001b[0;34m\u001b[0m\u001b[0;34m\u001b[0m\u001b[0m\n\u001b[0m\u001b[1;32m      2\u001b[0m \u001b[0mobj\u001b[0m \u001b[0;34m=\u001b[0m \u001b[0mtext\u001b[0m\u001b[0;34m.\u001b[0m\u001b[0mread\u001b[0m\u001b[0;34m(\u001b[0m\u001b[0;34m)\u001b[0m\u001b[0;34m.\u001b[0m\u001b[0mreplace\u001b[0m\u001b[0;34m(\u001b[0m\u001b[0;34m\"\\n\"\u001b[0m\u001b[0;34m,\u001b[0m \u001b[0;34m\" \"\u001b[0m\u001b[0;34m)\u001b[0m\u001b[0;34m\u001b[0m\u001b[0;34m\u001b[0m\u001b[0m\n\u001b[1;32m      3\u001b[0m \u001b[0mobj\u001b[0m\u001b[0;34m.\u001b[0m\u001b[0msplit\u001b[0m\u001b[0;34m(\u001b[0m\u001b[0;34m)\u001b[0m\u001b[0;34m\u001b[0m\u001b[0;34m\u001b[0m\u001b[0m\n",
            "\u001b[0;31mFileNotFoundError\u001b[0m: [Errno 2] No such file or directory: '/content/text_symbol_sample.txt'"
          ]
        }
      ]
    },
    {
      "cell_type": "code",
      "source": [
        "!pip install nltk\n",
        "from nltk.tokenize import word_tokenize\n",
        "import nltk\n",
        "nltk.download('punkt')\n",
        "\n",
        "print('Tokenizing Word and Punctuation:',word_tokenize(obj))"
      ],
      "metadata": {
        "collapsed": true,
        "id": "LKzDtIxUgV-a",
        "outputId": "b95727b5-b090-49e1-e6af-6c79624af1ca",
        "colab": {
          "base_uri": "https://localhost:8080/",
          "height": 317
        }
      },
      "execution_count": 24,
      "outputs": [
        {
          "output_type": "stream",
          "name": "stdout",
          "text": [
            "Requirement already satisfied: nltk in /usr/local/lib/python3.10/dist-packages (3.8.1)\n",
            "Requirement already satisfied: click in /usr/local/lib/python3.10/dist-packages (from nltk) (8.1.7)\n",
            "Requirement already satisfied: joblib in /usr/local/lib/python3.10/dist-packages (from nltk) (1.4.2)\n",
            "Requirement already satisfied: regex>=2021.8.3 in /usr/local/lib/python3.10/dist-packages (from nltk) (2024.5.15)\n",
            "Requirement already satisfied: tqdm in /usr/local/lib/python3.10/dist-packages (from nltk) (4.66.4)\n"
          ]
        },
        {
          "output_type": "stream",
          "name": "stderr",
          "text": [
            "[nltk_data] Downloading package punkt to /root/nltk_data...\n",
            "[nltk_data]   Package punkt is already up-to-date!\n"
          ]
        },
        {
          "output_type": "error",
          "ename": "NameError",
          "evalue": "name 'obj' is not defined",
          "traceback": [
            "\u001b[0;31m---------------------------------------------------------------------------\u001b[0m",
            "\u001b[0;31mNameError\u001b[0m                                 Traceback (most recent call last)",
            "\u001b[0;32m<ipython-input-24-9dae283540fc>\u001b[0m in \u001b[0;36m<cell line: 6>\u001b[0;34m()\u001b[0m\n\u001b[1;32m      4\u001b[0m \u001b[0mnltk\u001b[0m\u001b[0;34m.\u001b[0m\u001b[0mdownload\u001b[0m\u001b[0;34m(\u001b[0m\u001b[0;34m'punkt'\u001b[0m\u001b[0;34m)\u001b[0m\u001b[0;34m\u001b[0m\u001b[0;34m\u001b[0m\u001b[0m\n\u001b[1;32m      5\u001b[0m \u001b[0;34m\u001b[0m\u001b[0m\n\u001b[0;32m----> 6\u001b[0;31m \u001b[0mprint\u001b[0m\u001b[0;34m(\u001b[0m\u001b[0;34m'Tokenizing Word and Punctuation:'\u001b[0m\u001b[0;34m,\u001b[0m\u001b[0mword_tokenize\u001b[0m\u001b[0;34m(\u001b[0m\u001b[0mobj\u001b[0m\u001b[0;34m)\u001b[0m\u001b[0;34m)\u001b[0m\u001b[0;34m\u001b[0m\u001b[0;34m\u001b[0m\u001b[0m\n\u001b[0m",
            "\u001b[0;31mNameError\u001b[0m: name 'obj' is not defined"
          ]
        }
      ]
    },
    {
      "cell_type": "code",
      "source": [
        "from nltk.tokenize import word_tokenize\n",
        "import nltk\n",
        "nltk.download('punkt')\n",
        "result2 = word_tokenize(obj)\n",
        "\n",
        "print('Tokenizing Word and Punctuation: %s' %result2)"
      ],
      "metadata": {
        "id": "2necZLSGgX7Z"
      },
      "execution_count": null,
      "outputs": []
    },
    {
      "cell_type": "code",
      "source": [
        "from nltk.tokenize import WordPunctTokenizer\n",
        "\n",
        "print('Tokenizing Words and Punctuations:', WordPunctTokenizer().tokenize(obj))"
      ],
      "metadata": {
        "collapsed": true,
        "id": "FMzwWafygZCy",
        "outputId": "f5c3c2e2-78c0-4e67-d800-085ef56d23c3",
        "colab": {
          "base_uri": "https://localhost:8080/",
          "height": 176
        }
      },
      "execution_count": 25,
      "outputs": [
        {
          "output_type": "error",
          "ename": "NameError",
          "evalue": "name 'obj' is not defined",
          "traceback": [
            "\u001b[0;31m---------------------------------------------------------------------------\u001b[0m",
            "\u001b[0;31mNameError\u001b[0m                                 Traceback (most recent call last)",
            "\u001b[0;32m<ipython-input-25-4046175aa295>\u001b[0m in \u001b[0;36m<cell line: 3>\u001b[0;34m()\u001b[0m\n\u001b[1;32m      1\u001b[0m \u001b[0;32mfrom\u001b[0m \u001b[0mnltk\u001b[0m\u001b[0;34m.\u001b[0m\u001b[0mtokenize\u001b[0m \u001b[0;32mimport\u001b[0m \u001b[0mWordPunctTokenizer\u001b[0m\u001b[0;34m\u001b[0m\u001b[0;34m\u001b[0m\u001b[0m\n\u001b[1;32m      2\u001b[0m \u001b[0;34m\u001b[0m\u001b[0m\n\u001b[0;32m----> 3\u001b[0;31m \u001b[0mprint\u001b[0m\u001b[0;34m(\u001b[0m\u001b[0;34m'Tokenizing Words and Punctuations:'\u001b[0m\u001b[0;34m,\u001b[0m \u001b[0mWordPunctTokenizer\u001b[0m\u001b[0;34m(\u001b[0m\u001b[0;34m)\u001b[0m\u001b[0;34m.\u001b[0m\u001b[0mtokenize\u001b[0m\u001b[0;34m(\u001b[0m\u001b[0mobj\u001b[0m\u001b[0;34m)\u001b[0m\u001b[0;34m)\u001b[0m\u001b[0;34m\u001b[0m\u001b[0;34m\u001b[0m\u001b[0m\n\u001b[0m",
            "\u001b[0;31mNameError\u001b[0m: name 'obj' is not defined"
          ]
        }
      ]
    },
    {
      "cell_type": "code",
      "source": [
        "from nltk.tokenize import WordPunctTokenizer\n",
        "result3 = WordPunctTokenizer().tokenize(obj)\n",
        "\n",
        "print('Tokenizing Words and Punctuations: %s' %result3)"
      ],
      "metadata": {
        "collapsed": true,
        "id": "QyQ40sW6gd61",
        "outputId": "a7428614-2125-4af9-a42f-b4aa1bf72221",
        "colab": {
          "base_uri": "https://localhost:8080/",
          "height": 193
        }
      },
      "execution_count": 26,
      "outputs": [
        {
          "output_type": "error",
          "ename": "NameError",
          "evalue": "name 'obj' is not defined",
          "traceback": [
            "\u001b[0;31m---------------------------------------------------------------------------\u001b[0m",
            "\u001b[0;31mNameError\u001b[0m                                 Traceback (most recent call last)",
            "\u001b[0;32m<ipython-input-26-c633d67d57f1>\u001b[0m in \u001b[0;36m<cell line: 2>\u001b[0;34m()\u001b[0m\n\u001b[1;32m      1\u001b[0m \u001b[0;32mfrom\u001b[0m \u001b[0mnltk\u001b[0m\u001b[0;34m.\u001b[0m\u001b[0mtokenize\u001b[0m \u001b[0;32mimport\u001b[0m \u001b[0mWordPunctTokenizer\u001b[0m\u001b[0;34m\u001b[0m\u001b[0;34m\u001b[0m\u001b[0m\n\u001b[0;32m----> 2\u001b[0;31m \u001b[0mresult3\u001b[0m \u001b[0;34m=\u001b[0m \u001b[0mWordPunctTokenizer\u001b[0m\u001b[0;34m(\u001b[0m\u001b[0;34m)\u001b[0m\u001b[0;34m.\u001b[0m\u001b[0mtokenize\u001b[0m\u001b[0;34m(\u001b[0m\u001b[0mobj\u001b[0m\u001b[0;34m)\u001b[0m\u001b[0;34m\u001b[0m\u001b[0;34m\u001b[0m\u001b[0m\n\u001b[0m\u001b[1;32m      3\u001b[0m \u001b[0;34m\u001b[0m\u001b[0m\n\u001b[1;32m      4\u001b[0m \u001b[0mprint\u001b[0m\u001b[0;34m(\u001b[0m\u001b[0;34m'Tokenizing Words and Punctuations: %s'\u001b[0m \u001b[0;34m%\u001b[0m\u001b[0mresult3\u001b[0m\u001b[0;34m)\u001b[0m\u001b[0;34m\u001b[0m\u001b[0;34m\u001b[0m\u001b[0m\n",
            "\u001b[0;31mNameError\u001b[0m: name 'obj' is not defined"
          ]
        }
      ]
    },
    {
      "cell_type": "code",
      "source": [
        "from tensorflow.keras.preprocessing.text import text_to_word_sequence\n",
        "\n",
        "print('Tokenizing Words after Cleaning Punctuations:', text_to_word_sequence(obj))"
      ],
      "metadata": {
        "collapsed": true,
        "id": "CfPGjNdvgffU",
        "outputId": "7177133f-9b5b-471e-b109-3b7c2f16d1c7",
        "colab": {
          "base_uri": "https://localhost:8080/",
          "height": 176
        }
      },
      "execution_count": 27,
      "outputs": [
        {
          "output_type": "error",
          "ename": "NameError",
          "evalue": "name 'obj' is not defined",
          "traceback": [
            "\u001b[0;31m---------------------------------------------------------------------------\u001b[0m",
            "\u001b[0;31mNameError\u001b[0m                                 Traceback (most recent call last)",
            "\u001b[0;32m<ipython-input-27-9544d50883f3>\u001b[0m in \u001b[0;36m<cell line: 3>\u001b[0;34m()\u001b[0m\n\u001b[1;32m      1\u001b[0m \u001b[0;32mfrom\u001b[0m \u001b[0mtensorflow\u001b[0m\u001b[0;34m.\u001b[0m\u001b[0mkeras\u001b[0m\u001b[0;34m.\u001b[0m\u001b[0mpreprocessing\u001b[0m\u001b[0;34m.\u001b[0m\u001b[0mtext\u001b[0m \u001b[0;32mimport\u001b[0m \u001b[0mtext_to_word_sequence\u001b[0m\u001b[0;34m\u001b[0m\u001b[0;34m\u001b[0m\u001b[0m\n\u001b[1;32m      2\u001b[0m \u001b[0;34m\u001b[0m\u001b[0m\n\u001b[0;32m----> 3\u001b[0;31m \u001b[0mprint\u001b[0m\u001b[0;34m(\u001b[0m\u001b[0;34m'Tokenizing Words after Cleaning Punctuations:'\u001b[0m\u001b[0;34m,\u001b[0m \u001b[0mtext_to_word_sequence\u001b[0m\u001b[0;34m(\u001b[0m\u001b[0mobj\u001b[0m\u001b[0;34m)\u001b[0m\u001b[0;34m)\u001b[0m\u001b[0;34m\u001b[0m\u001b[0;34m\u001b[0m\u001b[0m\n\u001b[0m",
            "\u001b[0;31mNameError\u001b[0m: name 'obj' is not defined"
          ]
        }
      ]
    },
    {
      "cell_type": "code",
      "source": [
        "from tensorflow.keras.preprocessing.text import text_to_word_sequence\n",
        "result4 = text_to_word_sequence(obj)\n",
        "\n",
        "print('Tokenizing Words after Cleaning Punctuations: %s' %result4)"
      ],
      "metadata": {
        "id": "2J1xmaKbghHZ"
      },
      "execution_count": null,
      "outputs": []
    },
    {
      "cell_type": "code",
      "source": [
        "from nltk.stem import PorterStemmer\n",
        "from nltk.tokenize import word_tokenize\n",
        "\n",
        "stemmer = PorterStemmer()\n",
        "tokenized_sentence = word_tokenize(obj)\n",
        "\n",
        "[stemmer.stem(w) for w in tokenized_sentence]"
      ],
      "metadata": {
        "collapsed": true,
        "id": "Q6fVh3jQgkpb",
        "outputId": "b1cfe115-ee9e-4647-aaa9-850caa3676b0",
        "colab": {
          "base_uri": "https://localhost:8080/",
          "height": 211
        }
      },
      "execution_count": 28,
      "outputs": [
        {
          "output_type": "error",
          "ename": "NameError",
          "evalue": "name 'obj' is not defined",
          "traceback": [
            "\u001b[0;31m---------------------------------------------------------------------------\u001b[0m",
            "\u001b[0;31mNameError\u001b[0m                                 Traceback (most recent call last)",
            "\u001b[0;32m<ipython-input-28-ec3ffdfb7d88>\u001b[0m in \u001b[0;36m<cell line: 5>\u001b[0;34m()\u001b[0m\n\u001b[1;32m      3\u001b[0m \u001b[0;34m\u001b[0m\u001b[0m\n\u001b[1;32m      4\u001b[0m \u001b[0mstemmer\u001b[0m \u001b[0;34m=\u001b[0m \u001b[0mPorterStemmer\u001b[0m\u001b[0;34m(\u001b[0m\u001b[0;34m)\u001b[0m\u001b[0;34m\u001b[0m\u001b[0;34m\u001b[0m\u001b[0m\n\u001b[0;32m----> 5\u001b[0;31m \u001b[0mtokenized_sentence\u001b[0m \u001b[0;34m=\u001b[0m \u001b[0mword_tokenize\u001b[0m\u001b[0;34m(\u001b[0m\u001b[0mobj\u001b[0m\u001b[0;34m)\u001b[0m\u001b[0;34m\u001b[0m\u001b[0;34m\u001b[0m\u001b[0m\n\u001b[0m\u001b[1;32m      6\u001b[0m \u001b[0;34m\u001b[0m\u001b[0m\n\u001b[1;32m      7\u001b[0m \u001b[0;34m[\u001b[0m\u001b[0mstemmer\u001b[0m\u001b[0;34m.\u001b[0m\u001b[0mstem\u001b[0m\u001b[0;34m(\u001b[0m\u001b[0mw\u001b[0m\u001b[0;34m)\u001b[0m \u001b[0;32mfor\u001b[0m \u001b[0mw\u001b[0m \u001b[0;32min\u001b[0m \u001b[0mtokenized_sentence\u001b[0m\u001b[0;34m]\u001b[0m\u001b[0;34m\u001b[0m\u001b[0;34m\u001b[0m\u001b[0m\n",
            "\u001b[0;31mNameError\u001b[0m: name 'obj' is not defined"
          ]
        }
      ]
    },
    {
      "cell_type": "code",
      "source": [
        "from nltk.tokenize import RegexpTokenizer\n",
        "retokenize = RegexpTokenizer(\"[\\w]+\")\n",
        "result6 = retokenize.tokenize(obj)\n",
        "\n",
        "print('Tokenizing Words with RegexpTokenizer: %s' %result6)"
      ],
      "metadata": {
        "collapsed": true,
        "id": "rzrA3bnwgm_Z",
        "outputId": "e0ccc137-c791-418a-f57d-fb186061fe76",
        "colab": {
          "base_uri": "https://localhost:8080/",
          "height": 211
        }
      },
      "execution_count": 29,
      "outputs": [
        {
          "output_type": "error",
          "ename": "NameError",
          "evalue": "name 'obj' is not defined",
          "traceback": [
            "\u001b[0;31m---------------------------------------------------------------------------\u001b[0m",
            "\u001b[0;31mNameError\u001b[0m                                 Traceback (most recent call last)",
            "\u001b[0;32m<ipython-input-29-208bae3090d4>\u001b[0m in \u001b[0;36m<cell line: 3>\u001b[0;34m()\u001b[0m\n\u001b[1;32m      1\u001b[0m \u001b[0;32mfrom\u001b[0m \u001b[0mnltk\u001b[0m\u001b[0;34m.\u001b[0m\u001b[0mtokenize\u001b[0m \u001b[0;32mimport\u001b[0m \u001b[0mRegexpTokenizer\u001b[0m\u001b[0;34m\u001b[0m\u001b[0;34m\u001b[0m\u001b[0m\n\u001b[1;32m      2\u001b[0m \u001b[0mretokenize\u001b[0m \u001b[0;34m=\u001b[0m \u001b[0mRegexpTokenizer\u001b[0m\u001b[0;34m(\u001b[0m\u001b[0;34m\"[\\w]+\"\u001b[0m\u001b[0;34m)\u001b[0m\u001b[0;34m\u001b[0m\u001b[0;34m\u001b[0m\u001b[0m\n\u001b[0;32m----> 3\u001b[0;31m \u001b[0mresult6\u001b[0m \u001b[0;34m=\u001b[0m \u001b[0mretokenize\u001b[0m\u001b[0;34m.\u001b[0m\u001b[0mtokenize\u001b[0m\u001b[0;34m(\u001b[0m\u001b[0mobj\u001b[0m\u001b[0;34m)\u001b[0m\u001b[0;34m\u001b[0m\u001b[0;34m\u001b[0m\u001b[0m\n\u001b[0m\u001b[1;32m      4\u001b[0m \u001b[0;34m\u001b[0m\u001b[0m\n\u001b[1;32m      5\u001b[0m \u001b[0mprint\u001b[0m\u001b[0;34m(\u001b[0m\u001b[0;34m'Tokenizing Words with RegexpTokenizer: %s'\u001b[0m \u001b[0;34m%\u001b[0m\u001b[0mresult6\u001b[0m\u001b[0;34m)\u001b[0m\u001b[0;34m\u001b[0m\u001b[0;34m\u001b[0m\u001b[0m\n",
            "\u001b[0;31mNameError\u001b[0m: name 'obj' is not defined"
          ]
        }
      ]
    },
    {
      "cell_type": "code",
      "source": [
        "from nltk.tokenize import RegexpTokenizer\n",
        "retokenize = RegexpTokenizer(\"[\\w]+\")\n",
        "result7 = retokenize.tokenize(obj)\n",
        "\n",
        "from nltk.stem import LancasterStemmer\n",
        "stemmer = LancasterStemmer()\n",
        "[stemmer.stem(w) for w in result7]"
      ],
      "metadata": {
        "collapsed": true,
        "id": "szFx0wXegoPr",
        "outputId": "98d25c89-950b-49cb-9768-989fc2297cab",
        "colab": {
          "base_uri": "https://localhost:8080/",
          "height": 211
        }
      },
      "execution_count": 30,
      "outputs": [
        {
          "output_type": "error",
          "ename": "NameError",
          "evalue": "name 'obj' is not defined",
          "traceback": [
            "\u001b[0;31m---------------------------------------------------------------------------\u001b[0m",
            "\u001b[0;31mNameError\u001b[0m                                 Traceback (most recent call last)",
            "\u001b[0;32m<ipython-input-30-41de4d540869>\u001b[0m in \u001b[0;36m<cell line: 3>\u001b[0;34m()\u001b[0m\n\u001b[1;32m      1\u001b[0m \u001b[0;32mfrom\u001b[0m \u001b[0mnltk\u001b[0m\u001b[0;34m.\u001b[0m\u001b[0mtokenize\u001b[0m \u001b[0;32mimport\u001b[0m \u001b[0mRegexpTokenizer\u001b[0m\u001b[0;34m\u001b[0m\u001b[0;34m\u001b[0m\u001b[0m\n\u001b[1;32m      2\u001b[0m \u001b[0mretokenize\u001b[0m \u001b[0;34m=\u001b[0m \u001b[0mRegexpTokenizer\u001b[0m\u001b[0;34m(\u001b[0m\u001b[0;34m\"[\\w]+\"\u001b[0m\u001b[0;34m)\u001b[0m\u001b[0;34m\u001b[0m\u001b[0;34m\u001b[0m\u001b[0m\n\u001b[0;32m----> 3\u001b[0;31m \u001b[0mresult7\u001b[0m \u001b[0;34m=\u001b[0m \u001b[0mretokenize\u001b[0m\u001b[0;34m.\u001b[0m\u001b[0mtokenize\u001b[0m\u001b[0;34m(\u001b[0m\u001b[0mobj\u001b[0m\u001b[0;34m)\u001b[0m\u001b[0;34m\u001b[0m\u001b[0;34m\u001b[0m\u001b[0m\n\u001b[0m\u001b[1;32m      4\u001b[0m \u001b[0;34m\u001b[0m\u001b[0m\n\u001b[1;32m      5\u001b[0m \u001b[0;32mfrom\u001b[0m \u001b[0mnltk\u001b[0m\u001b[0;34m.\u001b[0m\u001b[0mstem\u001b[0m \u001b[0;32mimport\u001b[0m \u001b[0mLancasterStemmer\u001b[0m\u001b[0;34m\u001b[0m\u001b[0;34m\u001b[0m\u001b[0m\n",
            "\u001b[0;31mNameError\u001b[0m: name 'obj' is not defined"
          ]
        }
      ]
    },
    {
      "cell_type": "code",
      "source": [
        "from nltk.tokenize import RegexpTokenizer\n",
        "retokenize = RegexpTokenizer(\"[\\w]+\")\n",
        "result8 = retokenize.tokenize(obj)\n",
        "\n",
        "from nltk.stem import WordNetLemmatizer\n",
        "nltk.download('wordnet')\n",
        "lemmatizer = WordNetLemmatizer()\n",
        "[lemmatizer.lemmatize(w) for w in result8]"
      ],
      "metadata": {
        "collapsed": true,
        "id": "W7c7cguQgqJ5",
        "outputId": "3500ad1d-787b-4d7a-8503-571ac4894143",
        "colab": {
          "base_uri": "https://localhost:8080/",
          "height": 211
        }
      },
      "execution_count": 31,
      "outputs": [
        {
          "output_type": "error",
          "ename": "NameError",
          "evalue": "name 'obj' is not defined",
          "traceback": [
            "\u001b[0;31m---------------------------------------------------------------------------\u001b[0m",
            "\u001b[0;31mNameError\u001b[0m                                 Traceback (most recent call last)",
            "\u001b[0;32m<ipython-input-31-50622c743f0c>\u001b[0m in \u001b[0;36m<cell line: 3>\u001b[0;34m()\u001b[0m\n\u001b[1;32m      1\u001b[0m \u001b[0;32mfrom\u001b[0m \u001b[0mnltk\u001b[0m\u001b[0;34m.\u001b[0m\u001b[0mtokenize\u001b[0m \u001b[0;32mimport\u001b[0m \u001b[0mRegexpTokenizer\u001b[0m\u001b[0;34m\u001b[0m\u001b[0;34m\u001b[0m\u001b[0m\n\u001b[1;32m      2\u001b[0m \u001b[0mretokenize\u001b[0m \u001b[0;34m=\u001b[0m \u001b[0mRegexpTokenizer\u001b[0m\u001b[0;34m(\u001b[0m\u001b[0;34m\"[\\w]+\"\u001b[0m\u001b[0;34m)\u001b[0m\u001b[0;34m\u001b[0m\u001b[0;34m\u001b[0m\u001b[0m\n\u001b[0;32m----> 3\u001b[0;31m \u001b[0mresult8\u001b[0m \u001b[0;34m=\u001b[0m \u001b[0mretokenize\u001b[0m\u001b[0;34m.\u001b[0m\u001b[0mtokenize\u001b[0m\u001b[0;34m(\u001b[0m\u001b[0mobj\u001b[0m\u001b[0;34m)\u001b[0m\u001b[0;34m\u001b[0m\u001b[0;34m\u001b[0m\u001b[0m\n\u001b[0m\u001b[1;32m      4\u001b[0m \u001b[0;34m\u001b[0m\u001b[0m\n\u001b[1;32m      5\u001b[0m \u001b[0;32mfrom\u001b[0m \u001b[0mnltk\u001b[0m\u001b[0;34m.\u001b[0m\u001b[0mstem\u001b[0m \u001b[0;32mimport\u001b[0m \u001b[0mWordNetLemmatizer\u001b[0m\u001b[0;34m\u001b[0m\u001b[0;34m\u001b[0m\u001b[0m\n",
            "\u001b[0;31mNameError\u001b[0m: name 'obj' is not defined"
          ]
        }
      ]
    },
    {
      "cell_type": "code",
      "source": [
        "from nltk.tokenize import TreebankWordTokenizer\n",
        "tokenizer = TreebankWordTokenizer()\n",
        "Result = tokenizer.tokenize(obj)\n",
        "print('트리뱅크 워드토크나이저 : %s' %Result)"
      ],
      "metadata": {
        "collapsed": true,
        "id": "EktXpb63gr-1",
        "outputId": "c3101879-a584-4f77-9aa4-d090bd9f8e35",
        "colab": {
          "base_uri": "https://localhost:8080/",
          "height": 193
        }
      },
      "execution_count": 32,
      "outputs": [
        {
          "output_type": "error",
          "ename": "NameError",
          "evalue": "name 'obj' is not defined",
          "traceback": [
            "\u001b[0;31m---------------------------------------------------------------------------\u001b[0m",
            "\u001b[0;31mNameError\u001b[0m                                 Traceback (most recent call last)",
            "\u001b[0;32m<ipython-input-32-1cef7bdf99c2>\u001b[0m in \u001b[0;36m<cell line: 3>\u001b[0;34m()\u001b[0m\n\u001b[1;32m      1\u001b[0m \u001b[0;32mfrom\u001b[0m \u001b[0mnltk\u001b[0m\u001b[0;34m.\u001b[0m\u001b[0mtokenize\u001b[0m \u001b[0;32mimport\u001b[0m \u001b[0mTreebankWordTokenizer\u001b[0m\u001b[0;34m\u001b[0m\u001b[0;34m\u001b[0m\u001b[0m\n\u001b[1;32m      2\u001b[0m \u001b[0mtokenizer\u001b[0m \u001b[0;34m=\u001b[0m \u001b[0mTreebankWordTokenizer\u001b[0m\u001b[0;34m(\u001b[0m\u001b[0;34m)\u001b[0m\u001b[0;34m\u001b[0m\u001b[0;34m\u001b[0m\u001b[0m\n\u001b[0;32m----> 3\u001b[0;31m \u001b[0mResult\u001b[0m \u001b[0;34m=\u001b[0m \u001b[0mtokenizer\u001b[0m\u001b[0;34m.\u001b[0m\u001b[0mtokenize\u001b[0m\u001b[0;34m(\u001b[0m\u001b[0mobj\u001b[0m\u001b[0;34m)\u001b[0m\u001b[0;34m\u001b[0m\u001b[0;34m\u001b[0m\u001b[0m\n\u001b[0m\u001b[1;32m      4\u001b[0m \u001b[0mprint\u001b[0m\u001b[0;34m(\u001b[0m\u001b[0;34m'트리뱅크 워드토크나이저 : %s'\u001b[0m \u001b[0;34m%\u001b[0m\u001b[0mResult\u001b[0m\u001b[0;34m)\u001b[0m\u001b[0;34m\u001b[0m\u001b[0;34m\u001b[0m\u001b[0m\n",
            "\u001b[0;31mNameError\u001b[0m: name 'obj' is not defined"
          ]
        }
      ]
    },
    {
      "cell_type": "code",
      "source": [
        "!pip install nltk\n",
        "import nltk"
      ],
      "metadata": {
        "collapsed": true,
        "id": "eCO_85bcgt9R",
        "outputId": "0d9e427f-6664-4eee-c1f6-2779b7d76151",
        "colab": {
          "base_uri": "https://localhost:8080/"
        }
      },
      "execution_count": 33,
      "outputs": [
        {
          "output_type": "stream",
          "name": "stdout",
          "text": [
            "Requirement already satisfied: nltk in /usr/local/lib/python3.10/dist-packages (3.8.1)\n",
            "Requirement already satisfied: click in /usr/local/lib/python3.10/dist-packages (from nltk) (8.1.7)\n",
            "Requirement already satisfied: joblib in /usr/local/lib/python3.10/dist-packages (from nltk) (1.4.2)\n",
            "Requirement already satisfied: regex>=2021.8.3 in /usr/local/lib/python3.10/dist-packages (from nltk) (2024.5.15)\n",
            "Requirement already satisfied: tqdm in /usr/local/lib/python3.10/dist-packages (from nltk) (4.66.4)\n"
          ]
        }
      ]
    },
    {
      "cell_type": "code",
      "source": [
        "file = open(\"/content/Crime_Punishment_ChOne_Part.txt\")\n",
        "text = file.read().replace(\"\\n\", \" \")\n",
        "file.close()"
      ],
      "metadata": {
        "collapsed": true,
        "id": "DU-Mf-7dg8Dh",
        "outputId": "a820ebb4-4375-4b7e-be33-33c694091ea4",
        "colab": {
          "base_uri": "https://localhost:8080/",
          "height": 176
        }
      },
      "execution_count": 34,
      "outputs": [
        {
          "output_type": "error",
          "ename": "FileNotFoundError",
          "evalue": "[Errno 2] No such file or directory: '/content/Crime_Punishment_ChOne_Part.txt'",
          "traceback": [
            "\u001b[0;31m---------------------------------------------------------------------------\u001b[0m",
            "\u001b[0;31mFileNotFoundError\u001b[0m                         Traceback (most recent call last)",
            "\u001b[0;32m<ipython-input-34-5520032a0028>\u001b[0m in \u001b[0;36m<cell line: 1>\u001b[0;34m()\u001b[0m\n\u001b[0;32m----> 1\u001b[0;31m \u001b[0mfile\u001b[0m \u001b[0;34m=\u001b[0m \u001b[0mopen\u001b[0m\u001b[0;34m(\u001b[0m\u001b[0;34m\"/content/Crime_Punishment_ChOne_Part.txt\"\u001b[0m\u001b[0;34m)\u001b[0m\u001b[0;34m\u001b[0m\u001b[0;34m\u001b[0m\u001b[0m\n\u001b[0m\u001b[1;32m      2\u001b[0m \u001b[0mtext\u001b[0m \u001b[0;34m=\u001b[0m \u001b[0mfile\u001b[0m\u001b[0;34m.\u001b[0m\u001b[0mread\u001b[0m\u001b[0;34m(\u001b[0m\u001b[0;34m)\u001b[0m\u001b[0;34m.\u001b[0m\u001b[0mreplace\u001b[0m\u001b[0;34m(\u001b[0m\u001b[0;34m\"\\n\"\u001b[0m\u001b[0;34m,\u001b[0m \u001b[0;34m\" \"\u001b[0m\u001b[0;34m)\u001b[0m\u001b[0;34m\u001b[0m\u001b[0;34m\u001b[0m\u001b[0m\n\u001b[1;32m      3\u001b[0m \u001b[0mfile\u001b[0m\u001b[0;34m.\u001b[0m\u001b[0mclose\u001b[0m\u001b[0;34m(\u001b[0m\u001b[0;34m)\u001b[0m\u001b[0;34m\u001b[0m\u001b[0;34m\u001b[0m\u001b[0m\n",
            "\u001b[0;31mFileNotFoundError\u001b[0m: [Errno 2] No such file or directory: '/content/Crime_Punishment_ChOne_Part.txt'"
          ]
        }
      ]
    },
    {
      "cell_type": "code",
      "source": [
        "text.split()"
      ],
      "metadata": {
        "id": "Nwtyoztog9rJ"
      },
      "execution_count": null,
      "outputs": []
    },
    {
      "cell_type": "code",
      "source": [
        "' '.join(text.split())"
      ],
      "metadata": {
        "collapsed": true,
        "id": "6K89gkJ_g-74",
        "outputId": "4b4ded6a-079e-4e4c-dcce-430ccff41a3d",
        "colab": {
          "base_uri": "https://localhost:8080/",
          "height": 174
        }
      },
      "execution_count": 35,
      "outputs": [
        {
          "output_type": "execute_result",
          "data": {
            "text/plain": [
              "'When violence in Israel and Gaza escalated after last month\\'s terror attack by Hamas, the International Olympic Committee (IOC) issued a statement warning against \"discriminatory behavior\" against Israeli athletes competing around the world. \"[A]thletes cannot be held responsible for the actions of their governments,\" an IOC spokesperson told the German Press Agency, promising \"swift action\" if incidents occur. Russian officials reacted angrily to the IOC\\'s stance toward Israel, noting that in October the Russian Olympic Committee was suspended for actions taken in occupied regions of eastern Ukraine. \"This is, of course, outrageous,\" said Russian Foreign Minister Sergey Lavrov, in an interview posted on Telegram. \"Once again we see an example of the bias and ineptitude of the International Olympic Committee, which time and again proves its political bent.\"'"
            ],
            "application/vnd.google.colaboratory.intrinsic+json": {
              "type": "string"
            }
          },
          "metadata": {},
          "execution_count": 35
        }
      ]
    },
    {
      "cell_type": "code",
      "source": [
        "from nltk.tokenize import word_tokenize\n",
        "nltk.download('punkt')\n",
        "words = word_tokenize(text)"
      ],
      "metadata": {
        "id": "JG916_hjhBEA",
        "outputId": "8ef882ae-02a5-4bc0-f588-ff9451db11cb",
        "colab": {
          "base_uri": "https://localhost:8080/"
        }
      },
      "execution_count": 36,
      "outputs": [
        {
          "output_type": "stream",
          "name": "stderr",
          "text": [
            "[nltk_data] Downloading package punkt to /root/nltk_data...\n",
            "[nltk_data]   Package punkt is already up-to-date!\n"
          ]
        }
      ]
    },
    {
      "cell_type": "code",
      "source": [
        "from nltk.tokenize import RegexpTokenizer\n",
        "retokenize = RegexpTokenizer(\"[\\w]+\")\n",
        "words = retokenize.tokenize(text)"
      ],
      "metadata": {
        "id": "T4XgkbD9hEXt"
      },
      "execution_count": 37,
      "outputs": []
    },
    {
      "cell_type": "code",
      "source": [
        "from nltk.stem import PorterStemmer\n",
        "stemmer = PorterStemmer()\n",
        "[stemmer.stem(w) for w in words]"
      ],
      "metadata": {
        "collapsed": true,
        "id": "9igo5uVEhFbK",
        "outputId": "63c90100-6ba9-4bba-d62a-68d0749948f1",
        "colab": {
          "base_uri": "https://localhost:8080/"
        }
      },
      "execution_count": 38,
      "outputs": [
        {
          "output_type": "execute_result",
          "data": {
            "text/plain": [
              "['when',\n",
              " 'violenc',\n",
              " 'in',\n",
              " 'israel',\n",
              " 'and',\n",
              " 'gaza',\n",
              " 'escal',\n",
              " 'after',\n",
              " 'last',\n",
              " 'month',\n",
              " 's',\n",
              " 'terror',\n",
              " 'attack',\n",
              " 'by',\n",
              " 'hama',\n",
              " 'the',\n",
              " 'intern',\n",
              " 'olymp',\n",
              " 'committe',\n",
              " 'ioc',\n",
              " 'issu',\n",
              " 'a',\n",
              " 'statement',\n",
              " 'warn',\n",
              " 'against',\n",
              " 'discriminatori',\n",
              " 'behavior',\n",
              " 'against',\n",
              " 'isra',\n",
              " 'athlet',\n",
              " 'compet',\n",
              " 'around',\n",
              " 'the',\n",
              " 'world',\n",
              " 'a',\n",
              " 'thlete',\n",
              " 'cannot',\n",
              " 'be',\n",
              " 'held',\n",
              " 'respons',\n",
              " 'for',\n",
              " 'the',\n",
              " 'action',\n",
              " 'of',\n",
              " 'their',\n",
              " 'govern',\n",
              " 'an',\n",
              " 'ioc',\n",
              " 'spokesperson',\n",
              " 'told',\n",
              " 'the',\n",
              " 'german',\n",
              " 'press',\n",
              " 'agenc',\n",
              " 'promis',\n",
              " 'swift',\n",
              " 'action',\n",
              " 'if',\n",
              " 'incid',\n",
              " 'occur',\n",
              " 'russian',\n",
              " 'offici',\n",
              " 'react',\n",
              " 'angrili',\n",
              " 'to',\n",
              " 'the',\n",
              " 'ioc',\n",
              " 's',\n",
              " 'stanc',\n",
              " 'toward',\n",
              " 'israel',\n",
              " 'note',\n",
              " 'that',\n",
              " 'in',\n",
              " 'octob',\n",
              " 'the',\n",
              " 'russian',\n",
              " 'olymp',\n",
              " 'committe',\n",
              " 'wa',\n",
              " 'suspend',\n",
              " 'for',\n",
              " 'action',\n",
              " 'taken',\n",
              " 'in',\n",
              " 'occupi',\n",
              " 'region',\n",
              " 'of',\n",
              " 'eastern',\n",
              " 'ukrain',\n",
              " 'thi',\n",
              " 'is',\n",
              " 'of',\n",
              " 'cours',\n",
              " 'outrag',\n",
              " 'said',\n",
              " 'russian',\n",
              " 'foreign',\n",
              " 'minist',\n",
              " 'sergey',\n",
              " 'lavrov',\n",
              " 'in',\n",
              " 'an',\n",
              " 'interview',\n",
              " 'post',\n",
              " 'on',\n",
              " 'telegram',\n",
              " 'onc',\n",
              " 'again',\n",
              " 'we',\n",
              " 'see',\n",
              " 'an',\n",
              " 'exampl',\n",
              " 'of',\n",
              " 'the',\n",
              " 'bia',\n",
              " 'and',\n",
              " 'ineptitud',\n",
              " 'of',\n",
              " 'the',\n",
              " 'intern',\n",
              " 'olymp',\n",
              " 'committe',\n",
              " 'which',\n",
              " 'time',\n",
              " 'and',\n",
              " 'again',\n",
              " 'prove',\n",
              " 'it',\n",
              " 'polit',\n",
              " 'bent']"
            ]
          },
          "metadata": {},
          "execution_count": 38
        }
      ]
    },
    {
      "cell_type": "code",
      "source": [
        "from nltk.stem import LancasterStemmer\n",
        "stemmer = LancasterStemmer()\n",
        "[stemmer.stem(w) for w in words]"
      ],
      "metadata": {
        "collapsed": true,
        "id": "HYZ-xEMohH8E",
        "outputId": "ec69c01f-45e9-4b72-d03f-bd784e339d27",
        "colab": {
          "base_uri": "https://localhost:8080/"
        }
      },
      "execution_count": 39,
      "outputs": [
        {
          "output_type": "execute_result",
          "data": {
            "text/plain": [
              "['when',\n",
              " 'viol',\n",
              " 'in',\n",
              " 'israel',\n",
              " 'and',\n",
              " 'gaz',\n",
              " 'esc',\n",
              " 'aft',\n",
              " 'last',\n",
              " 'mon',\n",
              " 's',\n",
              " 'ter',\n",
              " 'attack',\n",
              " 'by',\n",
              " 'hama',\n",
              " 'the',\n",
              " 'intern',\n",
              " 'olymp',\n",
              " 'commit',\n",
              " 'ioc',\n",
              " 'issu',\n",
              " 'a',\n",
              " 'stat',\n",
              " 'warn',\n",
              " 'against',\n",
              " 'discrimin',\n",
              " 'behavy',\n",
              " 'against',\n",
              " 'israel',\n",
              " 'athlet',\n",
              " 'compet',\n",
              " 'around',\n",
              " 'the',\n",
              " 'world',\n",
              " 'a',\n",
              " 'thletes',\n",
              " 'cannot',\n",
              " 'be',\n",
              " 'held',\n",
              " 'respons',\n",
              " 'for',\n",
              " 'the',\n",
              " 'act',\n",
              " 'of',\n",
              " 'their',\n",
              " 'govern',\n",
              " 'an',\n",
              " 'ioc',\n",
              " 'spokesperson',\n",
              " 'told',\n",
              " 'the',\n",
              " 'germ',\n",
              " 'press',\n",
              " 'ag',\n",
              " 'prom',\n",
              " 'swift',\n",
              " 'act',\n",
              " 'if',\n",
              " 'incid',\n",
              " 'occ',\n",
              " 'russ',\n",
              " 'off',\n",
              " 'react',\n",
              " 'angry',\n",
              " 'to',\n",
              " 'the',\n",
              " 'ioc',\n",
              " 's',\n",
              " 'stant',\n",
              " 'toward',\n",
              " 'israel',\n",
              " 'not',\n",
              " 'that',\n",
              " 'in',\n",
              " 'octob',\n",
              " 'the',\n",
              " 'russ',\n",
              " 'olymp',\n",
              " 'commit',\n",
              " 'was',\n",
              " 'suspend',\n",
              " 'for',\n",
              " 'act',\n",
              " 'tak',\n",
              " 'in',\n",
              " 'occupy',\n",
              " 'reg',\n",
              " 'of',\n",
              " 'eastern',\n",
              " 'ukrain',\n",
              " 'thi',\n",
              " 'is',\n",
              " 'of',\n",
              " 'cours',\n",
              " 'out',\n",
              " 'said',\n",
              " 'russ',\n",
              " 'foreign',\n",
              " 'min',\n",
              " 'sergey',\n",
              " 'lavrov',\n",
              " 'in',\n",
              " 'an',\n",
              " 'interview',\n",
              " 'post',\n",
              " 'on',\n",
              " 'telegram',\n",
              " 'ont',\n",
              " 'again',\n",
              " 'we',\n",
              " 'see',\n",
              " 'an',\n",
              " 'exampl',\n",
              " 'of',\n",
              " 'the',\n",
              " 'bia',\n",
              " 'and',\n",
              " 'ineptitud',\n",
              " 'of',\n",
              " 'the',\n",
              " 'intern',\n",
              " 'olymp',\n",
              " 'commit',\n",
              " 'which',\n",
              " 'tim',\n",
              " 'and',\n",
              " 'again',\n",
              " 'prov',\n",
              " 'it',\n",
              " 'polit',\n",
              " 'bent']"
            ]
          },
          "metadata": {},
          "execution_count": 39
        }
      ]
    },
    {
      "cell_type": "code",
      "source": [
        "from nltk.stem import WordNetLemmatizer\n",
        "nltk.download('wordnet')\n",
        "lemmatizer = WordNetLemmatizer()\n",
        "[lemmatizer.lemmatize(w) for w in words]"
      ],
      "metadata": {
        "collapsed": true,
        "id": "YqcSfh9whJx2",
        "outputId": "b6cf2205-c537-4af0-e1c3-d5a207f8abf9",
        "colab": {
          "base_uri": "https://localhost:8080/"
        }
      },
      "execution_count": 40,
      "outputs": [
        {
          "output_type": "stream",
          "name": "stderr",
          "text": [
            "[nltk_data] Downloading package wordnet to /root/nltk_data...\n"
          ]
        },
        {
          "output_type": "execute_result",
          "data": {
            "text/plain": [
              "['When',\n",
              " 'violence',\n",
              " 'in',\n",
              " 'Israel',\n",
              " 'and',\n",
              " 'Gaza',\n",
              " 'escalated',\n",
              " 'after',\n",
              " 'last',\n",
              " 'month',\n",
              " 's',\n",
              " 'terror',\n",
              " 'attack',\n",
              " 'by',\n",
              " 'Hamas',\n",
              " 'the',\n",
              " 'International',\n",
              " 'Olympic',\n",
              " 'Committee',\n",
              " 'IOC',\n",
              " 'issued',\n",
              " 'a',\n",
              " 'statement',\n",
              " 'warning',\n",
              " 'against',\n",
              " 'discriminatory',\n",
              " 'behavior',\n",
              " 'against',\n",
              " 'Israeli',\n",
              " 'athlete',\n",
              " 'competing',\n",
              " 'around',\n",
              " 'the',\n",
              " 'world',\n",
              " 'A',\n",
              " 'thletes',\n",
              " 'cannot',\n",
              " 'be',\n",
              " 'held',\n",
              " 'responsible',\n",
              " 'for',\n",
              " 'the',\n",
              " 'action',\n",
              " 'of',\n",
              " 'their',\n",
              " 'government',\n",
              " 'an',\n",
              " 'IOC',\n",
              " 'spokesperson',\n",
              " 'told',\n",
              " 'the',\n",
              " 'German',\n",
              " 'Press',\n",
              " 'Agency',\n",
              " 'promising',\n",
              " 'swift',\n",
              " 'action',\n",
              " 'if',\n",
              " 'incident',\n",
              " 'occur',\n",
              " 'Russian',\n",
              " 'official',\n",
              " 'reacted',\n",
              " 'angrily',\n",
              " 'to',\n",
              " 'the',\n",
              " 'IOC',\n",
              " 's',\n",
              " 'stance',\n",
              " 'toward',\n",
              " 'Israel',\n",
              " 'noting',\n",
              " 'that',\n",
              " 'in',\n",
              " 'October',\n",
              " 'the',\n",
              " 'Russian',\n",
              " 'Olympic',\n",
              " 'Committee',\n",
              " 'wa',\n",
              " 'suspended',\n",
              " 'for',\n",
              " 'action',\n",
              " 'taken',\n",
              " 'in',\n",
              " 'occupied',\n",
              " 'region',\n",
              " 'of',\n",
              " 'eastern',\n",
              " 'Ukraine',\n",
              " 'This',\n",
              " 'is',\n",
              " 'of',\n",
              " 'course',\n",
              " 'outrageous',\n",
              " 'said',\n",
              " 'Russian',\n",
              " 'Foreign',\n",
              " 'Minister',\n",
              " 'Sergey',\n",
              " 'Lavrov',\n",
              " 'in',\n",
              " 'an',\n",
              " 'interview',\n",
              " 'posted',\n",
              " 'on',\n",
              " 'Telegram',\n",
              " 'Once',\n",
              " 'again',\n",
              " 'we',\n",
              " 'see',\n",
              " 'an',\n",
              " 'example',\n",
              " 'of',\n",
              " 'the',\n",
              " 'bias',\n",
              " 'and',\n",
              " 'ineptitude',\n",
              " 'of',\n",
              " 'the',\n",
              " 'International',\n",
              " 'Olympic',\n",
              " 'Committee',\n",
              " 'which',\n",
              " 'time',\n",
              " 'and',\n",
              " 'again',\n",
              " 'prof',\n",
              " 'it',\n",
              " 'political',\n",
              " 'bent']"
            ]
          },
          "metadata": {},
          "execution_count": 40
        }
      ]
    },
    {
      "cell_type": "code",
      "source": [
        "from nltk.corpus import stopwords\n",
        "nltk.download('stopwords')\n",
        "print(words)\n",
        "words = [w for w in words if not w in stopwords.words('english')]\n",
        "print(words)"
      ],
      "metadata": {
        "collapsed": true,
        "id": "OkymHK7whK1-",
        "outputId": "22a1994a-682e-47d3-9936-e3ca1432e9d8",
        "colab": {
          "base_uri": "https://localhost:8080/"
        }
      },
      "execution_count": 41,
      "outputs": [
        {
          "output_type": "stream",
          "name": "stdout",
          "text": [
            "['When', 'violence', 'in', 'Israel', 'and', 'Gaza', 'escalated', 'after', 'last', 'month', 's', 'terror', 'attack', 'by', 'Hamas', 'the', 'International', 'Olympic', 'Committee', 'IOC', 'issued', 'a', 'statement', 'warning', 'against', 'discriminatory', 'behavior', 'against', 'Israeli', 'athletes', 'competing', 'around', 'the', 'world', 'A', 'thletes', 'cannot', 'be', 'held', 'responsible', 'for', 'the', 'actions', 'of', 'their', 'governments', 'an', 'IOC', 'spokesperson', 'told', 'the', 'German', 'Press', 'Agency', 'promising', 'swift', 'action', 'if', 'incidents', 'occur', 'Russian', 'officials', 'reacted', 'angrily', 'to', 'the', 'IOC', 's', 'stance', 'toward', 'Israel', 'noting', 'that', 'in', 'October', 'the', 'Russian', 'Olympic', 'Committee', 'was', 'suspended', 'for', 'actions', 'taken', 'in', 'occupied', 'regions', 'of', 'eastern', 'Ukraine', 'This', 'is', 'of', 'course', 'outrageous', 'said', 'Russian', 'Foreign', 'Minister', 'Sergey', 'Lavrov', 'in', 'an', 'interview', 'posted', 'on', 'Telegram', 'Once', 'again', 'we', 'see', 'an', 'example', 'of', 'the', 'bias', 'and', 'ineptitude', 'of', 'the', 'International', 'Olympic', 'Committee', 'which', 'time', 'and', 'again', 'proves', 'its', 'political', 'bent']\n",
            "['When', 'violence', 'Israel', 'Gaza', 'escalated', 'last', 'month', 'terror', 'attack', 'Hamas', 'International', 'Olympic', 'Committee', 'IOC', 'issued', 'statement', 'warning', 'discriminatory', 'behavior', 'Israeli', 'athletes', 'competing', 'around', 'world', 'A', 'thletes', 'cannot', 'held', 'responsible', 'actions', 'governments', 'IOC', 'spokesperson', 'told', 'German', 'Press', 'Agency', 'promising', 'swift', 'action', 'incidents', 'occur', 'Russian', 'officials', 'reacted', 'angrily', 'IOC', 'stance', 'toward', 'Israel', 'noting', 'October', 'Russian', 'Olympic', 'Committee', 'suspended', 'actions', 'taken', 'occupied', 'regions', 'eastern', 'Ukraine', 'This', 'course', 'outrageous', 'said', 'Russian', 'Foreign', 'Minister', 'Sergey', 'Lavrov', 'interview', 'posted', 'Telegram', 'Once', 'see', 'example', 'bias', 'ineptitude', 'International', 'Olympic', 'Committee', 'time', 'proves', 'political', 'bent']\n"
          ]
        },
        {
          "output_type": "stream",
          "name": "stderr",
          "text": [
            "[nltk_data] Downloading package stopwords to /root/nltk_data...\n",
            "[nltk_data]   Unzipping corpora/stopwords.zip.\n"
          ]
        }
      ]
    },
    {
      "cell_type": "code",
      "source": [
        "nltk.download('gutenberg')\n",
        "text = nltk.corpus.gutenberg.raw('austen-emma.txt')\n",
        "retokenize = RegexpTokenizer(r\"[\\w]+\")\n",
        "words = retokenize.tokenize(text)\n",
        "print(words[:50])"
      ],
      "metadata": {
        "collapsed": true,
        "id": "d2RTiGVDhM2N",
        "outputId": "fdc8c6a6-e130-4650-de32-8cc8e7f0ba23",
        "colab": {
          "base_uri": "https://localhost:8080/"
        }
      },
      "execution_count": 42,
      "outputs": [
        {
          "output_type": "stream",
          "name": "stderr",
          "text": [
            "[nltk_data] Downloading package gutenberg to /root/nltk_data...\n",
            "[nltk_data]   Unzipping corpora/gutenberg.zip.\n"
          ]
        },
        {
          "output_type": "stream",
          "name": "stdout",
          "text": [
            "['Emma', 'by', 'Jane', 'Austen', '1816', 'VOLUME', 'I', 'CHAPTER', 'I', 'Emma', 'Woodhouse', 'handsome', 'clever', 'and', 'rich', 'with', 'a', 'comfortable', 'home', 'and', 'happy', 'disposition', 'seemed', 'to', 'unite', 'some', 'of', 'the', 'best', 'blessings', 'of', 'existence', 'and', 'had', 'lived', 'nearly', 'twenty', 'one', 'years', 'in', 'the', 'world', 'with', 'very', 'little', 'to', 'distress', 'or', 'vex', 'her']\n"
          ]
        }
      ]
    },
    {
      "cell_type": "code",
      "source": [
        "text_object = nltk.Text(words)"
      ],
      "metadata": {
        "id": "TRSfghHphOpN"
      },
      "execution_count": 43,
      "outputs": []
    },
    {
      "cell_type": "code",
      "source": [
        "text_object.concordance('Emma', width=79, lines=20)"
      ],
      "metadata": {
        "collapsed": true,
        "id": "-mxekIzHhQVf",
        "outputId": "d2850e1e-ccdc-418a-d555-799d8c224cf4",
        "colab": {
          "base_uri": "https://localhost:8080/"
        }
      },
      "execution_count": 44,
      "outputs": [
        {
          "output_type": "stream",
          "name": "stdout",
          "text": [
            "Displaying 20 of 865 matches:\n",
            " Emma by Jane Austen 1816 VOLUME I CHAPTER\n",
            " Jane Austen 1816 VOLUME I CHAPTER I Emma Woodhouse handsome clever and rich w\n",
            "f both daughters but particularly of Emma Between _them_ it was more the intim\n",
            "nd friend very mutually attached and Emma doing just what she liked highly est\n",
            " by her own The real evils indeed of Emma s situation were the power of having\n",
            "ding day of this beloved friend that Emma first sat in mournful thought of any\n",
            "going only half a mile from them but Emma was aware that great must be the dif\n",
            "a day It was a melancholy change and Emma could not but sigh over it and wish \n",
            "ll the rest of her life at Hartfield Emma smiled and chatted as cheerfully as \n",
            "l be able to tell her how we all are Emma spared no exertions to maintain this\n",
            "or I have a great regard for you and Emma but when it comes to the question of\n",
            "a fanciful troublesome creature said Emma playfully That is what you have in y\n",
            "e few people who could see faults in Emma Woodhouse and the only one who ever \n",
            "is was not particularly agreeable to Emma herself she knew it would be so much\n",
            " being thought perfect by every body Emma knows I never flatter her said Mr Kn\n",
            " that she must be a gainer Well said Emma willing to let it pass you want to h\n",
            " were sure of meeting every day Dear Emma bears every thing so well said her f\n",
            "l_ miss her more than she thinks for Emma turned away her head divided between\n",
            "ars and smiles It is impossible that Emma should not miss such a companion sai\n",
            "rgotten one matter of joy to me said Emma and a very considerable one that I m\n"
          ]
        }
      ]
    },
    {
      "cell_type": "code",
      "source": [
        "text_object.dispersion_plot([\"Emma\", \"Knightley\", \"Frank\", \"Jane\", \"Harriet\", \"Robert\"])"
      ],
      "metadata": {
        "id": "EQ1fqCsshRUg",
        "outputId": "1176e7ed-0e4f-4190-aa3c-2c17d8a8e436",
        "colab": {
          "base_uri": "https://localhost:8080/",
          "height": 472
        }
      },
      "execution_count": 45,
      "outputs": [
        {
          "output_type": "display_data",
          "data": {
            "text/plain": [
              "<Figure size 640x480 with 1 Axes>"
            ],
            "image/png": "[encoded data removed]"
          },
          "metadata": {}
        }
      ]
    }
  ]
}
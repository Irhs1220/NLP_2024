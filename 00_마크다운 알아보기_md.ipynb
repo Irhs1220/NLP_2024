{
  "nbformat": 4,
  "nbformat_minor": 0,
  "metadata": {
    "colab": {
      "provenance": [],
      "include_colab_link": true
    },
    "kernelspec": {
      "name": "python3",
      "display_name": "Python 3"
    },
    "language_info": {
      "name": "python"
    }
  },
  "cells": [
    {
      "cell_type": "markdown",
      "metadata": {
        "id": "view-in-github",
        "colab_type": "text"
      },
      "source": [
        "<a href=\"https://colab.research.google.com/github/Irhs1220/NLP_2024/blob/main/00_%EB%A7%88%ED%81%AC%EB%8B%A4%EC%9A%B4%20%EC%95%8C%EC%95%84%EB%B3%B4%EA%B8%B0_md.ipynb\" target=\"_parent\"><img src=\"https://colab.research.google.com/assets/colab-badge.svg\" alt=\"Open In Colab\"/></a>"
      ]
    },
    {
      "cell_type": "markdown",
      "source": [
        "# 😊😃☺️ **<font color = 'red'> 마크다운 랭귀지 </font>사용법**\n",
        "\n",
        "* ## 마크다운 랭귀지의 <font color = 'orange'> 더 많은 구문</font>을 보려면, [이곳을 클릭해주세요!](https://www.markdownguide.org/basic-syntax/)"
      ],
      "metadata": {
        "id": "xLp-dgfwrkqo"
      }
    },
    {
      "cell_type": "markdown",
      "source": [
        "# NLP_2024\n",
        "\n",
        "# 🐹😻 **파이썬 언어**\n",
        "\n",
        "## **콜랩**([콜랩 사이트 방문](https://colab.research.google.com/?utm_source=scs-index))과 **깃허브**([깃허브 사이트 방문](https://github.com/))를 이용한 **파이썬 배우기**\n",
        "\n",
        "### **1. 깃허브 가입하기** ([유튜브 강좌 방문하기](https://www.youtube.com/watch?v=c-NikCpec7U))\n",
        "### **2. 구글 콜라보레이터리 가입하기** (aka. Colab) ([유튜브 강좌 방문하기](https://www.youtube.com/watch?v=2X_EU18OeYM))\n",
        "\n",
        "### **3. 참고하기 좋은 레퍼런스**\n",
        "- Exercises 200 파이썬200제 by 장삼용. 정보문화사 2017\n",
        "- [Jump to Python](https://wikidocs.net/book/1)\n",
        "- [wikidocs for nltk](https://wikidocs.net/21667)\n",
        "\n",
        "### **4. 마크다운 랭귀지**\n",
        "* [Emoji](https://gist.github.com/rxaviers/7360908)\n",
        "* [Markdown syntax](https://www.markdownguide.org/basic-syntax/)\n",
        "\n",
        "### **5. 수업 자료**\n",
        "| # | Sessions | Keywords |\n",
        "|:--:|:--:|:--:|\n",
        "| 1 | Markdown Language 👪  | [syntax](https://github.com/ms624atyale/NLP_2024/blob/main/0_MarkDown4README_md.ipynb)|"
      ],
      "metadata": {
        "id": "NWBMJiQlxh8r"
      }
    }
  ]
}
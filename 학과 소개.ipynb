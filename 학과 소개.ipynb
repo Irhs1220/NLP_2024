{
  "nbformat": 4,
  "nbformat_minor": 0,
  "metadata": {
    "colab": {
      "provenance": [],
      "authorship_tag": "ABX9TyPF/rDjUn4SSxqTeRYFUqr2",
      "include_colab_link": true
    },
    "kernelspec": {
      "name": "python3",
      "display_name": "Python 3"
    },
    "language_info": {
      "name": "python"
    }
  },
  "cells": [
    {
      "cell_type": "markdown",
      "metadata": {
        "id": "view-in-github",
        "colab_type": "text"
      },
      "source": [
        "<a href=\"https://colab.research.google.com/github/Irhs1220/NLP_2024/blob/main/%ED%95%99%EA%B3%BC%20%EC%86%8C%EA%B0%9C.ipynb\" target=\"_parent\"><img src=\"https://colab.research.google.com/assets/colab-badge.svg\" alt=\"Open In Colab\"/></a>"
      ]
    },
    {
      "cell_type": "markdown",
      "source": [
        "# 🎓📗**[국어국문 창작학과](https://korean.hannam.ac.kr/)**📗🎓\n",
        "\n",
        "- ### **국어국문 창작학과 소개**\n",
        "   - #### **<font color = 'red'>국어국문</font>**과 **<font color = 'red'>문예창작</font>**\n",
        "   ##### 한남대학교 국어국문 문예창작학과의 가장 큰 특징은 **<font color = 'red'>국어국문트랙</font>**과 **<font color = 'red'>문예창작트랙</font>**으로 교육과정이 나뉘어 있다는 것!!\n",
        "\n",
        "   - #### **국어국문트랙**\n",
        "   ##### 국어국문트랙은 네트워크 미디어 및 세계화 시대에 창조적인 언어활동의 이론적 실천적 기반을 제공하는 트랙이다.\n",
        "   언어의 의미와 기능, 일반 언어학의 제 문제에 대한 심층적인 탐구를 기반으로 한국어의 발달과 말소리, 어휘, 등에 대한 정확하고 심도 있는 이해를 추구하는 전형적인 **국문트랙!!**😄\n",
        "   - #### **문예창작트랙**\n",
        "   ##### 문예창작트랙은 창작에 소질이 있는 학생들을 선발하여 체계적이고 조직적인 문학 이론의 탐구와 창작의 실제 교육을 진행하는 트랙이다. 문예창작트랙은 **창작**을 하고 싶은 사람들이 모이는 곳!!😏\n",
        "   - #### **학과 진로**\n",
        "    중등 국어교사, 한국어 교사, 문학평론가, 시인, 소설가, 논술 및 독서지도사, 출판편집인, 스토리 작가, 디지털 문화콘텐츠 기획자를 양성\n",
        "\n",
        "- ### **더 많은 정보**\n",
        "   - #### [학과 페이스북](https://www.facebook.com/hnu.korean/)\n",
        "   - #### [이야기 흥신소(학과 유튜브)](https://www.youtube.com/@user-ej4yb5nd4r)"
      ],
      "metadata": {
        "id": "pn0DM8eO2cR_"
      }
    }
  ]
}
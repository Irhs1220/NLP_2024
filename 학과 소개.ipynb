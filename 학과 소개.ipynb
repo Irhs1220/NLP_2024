{
  "nbformat": 4,
  "nbformat_minor": 0,
  "metadata": {
    "colab": {
      "provenance": [],
      "authorship_tag": "ABX9TyNknEH4BAw7KjkMUnE/JiVr",
      "include_colab_link": true
    },
    "kernelspec": {
      "name": "python3",
      "display_name": "Python 3"
    },
    "language_info": {
      "name": "python"
    }
  },
  "cells": [
    {
      "cell_type": "markdown",
      "metadata": {
        "id": "view-in-github",
        "colab_type": "text"
      },
      "source": [
        "<a href=\"https://colab.research.google.com/github/Irhs1220/NLP_2024/blob/main/%ED%95%99%EA%B3%BC%20%EC%86%8C%EA%B0%9C.ipynb\" target=\"_parent\"><img src=\"https://colab.research.google.com/assets/colab-badge.svg\" alt=\"Open In Colab\"/></a>"
      ]
    },
    {
      "cell_type": "markdown",
      "source": [
        "# **국어국문 창작학과 소개**\n",
        "\n",
        "## **국어국문 창작학과는 무엇을 하는 학과인가**\n"
      ],
      "metadata": {
        "id": "pn0DM8eO2cR_"
      }
    }
  ]
}